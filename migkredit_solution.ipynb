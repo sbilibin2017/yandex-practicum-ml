{
 "cells": [
  {
   "cell_type": "markdown",
   "metadata": {},
   "source": [
    "# Тестовое задание \"МигКредит\"\n",
    "\n",
    "## Цель:\n",
    "Построить модель логистической регрессии.\n",
    "\n",
    "## Описание данных:\n",
    "\n",
    "* Таблица buffer_table1\n",
    "\n",
    "|столбец|описание|\n",
    "|---|---|\n",
    "|ucdb_id|уникальный id наблюдения|\n",
    "|train|тип сэмпла, принимает 2 значения True и False. False – строки без разметки.|\n",
    "|30+ 3MoB gt 0|целевое событие, 1 или 0, пустое там, где train – False|\n",
    "|cash_hist|техническое поле, по которому нужно производить merge с остальными файлами|\n",
    "\n",
    "* Таблица buffer_table2\n",
    "|столбец|описание|\n",
    "|---|---|\n",
    "|Request_id|поле, к которому производится merge|\n",
    "|Остальные поля – характеристики кредитной истории заемщика|\n",
    "\n",
    "* Таблица buffer_table3\n",
    "\n",
    "|столбец|описание|\n",
    "|---|---|\n",
    "|Request_id|поле, к которому производится merge.|\n",
    "|Остальные поля|характеристики запросов кредитной истории заемщика.|\n",
    "\n",
    "Baseline – > 45 gini на train и test’е\n",
    "\n",
    "Прислать нужно csv файл с 2 столбцами, 1 – ucdb_id, 2 – predict_proba – столбец с вероятностями.\n",
    "\n",
    "\n",
    "Request id это уникальный ид, по которому нужно делать merge, с исходником\n",
    "create_tstamp это время создания записи\n",
    "Можно считать что это дата расчета переменных\n",
    "Остальные поля описывать нет смысла\n",
    "Это поля - характеристики кредитной истории, что они значат не важно, важно как они влияют на целевое событие\n",
    "А также таблицы 2 и 3 между собой нельзя соединить\n",
    "45 джини это идеально\n",
    "Можно и меньше, чтобы присылали решения с меньшими результатами)\n",
    "\n",
    "----"
   ]
  },
  {
   "cell_type": "markdown",
   "metadata": {},
   "source": [
    "# Решение\n",
    "## 0. Библиотеки"
   ]
  },
  {
   "cell_type": "code",
   "execution_count": 97,
   "metadata": {},
   "outputs": [],
   "source": [
    "import pandas as pd\n",
    "import numpy as np\n",
    "import scipy.stats as stats\n",
    "import matplotlib.pyplot as plt\n",
    "import seaborn as sns\n",
    "sns.set_style('whitegrid')\n",
    "import warnings\n",
    "warnings.filterwarnings(\"ignore\") \n",
    "from tqdm import tqdm_notebook\n",
    "import os, re, sys, gc, pickle, time\n",
    "from collections import defaultdict\n",
    "from sklearn.metrics import make_scorer, roc_auc_score\n",
    "import pandas as pd\n",
    "import numpy as np\n",
    "from itertools import combinations\n",
    "from scipy import stats\n",
    "import matplotlib.pyplot as plt\n",
    "import seaborn as sns\n",
    "sns.set_style('whitegrid')\n",
    "from plot_metric.functions import BinaryClassification\n",
    "import warnings\n",
    "warnings.filterwarnings(\"ignore\") \n",
    "from tqdm import tqdm_notebook\n",
    "import os, re, sys, gc, pickle, time\n",
    "from collections import defaultdict\n",
    "import string\n",
    "from sklearn.feature_extraction.text import TfidfVectorizer\n",
    "\n",
    "from sklearn.model_selection import GridSearchCV, cross_val_score,\\\n",
    "                                    KFold, train_test_split, cross_validate, ParameterGrid,\\\n",
    "                                    cross_validate, cross_val_predict, TimeSeriesSplit, StratifiedKFold\n",
    "from sklearn.metrics import roc_auc_score, accuracy_score, f1_score, precision_score, recall_score\n",
    "from sklearn.base import BaseEstimator, TransformerMixin,  clone\n",
    "from sklearn.metrics import confusion_matrix\n",
    "# пайплайн\n",
    "from sklearn.pipeline import Pipeline, make_union, make_pipeline, FeatureUnion\n",
    "from sklearn.base import BaseEstimator, TransformerMixin,  clone\n",
    "from sklearn.metrics import make_scorer, roc_auc_score\n",
    "from sklearn.impute import SimpleImputer\n",
    "from sklearn.preprocessing import MinMaxScaler, MaxAbsScaler, OneHotEncoder\n",
    "\n",
    "# дамми-регрессор\n",
    "from sklearn.dummy import DummyClassifier\n",
    "from itertools import combinations\n",
    "from lightgbm import LGBMClassifier\n",
    "from xgboost import XGBClassifier\n",
    "from sklearn.linear_model import LogisticRegression\n",
    "from sklearn.svm import LinearSVC\n",
    "from sklearn.tree import DecisionTreeClassifier, ExtraTreeClassifier\n",
    "from sklearn.ensemble import ExtraTreesClassifier, RandomForestClassifier\n",
    "from sklearn.neighbors import KNeighborsClassifier\n",
    "import time\n",
    "from sklearn.feature_selection import SelectFromModel\n",
    "from sklearn.metrics import roc_curve\n",
    "import shutil"
   ]
  },
  {
   "cell_type": "markdown",
   "metadata": {},
   "source": [
    "## 0. Функции"
   ]
  },
  {
   "cell_type": "code",
   "execution_count": 4,
   "metadata": {},
   "outputs": [],
   "source": [
    "def convert_types(df):\n",
    "    '''конвертирует типы (по возможности)'''\n",
    "    df_c = df.copy()\n",
    "    for col in df.columns:\n",
    "        ser = df[col]\n",
    "        try:\n",
    "            ser2 = ser.astype('datetime64')\n",
    "            df_c[col] = ser2\n",
    "        except:\n",
    "            try:\n",
    "                ser_float =ser.astype(np.float32)\n",
    "                ser_int =ser.astype(np.int32)\n",
    "                if (ser_float == ser_int).all():\n",
    "                    df_c[col] =ser_int\n",
    "                else:\n",
    "                    df_c[col] =ser_float\n",
    "            except:\n",
    "                try:\n",
    "                    df_c[col] = ser.str.lower().str.strip()\n",
    "                except:\n",
    "                    df_c[col] = ser\n",
    "    return df_c"
   ]
  },
  {
   "cell_type": "markdown",
   "metadata": {},
   "source": [
    "## 1. Подготовка данных"
   ]
  },
  {
   "cell_type": "code",
   "execution_count": 5,
   "metadata": {},
   "outputs": [],
   "source": [
    "df_buffer_table1 = pd.read_csv('buffer_table1.csv', sep=',').iloc[:, 1:].rename(columns ={'30+ 3MoB gt 0':'target'})\n",
    "df_buffer_table2= pd.read_csv('buffer_table2.csv', sep=',', encoding = 'cp1251').iloc[:, 1:]\\\n",
    "                    .dropna(subset = ['REQUEST_ID'])\n",
    "df_buffer_table3= pd.read_csv('buffer_table3.csv', encoding = 'cp1251').iloc[:, 1:]\\\n",
    "                    .dropna(subset = ['REQUEST_ID'])"
   ]
  },
  {
   "cell_type": "code",
   "execution_count": 6,
   "metadata": {},
   "outputs": [],
   "source": [
    "# отделяем трейн от теста\n",
    "mask_train = df_buffer_table1['train']\n",
    "df_train = df_buffer_table1[mask_train].drop('train', 1)\n",
    "df_test = df_buffer_table1[~mask_train].drop('train', 1)\n",
    "# индексы трейна и теста\n",
    "idx_train = df_train['cash_hist'].unique()\n",
    "idx_test = df_test['cash_hist'].unique()"
   ]
  },
  {
   "cell_type": "code",
   "execution_count": 7,
   "metadata": {},
   "outputs": [],
   "source": [
    "# испарвляем CREDITTOTALAMT\n",
    "df_buffer_table2 = convert_types(df_buffer_table2)\n",
    "df_buffer_table2['CREDITTOTALAMT'] = \\\n",
    "    df_buffer_table2['CREDITTOTALAMT'].astype(str)\\\n",
    "        .map(lambda x: re.sub('[^A-Za-z0-9]+', '', x))\\\n",
    "        .map(lambda x:''.join(l for l in x if l not in string.punctuation))\\\n",
    "        .replace('n', np.nan)\\\n",
    "        .astype(np.float32)\n",
    "\n",
    "# таблица 1: трейн, тест\n",
    "df_buffer_table2_tr = df_buffer_table2[df_buffer_table2['REQUEST_ID'].isin(idx_train)]\n",
    "df_buffer_table2_te = df_buffer_table2[df_buffer_table2['REQUEST_ID'].isin(idx_test)]"
   ]
  },
  {
   "cell_type": "markdown",
   "metadata": {},
   "source": [
    "### 1.1. df_buffer_table2_tr"
   ]
  },
  {
   "cell_type": "code",
   "execution_count": 8,
   "metadata": {},
   "outputs": [],
   "source": [
    "dt_columns = df_buffer_table2_tr.select_dtypes(np.datetime64).columns.tolist()\n",
    "obj_columns = df_buffer_table2_tr.select_dtypes(object).columns.tolist()\n",
    "other_columns = df_buffer_table2_tr.drop(dt_columns+obj_columns, 1).columns.tolist()"
   ]
  },
  {
   "cell_type": "code",
   "execution_count": 9,
   "metadata": {},
   "outputs": [],
   "source": [
    "df_buffer_table2_tr = (df_buffer_table2_tr.set_index('REQUEST_ID').join(df_train.set_index('cash_hist')[['target']]))\\\n",
    "    .reset_index()\\\n",
    "    .rename(columns={'index':'REQUEST_ID'})"
   ]
  },
  {
   "cell_type": "code",
   "execution_count": 10,
   "metadata": {},
   "outputs": [
    {
     "data": {
      "application/vnd.jupyter.widget-view+json": {
       "model_id": "59b653ad376f4bad9b1eb7295fb0e6fe",
       "version_major": 2,
       "version_minor": 0
      },
      "text/plain": [
       "HBox(children=(HTML(value=''), FloatProgress(value=0.0, max=9.0), HTML(value='')))"
      ]
     },
     "metadata": {},
     "output_type": "display_data"
    },
    {
     "name": "stdout",
     "output_type": "stream",
     "text": [
      "\n"
     ]
    }
   ],
   "source": [
    "# фильтруем значения\n",
    "for col in tqdm_notebook(obj_columns):\n",
    "    if col != 'UUID':\n",
    "        ser_target1_tr = df_buffer_table2_tr[df_buffer_table2_tr['target']==1][col]\n",
    "        ser_te = df_buffer_table2_te[col]\n",
    "        to_use = list(set(ser_target1_tr.unique()).intersection(set(ser_te.unique())))\n",
    "        df_buffer_table2_tr[col] = df_buffer_table2_tr[col].apply(lambda x: x if x in to_use else np.nan)\n",
    "        df_buffer_table2_te[col] = df_buffer_table2_te[col].apply(lambda x: x if x in to_use else np.nan)"
   ]
  },
  {
   "cell_type": "code",
   "execution_count": 11,
   "metadata": {},
   "outputs": [],
   "source": [
    "# 8 июля 2011 г.\n",
    "# МигКредит получила свидетельство\n",
    "# Центрального Банка РФ о включении\n",
    "# компании в государственный реестр\n",
    "# микрофинансовых организаций.\n",
    "START_TS =pd.Timestamp('01-01-2011')\n",
    "\n",
    "dt_tr = df_buffer_table2_tr[dt_columns]\n",
    "dt_te = df_buffer_table2_te[dt_columns]\n",
    "\n",
    "df_buffer_table2_tr = pd.concat([df_buffer_table2_tr.drop(dt_columns, 1), dt_tr.where(dt_tr>=START_TS)], 1)\n",
    "df_buffer_table2_te = pd.concat([df_buffer_table2_te.drop(dt_columns, 1), dt_te.where(dt_te>=START_TS)], 1)"
   ]
  },
  {
   "cell_type": "code",
   "execution_count": null,
   "metadata": {},
   "outputs": [],
   "source": [
    "df1_tr = df_buffer_table2_tr.drop(['target'], 1)\n",
    "df1_te = df_buffer_table2_te"
   ]
  },
  {
   "cell_type": "code",
   "execution_count": 32,
   "metadata": {},
   "outputs": [],
   "source": [
    "paymtPat_tr = df1_tr['paymtPat']\n",
    "paymtPat_te = df1_te['paymtPat'].astype(str)"
   ]
  },
  {
   "cell_type": "code",
   "execution_count": 50,
   "metadata": {},
   "outputs": [],
   "source": [
    "df1_tr['paymtPat'] = df1_tr['paymtPat'].astype(str)\n",
    "df1_te['paymtPat'] = df1_te['paymtPat'].astype(str)\n",
    "_paymtPat_tr = df1_tr.groupby('REQUEST_ID')['paymtPat'].apply(lambda x: ' '.join(x))\n",
    "_paymtPat_te = df1_te.groupby('REQUEST_ID')['paymtPat'].apply(lambda x: ' '.join(x))"
   ]
  },
  {
   "cell_type": "code",
   "execution_count": 51,
   "metadata": {},
   "outputs": [
    {
     "data": {
      "text/plain": [
       "TfidfVectorizer(max_features=100)"
      ]
     },
     "execution_count": 51,
     "metadata": {},
     "output_type": "execute_result"
    }
   ],
   "source": [
    "vec = TfidfVectorizer(max_features = 100)\n",
    "vec.fit(_paymtPat_tr)"
   ]
  },
  {
   "cell_type": "code",
   "execution_count": 53,
   "metadata": {},
   "outputs": [],
   "source": [
    "tfidf_tr = vec.transform(_paymtPat_tr)\n",
    "tfidf_te = vec.transform(_paymtPat_te)"
   ]
  },
  {
   "cell_type": "markdown",
   "metadata": {},
   "source": [
    "### 1.2. df_buffer_table3_tr"
   ]
  },
  {
   "cell_type": "code",
   "execution_count": 18,
   "metadata": {},
   "outputs": [],
   "source": [
    "# испарвляем CREDITTOTALAMT\n",
    "df_buffer_table3 = convert_types(df_buffer_table3)\n",
    "\n",
    "# таблица 2: трейн, тест\n",
    "df_buffer_table3_tr = df_buffer_table3[df_buffer_table3['REQUEST_ID'].isin(idx_train)]\n",
    "df_buffer_table3_te = df_buffer_table3[df_buffer_table3['REQUEST_ID'].isin(idx_test)]"
   ]
  },
  {
   "cell_type": "markdown",
   "metadata": {},
   "source": [
    "## 2. Извлечение признаков"
   ]
  },
  {
   "cell_type": "code",
   "execution_count": null,
   "metadata": {},
   "outputs": [],
   "source": [
    "def extract_features_v1(df1_tr, index_col ='REQUEST_ID'):\n",
    "    \n",
    "    L_str_bag=['currencyCode', 'inquiryPeriod', 'inqPurpose', 'inqPurposeText']\n",
    "    \n",
    "    L_numbers = ['creditLimit', 'curBalanceAmt', 'amtPastDue', 'termsAmt',\n",
    "                 'amtOutstanding', 'CREDITTOTALAMT', 'PRINCIPALOUTSTANDING',\n",
    "                 'PRINCIPALPASTDUE', 'OTHERAMTOUTSTANDING', 'OTHERAMTPASTDUE',\n",
    "                 'INTOUTSTANDING', 'INTPASTDUE']\n",
    "    L_dt = ['openedDt', 'lastPaymtDt', 'closedDt', 'reportingDt', 'paymtPatStartDt', 'lastUpdatedDt',\n",
    "            'accountRatingDate', 'paymentDueDate', 'interestPaymentDueDate', 'DATE_RESPONSE',\n",
    "            'CREATE_TSTAMP', 'ETL_TIMESTAMP', 'GRACEENDDT']\n",
    "    \n",
    "    idx_train = df1_tr[index_col].unique()\n",
    "    df_features = pd.DataFrame(index= idx_train)\n",
    "    for REQUEST_ID, subdf in tqdm_notebook(df1_tr.groupby('REQUEST_ID')):\n",
    "\n",
    "        #  число записей\n",
    "        df_features.loc[REQUEST_ID, 'nrows'] = subdf.shape[0]\n",
    "\n",
    "        # делаем мешок категорий\n",
    "        for col in L_str_bag:\n",
    "            shares =subdf[col].value_counts(normalize= True)\n",
    "            for key, value in shares.items():\n",
    "                df_features.loc[REQUEST_ID, f'{col}.{key}'] = value\n",
    "\n",
    "        # мешок numdays, monthsReviewed\n",
    "        for col in L_numdays_bag:\n",
    "            shares=subdf[col].value_counts(normalize = True)\n",
    "            for k, v in shares.items():\n",
    "                df_features.loc[REQUEST_ID,f'{shares.name}.{k}'] = v\n",
    "        # числа\n",
    "        for col in L_numbers:         \n",
    "            _mean = (subdf[L_numbers]).mean()\n",
    "            _sum = (subdf[L_numbers]).sum()\n",
    "            _min =subdf[L_numbers][subdf[L_numbers]!=0].min()\n",
    "            _max= subdf[L_numbers][subdf[L_numbers]!=0].max()\n",
    "            _zeros = (subdf[L_numbers]!=0).mean()        \n",
    "\n",
    "            prefixes =['mean', 'sum', 'min', 'max', 'zeros']\n",
    "            L_ser = [_mean, _sum, _min, _max, _zeros]\n",
    "\n",
    "            for pref, ser in zip(prefixes,L_ser):\n",
    "                for k, v in ser.items():\n",
    "                    df_features.loc[REQUEST_ID,f'{pref}.{k}'] = v     \n",
    "\n",
    "        # жизненный цикл\n",
    "        lifetime_ser = (subdf[L_dt].max() - subdf[L_dt].min())/ np.timedelta64(1, 'D')\n",
    "        for k, v in lifetime_ser.items():\n",
    "            df_features.loc[REQUEST_ID,f'{k}.lifetime'] = v \n",
    "\n",
    "        # промежутки между датами\n",
    "        for col in L_dt:\n",
    "            ser = subdf[col].sort_values()\n",
    "            cs = (ser.dropna().drop_duplicates().diff() / np.timedelta64(1, 'D')) // 7\n",
    "            df_features.loc[REQUEST_ID,f'{col}.diff0'] = (cs==0).mean()\n",
    "            df_features.loc[REQUEST_ID,f'{col}.diff1'] = (cs==1).mean()\n",
    "            df_features.loc[REQUEST_ID,f'{col}.diff2'] = (cs==2).mean()\n",
    "            df_features.loc[REQUEST_ID,f'{col}.diff3'] = (cs==3).mean()\n",
    "            df_features.loc[REQUEST_ID,f'{col}.diff4'] = (cs==4).mean()\n",
    "            df_features.loc[REQUEST_ID,f'{col}.diff5+'] = (cs>=5).mean()\n",
    "            \n",
    "    return df_features"
   ]
  },
  {
   "cell_type": "code",
   "execution_count": 70,
   "metadata": {},
   "outputs": [],
   "source": [
    "def extract_features_v2(df1_tr, index_col ='REQUEST_ID'):\n",
    "    \n",
    "    L_str_bag=['inquiryPeriod', 'inqPurpose', 'inqPurposeText']\n",
    "    \n",
    "    L_numbers = ['inqAmount']\n",
    "    \n",
    "    \n",
    "    idx_train = df1_tr[index_col].unique()\n",
    "    df_features = pd.DataFrame(index= idx_train)\n",
    "    for REQUEST_ID, subdf in tqdm_notebook(df1_tr.groupby('REQUEST_ID')):\n",
    "\n",
    "        #  число записей\n",
    "        df_features.loc[REQUEST_ID, 'nrows'] = subdf.shape[0]\n",
    "\n",
    "        # делаем мешок категорий\n",
    "        for col in L_str_bag:\n",
    "            shares =subdf[col].value_counts(normalize= True)\n",
    "            for key, value in shares.items():\n",
    "                df_features.loc[REQUEST_ID, f'{col}.{key}'] = value\n",
    "\n",
    "        # числа\n",
    "        for col in L_numbers:         \n",
    "            _mean = (subdf[L_numbers]).mean()\n",
    "            _sum = (subdf[L_numbers]).sum()\n",
    "            _min =subdf[L_numbers][subdf[L_numbers]!=0].min()\n",
    "            _max= subdf[L_numbers][subdf[L_numbers]!=0].max()\n",
    "            _zeros = (subdf[L_numbers]!=0).mean()        \n",
    "\n",
    "            prefixes =['mean', 'sum', 'min', 'max', 'zeros']\n",
    "            L_ser = [_mean, _sum, _min, _max, _zeros]\n",
    "\n",
    "            for pref, ser in zip(prefixes,L_ser):\n",
    "                for k, v in ser.items():\n",
    "                    df_features.loc[REQUEST_ID,f'{pref}.{k}'] = v          \n",
    "            \n",
    "    return df_features"
   ]
  },
  {
   "cell_type": "code",
   "execution_count": 98,
   "metadata": {},
   "outputs": [],
   "source": [
    "# f1_tr = extract_features_v1(df1_tr, index_col ='REQUEST_ID')\n",
    "# f1_te = extract_features_v1(df1_te, index_col ='REQUEST_ID')"
   ]
  },
  {
   "cell_type": "code",
   "execution_count": 99,
   "metadata": {},
   "outputs": [],
   "source": [
    "# f1_tr.to_pickle('f1_tr.pickle')\n",
    "# f1_te.to_pickle('f1_te.pickle')"
   ]
  },
  {
   "cell_type": "code",
   "execution_count": 100,
   "metadata": {},
   "outputs": [],
   "source": [
    "# f1_tr = pd.concat([f1_tr, pd.DataFrame(tfidf_tr.toarray(), index = f1_tr.index).add_prefix('tfidf.')],1)"
   ]
  },
  {
   "cell_type": "code",
   "execution_count": 101,
   "metadata": {},
   "outputs": [],
   "source": [
    "# f2_tr = extract_features_v2(df_buffer_table3_tr, index_col ='REQUEST_ID')\n",
    "# f2_te = extract_features_v2(df_buffer_table3_te, index_col ='REQUEST_ID')"
   ]
  },
  {
   "cell_type": "code",
   "execution_count": 102,
   "metadata": {},
   "outputs": [],
   "source": [
    "# f1_tr = f1_tr.reset_index().rename(columns = {'index':'cash_hist'})\n",
    "# f1_te = f1_te.reset_index().rename(columns = {'index':'cash_hist'})\n",
    "# f2_tr = f2_tr.reset_index().rename(columns = {'index':'cash_hist'})\n",
    "# f2_te = f2_te.reset_index().rename(columns = {'index':'cash_hist'})"
   ]
  },
  {
   "cell_type": "code",
   "execution_count": 143,
   "metadata": {},
   "outputs": [],
   "source": [
    "# X_tr = pd.concat([pd.merge(df_train.drop('target', 1), f1_tr, on ='cash_hist', how='left')\\\n",
    "#                       .set_index('ucdb_id').drop('cash_hist', 1),\\\n",
    "#                   pd.merge(df_train.drop('target', 1), f2_tr, on ='cash_hist', how='left')\\\n",
    "#                       .set_index('ucdb_id').drop('cash_hist', 1)], 1)\n",
    "# y_tr = df_train.set_index('ucdb_id')['target']"
   ]
  },
  {
   "cell_type": "code",
   "execution_count": 144,
   "metadata": {},
   "outputs": [],
   "source": [
    "# X_te = pd.concat([pd.merge(df_test.drop('target', 1), f1_te, on ='cash_hist', how='left')\\\n",
    "#                       .set_index('ucdb_id').drop('cash_hist', 1),\\\n",
    "#                   pd.merge(df_test.drop('target', 1), f2_te, on ='cash_hist', how='left')\\\n",
    "#                       .set_index('ucdb_id').drop('cash_hist', 1)], 1)\n",
    "# y_te = df_test.set_index('ucdb_id')['target']"
   ]
  },
  {
   "cell_type": "code",
   "execution_count": 120,
   "metadata": {},
   "outputs": [],
   "source": [
    "# cols_to_use = list(set(X_tr.columns).intersection(set(X_te.columns)))\n",
    "# X_tr = X_tr[cols_to_use]\n",
    "# X_te = X_te[cols_to_use]"
   ]
  },
  {
   "cell_type": "code",
   "execution_count": 127,
   "metadata": {},
   "outputs": [],
   "source": [
    "# X_tr.to_pickle('X_tr.pickle')\n",
    "# X_te.to_pickle('X_te.pickle')\n",
    "# y_tr.to_pickle('y_tr.pickle')\n",
    "# y_te.to_pickle('y_te.pickle')"
   ]
  },
  {
   "cell_type": "markdown",
   "metadata": {},
   "source": [
    "## 3. Моделирование"
   ]
  },
  {
   "cell_type": "code",
   "execution_count": 145,
   "metadata": {},
   "outputs": [],
   "source": [
    "SEED = 13\n",
    "SKF = StratifiedKFold(5, random_state= SEED, shuffle = True)\n",
    "logit = LogisticRegression(random_state = SEED)"
   ]
  },
  {
   "cell_type": "code",
   "execution_count": 146,
   "metadata": {},
   "outputs": [],
   "source": [
    "_x_tr, _x_ho, _y_tr, _y_ho = train_test_split(X_tr, y_tr, test_size = .1, stratify = y_tr, shuffle = True, random_state = SEED)"
   ]
  },
  {
   "cell_type": "code",
   "execution_count": 147,
   "metadata": {},
   "outputs": [],
   "source": [
    "ppl = make_pipeline(MinMaxScaler(), SimpleImputer(strategy ='constant', fill_value=-1))\n",
    "ppl.fit(_x_tr)\n",
    "_x_tr = ppl.transform(_x_tr)\n",
    "_x_ho = ppl.transform(_x_ho)\n",
    "_x_te = ppl.transform(X_te)"
   ]
  },
  {
   "cell_type": "code",
   "execution_count": 148,
   "metadata": {},
   "outputs": [],
   "source": [
    "class SklearnHelperFeatureSelector(BaseEstimator, TransformerMixin):\n",
    "    ''' Отбор признаков '''\n",
    "    def __init__(self, model, cv, scoring, show_progress):\n",
    "        self.model = model\n",
    "        self.cv = cv\n",
    "        self.scoring = scoring\n",
    "        self.show_progress = show_progress\n",
    "    def fit(self, X, y=None):\n",
    "        #assert (isinstance(X, np.ndarray)) or (X.getformat() == 'csc')\n",
    "        _X = X.copy()\n",
    "        cv_scores = []\n",
    "        for i in tqdm_notebook(range(_X.shape[1])):\n",
    "            try:\n",
    "                _X_curr = _X[:, i].toarray().reshape(-1,1)\n",
    "            except:\n",
    "                _X_curr = _X[:, i].reshape(-1,1)                \n",
    "            mean_cv_score = cross_val_score(self.model, _X_curr, y, cv =self.cv, scoring = self.scoring, n_jobs=-1).mean()            \n",
    "            cv_scores.append(mean_cv_score)\n",
    "            \n",
    "        order = np.argsort(cv_scores)[::-1]\n",
    "        to_drop_before, best_features, best_cv_score = [], [order[0]], -np.inf\n",
    "        for i in tqdm_notebook(order[1:]):\n",
    "            curr_features = best_features+[i]\n",
    "            _X_curr = _X[:, curr_features]\n",
    "            mean_cv_score = cross_val_score(self.model, _X_curr, y, cv =self.cv, scoring = self.scoring, n_jobs=-1).mean()\n",
    "            if mean_cv_score>best_cv_score:\n",
    "                best_cv_score = mean_cv_score\n",
    "                best_features = curr_features\n",
    "                if self.show_progress:\n",
    "                    print('new best score = {:.10f}'.format(best_cv_score))\n",
    "            else:\n",
    "                to_drop_before.append(i)\n",
    "        while True:\n",
    "            to_drop_after = []\n",
    "            for i in tqdm_notebook(to_drop_before):\n",
    "                curr_features = best_features+[i]\n",
    "                _X_curr = _X[:, curr_features]\n",
    "                mean_cv_score = cross_val_score(self.model, _X_curr, y, cv =self.cv, scoring = self.scoring, n_jobs=-1).mean()\n",
    "                if mean_cv_score>best_cv_score:\n",
    "                    best_cv_score = mean_cv_score\n",
    "                    best_features = curr_features\n",
    "                    if self.show_progress:\n",
    "                        print('new best score = {:.10f}'.format(best_cv_score))\n",
    "                else:\n",
    "                    to_drop_after.append(i)\n",
    "            if to_drop_before == to_drop_after:\n",
    "                break\n",
    "            else:\n",
    "                to_drop_before = to_drop_after  \n",
    "        self.best_features_ = best_features\n",
    "        self.best_score_ = best_cv_score\n",
    "    def transform(self, _X):\n",
    "        return _X[:, self.best_features_]"
   ]
  },
  {
   "cell_type": "code",
   "execution_count": 149,
   "metadata": {},
   "outputs": [],
   "source": [
    "selector = SklearnHelperFeatureSelector(model=logit, cv=SKF, scoring='roc_auc', show_progress=True)"
   ]
  },
  {
   "cell_type": "code",
   "execution_count": 150,
   "metadata": {
    "scrolled": true
   },
   "outputs": [
    {
     "data": {
      "application/vnd.jupyter.widget-view+json": {
       "model_id": "6315cc60d43c4f1bb74a7d273a21f716",
       "version_major": 2,
       "version_minor": 0
      },
      "text/plain": [
       "HBox(children=(HTML(value=''), FloatProgress(value=0.0, max=543.0), HTML(value='')))"
      ]
     },
     "metadata": {},
     "output_type": "display_data"
    },
    {
     "name": "stdout",
     "output_type": "stream",
     "text": [
      "\n"
     ]
    },
    {
     "data": {
      "application/vnd.jupyter.widget-view+json": {
       "model_id": "7e98100932b04b0c86d81cb27aa6603b",
       "version_major": 2,
       "version_minor": 0
      },
      "text/plain": [
       "HBox(children=(HTML(value=''), FloatProgress(value=0.0, max=542.0), HTML(value='')))"
      ]
     },
     "metadata": {},
     "output_type": "display_data"
    },
    {
     "name": "stdout",
     "output_type": "stream",
     "text": [
      "new best score = 0.6165909350\n",
      "new best score = 0.6741280501\n",
      "new best score = 0.6857145958\n",
      "new best score = 0.6859780010\n",
      "new best score = 0.6923661291\n",
      "new best score = 0.6925336629\n",
      "new best score = 0.6930003413\n",
      "new best score = 0.7133772901\n",
      "new best score = 0.7204268943\n",
      "new best score = 0.7205725618\n",
      "new best score = 0.7224086810\n",
      "new best score = 0.7251171519\n",
      "new best score = 0.7271610690\n",
      "new best score = 0.7294888106\n",
      "new best score = 0.7298162066\n",
      "new best score = 0.7303233329\n",
      "new best score = 0.7303407891\n",
      "new best score = 0.7310453315\n",
      "new best score = 0.7311781826\n",
      "new best score = 0.7314272324\n",
      "new best score = 0.7317592451\n",
      "new best score = 0.7329051314\n",
      "new best score = 0.7329058434\n",
      "new best score = 0.7331789185\n",
      "new best score = 0.7333757374\n",
      "new best score = 0.7334509140\n",
      "new best score = 0.7340751807\n",
      "new best score = 0.7341179255\n",
      "new best score = 0.7347487383\n",
      "new best score = 0.7350429905\n",
      "new best score = 0.7350828413\n",
      "new best score = 0.7352322068\n",
      "new best score = 0.7354479749\n",
      "new best score = 0.7365047655\n",
      "new best score = 0.7368200801\n",
      "new best score = 0.7394866791\n",
      "new best score = 0.7417245440\n",
      "new best score = 0.7427005307\n",
      "new best score = 0.7428313145\n",
      "new best score = 0.7434168560\n",
      "new best score = 0.7446950880\n",
      "new best score = 0.7447167705\n",
      "new best score = 0.7448777812\n",
      "new best score = 0.7449383037\n",
      "new best score = 0.7456196477\n",
      "new best score = 0.7458491052\n",
      "new best score = 0.7458753584\n",
      "new best score = 0.7468785630\n",
      "new best score = 0.7476688706\n",
      "new best score = 0.7489051617\n",
      "new best score = 0.7490800685\n",
      "new best score = 0.7496813435\n",
      "new best score = 0.7503361586\n",
      "new best score = 0.7507405229\n",
      "new best score = 0.7515082292\n",
      "new best score = 0.7516855018\n",
      "new best score = 0.7535569927\n",
      "new best score = 0.7540774409\n",
      "new best score = 0.7555006514\n",
      "new best score = 0.7565897130\n",
      "new best score = 0.7567687312\n",
      "new best score = 0.7573848440\n",
      "new best score = 0.7575558691\n",
      "new best score = 0.7577548471\n",
      "new best score = 0.7586683588\n",
      "new best score = 0.7607186842\n",
      "new best score = 0.7611169618\n",
      "new best score = 0.7613802751\n",
      "new best score = 0.7627203389\n",
      "new best score = 0.7635283094\n",
      "new best score = 0.7645034922\n",
      "new best score = 0.7647759471\n",
      "new best score = 0.7652889763\n",
      "new best score = 0.7660016266\n",
      "new best score = 0.7668323821\n",
      "new best score = 0.7669672085\n",
      "new best score = 0.7676516303\n",
      "new best score = 0.7680783660\n",
      "new best score = 0.7682212085\n",
      "new best score = 0.7687635228\n",
      "new best score = 0.7688460265\n",
      "new best score = 0.7693621335\n",
      "new best score = 0.7693696672\n",
      "new best score = 0.7696106780\n",
      "new best score = 0.7697894205\n",
      "new best score = 0.7698628515\n",
      "new best score = 0.7698660671\n",
      "new best score = 0.7699127855\n",
      "new best score = 0.7700928373\n",
      "new best score = 0.7702015941\n",
      "new best score = 0.7702455792\n",
      "new best score = 0.7705349621\n",
      "new best score = 0.7705520278\n",
      "new best score = 0.7706152377\n",
      "new best score = 0.7718448449\n",
      "new best score = 0.7721011069\n",
      "new best score = 0.7721256605\n",
      "new best score = 0.7721430708\n",
      "new best score = 0.7721491804\n",
      "new best score = 0.7722541475\n",
      "new best score = 0.7724271019\n",
      "\n"
     ]
    },
    {
     "data": {
      "application/vnd.jupyter.widget-view+json": {
       "model_id": "e0545fcc3d244707986f4893f10be861",
       "version_major": 2,
       "version_minor": 0
      },
      "text/plain": [
       "HBox(children=(HTML(value=''), FloatProgress(value=0.0, max=441.0), HTML(value='')))"
      ]
     },
     "metadata": {},
     "output_type": "display_data"
    },
    {
     "name": "stdout",
     "output_type": "stream",
     "text": [
      "new best score = 0.7724333264\n",
      "new best score = 0.7725282561\n",
      "new best score = 0.7726312478\n",
      "new best score = 0.7730277568\n",
      "new best score = 0.7734001715\n",
      "new best score = 0.7735375934\n",
      "new best score = 0.7737315871\n",
      "new best score = 0.7738789774\n",
      "new best score = 0.7740940335\n",
      "new best score = 0.7740966749\n",
      "new best score = 0.7741235023\n",
      "new best score = 0.7742615673\n",
      "new best score = 0.7744379440\n",
      "new best score = 0.7744741657\n",
      "new best score = 0.7745090092\n",
      "new best score = 0.7746313177\n",
      "new best score = 0.7749174390\n",
      "new best score = 0.7750629687\n",
      "new best score = 0.7751779961\n",
      "new best score = 0.7754159290\n",
      "new best score = 0.7755342408\n",
      "new best score = 0.7755946945\n",
      "\n"
     ]
    },
    {
     "data": {
      "application/vnd.jupyter.widget-view+json": {
       "model_id": "5bbf81303c254b3e911572f4b255b31e",
       "version_major": 2,
       "version_minor": 0
      },
      "text/plain": [
       "HBox(children=(HTML(value=''), FloatProgress(value=0.0, max=419.0), HTML(value='')))"
      ]
     },
     "metadata": {},
     "output_type": "display_data"
    },
    {
     "name": "stdout",
     "output_type": "stream",
     "text": [
      "new best score = 0.7756367732\n",
      "new best score = 0.7758466383\n",
      "new best score = 0.7758729605\n",
      "new best score = 0.7760878099\n",
      "new best score = 0.7761618840\n",
      "new best score = 0.7761782377\n",
      "new best score = 0.7762112208\n",
      "\n"
     ]
    },
    {
     "data": {
      "application/vnd.jupyter.widget-view+json": {
       "model_id": "f1ece99b96394c1d91bd01acda2e3107",
       "version_major": 2,
       "version_minor": 0
      },
      "text/plain": [
       "HBox(children=(HTML(value=''), FloatProgress(value=0.0, max=412.0), HTML(value='')))"
      ]
     },
     "metadata": {},
     "output_type": "display_data"
    },
    {
     "name": "stdout",
     "output_type": "stream",
     "text": [
      "new best score = 0.7762426879\n",
      "new best score = 0.7762970549\n",
      "\n"
     ]
    },
    {
     "data": {
      "application/vnd.jupyter.widget-view+json": {
       "model_id": "fb8b0dbd9c784c199346d27fe04276b2",
       "version_major": 2,
       "version_minor": 0
      },
      "text/plain": [
       "HBox(children=(HTML(value=''), FloatProgress(value=0.0, max=410.0), HTML(value='')))"
      ]
     },
     "metadata": {},
     "output_type": "display_data"
    },
    {
     "name": "stdout",
     "output_type": "stream",
     "text": [
      "\n"
     ]
    }
   ],
   "source": [
    "selector.fit(_x_tr, _y_tr)"
   ]
  },
  {
   "cell_type": "code",
   "execution_count": null,
   "metadata": {},
   "outputs": [],
   "source": [
    "# with open('selector.pickle', 'wb') as f:\n",
    "#     pickle.dump(selector, f)"
   ]
  },
  {
   "cell_type": "code",
   "execution_count": 151,
   "metadata": {},
   "outputs": [],
   "source": [
    "_x_sel_tr = selector.transform(_x_tr)\n",
    "_x_sel_ho = selector.transform(_x_ho)\n",
    "_x_sel_te = selector.transform(_x_te)"
   ]
  },
  {
   "cell_type": "code",
   "execution_count": 190,
   "metadata": {},
   "outputs": [],
   "source": [
    "def get_cv_ho_scores(_x_sel_tr,y_tr, _x_sel_ho, y_ho):\n",
    "    logit.fit(_x_sel_tr, _y_tr)\n",
    "    GINI_ho = 100*(2 * roc_auc_score(_y_ho, logit.predict_proba(_x_sel_ho)[:, 1])-1)\n",
    "    GINI_cv = 100*(2 * cross_val_score(logit,_x_sel_tr, _y_tr,cv = SKF, scoring ='roc_auc').mean()-1)\n",
    "    coefs_abs = pd.Series(dict(zip(X_tr.columns[selector.best_features_], logit.coef_.flatten()))).abs().reset_index()\n",
    "    coefs_abs\n",
    "    coefs_abs.columns = ['feature', 'coef_abs']    \n",
    "    return (GINI_cv, GINI_ho, coefs_abs.sort_values('coef_abs', ascending = False))"
   ]
  },
  {
   "cell_type": "code",
   "execution_count": 240,
   "metadata": {},
   "outputs": [],
   "source": [
    "_x_sel_tr = selector.transform(_x_tr)\n",
    "_x_sel_ho = selector.transform(_x_ho)\n",
    "_x_sel_te = selector.transform(_x_te)\n",
    "GINI_cv, GINI_ho, coefs_abs = get_cv_ho_scores(_x_sel_tr,y_tr, _x_sel_ho, y_ho)"
   ]
  },
  {
   "cell_type": "code",
   "execution_count": 241,
   "metadata": {},
   "outputs": [],
   "source": [
    "cvAB=pd.DataFrame()"
   ]
  },
  {
   "cell_type": "code",
   "execution_count": 242,
   "metadata": {},
   "outputs": [],
   "source": [
    "cvAB.loc['f1', 'cv'] = GINI_cv\n",
    "cvAB.loc['f1', 'ho'] = GINI_ho"
   ]
  },
  {
   "cell_type": "code",
   "execution_count": 243,
   "metadata": {},
   "outputs": [
    {
     "data": {
      "text/html": [
       "<div>\n",
       "<style scoped>\n",
       "    .dataframe tbody tr th:only-of-type {\n",
       "        vertical-align: middle;\n",
       "    }\n",
       "\n",
       "    .dataframe tbody tr th {\n",
       "        vertical-align: top;\n",
       "    }\n",
       "\n",
       "    .dataframe thead th {\n",
       "        text-align: right;\n",
       "    }\n",
       "</style>\n",
       "<table border=\"1\" class=\"dataframe\">\n",
       "  <thead>\n",
       "    <tr style=\"text-align: right;\">\n",
       "      <th></th>\n",
       "      <th>cv</th>\n",
       "      <th>ho</th>\n",
       "    </tr>\n",
       "  </thead>\n",
       "  <tbody>\n",
       "    <tr>\n",
       "      <th>f1</th>\n",
       "      <td>55.164899</td>\n",
       "      <td>40.653595</td>\n",
       "    </tr>\n",
       "  </tbody>\n",
       "</table>\n",
       "</div>"
      ],
      "text/plain": [
       "           cv         ho\n",
       "f1  55.164899  40.653595"
      ]
     },
     "execution_count": 243,
     "metadata": {},
     "output_type": "execute_result"
    }
   ],
   "source": [
    "cvAB"
   ]
  },
  {
   "cell_type": "markdown",
   "metadata": {},
   "source": [
    "#### Переобучаемся на трейн?"
   ]
  },
  {
   "cell_type": "code",
   "execution_count": 244,
   "metadata": {},
   "outputs": [
    {
     "data": {
      "image/png": "[encoded data removed]",
      "text/plain": [
       "<Figure size 432x288 with 1 Axes>"
      ]
     },
     "metadata": {},
     "output_type": "display_data"
    }
   ],
   "source": [
    "coefs_abs['coef_abs'].hist(bins = 50)\n",
    "plt.title('abs_coefs')\n",
    "plt.xlabel('value')\n",
    "plt.ylabel('counts');"
   ]
  },
  {
   "cell_type": "markdown",
   "metadata": {},
   "source": [
    "#### Выброшу последовательно топ 5 коэфов"
   ]
  },
  {
   "cell_type": "code",
   "execution_count": 248,
   "metadata": {},
   "outputs": [
    {
     "data": {
      "image/png": "[encoded data removed]",
      "text/plain": [
       "<Figure size 432x288 with 1 Axes>"
      ]
     },
     "metadata": {},
     "output_type": "display_data"
    },
    {
     "data": {
      "image/png": "[encoded data removed]",
      "text/plain": [
       "<Figure size 432x288 with 1 Axes>"
      ]
     },
     "metadata": {},
     "output_type": "display_data"
    },
    {
     "data": {
      "image/png": "[encoded data removed]",
      "text/plain": [
       "<Figure size 432x288 with 1 Axes>"
      ]
     },
     "metadata": {},
     "output_type": "display_data"
    },
    {
     "data": {
      "image/png": "[encoded data removed]",
      "text/plain": [
       "<Figure size 432x288 with 1 Axes>"
      ]
     },
     "metadata": {},
     "output_type": "display_data"
    },
    {
     "data": {
      "image/png": "[encoded data removed]",
      "text/plain": [
       "<Figure size 432x288 with 1 Axes>"
      ]
     },
     "metadata": {},
     "output_type": "display_data"
    }
   ],
   "source": [
    "_x2_sel_tr_c = _x2_sel_tr.copy()\n",
    "_x2_sel_ho_c = _x2_sel_ho.copy()\n",
    "_x2_sel_te_c = _x2_sel_te.copy()\n",
    "for i in [2, 3, 4, 5, 6]:\n",
    "    idxmax = coefs_abs.index[0]\n",
    "    _x2_sel_tr_c=np.delete(_x2_sel_tr_c,idxmax, axis = 1)\n",
    "    _x2_sel_ho_c=np.delete(_x2_sel_ho_c,idxmax, axis = 1)\n",
    "    _x2_sel_te_c=np.delete(_x2_sel_te_c,idxmax, axis = 1)\n",
    "    GINI_cv, GINI_ho, coefs_abs = get_cv_ho_scores(_x2_sel_tr_c,y_tr, _x2_sel_ho_c, y_ho)\n",
    "    cvAB.loc['f{}'.format(i), 'cv'] = GINI_cv\n",
    "    cvAB.loc['f{}'.format(i), 'ho'] = GINI_ho\n",
    "    \n",
    "    \n",
    "    coefs_abs['coef_abs'].hist(bins = 50)\n",
    "    plt.title(f'abs_coefs_{i}')\n",
    "    plt.xlabel('value')\n",
    "    plt.ylabel('counts')\n",
    "    plt.show()"
   ]
  },
  {
   "cell_type": "code",
   "execution_count": 249,
   "metadata": {},
   "outputs": [
    {
     "data": {
      "text/html": [
       "<div>\n",
       "<style scoped>\n",
       "    .dataframe tbody tr th:only-of-type {\n",
       "        vertical-align: middle;\n",
       "    }\n",
       "\n",
       "    .dataframe tbody tr th {\n",
       "        vertical-align: top;\n",
       "    }\n",
       "\n",
       "    .dataframe thead th {\n",
       "        text-align: right;\n",
       "    }\n",
       "</style>\n",
       "<table border=\"1\" class=\"dataframe\">\n",
       "  <thead>\n",
       "    <tr style=\"text-align: right;\">\n",
       "      <th></th>\n",
       "      <th>cv</th>\n",
       "      <th>ho</th>\n",
       "    </tr>\n",
       "  </thead>\n",
       "  <tbody>\n",
       "    <tr>\n",
       "      <th>f1</th>\n",
       "      <td>55.164899</td>\n",
       "      <td>40.653595</td>\n",
       "    </tr>\n",
       "    <tr>\n",
       "      <th>f2</th>\n",
       "      <td>53.671634</td>\n",
       "      <td>40.951344</td>\n",
       "    </tr>\n",
       "    <tr>\n",
       "      <th>f3</th>\n",
       "      <td>52.411134</td>\n",
       "      <td>38.598402</td>\n",
       "    </tr>\n",
       "    <tr>\n",
       "      <th>f4</th>\n",
       "      <td>51.576970</td>\n",
       "      <td>37.806826</td>\n",
       "    </tr>\n",
       "    <tr>\n",
       "      <th>f5</th>\n",
       "      <td>49.539434</td>\n",
       "      <td>36.005810</td>\n",
       "    </tr>\n",
       "    <tr>\n",
       "      <th>f6</th>\n",
       "      <td>49.107259</td>\n",
       "      <td>35.395788</td>\n",
       "    </tr>\n",
       "  </tbody>\n",
       "</table>\n",
       "</div>"
      ],
      "text/plain": [
       "           cv         ho\n",
       "f1  55.164899  40.653595\n",
       "f2  53.671634  40.951344\n",
       "f3  52.411134  38.598402\n",
       "f4  51.576970  37.806826\n",
       "f5  49.539434  36.005810\n",
       "f6  49.107259  35.395788"
      ]
     },
     "execution_count": 249,
     "metadata": {},
     "output_type": "execute_result"
    }
   ],
   "source": [
    "cvAB"
   ]
  },
  {
   "cell_type": "markdown",
   "metadata": {},
   "source": [
    "#### Кажется,не переобучаюсь,просто данных маловато: распределение таргета на валидации и на отложенной сильно меняется"
   ]
  },
  {
   "cell_type": "markdown",
   "metadata": {},
   "source": [
    "#### Сделаю n_iterations разбиений на валидационную и отложенную выборки,сравню метрики"
   ]
  },
  {
   "cell_type": "code",
   "execution_count": 290,
   "metadata": {},
   "outputs": [
    {
     "data": {
      "application/vnd.jupyter.widget-view+json": {
       "model_id": "cce0f37a2cac44349b0c8748ba3730e5",
       "version_major": 2,
       "version_minor": 0
      },
      "text/plain": [
       "HBox(children=(HTML(value=''), FloatProgress(value=0.0, max=1000.0), HTML(value='')))"
      ]
     },
     "metadata": {},
     "output_type": "display_data"
    },
    {
     "name": "stdout",
     "output_type": "stream",
     "text": [
      "\n"
     ]
    }
   ],
   "source": [
    "n_iterations = 1000\n",
    "sample_size=5\n",
    "cvAB2 = pd.DataFrame()\n",
    "df_predprob_te = pd.DataFrame(index= X_te.index,columns= list(range(n_iterations)))\n",
    "for i in tqdm_notebook(range(n_iterations)):\n",
    "    _x_tr, _x_ho, _y_tr, _y_ho = \\\n",
    "        train_test_split(X_tr, y_tr, test_size = .1, stratify = y_tr, shuffle = True, random_state = SEED+i)    \n",
    "    \n",
    "    ppl.fit(_x_tr)\n",
    "    _x_tr = ppl.transform(_x_tr)\n",
    "    _x_ho = ppl.transform(_x_ho)\n",
    "    _x_te = ppl.transform(X_te)\n",
    "    \n",
    "    _x_sel_tr = selector.transform(_x_tr)\n",
    "    _x_sel_ho = selector.transform(_x_ho)\n",
    "    _x_sel_te = selector.transform(_x_te)\n",
    "    \n",
    "    GINI_cv, GINI_ho, coefs_abs = get_cv_ho_scores(_x_sel_tr,y_tr, _x_sel_ho, y_ho)\n",
    "    cvAB2.loc['f{}'.format(i), 'cv'] = GINI_cv\n",
    "    cvAB2.loc['f{}'.format(i), 'ho'] = GINI_ho\n",
    "    \n",
    "    X_TR = np.row_stack([_x_sel_tr, _x_sel_ho])\n",
    "    Y_TR = pd.concat([_y_tr, _y_ho], 0).values    \n",
    "    logit.fit(X_TR, Y_TR)\n",
    "    y_predprob_te = logit.predict_proba(_x_sel_te)[:,1]\n",
    "    df_predprob_te.loc[:,i] = y_predprob_te"
   ]
  },
  {
   "cell_type": "code",
   "execution_count": 291,
   "metadata": {},
   "outputs": [
    {
     "data": {
      "image/png": "[encoded data removed]",
      "text/plain": [
       "<Figure size 864x288 with 1 Axes>"
      ]
     },
     "metadata": {},
     "output_type": "display_data"
    }
   ],
   "source": [
    "plt.figure(figsize = (12, 4))\n",
    "sns.kdeplot(cvAB2['cv'])\n",
    "sns.kdeplot(cvAB2['ho'])\n",
    "plt.legend(['cv', 'ho'])\n",
    "plt.xlabel('value')\n",
    "plt.ylabel('density')\n",
    "plt.title('gini (cv, ho)')\n",
    "plt.show()"
   ]
  },
  {
   "cell_type": "markdown",
   "metadata": {},
   "source": [
    "#### cравним  средние метрики на валидации и на отложенной  с помощью бутстрепа + теста стьюдента"
   ]
  },
  {
   "cell_type": "code",
   "execution_count": 292,
   "metadata": {},
   "outputs": [
    {
     "name": "stdout",
     "output_type": "stream",
     "text": [
      "средние скоры на валидации и на отложенной одинаковые\n"
     ]
    }
   ],
   "source": [
    "cvbtAB = pd.DataFrame(np.r_[[cvAB2.sample(sample_size, random_state = i).mean().values \\\n",
    "                             for i in range(n_iterations)]], columns =['bootstrap_means_cv', 'bootstrap_means_ho'])\n",
    "ALPHA = .05\n",
    "if stats.ttest_ind(cvbtAB['bootstrap_means_cv'].values, cvbtAB['bootstrap_means_ho'].values)[1]<ALPHA:\n",
    "    print('средние скоры на валидации и на отложенной одинаковые')\n",
    "else:\n",
    "    print('средние скоры на валидации и на отложенной разные')"
   ]
  },
  {
   "cell_type": "code",
   "execution_count": 299,
   "metadata": {},
   "outputs": [],
   "source": [
    "y_predprob_te = df_predprob_te.mean(1).to_frame('predprob')"
   ]
  },
  {
   "cell_type": "code",
   "execution_count": 301,
   "metadata": {},
   "outputs": [],
   "source": [
    "y_predprob_te.to_excel('y_predprob_te.xlsx')"
   ]
  },
  {
   "cell_type": "code",
   "execution_count": null,
   "metadata": {},
   "outputs": [],
   "source": []
  },
  {
   "cell_type": "code",
   "execution_count": null,
   "metadata": {},
   "outputs": [],
   "source": []
  }
 ],
 "metadata": {
  "kernelspec": {
   "display_name": "Python 3",
   "language": "python",
   "name": "python3"
  },
  "language_info": {
   "codemirror_mode": {
    "name": "ipython",
    "version": 3
   },
   "file_extension": ".py",
   "mimetype": "text/x-python",
   "name": "python",
   "nbconvert_exporter": "python",
   "pygments_lexer": "ipython3",
   "version": "3.8.5"
  }
 },
 "nbformat": 4,
 "nbformat_minor": 4
}
