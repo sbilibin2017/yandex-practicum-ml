{
 "cells": [
  {
   "cell_type": "markdown",
   "metadata": {},
   "source": [
    "# Анализ оттока\n",
    "    \n",
    "## Цель: предсказать, уйдет клиент или нет\n",
    "## Данные\n",
    "    \n",
    "|Признак|Описание|\n",
    "|----|----|\n",
    "|RowNumber|индекс строки в данных|\n",
    "|CustomerId|уникальный идентификатор клиента|\n",
    "|Surname|фамилия|\n",
    "|CreditScore|кредитный рейтинг|\n",
    "|Geography|страна проживания|\n",
    "|Gender|пол|\n",
    "|Age|возраст|\n",
    "|Tenure|количество недвижимости у клиента|\n",
    "|Balance|баланс на счёте|\n",
    "|NumOfProducts|количество продуктов банка, используемых клиентом|\n",
    "|HasCrCard|наличие кредитной карты|\n",
    "|IsActiveMember|активность клиента|\n",
    "|EstimatedSalary|предполагаемая зарплата|\n",
    "    \n",
    "### Этапы исследования\n",
    "\n",
    "* Загрузите и подготовьте данные. Поясните порядок действий.\n",
    "* переименовывание колонок]    \n",
    "* общая информация о датасете\n",
    "* заполнение пропусков\n",
    "* Первичный анализ\n",
    "* исследование целевого признака\n",
    "* выбор схемы валидации и доли отложенной части\n",
    "* факторизация строковых признаков\n",
    "* кодирование 'страна проживания', 'пол', 'возраст', 'количество недвижимости у клиента', 'количество продуктов банка, используемых клиентом', 'наличие кредитной карты', 'активность клиента', 'фамилия'] с помощью OHE/лейблом\n",
    "* отбор признаков\n",
    "* варианты кодирования кадегорий с помощью целевой переменной\n",
    "* оптимизация гиперпараметров\n",
    "* применение оверсеплинга/даунсемплинга\n",
    "    \n",
    "### Выводы:  \n",
    "    \n",
    "* в данных присутствуют однофамильцы\n",
    "* в данных присутствует 3 страны проживания: пользователей из Франции больше, чем пользователей из Германии и Испании в сумме.\n",
    "* женщин и мужчин примерно одинаковое кол-во\n",
    "* кредитный рейтинг распределен примерно нормально. хвосты распределения различны (правый тяжелее левого)\n",
    "* возраст имеет тяжелый правый хвост (малое кол-во возрастных людей). данный признак можно ограничиить справа, тогда модели не будут учитывать аномальные значения, распределение станет близко нормальному\n",
    "* кол-во недвижимости распределено примерно равномерно от 0 до 10. имеются всплески на 0 и 10.\n",
    "* баланс на счете имеет тяжелые хвосты, много людей  с нулевым балансом (без выбросов распределение примерно нормальное)\n",
    "* большинство людей использует 1-2 продукта банка(есть пользователи 3ех и 4ех)\n",
    "* людей с кредитной картой больше, чем людей без нее в более, чем 2 раза\n",
    "* активных и неактивных клиентов примерно одинаковое кол-во\n",
    "* предполагаемая зарплата распределена равномерно от 0 до 2млн\n",
    "* доля отточных пользователей равна примерно 20% (выборка несбалансирована)\n",
    "* оптимизация гиперпараметров (Lightgbm - лучшая модель)\n",
    "    \n",
    "|модель|кол-во признаков|f1|    \n",
    "|---|---|---|\n",
    "|cb     |10|0.59759|   \n",
    "|lgb    |9|0.59294|   \n",
    "|xgb    |9|0.58866|   \n",
    "|rf     |8|0.58371|   \n",
    "|logit  |133|0.56913|   \n",
    "\n",
    "\n",
    "|модель |кол-во признаков|roc_auc|  \n",
    "|---|---|---|\n",
    "|cb|10| 0.86239|   \n",
    "|logit|170|0.8556|    \n",
    "|lgb|10|0.85262|   \n",
    "|rf|10|0.84812|  \n",
    "|xgb|8|0.84069|   \n",
    "\n",
    "\n",
    "|метрика|модель|лучшее значение метрики|лучшие параметры|\n",
    "|---|---|---|---|\n",
    "|f1|logit|0.5861|{'C': 43.29, 'penalty': 'l2'}|\n",
    "|f1|rf| 0.5793|{'max_depth': 13, 'min_samples_split': 3}|\n",
    "|f1|lgb| 0.599|{'learning_rate': 0.07, 'max_depth': 9, 'min_child_samples': 100, 'num_leaves': 16}|\n",
    "|f1|cb| 0.5968|{'depth': 4, 'l2_leaf_reg': 9, 'learning_rate': 0.05}|\n",
    "|roc_auc|logit|0.8577|{'C': 6.14, 'penalty': 'l2'}|\n",
    "|roc_auc|rf|0.8564|{'max_depth': 9, 'min_samples_split': 50}|\n",
    "|roc_auc|lgb|0.8641|{'learning_rate': 0.08, 'max_depth': 7, 'min_child_samples': 75, 'num_leaves': 8}|\n",
    "|roc_auc|cb|0.8598|{'depth': 3, 'l2_leaf_reg': 9, 'learning_rate': 0.05}|\n",
    "\n",
    "\n",
    "\n",
    "* f1  на отложенной = 0.5889212827988338\n",
    "* roc_auc на отложенной = 0.8563964580913734  \n",
    "* f1(oversamopling) = 0.556796402862171, f1(downsamopling) = 0.4351499898797668"
   ]
  },
  {
   "cell_type": "markdown",
   "metadata": {},
   "source": [
    "### 1. Загрузите и подготовьте данные. Поясните порядок действий."
   ]
  },
  {
   "cell_type": "code",
   "execution_count": 1,
   "metadata": {},
   "outputs": [],
   "source": [
    "import pandas as pd\n",
    "import numpy as np\n",
    "from scipy import stats\n",
    "import matplotlib.pyplot as plt\n",
    "import seaborn as sns\n",
    "plt.style.use('ggplot')\n",
    "import warnings\n",
    "warnings.filterwarnings('ignore')\n",
    "from collections import defaultdict\n",
    "from tqdm import tqdm_notebook\n",
    "from sklearn.linear_model import LogisticRegression\n",
    "from sklearn.ensemble import RandomForestClassifier\n",
    "from sklearn.preprocessing import MinMaxScaler, OrdinalEncoder\n",
    "from sklearn.model_selection import train_test_split, KFold,GridSearchCV, StratifiedKFold, cross_validate\n",
    "from sklearn.metrics import classification_report, roc_auc_score, f1_score\n",
    "from lightgbm import LGBMClassifier\n",
    "from catboost import CatBoostClassifier,  Pool\n",
    "import xgboost as xgb\n",
    "import time\n",
    "import category_encoders as ce"
   ]
  },
  {
   "cell_type": "code",
   "execution_count": 2,
   "metadata": {},
   "outputs": [],
   "source": [
    "def _load_data(PATH_TO_FILE):\n",
    "    ''' Загружает данные '''\n",
    "    try:\n",
    "        df = pd.read_csv(PATH_TO_FILE)\n",
    "        print(df.info())\n",
    "        return df\n",
    "    except:\n",
    "        try:\n",
    "            df = pd.read_csv('/'+PATH_TO_FILE)\n",
    "            print(df.info())\n",
    "            return df\n",
    "        except:\n",
    "            raise ValueError('Неправильно задан путь к файлу')"
   ]
  },
  {
   "cell_type": "markdown",
   "metadata": {},
   "source": [
    "#### 1.1 загружаем данные"
   ]
  },
  {
   "cell_type": "code",
   "execution_count": 3,
   "metadata": {},
   "outputs": [],
   "source": [
    "# путь к файлу\n",
    "PATH_TO_FILE = 'datasets/Churn.csv'\n",
    "\n",
    "# генератор случайных чисел\n",
    "SEED= 13"
   ]
  },
  {
   "cell_type": "code",
   "execution_count": 4,
   "metadata": {},
   "outputs": [
    {
     "name": "stdout",
     "output_type": "stream",
     "text": [
      "<class 'pandas.core.frame.DataFrame'>\n",
      "RangeIndex: 10000 entries, 0 to 9999\n",
      "Data columns (total 14 columns):\n",
      " #   Column           Non-Null Count  Dtype  \n",
      "---  ------           --------------  -----  \n",
      " 0   RowNumber        10000 non-null  int64  \n",
      " 1   CustomerId       10000 non-null  int64  \n",
      " 2   Surname          10000 non-null  object \n",
      " 3   CreditScore      10000 non-null  int64  \n",
      " 4   Geography        10000 non-null  object \n",
      " 5   Gender           10000 non-null  object \n",
      " 6   Age              10000 non-null  int64  \n",
      " 7   Tenure           9091 non-null   float64\n",
      " 8   Balance          10000 non-null  float64\n",
      " 9   NumOfProducts    10000 non-null  int64  \n",
      " 10  HasCrCard        10000 non-null  int64  \n",
      " 11  IsActiveMember   10000 non-null  int64  \n",
      " 12  EstimatedSalary  10000 non-null  float64\n",
      " 13  Exited           10000 non-null  int64  \n",
      "dtypes: float64(3), int64(8), object(3)\n",
      "memory usage: 1.1+ MB\n",
      "None\n"
     ]
    }
   ],
   "source": [
    "df = _load_data(PATH_TO_FILE)"
   ]
  },
  {
   "cell_type": "markdown",
   "metadata": {},
   "source": [
    "#### 1.2 переименовываем колонки"
   ]
  },
  {
   "cell_type": "code",
   "execution_count": 5,
   "metadata": {},
   "outputs": [],
   "source": [
    "column_names_dict = {'RowNumber':'индекс строки в данных',\n",
    "                     'CustomerId':'уникальный идентификатор клиента',\n",
    "                     'Surname':'фамилия',\n",
    "                     'CreditScore':'кредитный рейтинг',\n",
    "                     'Geography':'страна проживания',\n",
    "                     'Gender':'пол',\n",
    "                     'Age':'возраст',\n",
    "                     'Tenure':'количество недвижимости у клиента',\n",
    "                     'Balance':'баланс на счёте',\n",
    "                     'NumOfProducts':'количество продуктов банка, используемых клиентом',\n",
    "                     'HasCrCard':'наличие кредитной карты',\n",
    "                     'IsActiveMember':'активность клиента',\n",
    "                     'EstimatedSalary':'предполагаемая зарплата',\n",
    "                     'Exited' : 'отток'}"
   ]
  },
  {
   "cell_type": "code",
   "execution_count": 6,
   "metadata": {},
   "outputs": [],
   "source": [
    "df = df.rename(columns = column_names_dict)"
   ]
  },
  {
   "cell_type": "markdown",
   "metadata": {},
   "source": [
    "#### 1.3 общая информация о датасете"
   ]
  },
  {
   "cell_type": "code",
   "execution_count": 7,
   "metadata": {},
   "outputs": [],
   "source": [
    "def _get_data_info(df):    \n",
    "    ''' Описание данных '''\n",
    "    L =[]\n",
    "    for col in df.columns:\n",
    "        series = df[col]\n",
    "        nuniques = series.nunique()\n",
    "        nancount = series.isna().sum()\n",
    "        dtypes = series.dtypes\n",
    "        if series.dtypes != object:\n",
    "            mx = series.max()\n",
    "            mn = series.min()\n",
    "        else:\n",
    "            mx = np.nan\n",
    "            mn = np.nan\n",
    "        L.append((col, dtypes, nancount, nuniques, mx, mn))\n",
    "    report = pd.DataFrame.from_records(L)\n",
    "    report.columns = ['признак', 'тип', 'число_пропущенных_значений', 'число_уникальных_значений', 'максимум', 'минимум']\n",
    "    return report.sort_values('число_уникальных_значений').reset_index(drop = True).set_index('признак')"
   ]
  },
  {
   "cell_type": "code",
   "execution_count": 8,
   "metadata": {},
   "outputs": [
    {
     "data": {
      "text/html": [
       "<div>\n",
       "<style scoped>\n",
       "    .dataframe tbody tr th:only-of-type {\n",
       "        vertical-align: middle;\n",
       "    }\n",
       "\n",
       "    .dataframe tbody tr th {\n",
       "        vertical-align: top;\n",
       "    }\n",
       "\n",
       "    .dataframe thead th {\n",
       "        text-align: right;\n",
       "    }\n",
       "</style>\n",
       "<table border=\"1\" class=\"dataframe\">\n",
       "  <thead>\n",
       "    <tr style=\"text-align: right;\">\n",
       "      <th></th>\n",
       "      <th>тип</th>\n",
       "      <th>число_пропущенных_значений</th>\n",
       "      <th>число_уникальных_значений</th>\n",
       "      <th>максимум</th>\n",
       "      <th>минимум</th>\n",
       "    </tr>\n",
       "    <tr>\n",
       "      <th>признак</th>\n",
       "      <th></th>\n",
       "      <th></th>\n",
       "      <th></th>\n",
       "      <th></th>\n",
       "      <th></th>\n",
       "    </tr>\n",
       "  </thead>\n",
       "  <tbody>\n",
       "    <tr>\n",
       "      <th>пол</th>\n",
       "      <td>object</td>\n",
       "      <td>0</td>\n",
       "      <td>2</td>\n",
       "      <td>NaN</td>\n",
       "      <td>NaN</td>\n",
       "    </tr>\n",
       "    <tr>\n",
       "      <th>наличие кредитной карты</th>\n",
       "      <td>int64</td>\n",
       "      <td>0</td>\n",
       "      <td>2</td>\n",
       "      <td>1.00</td>\n",
       "      <td>0.00</td>\n",
       "    </tr>\n",
       "    <tr>\n",
       "      <th>активность клиента</th>\n",
       "      <td>int64</td>\n",
       "      <td>0</td>\n",
       "      <td>2</td>\n",
       "      <td>1.00</td>\n",
       "      <td>0.00</td>\n",
       "    </tr>\n",
       "    <tr>\n",
       "      <th>отток</th>\n",
       "      <td>int64</td>\n",
       "      <td>0</td>\n",
       "      <td>2</td>\n",
       "      <td>1.00</td>\n",
       "      <td>0.00</td>\n",
       "    </tr>\n",
       "    <tr>\n",
       "      <th>страна проживания</th>\n",
       "      <td>object</td>\n",
       "      <td>0</td>\n",
       "      <td>3</td>\n",
       "      <td>NaN</td>\n",
       "      <td>NaN</td>\n",
       "    </tr>\n",
       "    <tr>\n",
       "      <th>количество продуктов банка, используемых клиентом</th>\n",
       "      <td>int64</td>\n",
       "      <td>0</td>\n",
       "      <td>4</td>\n",
       "      <td>4.00</td>\n",
       "      <td>1.00</td>\n",
       "    </tr>\n",
       "    <tr>\n",
       "      <th>количество недвижимости у клиента</th>\n",
       "      <td>float64</td>\n",
       "      <td>909</td>\n",
       "      <td>11</td>\n",
       "      <td>10.00</td>\n",
       "      <td>0.00</td>\n",
       "    </tr>\n",
       "    <tr>\n",
       "      <th>возраст</th>\n",
       "      <td>int64</td>\n",
       "      <td>0</td>\n",
       "      <td>70</td>\n",
       "      <td>92.00</td>\n",
       "      <td>18.00</td>\n",
       "    </tr>\n",
       "    <tr>\n",
       "      <th>кредитный рейтинг</th>\n",
       "      <td>int64</td>\n",
       "      <td>0</td>\n",
       "      <td>460</td>\n",
       "      <td>850.00</td>\n",
       "      <td>350.00</td>\n",
       "    </tr>\n",
       "    <tr>\n",
       "      <th>фамилия</th>\n",
       "      <td>object</td>\n",
       "      <td>0</td>\n",
       "      <td>2932</td>\n",
       "      <td>NaN</td>\n",
       "      <td>NaN</td>\n",
       "    </tr>\n",
       "    <tr>\n",
       "      <th>баланс на счёте</th>\n",
       "      <td>float64</td>\n",
       "      <td>0</td>\n",
       "      <td>6382</td>\n",
       "      <td>250898.09</td>\n",
       "      <td>0.00</td>\n",
       "    </tr>\n",
       "    <tr>\n",
       "      <th>предполагаемая зарплата</th>\n",
       "      <td>float64</td>\n",
       "      <td>0</td>\n",
       "      <td>9999</td>\n",
       "      <td>199992.48</td>\n",
       "      <td>11.58</td>\n",
       "    </tr>\n",
       "    <tr>\n",
       "      <th>индекс строки в данных</th>\n",
       "      <td>int64</td>\n",
       "      <td>0</td>\n",
       "      <td>10000</td>\n",
       "      <td>10000.00</td>\n",
       "      <td>1.00</td>\n",
       "    </tr>\n",
       "    <tr>\n",
       "      <th>уникальный идентификатор клиента</th>\n",
       "      <td>int64</td>\n",
       "      <td>0</td>\n",
       "      <td>10000</td>\n",
       "      <td>15815690.00</td>\n",
       "      <td>15565701.00</td>\n",
       "    </tr>\n",
       "  </tbody>\n",
       "</table>\n",
       "</div>"
      ],
      "text/plain": [
       "                                                       тип  \\\n",
       "признак                                                      \n",
       "пол                                                 object   \n",
       "наличие кредитной карты                              int64   \n",
       "активность клиента                                   int64   \n",
       "отток                                                int64   \n",
       "страна проживания                                   object   \n",
       "количество продуктов банка, используемых клиентом    int64   \n",
       "количество недвижимости у клиента                  float64   \n",
       "возраст                                              int64   \n",
       "кредитный рейтинг                                    int64   \n",
       "фамилия                                             object   \n",
       "баланс на счёте                                    float64   \n",
       "предполагаемая зарплата                            float64   \n",
       "индекс строки в данных                               int64   \n",
       "уникальный идентификатор клиента                     int64   \n",
       "\n",
       "                                                   число_пропущенных_значений  \\\n",
       "признак                                                                         \n",
       "пол                                                                         0   \n",
       "наличие кредитной карты                                                     0   \n",
       "активность клиента                                                          0   \n",
       "отток                                                                       0   \n",
       "страна проживания                                                           0   \n",
       "количество продуктов банка, используемых клиентом                           0   \n",
       "количество недвижимости у клиента                                         909   \n",
       "возраст                                                                     0   \n",
       "кредитный рейтинг                                                           0   \n",
       "фамилия                                                                     0   \n",
       "баланс на счёте                                                             0   \n",
       "предполагаемая зарплата                                                     0   \n",
       "индекс строки в данных                                                      0   \n",
       "уникальный идентификатор клиента                                            0   \n",
       "\n",
       "                                                   число_уникальных_значений  \\\n",
       "признак                                                                        \n",
       "пол                                                                        2   \n",
       "наличие кредитной карты                                                    2   \n",
       "активность клиента                                                         2   \n",
       "отток                                                                      2   \n",
       "страна проживания                                                          3   \n",
       "количество продуктов банка, используемых клиентом                          4   \n",
       "количество недвижимости у клиента                                         11   \n",
       "возраст                                                                   70   \n",
       "кредитный рейтинг                                                        460   \n",
       "фамилия                                                                 2932   \n",
       "баланс на счёте                                                         6382   \n",
       "предполагаемая зарплата                                                 9999   \n",
       "индекс строки в данных                                                 10000   \n",
       "уникальный идентификатор клиента                                       10000   \n",
       "\n",
       "                                                      максимум      минимум  \n",
       "признак                                                                      \n",
       "пол                                                        NaN          NaN  \n",
       "наличие кредитной карты                                   1.00         0.00  \n",
       "активность клиента                                        1.00         0.00  \n",
       "отток                                                     1.00         0.00  \n",
       "страна проживания                                          NaN          NaN  \n",
       "количество продуктов банка, используемых клиентом         4.00         1.00  \n",
       "количество недвижимости у клиента                        10.00         0.00  \n",
       "возраст                                                  92.00        18.00  \n",
       "кредитный рейтинг                                       850.00       350.00  \n",
       "фамилия                                                    NaN          NaN  \n",
       "баланс на счёте                                      250898.09         0.00  \n",
       "предполагаемая зарплата                              199992.48        11.58  \n",
       "индекс строки в данных                                10000.00         1.00  \n",
       "уникальный идентификатор клиента                   15815690.00  15565701.00  "
      ]
     },
     "execution_count": 8,
     "metadata": {},
     "output_type": "execute_result"
    }
   ],
   "source": [
    "_get_data_info(df)"
   ]
  },
  {
   "cell_type": "code",
   "execution_count": 9,
   "metadata": {},
   "outputs": [],
   "source": [
    "# пропуски в ко-ве недвижимости заполним 0\n",
    "df['количество недвижимости у клиента'].fillna(0, inplace = True)"
   ]
  },
  {
   "cell_type": "code",
   "execution_count": 10,
   "metadata": {},
   "outputs": [],
   "source": [
    "df = df.drop('индекс строки в данных', 1).set_index('уникальный идентификатор клиента')"
   ]
  },
  {
   "cell_type": "code",
   "execution_count": 11,
   "metadata": {},
   "outputs": [],
   "source": [
    "def _show_eda_plots(df, figsize1, figsize2):\n",
    "    obj_cols = df.select_dtypes(object).columns\n",
    "    num_cols = df.drop(obj_cols, 1).columns\n",
    "    ncols = 3    \n",
    "    nrows1, nrows2 = int(np.ceil(len(obj_cols) / ncols)), int(np.ceil(len(num_cols) / ncols))    \n",
    "    \n",
    "    plt.figure(figsize =figsize1)\n",
    "    plt.suptitle('строковые признаки', fontsize = 20)    \n",
    "    for i, col in enumerate(obj_cols):\n",
    "        plt.subplot(nrows1, ncols, i+1)\n",
    "        c = df[col].value_counts()\n",
    "        if len(c)<50:\n",
    "            surname_counts = c\n",
    "            sns.barplot(x = surname_counts.values, y = surname_counts.index, orient = 'h', palette = 'Set2')\n",
    "            plt.title(col)\n",
    "            plt.xlabel('кол-во')\n",
    "            plt.ylabel(col)\n",
    "        else:\n",
    "            surname_counts = c.value_counts()\n",
    "            sns.barplot(x = surname_counts.values, y = surname_counts.index, orient = 'h', palette = 'Set2')\n",
    "            plt.title(col)\n",
    "            plt.xlabel('кол-во')\n",
    "            plt.ylabel('встречаемость категорий одного размера')  \n",
    "    plt.subplots_adjust(hspace = .5, wspace = .5)    \n",
    "\n",
    "    plt.figure(figsize =figsize2)\n",
    "    plt.suptitle('числовые признаки', fontsize = 20)\n",
    "    for i, col in enumerate(num_cols):\n",
    "        plt.subplot(nrows2, ncols, i+1)\n",
    "        df[col].hist(edgecolor = 'black', alpha = .7)\n",
    "        plt.title(col)\n",
    "        plt.xlabel(col)\n",
    "        plt.ylabel('кол-во')\n",
    "    plt.subplots_adjust(hspace = .7, wspace = .9)    "
   ]
  },
  {
   "cell_type": "code",
   "execution_count": 12,
   "metadata": {},
   "outputs": [
    {
     "data": {
      "image/png": "[encoded data removed]",
      "text/plain": [
       "<Figure size 1080x432 with 3 Axes>"
      ]
     },
     "metadata": {},
     "output_type": "display_data"
    },
    {
     "data": {
      "image/png": "[encoded data removed]",
      "text/plain": [
       "<Figure size 1080x504 with 8 Axes>"
      ]
     },
     "metadata": {},
     "output_type": "display_data"
    }
   ],
   "source": [
    "_show_eda_plots(df.drop('отток',1), figsize1 = (15, 6), figsize2 = (15, 7))"
   ]
  },
  {
   "cell_type": "markdown",
   "metadata": {},
   "source": [
    "* в данных присутствуют однофамильцы\n",
    "* в данных присутствует 3 страны проживания: пользователей из Франции больше, чем пользователей из Германии и Испании в сумме.\n",
    "* женщин и мужчин примерно одинаковое кол-во\n",
    "* кредитный рейтинг распределен примерно нормально. хвосты распределения различны (правый тяжелее левого)\n",
    "* возраст имеет тяжелый правый хвост (малое кол-во возрастных людей). данный признак можно ограничиить справа, тогда модели не будут учитывать аномальные значения, распределение станет близко нормальному\n",
    "* кол-во недвижимости распределено примерно равномерно от 0 до 10. имеются всплески на 0 и 10.\n",
    "* баланс на счете имеет тяжелые хвосты, много людей  с нулевым балансом (без выбросов распределение примерно нормальное)\n",
    "* большинство людей использует 1-2 продукта банка(есть пользователи 3ех и 4ех)\n",
    "* людей с кредитной картой больше, чем людей без нее в более, чем 2 раза\n",
    "* активных и неактивных клиентов примерно одинаковое кол-во\n",
    "* предполагаемая зарплата распределена равномерно от 0 до 2млн"
   ]
  },
  {
   "cell_type": "code",
   "execution_count": 13,
   "metadata": {},
   "outputs": [
    {
     "name": "stdout",
     "output_type": "stream",
     "text": [
      "\t\tДоля отточных клиентов равна 0.2\n"
     ]
    },
    {
     "data": {
      "image/png": "[encoded data removed]",
      "text/plain": [
       "<Figure size 432x288 with 1 Axes>"
      ]
     },
     "metadata": {},
     "output_type": "display_data"
    }
   ],
   "source": [
    "target_barplot = df['отток'].value_counts(normalize = True).plot(kind = 'bar', color = 'green', alpha = .6, edgecolor = 'black')\n",
    "target_barplot.set_xticklabels(target_barplot.get_xticklabels(), rotation = 0)\n",
    "print('\\t\\tДоля отточных клиентов равна {:.1f}'.format(df['отток'].mean()))\n",
    "plt.title('Распределение оттока')\n",
    "plt.xlabel('значение')\n",
    "plt.ylabel('доля')\n",
    "plt.show()"
   ]
  },
  {
   "cell_type": "markdown",
   "metadata": {},
   "source": [
    "#### поиск оптимальной схемы валидации"
   ]
  },
  {
   "cell_type": "code",
   "execution_count": 14,
   "metadata": {},
   "outputs": [],
   "source": [
    "rf_est = RandomForestClassifier(random_state = SEED)\n",
    "logit_est = LogisticRegression(random_state = SEED)\n",
    "lgb_est = LGBMClassifier(random_state = SEED)\n",
    "cb_est = CatBoostClassifier(random_state = SEED, silent = True)\n",
    "xgb_est = xgb.XGBClassifier(random_state = SEED)\n",
    "\n",
    "grid = {'estimator' : [(lgb_est, 'lgb'), (logit_est, 'logit')],\\\n",
    "        'test_share' : [.3, .2, .1],\\\n",
    "        'cv' : [(KFold(3, random_state = SEED), 'kf3'), (KFold(5, random_state = SEED), 'kf5'),                \n",
    "               (StratifiedKFold(3, random_state = SEED), 'skf3'), (StratifiedKFold(5, random_state = SEED), 'skf5')],\\\n",
    "        'scoring' : ['roc_auc', 'f1']}"
   ]
  },
  {
   "cell_type": "code",
   "execution_count": 15,
   "metadata": {
    "scrolled": false
   },
   "outputs": [
    {
     "data": {
      "application/vnd.jupyter.widget-view+json": {
       "model_id": "dbf1ba9cd1944163a4106e6150d70f47",
       "version_major": 2,
       "version_minor": 0
      },
      "text/plain": [
       "HBox(children=(FloatProgress(value=0.0, max=2.0), HTML(value='')))"
      ]
     },
     "metadata": {},
     "output_type": "display_data"
    },
    {
     "data": {
      "application/vnd.jupyter.widget-view+json": {
       "model_id": "47d4806194474a1db97f957b07d9d1af",
       "version_major": 2,
       "version_minor": 0
      },
      "text/plain": [
       "HBox(children=(FloatProgress(value=0.0, max=3.0), HTML(value='')))"
      ]
     },
     "metadata": {},
     "output_type": "display_data"
    },
    {
     "data": {
      "application/vnd.jupyter.widget-view+json": {
       "model_id": "64efb226ad044d8d8a4549a06520bf42",
       "version_major": 2,
       "version_minor": 0
      },
      "text/plain": [
       "HBox(children=(FloatProgress(value=0.0, max=4.0), HTML(value='')))"
      ]
     },
     "metadata": {},
     "output_type": "display_data"
    },
    {
     "name": "stdout",
     "output_type": "stream",
     "text": [
      "\n"
     ]
    },
    {
     "data": {
      "application/vnd.jupyter.widget-view+json": {
       "model_id": "640afe1cd73c4d8f8d45ac088530d3b0",
       "version_major": 2,
       "version_minor": 0
      },
      "text/plain": [
       "HBox(children=(FloatProgress(value=0.0, max=4.0), HTML(value='')))"
      ]
     },
     "metadata": {},
     "output_type": "display_data"
    },
    {
     "name": "stdout",
     "output_type": "stream",
     "text": [
      "\n"
     ]
    },
    {
     "data": {
      "application/vnd.jupyter.widget-view+json": {
       "model_id": "4929d736baff4a89aceec547f0dba7e3",
       "version_major": 2,
       "version_minor": 0
      },
      "text/plain": [
       "HBox(children=(FloatProgress(value=0.0, max=4.0), HTML(value='')))"
      ]
     },
     "metadata": {},
     "output_type": "display_data"
    },
    {
     "name": "stdout",
     "output_type": "stream",
     "text": [
      "\n",
      "\n"
     ]
    },
    {
     "data": {
      "application/vnd.jupyter.widget-view+json": {
       "model_id": "3e70a4d1be6746eea7371914899ec493",
       "version_major": 2,
       "version_minor": 0
      },
      "text/plain": [
       "HBox(children=(FloatProgress(value=0.0, max=3.0), HTML(value='')))"
      ]
     },
     "metadata": {},
     "output_type": "display_data"
    },
    {
     "data": {
      "application/vnd.jupyter.widget-view+json": {
       "model_id": "7b6adbdda01e496b8c8bd27bf55dd63f",
       "version_major": 2,
       "version_minor": 0
      },
      "text/plain": [
       "HBox(children=(FloatProgress(value=0.0, max=4.0), HTML(value='')))"
      ]
     },
     "metadata": {},
     "output_type": "display_data"
    },
    {
     "name": "stdout",
     "output_type": "stream",
     "text": [
      "\n"
     ]
    },
    {
     "data": {
      "application/vnd.jupyter.widget-view+json": {
       "model_id": "ed237aac4cb7451aa2b505189b7f3647",
       "version_major": 2,
       "version_minor": 0
      },
      "text/plain": [
       "HBox(children=(FloatProgress(value=0.0, max=4.0), HTML(value='')))"
      ]
     },
     "metadata": {},
     "output_type": "display_data"
    },
    {
     "name": "stdout",
     "output_type": "stream",
     "text": [
      "\n"
     ]
    },
    {
     "data": {
      "application/vnd.jupyter.widget-view+json": {
       "model_id": "dbc01ea944fd4249838b02870a200bb6",
       "version_major": 2,
       "version_minor": 0
      },
      "text/plain": [
       "HBox(children=(FloatProgress(value=0.0, max=4.0), HTML(value='')))"
      ]
     },
     "metadata": {},
     "output_type": "display_data"
    },
    {
     "name": "stdout",
     "output_type": "stream",
     "text": [
      "\n",
      "\n",
      "\n",
      "Выполнено за 2.0 минут\n"
     ]
    }
   ],
   "source": [
    "start = time.time()\n",
    "L = []\n",
    "for est, est_name in tqdm_notebook(grid['estimator']):    \n",
    "    for test_share in tqdm_notebook(grid['test_share']):\n",
    "        for cv, cv_name in tqdm_notebook(grid['cv']):\n",
    "            for scoring in grid['scoring']:\n",
    "                X_TR, X_HOLDOUT, Y_TR, Y_HOLDOUT = train_test_split(df.drop('отток', 1), df['отток'], test_size = test_share,\\\n",
    "                                                                    random_state = SEED, stratify = df['отток'])\n",
    "                obj_cols = X_TR.select_dtypes(object).columns\n",
    "                mnmx_scaler = MinMaxScaler()\n",
    "                X_num_TR = X_TR.drop(obj_cols, 1)\n",
    "                X_TR.loc[X_num_TR.index, X_num_TR.columns] = mnmx_scaler.fit_transform(X_num_TR)\n",
    "                X_ohe_TR = pd.get_dummies(X_TR, columns = obj_cols, drop_first = True)\n",
    "                X_le_TR = X_TR.copy()\n",
    "                X_le_TR.loc[:, obj_cols] = X_TR[obj_cols].apply(lambda x: pd.factorize(x)[0])\n",
    "                \n",
    "                _X_ohe = np.array(X_ohe_TR)\n",
    "                _X_le = np.array(X_le_TR)\n",
    "                _y = np.array(Y_TR)\n",
    "                \n",
    "                if est_name == 'logit':\n",
    "                    score = cross_validate(est, _X_ohe, _y, cv = cv, scoring = scoring)['test_score']\n",
    "                else:\n",
    "                    score = cross_validate(est, _X_le, _y, cv = cv, scoring = scoring)['test_score']  \n",
    "                    \n",
    "                L.append((est_name, test_share, cv_name, scoring, np.mean(score), np.max(score) - np.min(score)))\n",
    "end = time.time()\n",
    "print('Выполнено за {} минут'.format((end-start)//60))"
   ]
  },
  {
   "cell_type": "code",
   "execution_count": 16,
   "metadata": {},
   "outputs": [
    {
     "name": "stdout",
     "output_type": "stream",
     "text": [
      "Лучшая схема валидации = kf3, доля тест части  = 0.3\n"
     ]
    }
   ],
   "source": [
    "cv_results = pd.DataFrame.from_records(L)\\\n",
    "               .rename(columns = {0:'модель', 1:'доля_тест_части', 2:'валидация', 3:'метрика', 4:'среднее', 5:'размах'})\n",
    "optimal_cv, optimal_share = cv_results[cv_results['метрика'] == 'f1'].groupby(['валидация', 'доля_тест_части'])['размах'].mean().idxmin()\n",
    "print('Лучшая схема валидации = {}, доля тест части  = {}'\\\n",
    "      .format(optimal_cv, optimal_share))"
   ]
  },
  {
   "cell_type": "markdown",
   "metadata": {},
   "source": [
    "* фиксируем схему валидации, долю отложенной части\n",
    "* делим данные на трейн и отложенную часть\n",
    "* масштабируем числовые признаки\n",
    "* кодируем категории le или ohe"
   ]
  },
  {
   "cell_type": "code",
   "execution_count": 17,
   "metadata": {},
   "outputs": [],
   "source": [
    "df[['баланс на счёте', 'предполагаемая зарплата']] = df[['баланс на счёте', 'предполагаемая зарплата']].round().apply(np.log1p)\n",
    "\n",
    "kf3 = KFold(3, random_state = SEED)\n",
    "test_size = .2\n",
    "X_TR, X_HOLDOUT, Y_TR, Y_HOLDOUT = train_test_split(df.drop('отток', 1), df['отток'], test_size = test_size,\\\n",
    "                                                    random_state = SEED, stratify = df['отток'])\n",
    "obj_cols = X_TR.select_dtypes(object).columns\n",
    "for col in obj_cols:     \n",
    "    unique_values = X_TR[col].unique()\n",
    "    d = dict(zip(unique_values, range(len(unique_values))))\n",
    "    X_TR[col] = X_TR[col].map(d).fillna(-1)  \n",
    "    X_HOLDOUT[col] = X_HOLDOUT[col].map(d).fillna(-1) \n",
    "    \n",
    "cat_cols = ['страна проживания', 'пол', 'возраст',\n",
    "            'количество недвижимости у клиента',\n",
    "            'количество продуктов банка, используемых клиентом',\n",
    "            'наличие кредитной карты', 'активность клиента', 'фамилия']\n",
    "\n",
    "X_ohe_TR = pd.get_dummies(X_TR, columns = cat_cols, drop_first = True)"
   ]
  },
  {
   "cell_type": "code",
   "execution_count": 20,
   "metadata": {},
   "outputs": [],
   "source": [
    "def _select_features(estimator, X, y, cv, scoring):\n",
    "    \n",
    "    if isinstance(X, (pd.DataFrame, pd.Series)):\n",
    "        _X = np.array(X)\n",
    "    else:\n",
    "        _X = X\n",
    "    if isinstance(y, (pd.Series)):    \n",
    "        _y = np.array(y)\n",
    "    else:\n",
    "        _y = y\n",
    "        \n",
    "    scores = np.array([])\n",
    "    print('валидируем признаки ...')\n",
    "    for i in tqdm_notebook(range(_X.shape[1])):\n",
    "        _x = _X[:, i].reshape(-1,1)\n",
    "        scores = np.append(scores,\\\n",
    "                           cross_validate(estimator, _x, _y, cv = cv, scoring = scoring)['test_score'].mean())\n",
    "    best_score, best_features, drop_features = 0, [], []\n",
    "    print('добавляем признаки в порядке убывания валидации ...')\n",
    "    for i in tqdm_notebook(np.argsort(scores)[::-1]):\n",
    "        current_features = best_features + [i]\n",
    "        X_CURR = _X[:, current_features]\n",
    "        score = cross_validate(estimator, X_CURR, _y, cv = cv, scoring = scoring)['test_score'].mean()\n",
    "        if score > best_score:\n",
    "            best_score = score\n",
    "            best_features = current_features  \n",
    "            best_X = X_CURR\n",
    "        else:\n",
    "            drop_features.append(i)\n",
    "    print('проверяем признаки повторно ...')\n",
    "    for i in tqdm_notebook(drop_features):\n",
    "        current_features = best_features + [i]\n",
    "        X_CURR = _X[:, current_features]\n",
    "        score = cross_validate(estimator, X_CURR, _y, cv = cv, scoring = scoring)['test_score'].mean()\n",
    "        if score > best_score:\n",
    "            best_score = score\n",
    "            best_features = current_features\n",
    "            best_X = X_CURR\n",
    "    return (best_score, best_features, best_X)"
   ]
  },
  {
   "cell_type": "code",
   "execution_count": 19,
   "metadata": {
    "scrolled": true
   },
   "outputs": [
    {
     "data": {
      "application/vnd.jupyter.widget-view+json": {
       "model_id": "e46b460970ad45a19ac026795f3e757b",
       "version_major": 2,
       "version_minor": 0
      },
      "text/plain": [
       "HBox(children=(FloatProgress(value=0.0, max=5.0), HTML(value='')))"
      ]
     },
     "metadata": {},
     "output_type": "display_data"
    },
    {
     "name": "stdout",
     "output_type": "stream",
     "text": [
      "валидируем признаки ...\n"
     ]
    },
    {
     "data": {
      "application/vnd.jupyter.widget-view+json": {
       "model_id": "f343b811b94c490f917f4a4927520b48",
       "version_major": 2,
       "version_minor": 0
      },
      "text/plain": [
       "HBox(children=(FloatProgress(value=0.0, max=11.0), HTML(value='')))"
      ]
     },
     "metadata": {},
     "output_type": "display_data"
    },
    {
     "name": "stdout",
     "output_type": "stream",
     "text": [
      "\n",
      "добавляем признаки в порядке убывания валидации ...\n"
     ]
    },
    {
     "data": {
      "application/vnd.jupyter.widget-view+json": {
       "model_id": "b98ebaabf7da4909a31eaf767fae0c05",
       "version_major": 2,
       "version_minor": 0
      },
      "text/plain": [
       "HBox(children=(FloatProgress(value=0.0, max=11.0), HTML(value='')))"
      ]
     },
     "metadata": {},
     "output_type": "display_data"
    },
    {
     "name": "stdout",
     "output_type": "stream",
     "text": [
      "\n",
      "проверяем признаки повторно ...\n"
     ]
    },
    {
     "data": {
      "application/vnd.jupyter.widget-view+json": {
       "model_id": "f27b71db469f4612a6e4a5bfbe523e03",
       "version_major": 2,
       "version_minor": 0
      },
      "text/plain": [
       "HBox(children=(FloatProgress(value=0.0, max=4.0), HTML(value='')))"
      ]
     },
     "metadata": {},
     "output_type": "display_data"
    },
    {
     "name": "stdout",
     "output_type": "stream",
     "text": [
      "\n",
      "валидируем признаки ...\n"
     ]
    },
    {
     "data": {
      "application/vnd.jupyter.widget-view+json": {
       "model_id": "78532b798ea04079b7441ac0bc6ff742",
       "version_major": 2,
       "version_minor": 0
      },
      "text/plain": [
       "HBox(children=(FloatProgress(value=0.0, max=11.0), HTML(value='')))"
      ]
     },
     "metadata": {},
     "output_type": "display_data"
    },
    {
     "name": "stdout",
     "output_type": "stream",
     "text": [
      "\n",
      "добавляем признаки в порядке убывания валидации ...\n"
     ]
    },
    {
     "data": {
      "application/vnd.jupyter.widget-view+json": {
       "model_id": "f39c179658814165b5a779d56df27eb3",
       "version_major": 2,
       "version_minor": 0
      },
      "text/plain": [
       "HBox(children=(FloatProgress(value=0.0, max=11.0), HTML(value='')))"
      ]
     },
     "metadata": {},
     "output_type": "display_data"
    },
    {
     "name": "stdout",
     "output_type": "stream",
     "text": [
      "\n",
      "проверяем признаки повторно ...\n"
     ]
    },
    {
     "data": {
      "application/vnd.jupyter.widget-view+json": {
       "model_id": "c44fcf6764b9419d927772a5ee8f207f",
       "version_major": 2,
       "version_minor": 0
      },
      "text/plain": [
       "HBox(children=(FloatProgress(value=0.0, max=6.0), HTML(value='')))"
      ]
     },
     "metadata": {},
     "output_type": "display_data"
    },
    {
     "name": "stdout",
     "output_type": "stream",
     "text": [
      "\n",
      "валидируем признаки ...\n"
     ]
    },
    {
     "data": {
      "application/vnd.jupyter.widget-view+json": {
       "model_id": "1c6e9ea9317c45c4930986c3b2199049",
       "version_major": 2,
       "version_minor": 0
      },
      "text/plain": [
       "HBox(children=(FloatProgress(value=0.0, max=2715.0), HTML(value='')))"
      ]
     },
     "metadata": {},
     "output_type": "display_data"
    },
    {
     "name": "stdout",
     "output_type": "stream",
     "text": [
      "\n",
      "добавляем признаки в порядке убывания валидации ...\n"
     ]
    },
    {
     "data": {
      "application/vnd.jupyter.widget-view+json": {
       "model_id": "4f5163e879364cf798627ddff0177049",
       "version_major": 2,
       "version_minor": 0
      },
      "text/plain": [
       "HBox(children=(FloatProgress(value=0.0, max=2715.0), HTML(value='')))"
      ]
     },
     "metadata": {},
     "output_type": "display_data"
    },
    {
     "name": "stdout",
     "output_type": "stream",
     "text": [
      "\n",
      "проверяем признаки повторно ...\n"
     ]
    },
    {
     "data": {
      "application/vnd.jupyter.widget-view+json": {
       "model_id": "7f9685063bf44d428795bce9d1e42e4a",
       "version_major": 2,
       "version_minor": 0
      },
      "text/plain": [
       "HBox(children=(FloatProgress(value=0.0, max=2623.0), HTML(value='')))"
      ]
     },
     "metadata": {},
     "output_type": "display_data"
    },
    {
     "name": "stdout",
     "output_type": "stream",
     "text": [
      "\n",
      "валидируем признаки ...\n"
     ]
    },
    {
     "data": {
      "application/vnd.jupyter.widget-view+json": {
       "model_id": "3593bd7ed6bd4e5ca147a223dd1bb16e",
       "version_major": 2,
       "version_minor": 0
      },
      "text/plain": [
       "HBox(children=(FloatProgress(value=0.0, max=11.0), HTML(value='')))"
      ]
     },
     "metadata": {},
     "output_type": "display_data"
    },
    {
     "name": "stdout",
     "output_type": "stream",
     "text": [
      "[07:38:42] WARNING: C:/Users/Administrator/workspace/xgboost-win64_release_1.3.0/src/learner.cc:1061: Starting in XGBoost 1.3.0, the default evaluation metric used with the objective 'binary:logistic' was changed from 'error' to 'logloss'. Explicitly set eval_metric if you'd like to restore the old behavior.\n",
      "[07:38:43] WARNING: C:/Users/Administrator/workspace/xgboost-win64_release_1.3.0/src/learner.cc:1061: Starting in XGBoost 1.3.0, the default evaluation metric used with the objective 'binary:logistic' was changed from 'error' to 'logloss'. Explicitly set eval_metric if you'd like to restore the old behavior.\n",
      "[07:38:43] WARNING: C:/Users/Administrator/workspace/xgboost-win64_release_1.3.0/src/learner.cc:1061: Starting in XGBoost 1.3.0, the default evaluation metric used with the objective 'binary:logistic' was changed from 'error' to 'logloss'. Explicitly set eval_metric if you'd like to restore the old behavior.\n",
      "[07:38:43] WARNING: C:/Users/Administrator/workspace/xgboost-win64_release_1.3.0/src/learner.cc:1061: Starting in XGBoost 1.3.0, the default evaluation metric used with the objective 'binary:logistic' was changed from 'error' to 'logloss'. Explicitly set eval_metric if you'd like to restore the old behavior.\n",
      "[07:38:43] WARNING: C:/Users/Administrator/workspace/xgboost-win64_release_1.3.0/src/learner.cc:1061: Starting in XGBoost 1.3.0, the default evaluation metric used with the objective 'binary:logistic' was changed from 'error' to 'logloss'. Explicitly set eval_metric if you'd like to restore the old behavior.\n",
      "[07:38:43] WARNING: C:/Users/Administrator/workspace/xgboost-win64_release_1.3.0/src/learner.cc:1061: Starting in XGBoost 1.3.0, the default evaluation metric used with the objective 'binary:logistic' was changed from 'error' to 'logloss'. Explicitly set eval_metric if you'd like to restore the old behavior.\n",
      "[07:38:43] WARNING: C:/Users/Administrator/workspace/xgboost-win64_release_1.3.0/src/learner.cc:1061: Starting in XGBoost 1.3.0, the default evaluation metric used with the objective 'binary:logistic' was changed from 'error' to 'logloss'. Explicitly set eval_metric if you'd like to restore the old behavior.\n",
      "[07:38:43] WARNING: C:/Users/Administrator/workspace/xgboost-win64_release_1.3.0/src/learner.cc:1061: Starting in XGBoost 1.3.0, the default evaluation metric used with the objective 'binary:logistic' was changed from 'error' to 'logloss'. Explicitly set eval_metric if you'd like to restore the old behavior.\n",
      "[07:38:43] WARNING: C:/Users/Administrator/workspace/xgboost-win64_release_1.3.0/src/learner.cc:1061: Starting in XGBoost 1.3.0, the default evaluation metric used with the objective 'binary:logistic' was changed from 'error' to 'logloss'. Explicitly set eval_metric if you'd like to restore the old behavior.\n",
      "[07:38:43] WARNING: C:/Users/Administrator/workspace/xgboost-win64_release_1.3.0/src/learner.cc:1061: Starting in XGBoost 1.3.0, the default evaluation metric used with the objective 'binary:logistic' was changed from 'error' to 'logloss'. Explicitly set eval_metric if you'd like to restore the old behavior.\n",
      "[07:38:43] WARNING: C:/Users/Administrator/workspace/xgboost-win64_release_1.3.0/src/learner.cc:1061: Starting in XGBoost 1.3.0, the default evaluation metric used with the objective 'binary:logistic' was changed from 'error' to 'logloss'. Explicitly set eval_metric if you'd like to restore the old behavior.\n",
      "[07:38:44] WARNING: C:/Users/Administrator/workspace/xgboost-win64_release_1.3.0/src/learner.cc:1061: Starting in XGBoost 1.3.0, the default evaluation metric used with the objective 'binary:logistic' was changed from 'error' to 'logloss'. Explicitly set eval_metric if you'd like to restore the old behavior.\n",
      "[07:38:44] WARNING: C:/Users/Administrator/workspace/xgboost-win64_release_1.3.0/src/learner.cc:1061: Starting in XGBoost 1.3.0, the default evaluation metric used with the objective 'binary:logistic' was changed from 'error' to 'logloss'. Explicitly set eval_metric if you'd like to restore the old behavior.\n",
      "[07:38:44] WARNING: C:/Users/Administrator/workspace/xgboost-win64_release_1.3.0/src/learner.cc:1061: Starting in XGBoost 1.3.0, the default evaluation metric used with the objective 'binary:logistic' was changed from 'error' to 'logloss'. Explicitly set eval_metric if you'd like to restore the old behavior.\n",
      "[07:38:44] WARNING: C:/Users/Administrator/workspace/xgboost-win64_release_1.3.0/src/learner.cc:1061: Starting in XGBoost 1.3.0, the default evaluation metric used with the objective 'binary:logistic' was changed from 'error' to 'logloss'. Explicitly set eval_metric if you'd like to restore the old behavior.\n",
      "[07:38:44] WARNING: C:/Users/Administrator/workspace/xgboost-win64_release_1.3.0/src/learner.cc:1061: Starting in XGBoost 1.3.0, the default evaluation metric used with the objective 'binary:logistic' was changed from 'error' to 'logloss'. Explicitly set eval_metric if you'd like to restore the old behavior.\n",
      "[07:38:44] WARNING: C:/Users/Administrator/workspace/xgboost-win64_release_1.3.0/src/learner.cc:1061: Starting in XGBoost 1.3.0, the default evaluation metric used with the objective 'binary:logistic' was changed from 'error' to 'logloss'. Explicitly set eval_metric if you'd like to restore the old behavior.\n",
      "[07:38:44] WARNING: C:/Users/Administrator/workspace/xgboost-win64_release_1.3.0/src/learner.cc:1061: Starting in XGBoost 1.3.0, the default evaluation metric used with the objective 'binary:logistic' was changed from 'error' to 'logloss'. Explicitly set eval_metric if you'd like to restore the old behavior.\n",
      "[07:38:44] WARNING: C:/Users/Administrator/workspace/xgboost-win64_release_1.3.0/src/learner.cc:1061: Starting in XGBoost 1.3.0, the default evaluation metric used with the objective 'binary:logistic' was changed from 'error' to 'logloss'. Explicitly set eval_metric if you'd like to restore the old behavior.\n",
      "[07:38:44] WARNING: C:/Users/Administrator/workspace/xgboost-win64_release_1.3.0/src/learner.cc:1061: Starting in XGBoost 1.3.0, the default evaluation metric used with the objective 'binary:logistic' was changed from 'error' to 'logloss'. Explicitly set eval_metric if you'd like to restore the old behavior.\n",
      "[07:38:44] WARNING: C:/Users/Administrator/workspace/xgboost-win64_release_1.3.0/src/learner.cc:1061: Starting in XGBoost 1.3.0, the default evaluation metric used with the objective 'binary:logistic' was changed from 'error' to 'logloss'. Explicitly set eval_metric if you'd like to restore the old behavior.\n",
      "[07:38:45] WARNING: C:/Users/Administrator/workspace/xgboost-win64_release_1.3.0/src/learner.cc:1061: Starting in XGBoost 1.3.0, the default evaluation metric used with the objective 'binary:logistic' was changed from 'error' to 'logloss'. Explicitly set eval_metric if you'd like to restore the old behavior.\n",
      "[07:38:45] WARNING: C:/Users/Administrator/workspace/xgboost-win64_release_1.3.0/src/learner.cc:1061: Starting in XGBoost 1.3.0, the default evaluation metric used with the objective 'binary:logistic' was changed from 'error' to 'logloss'. Explicitly set eval_metric if you'd like to restore the old behavior.\n",
      "[07:38:45] WARNING: C:/Users/Administrator/workspace/xgboost-win64_release_1.3.0/src/learner.cc:1061: Starting in XGBoost 1.3.0, the default evaluation metric used with the objective 'binary:logistic' was changed from 'error' to 'logloss'. Explicitly set eval_metric if you'd like to restore the old behavior.\n",
      "[07:38:45] WARNING: C:/Users/Administrator/workspace/xgboost-win64_release_1.3.0/src/learner.cc:1061: Starting in XGBoost 1.3.0, the default evaluation metric used with the objective 'binary:logistic' was changed from 'error' to 'logloss'. Explicitly set eval_metric if you'd like to restore the old behavior.\n",
      "[07:38:45] WARNING: C:/Users/Administrator/workspace/xgboost-win64_release_1.3.0/src/learner.cc:1061: Starting in XGBoost 1.3.0, the default evaluation metric used with the objective 'binary:logistic' was changed from 'error' to 'logloss'. Explicitly set eval_metric if you'd like to restore the old behavior.\n",
      "[07:38:45] WARNING: C:/Users/Administrator/workspace/xgboost-win64_release_1.3.0/src/learner.cc:1061: Starting in XGBoost 1.3.0, the default evaluation metric used with the objective 'binary:logistic' was changed from 'error' to 'logloss'. Explicitly set eval_metric if you'd like to restore the old behavior.\n",
      "[07:38:45] WARNING: C:/Users/Administrator/workspace/xgboost-win64_release_1.3.0/src/learner.cc:1061: Starting in XGBoost 1.3.0, the default evaluation metric used with the objective 'binary:logistic' was changed from 'error' to 'logloss'. Explicitly set eval_metric if you'd like to restore the old behavior.\n",
      "[07:38:45] WARNING: C:/Users/Administrator/workspace/xgboost-win64_release_1.3.0/src/learner.cc:1061: Starting in XGBoost 1.3.0, the default evaluation metric used with the objective 'binary:logistic' was changed from 'error' to 'logloss'. Explicitly set eval_metric if you'd like to restore the old behavior.\n",
      "[07:38:45] WARNING: C:/Users/Administrator/workspace/xgboost-win64_release_1.3.0/src/learner.cc:1061: Starting in XGBoost 1.3.0, the default evaluation metric used with the objective 'binary:logistic' was changed from 'error' to 'logloss'. Explicitly set eval_metric if you'd like to restore the old behavior.\n",
      "[07:38:45] WARNING: C:/Users/Administrator/workspace/xgboost-win64_release_1.3.0/src/learner.cc:1061: Starting in XGBoost 1.3.0, the default evaluation metric used with the objective 'binary:logistic' was changed from 'error' to 'logloss'. Explicitly set eval_metric if you'd like to restore the old behavior.\n",
      "[07:38:45] WARNING: C:/Users/Administrator/workspace/xgboost-win64_release_1.3.0/src/learner.cc:1061: Starting in XGBoost 1.3.0, the default evaluation metric used with the objective 'binary:logistic' was changed from 'error' to 'logloss'. Explicitly set eval_metric if you'd like to restore the old behavior.\n",
      "[07:38:46] WARNING: C:/Users/Administrator/workspace/xgboost-win64_release_1.3.0/src/learner.cc:1061: Starting in XGBoost 1.3.0, the default evaluation metric used with the objective 'binary:logistic' was changed from 'error' to 'logloss'. Explicitly set eval_metric if you'd like to restore the old behavior.\n",
      "\n",
      "добавляем признаки в порядке убывания валидации ...\n"
     ]
    },
    {
     "data": {
      "application/vnd.jupyter.widget-view+json": {
       "model_id": "b5dc0c3917474b148c076ada00b005c5",
       "version_major": 2,
       "version_minor": 0
      },
      "text/plain": [
       "HBox(children=(FloatProgress(value=0.0, max=11.0), HTML(value='')))"
      ]
     },
     "metadata": {},
     "output_type": "display_data"
    },
    {
     "name": "stdout",
     "output_type": "stream",
     "text": [
      "[07:38:46] WARNING: C:/Users/Administrator/workspace/xgboost-win64_release_1.3.0/src/learner.cc:1061: Starting in XGBoost 1.3.0, the default evaluation metric used with the objective 'binary:logistic' was changed from 'error' to 'logloss'. Explicitly set eval_metric if you'd like to restore the old behavior.\n",
      "[07:38:46] WARNING: C:/Users/Administrator/workspace/xgboost-win64_release_1.3.0/src/learner.cc:1061: Starting in XGBoost 1.3.0, the default evaluation metric used with the objective 'binary:logistic' was changed from 'error' to 'logloss'. Explicitly set eval_metric if you'd like to restore the old behavior.\n",
      "[07:38:46] WARNING: C:/Users/Administrator/workspace/xgboost-win64_release_1.3.0/src/learner.cc:1061: Starting in XGBoost 1.3.0, the default evaluation metric used with the objective 'binary:logistic' was changed from 'error' to 'logloss'. Explicitly set eval_metric if you'd like to restore the old behavior.\n",
      "[07:38:46] WARNING: C:/Users/Administrator/workspace/xgboost-win64_release_1.3.0/src/learner.cc:1061: Starting in XGBoost 1.3.0, the default evaluation metric used with the objective 'binary:logistic' was changed from 'error' to 'logloss'. Explicitly set eval_metric if you'd like to restore the old behavior.\n",
      "[07:38:46] WARNING: C:/Users/Administrator/workspace/xgboost-win64_release_1.3.0/src/learner.cc:1061: Starting in XGBoost 1.3.0, the default evaluation metric used with the objective 'binary:logistic' was changed from 'error' to 'logloss'. Explicitly set eval_metric if you'd like to restore the old behavior.\n",
      "[07:38:46] WARNING: C:/Users/Administrator/workspace/xgboost-win64_release_1.3.0/src/learner.cc:1061: Starting in XGBoost 1.3.0, the default evaluation metric used with the objective 'binary:logistic' was changed from 'error' to 'logloss'. Explicitly set eval_metric if you'd like to restore the old behavior.\n",
      "[07:38:46] WARNING: C:/Users/Administrator/workspace/xgboost-win64_release_1.3.0/src/learner.cc:1061: Starting in XGBoost 1.3.0, the default evaluation metric used with the objective 'binary:logistic' was changed from 'error' to 'logloss'. Explicitly set eval_metric if you'd like to restore the old behavior.\n",
      "[07:38:47] WARNING: C:/Users/Administrator/workspace/xgboost-win64_release_1.3.0/src/learner.cc:1061: Starting in XGBoost 1.3.0, the default evaluation metric used with the objective 'binary:logistic' was changed from 'error' to 'logloss'. Explicitly set eval_metric if you'd like to restore the old behavior.\n",
      "[07:38:47] WARNING: C:/Users/Administrator/workspace/xgboost-win64_release_1.3.0/src/learner.cc:1061: Starting in XGBoost 1.3.0, the default evaluation metric used with the objective 'binary:logistic' was changed from 'error' to 'logloss'. Explicitly set eval_metric if you'd like to restore the old behavior.\n",
      "[07:38:47] WARNING: C:/Users/Administrator/workspace/xgboost-win64_release_1.3.0/src/learner.cc:1061: Starting in XGBoost 1.3.0, the default evaluation metric used with the objective 'binary:logistic' was changed from 'error' to 'logloss'. Explicitly set eval_metric if you'd like to restore the old behavior.\n",
      "[07:38:47] WARNING: C:/Users/Administrator/workspace/xgboost-win64_release_1.3.0/src/learner.cc:1061: Starting in XGBoost 1.3.0, the default evaluation metric used with the objective 'binary:logistic' was changed from 'error' to 'logloss'. Explicitly set eval_metric if you'd like to restore the old behavior.\n",
      "[07:38:47] WARNING: C:/Users/Administrator/workspace/xgboost-win64_release_1.3.0/src/learner.cc:1061: Starting in XGBoost 1.3.0, the default evaluation metric used with the objective 'binary:logistic' was changed from 'error' to 'logloss'. Explicitly set eval_metric if you'd like to restore the old behavior.\n",
      "[07:38:48] WARNING: C:/Users/Administrator/workspace/xgboost-win64_release_1.3.0/src/learner.cc:1061: Starting in XGBoost 1.3.0, the default evaluation metric used with the objective 'binary:logistic' was changed from 'error' to 'logloss'. Explicitly set eval_metric if you'd like to restore the old behavior.\n",
      "[07:38:48] WARNING: C:/Users/Administrator/workspace/xgboost-win64_release_1.3.0/src/learner.cc:1061: Starting in XGBoost 1.3.0, the default evaluation metric used with the objective 'binary:logistic' was changed from 'error' to 'logloss'. Explicitly set eval_metric if you'd like to restore the old behavior.\n",
      "[07:38:48] WARNING: C:/Users/Administrator/workspace/xgboost-win64_release_1.3.0/src/learner.cc:1061: Starting in XGBoost 1.3.0, the default evaluation metric used with the objective 'binary:logistic' was changed from 'error' to 'logloss'. Explicitly set eval_metric if you'd like to restore the old behavior.\n",
      "[07:38:49] WARNING: C:/Users/Administrator/workspace/xgboost-win64_release_1.3.0/src/learner.cc:1061: Starting in XGBoost 1.3.0, the default evaluation metric used with the objective 'binary:logistic' was changed from 'error' to 'logloss'. Explicitly set eval_metric if you'd like to restore the old behavior.\n",
      "[07:38:49] WARNING: C:/Users/Administrator/workspace/xgboost-win64_release_1.3.0/src/learner.cc:1061: Starting in XGBoost 1.3.0, the default evaluation metric used with the objective 'binary:logistic' was changed from 'error' to 'logloss'. Explicitly set eval_metric if you'd like to restore the old behavior.\n",
      "[07:38:49] WARNING: C:/Users/Administrator/workspace/xgboost-win64_release_1.3.0/src/learner.cc:1061: Starting in XGBoost 1.3.0, the default evaluation metric used with the objective 'binary:logistic' was changed from 'error' to 'logloss'. Explicitly set eval_metric if you'd like to restore the old behavior.\n",
      "[07:38:49] WARNING: C:/Users/Administrator/workspace/xgboost-win64_release_1.3.0/src/learner.cc:1061: Starting in XGBoost 1.3.0, the default evaluation metric used with the objective 'binary:logistic' was changed from 'error' to 'logloss'. Explicitly set eval_metric if you'd like to restore the old behavior.\n",
      "[07:38:49] WARNING: C:/Users/Administrator/workspace/xgboost-win64_release_1.3.0/src/learner.cc:1061: Starting in XGBoost 1.3.0, the default evaluation metric used with the objective 'binary:logistic' was changed from 'error' to 'logloss'. Explicitly set eval_metric if you'd like to restore the old behavior.\n",
      "[07:38:49] WARNING: C:/Users/Administrator/workspace/xgboost-win64_release_1.3.0/src/learner.cc:1061: Starting in XGBoost 1.3.0, the default evaluation metric used with the objective 'binary:logistic' was changed from 'error' to 'logloss'. Explicitly set eval_metric if you'd like to restore the old behavior.\n",
      "[07:38:49] WARNING: C:/Users/Administrator/workspace/xgboost-win64_release_1.3.0/src/learner.cc:1061: Starting in XGBoost 1.3.0, the default evaluation metric used with the objective 'binary:logistic' was changed from 'error' to 'logloss'. Explicitly set eval_metric if you'd like to restore the old behavior.\n",
      "[07:38:49] WARNING: C:/Users/Administrator/workspace/xgboost-win64_release_1.3.0/src/learner.cc:1061: Starting in XGBoost 1.3.0, the default evaluation metric used with the objective 'binary:logistic' was changed from 'error' to 'logloss'. Explicitly set eval_metric if you'd like to restore the old behavior.\n",
      "[07:38:49] WARNING: C:/Users/Administrator/workspace/xgboost-win64_release_1.3.0/src/learner.cc:1061: Starting in XGBoost 1.3.0, the default evaluation metric used with the objective 'binary:logistic' was changed from 'error' to 'logloss'. Explicitly set eval_metric if you'd like to restore the old behavior.\n",
      "[07:38:50] WARNING: C:/Users/Administrator/workspace/xgboost-win64_release_1.3.0/src/learner.cc:1061: Starting in XGBoost 1.3.0, the default evaluation metric used with the objective 'binary:logistic' was changed from 'error' to 'logloss'. Explicitly set eval_metric if you'd like to restore the old behavior.\n",
      "[07:38:50] WARNING: C:/Users/Administrator/workspace/xgboost-win64_release_1.3.0/src/learner.cc:1061: Starting in XGBoost 1.3.0, the default evaluation metric used with the objective 'binary:logistic' was changed from 'error' to 'logloss'. Explicitly set eval_metric if you'd like to restore the old behavior.\n",
      "[07:38:50] WARNING: C:/Users/Administrator/workspace/xgboost-win64_release_1.3.0/src/learner.cc:1061: Starting in XGBoost 1.3.0, the default evaluation metric used with the objective 'binary:logistic' was changed from 'error' to 'logloss'. Explicitly set eval_metric if you'd like to restore the old behavior.\n",
      "[07:38:50] WARNING: C:/Users/Administrator/workspace/xgboost-win64_release_1.3.0/src/learner.cc:1061: Starting in XGBoost 1.3.0, the default evaluation metric used with the objective 'binary:logistic' was changed from 'error' to 'logloss'. Explicitly set eval_metric if you'd like to restore the old behavior.\n",
      "[07:38:50] WARNING: C:/Users/Administrator/workspace/xgboost-win64_release_1.3.0/src/learner.cc:1061: Starting in XGBoost 1.3.0, the default evaluation metric used with the objective 'binary:logistic' was changed from 'error' to 'logloss'. Explicitly set eval_metric if you'd like to restore the old behavior.\n",
      "[07:38:50] WARNING: C:/Users/Administrator/workspace/xgboost-win64_release_1.3.0/src/learner.cc:1061: Starting in XGBoost 1.3.0, the default evaluation metric used with the objective 'binary:logistic' was changed from 'error' to 'logloss'. Explicitly set eval_metric if you'd like to restore the old behavior.\n",
      "[07:38:50] WARNING: C:/Users/Administrator/workspace/xgboost-win64_release_1.3.0/src/learner.cc:1061: Starting in XGBoost 1.3.0, the default evaluation metric used with the objective 'binary:logistic' was changed from 'error' to 'logloss'. Explicitly set eval_metric if you'd like to restore the old behavior.\n",
      "[07:38:50] WARNING: C:/Users/Administrator/workspace/xgboost-win64_release_1.3.0/src/learner.cc:1061: Starting in XGBoost 1.3.0, the default evaluation metric used with the objective 'binary:logistic' was changed from 'error' to 'logloss'. Explicitly set eval_metric if you'd like to restore the old behavior.\n",
      "[07:38:51] WARNING: C:/Users/Administrator/workspace/xgboost-win64_release_1.3.0/src/learner.cc:1061: Starting in XGBoost 1.3.0, the default evaluation metric used with the objective 'binary:logistic' was changed from 'error' to 'logloss'. Explicitly set eval_metric if you'd like to restore the old behavior.\n",
      "\n",
      "проверяем признаки повторно ...\n"
     ]
    },
    {
     "data": {
      "application/vnd.jupyter.widget-view+json": {
       "model_id": "ed818d2ef5e34d79b9e7fa7f111463db",
       "version_major": 2,
       "version_minor": 0
      },
      "text/plain": [
       "HBox(children=(FloatProgress(value=0.0, max=5.0), HTML(value='')))"
      ]
     },
     "metadata": {},
     "output_type": "display_data"
    },
    {
     "name": "stdout",
     "output_type": "stream",
     "text": [
      "[07:38:51] WARNING: C:/Users/Administrator/workspace/xgboost-win64_release_1.3.0/src/learner.cc:1061: Starting in XGBoost 1.3.0, the default evaluation metric used with the objective 'binary:logistic' was changed from 'error' to 'logloss'. Explicitly set eval_metric if you'd like to restore the old behavior.\n",
      "[07:38:51] WARNING: C:/Users/Administrator/workspace/xgboost-win64_release_1.3.0/src/learner.cc:1061: Starting in XGBoost 1.3.0, the default evaluation metric used with the objective 'binary:logistic' was changed from 'error' to 'logloss'. Explicitly set eval_metric if you'd like to restore the old behavior.\n",
      "[07:38:51] WARNING: C:/Users/Administrator/workspace/xgboost-win64_release_1.3.0/src/learner.cc:1061: Starting in XGBoost 1.3.0, the default evaluation metric used with the objective 'binary:logistic' was changed from 'error' to 'logloss'. Explicitly set eval_metric if you'd like to restore the old behavior.\n",
      "[07:38:51] WARNING: C:/Users/Administrator/workspace/xgboost-win64_release_1.3.0/src/learner.cc:1061: Starting in XGBoost 1.3.0, the default evaluation metric used with the objective 'binary:logistic' was changed from 'error' to 'logloss'. Explicitly set eval_metric if you'd like to restore the old behavior.\n",
      "[07:38:52] WARNING: C:/Users/Administrator/workspace/xgboost-win64_release_1.3.0/src/learner.cc:1061: Starting in XGBoost 1.3.0, the default evaluation metric used with the objective 'binary:logistic' was changed from 'error' to 'logloss'. Explicitly set eval_metric if you'd like to restore the old behavior.\n",
      "[07:38:52] WARNING: C:/Users/Administrator/workspace/xgboost-win64_release_1.3.0/src/learner.cc:1061: Starting in XGBoost 1.3.0, the default evaluation metric used with the objective 'binary:logistic' was changed from 'error' to 'logloss'. Explicitly set eval_metric if you'd like to restore the old behavior.\n",
      "[07:38:52] WARNING: C:/Users/Administrator/workspace/xgboost-win64_release_1.3.0/src/learner.cc:1061: Starting in XGBoost 1.3.0, the default evaluation metric used with the objective 'binary:logistic' was changed from 'error' to 'logloss'. Explicitly set eval_metric if you'd like to restore the old behavior.\n",
      "[07:38:53] WARNING: C:/Users/Administrator/workspace/xgboost-win64_release_1.3.0/src/learner.cc:1061: Starting in XGBoost 1.3.0, the default evaluation metric used with the objective 'binary:logistic' was changed from 'error' to 'logloss'. Explicitly set eval_metric if you'd like to restore the old behavior.\n",
      "[07:38:53] WARNING: C:/Users/Administrator/workspace/xgboost-win64_release_1.3.0/src/learner.cc:1061: Starting in XGBoost 1.3.0, the default evaluation metric used with the objective 'binary:logistic' was changed from 'error' to 'logloss'. Explicitly set eval_metric if you'd like to restore the old behavior.\n",
      "[07:38:53] WARNING: C:/Users/Administrator/workspace/xgboost-win64_release_1.3.0/src/learner.cc:1061: Starting in XGBoost 1.3.0, the default evaluation metric used with the objective 'binary:logistic' was changed from 'error' to 'logloss'. Explicitly set eval_metric if you'd like to restore the old behavior.\n",
      "[07:38:53] WARNING: C:/Users/Administrator/workspace/xgboost-win64_release_1.3.0/src/learner.cc:1061: Starting in XGBoost 1.3.0, the default evaluation metric used with the objective 'binary:logistic' was changed from 'error' to 'logloss'. Explicitly set eval_metric if you'd like to restore the old behavior.\n",
      "[07:38:54] WARNING: C:/Users/Administrator/workspace/xgboost-win64_release_1.3.0/src/learner.cc:1061: Starting in XGBoost 1.3.0, the default evaluation metric used with the objective 'binary:logistic' was changed from 'error' to 'logloss'. Explicitly set eval_metric if you'd like to restore the old behavior.\n",
      "[07:38:54] WARNING: C:/Users/Administrator/workspace/xgboost-win64_release_1.3.0/src/learner.cc:1061: Starting in XGBoost 1.3.0, the default evaluation metric used with the objective 'binary:logistic' was changed from 'error' to 'logloss'. Explicitly set eval_metric if you'd like to restore the old behavior.\n",
      "[07:38:54] WARNING: C:/Users/Administrator/workspace/xgboost-win64_release_1.3.0/src/learner.cc:1061: Starting in XGBoost 1.3.0, the default evaluation metric used with the objective 'binary:logistic' was changed from 'error' to 'logloss'. Explicitly set eval_metric if you'd like to restore the old behavior.\n",
      "[07:38:54] WARNING: C:/Users/Administrator/workspace/xgboost-win64_release_1.3.0/src/learner.cc:1061: Starting in XGBoost 1.3.0, the default evaluation metric used with the objective 'binary:logistic' was changed from 'error' to 'logloss'. Explicitly set eval_metric if you'd like to restore the old behavior.\n",
      "\n",
      "валидируем признаки ...\n"
     ]
    },
    {
     "data": {
      "application/vnd.jupyter.widget-view+json": {
       "model_id": "8ff7d95a977949fb957dc83e1638ceee",
       "version_major": 2,
       "version_minor": 0
      },
      "text/plain": [
       "HBox(children=(FloatProgress(value=0.0, max=11.0), HTML(value='')))"
      ]
     },
     "metadata": {},
     "output_type": "display_data"
    },
    {
     "name": "stdout",
     "output_type": "stream",
     "text": [
      "\n",
      "добавляем признаки в порядке убывания валидации ...\n"
     ]
    },
    {
     "data": {
      "application/vnd.jupyter.widget-view+json": {
       "model_id": "04653818a4584fd4a2cd59381d0e6c78",
       "version_major": 2,
       "version_minor": 0
      },
      "text/plain": [
       "HBox(children=(FloatProgress(value=0.0, max=11.0), HTML(value='')))"
      ]
     },
     "metadata": {},
     "output_type": "display_data"
    },
    {
     "name": "stdout",
     "output_type": "stream",
     "text": [
      "\n",
      "проверяем признаки повторно ...\n"
     ]
    },
    {
     "data": {
      "application/vnd.jupyter.widget-view+json": {
       "model_id": "04ca02b181d14884a10c65d556ef62d0",
       "version_major": 2,
       "version_minor": 0
      },
      "text/plain": [
       "HBox(children=(FloatProgress(value=0.0, max=3.0), HTML(value='')))"
      ]
     },
     "metadata": {},
     "output_type": "display_data"
    },
    {
     "name": "stdout",
     "output_type": "stream",
     "text": [
      "\n",
      "\n"
     ]
    },
    {
     "data": {
      "application/vnd.jupyter.widget-view+json": {
       "model_id": "b577530e59db4c4880b6841e9b723a36",
       "version_major": 2,
       "version_minor": 0
      },
      "text/plain": [
       "HBox(children=(FloatProgress(value=0.0, max=5.0), HTML(value='')))"
      ]
     },
     "metadata": {},
     "output_type": "display_data"
    },
    {
     "name": "stdout",
     "output_type": "stream",
     "text": [
      "валидируем признаки ...\n"
     ]
    },
    {
     "data": {
      "application/vnd.jupyter.widget-view+json": {
       "model_id": "c9414b791a8e4f489aa3e8a5307abfb7",
       "version_major": 2,
       "version_minor": 0
      },
      "text/plain": [
       "HBox(children=(FloatProgress(value=0.0, max=11.0), HTML(value='')))"
      ]
     },
     "metadata": {},
     "output_type": "display_data"
    },
    {
     "name": "stdout",
     "output_type": "stream",
     "text": [
      "\n",
      "добавляем признаки в порядке убывания валидации ...\n"
     ]
    },
    {
     "data": {
      "application/vnd.jupyter.widget-view+json": {
       "model_id": "c78ec51bf828421eaed8f6a5ee79bdbd",
       "version_major": 2,
       "version_minor": 0
      },
      "text/plain": [
       "HBox(children=(FloatProgress(value=0.0, max=11.0), HTML(value='')))"
      ]
     },
     "metadata": {},
     "output_type": "display_data"
    },
    {
     "name": "stdout",
     "output_type": "stream",
     "text": [
      "\n",
      "проверяем признаки повторно ...\n"
     ]
    },
    {
     "data": {
      "application/vnd.jupyter.widget-view+json": {
       "model_id": "ca3b99956263428e9f334f748877c0f0",
       "version_major": 2,
       "version_minor": 0
      },
      "text/plain": [
       "HBox(children=(FloatProgress(value=0.0, max=3.0), HTML(value='')))"
      ]
     },
     "metadata": {},
     "output_type": "display_data"
    },
    {
     "name": "stdout",
     "output_type": "stream",
     "text": [
      "\n",
      "валидируем признаки ...\n"
     ]
    },
    {
     "data": {
      "application/vnd.jupyter.widget-view+json": {
       "model_id": "cad9d03ae31840f2a7f92791cdf53a2a",
       "version_major": 2,
       "version_minor": 0
      },
      "text/plain": [
       "HBox(children=(FloatProgress(value=0.0, max=11.0), HTML(value='')))"
      ]
     },
     "metadata": {},
     "output_type": "display_data"
    },
    {
     "name": "stdout",
     "output_type": "stream",
     "text": [
      "\n",
      "добавляем признаки в порядке убывания валидации ...\n"
     ]
    },
    {
     "data": {
      "application/vnd.jupyter.widget-view+json": {
       "model_id": "3d27ec3a5ce14dbb916b74d3ce241b93",
       "version_major": 2,
       "version_minor": 0
      },
      "text/plain": [
       "HBox(children=(FloatProgress(value=0.0, max=11.0), HTML(value='')))"
      ]
     },
     "metadata": {},
     "output_type": "display_data"
    },
    {
     "name": "stdout",
     "output_type": "stream",
     "text": [
      "\n",
      "проверяем признаки повторно ...\n"
     ]
    },
    {
     "data": {
      "application/vnd.jupyter.widget-view+json": {
       "model_id": "029106e9216649279e354c8a7750a1d7",
       "version_major": 2,
       "version_minor": 0
      },
      "text/plain": [
       "HBox(children=(FloatProgress(value=0.0, max=4.0), HTML(value='')))"
      ]
     },
     "metadata": {},
     "output_type": "display_data"
    },
    {
     "name": "stdout",
     "output_type": "stream",
     "text": [
      "\n",
      "валидируем признаки ...\n"
     ]
    },
    {
     "data": {
      "application/vnd.jupyter.widget-view+json": {
       "model_id": "cce84e11e0dc4d3489df1dde9e220741",
       "version_major": 2,
       "version_minor": 0
      },
      "text/plain": [
       "HBox(children=(FloatProgress(value=0.0, max=2715.0), HTML(value='')))"
      ]
     },
     "metadata": {},
     "output_type": "display_data"
    },
    {
     "name": "stdout",
     "output_type": "stream",
     "text": [
      "\n",
      "добавляем признаки в порядке убывания валидации ...\n"
     ]
    },
    {
     "data": {
      "application/vnd.jupyter.widget-view+json": {
       "model_id": "8e14cbe3adb4418088b82b3f3d96f175",
       "version_major": 2,
       "version_minor": 0
      },
      "text/plain": [
       "HBox(children=(FloatProgress(value=0.0, max=2715.0), HTML(value='')))"
      ]
     },
     "metadata": {},
     "output_type": "display_data"
    },
    {
     "name": "stdout",
     "output_type": "stream",
     "text": [
      "\n",
      "проверяем признаки повторно ...\n"
     ]
    },
    {
     "data": {
      "application/vnd.jupyter.widget-view+json": {
       "model_id": "1eac6865a31f48ec83175937836432b7",
       "version_major": 2,
       "version_minor": 0
      },
      "text/plain": [
       "HBox(children=(FloatProgress(value=0.0, max=2645.0), HTML(value='')))"
      ]
     },
     "metadata": {},
     "output_type": "display_data"
    },
    {
     "name": "stdout",
     "output_type": "stream",
     "text": [
      "\n",
      "валидируем признаки ...\n"
     ]
    },
    {
     "data": {
      "application/vnd.jupyter.widget-view+json": {
       "model_id": "39cc46504df94fb190e6ead493f0202c",
       "version_major": 2,
       "version_minor": 0
      },
      "text/plain": [
       "HBox(children=(FloatProgress(value=0.0, max=11.0), HTML(value='')))"
      ]
     },
     "metadata": {},
     "output_type": "display_data"
    },
    {
     "name": "stdout",
     "output_type": "stream",
     "text": [
      "[08:00:16] WARNING: C:/Users/Administrator/workspace/xgboost-win64_release_1.3.0/src/learner.cc:1061: Starting in XGBoost 1.3.0, the default evaluation metric used with the objective 'binary:logistic' was changed from 'error' to 'logloss'. Explicitly set eval_metric if you'd like to restore the old behavior.\n",
      "[08:00:16] WARNING: C:/Users/Administrator/workspace/xgboost-win64_release_1.3.0/src/learner.cc:1061: Starting in XGBoost 1.3.0, the default evaluation metric used with the objective 'binary:logistic' was changed from 'error' to 'logloss'. Explicitly set eval_metric if you'd like to restore the old behavior.\n",
      "[08:00:16] WARNING: C:/Users/Administrator/workspace/xgboost-win64_release_1.3.0/src/learner.cc:1061: Starting in XGBoost 1.3.0, the default evaluation metric used with the objective 'binary:logistic' was changed from 'error' to 'logloss'. Explicitly set eval_metric if you'd like to restore the old behavior.\n",
      "[08:00:16] WARNING: C:/Users/Administrator/workspace/xgboost-win64_release_1.3.0/src/learner.cc:1061: Starting in XGBoost 1.3.0, the default evaluation metric used with the objective 'binary:logistic' was changed from 'error' to 'logloss'. Explicitly set eval_metric if you'd like to restore the old behavior.\n",
      "[08:00:16] WARNING: C:/Users/Administrator/workspace/xgboost-win64_release_1.3.0/src/learner.cc:1061: Starting in XGBoost 1.3.0, the default evaluation metric used with the objective 'binary:logistic' was changed from 'error' to 'logloss'. Explicitly set eval_metric if you'd like to restore the old behavior.\n",
      "[08:00:17] WARNING: C:/Users/Administrator/workspace/xgboost-win64_release_1.3.0/src/learner.cc:1061: Starting in XGBoost 1.3.0, the default evaluation metric used with the objective 'binary:logistic' was changed from 'error' to 'logloss'. Explicitly set eval_metric if you'd like to restore the old behavior.\n",
      "[08:00:17] WARNING: C:/Users/Administrator/workspace/xgboost-win64_release_1.3.0/src/learner.cc:1061: Starting in XGBoost 1.3.0, the default evaluation metric used with the objective 'binary:logistic' was changed from 'error' to 'logloss'. Explicitly set eval_metric if you'd like to restore the old behavior.\n",
      "[08:00:17] WARNING: C:/Users/Administrator/workspace/xgboost-win64_release_1.3.0/src/learner.cc:1061: Starting in XGBoost 1.3.0, the default evaluation metric used with the objective 'binary:logistic' was changed from 'error' to 'logloss'. Explicitly set eval_metric if you'd like to restore the old behavior.\n",
      "[08:00:17] WARNING: C:/Users/Administrator/workspace/xgboost-win64_release_1.3.0/src/learner.cc:1061: Starting in XGBoost 1.3.0, the default evaluation metric used with the objective 'binary:logistic' was changed from 'error' to 'logloss'. Explicitly set eval_metric if you'd like to restore the old behavior.\n",
      "[08:00:17] WARNING: C:/Users/Administrator/workspace/xgboost-win64_release_1.3.0/src/learner.cc:1061: Starting in XGBoost 1.3.0, the default evaluation metric used with the objective 'binary:logistic' was changed from 'error' to 'logloss'. Explicitly set eval_metric if you'd like to restore the old behavior.\n",
      "[08:00:17] WARNING: C:/Users/Administrator/workspace/xgboost-win64_release_1.3.0/src/learner.cc:1061: Starting in XGBoost 1.3.0, the default evaluation metric used with the objective 'binary:logistic' was changed from 'error' to 'logloss'. Explicitly set eval_metric if you'd like to restore the old behavior.\n",
      "[08:00:17] WARNING: C:/Users/Administrator/workspace/xgboost-win64_release_1.3.0/src/learner.cc:1061: Starting in XGBoost 1.3.0, the default evaluation metric used with the objective 'binary:logistic' was changed from 'error' to 'logloss'. Explicitly set eval_metric if you'd like to restore the old behavior.\n",
      "[08:00:17] WARNING: C:/Users/Administrator/workspace/xgboost-win64_release_1.3.0/src/learner.cc:1061: Starting in XGBoost 1.3.0, the default evaluation metric used with the objective 'binary:logistic' was changed from 'error' to 'logloss'. Explicitly set eval_metric if you'd like to restore the old behavior.\n",
      "[08:00:17] WARNING: C:/Users/Administrator/workspace/xgboost-win64_release_1.3.0/src/learner.cc:1061: Starting in XGBoost 1.3.0, the default evaluation metric used with the objective 'binary:logistic' was changed from 'error' to 'logloss'. Explicitly set eval_metric if you'd like to restore the old behavior.\n",
      "[08:00:17] WARNING: C:/Users/Administrator/workspace/xgboost-win64_release_1.3.0/src/learner.cc:1061: Starting in XGBoost 1.3.0, the default evaluation metric used with the objective 'binary:logistic' was changed from 'error' to 'logloss'. Explicitly set eval_metric if you'd like to restore the old behavior.\n",
      "[08:00:17] WARNING: C:/Users/Administrator/workspace/xgboost-win64_release_1.3.0/src/learner.cc:1061: Starting in XGBoost 1.3.0, the default evaluation metric used with the objective 'binary:logistic' was changed from 'error' to 'logloss'. Explicitly set eval_metric if you'd like to restore the old behavior.\n",
      "[08:00:17] WARNING: C:/Users/Administrator/workspace/xgboost-win64_release_1.3.0/src/learner.cc:1061: Starting in XGBoost 1.3.0, the default evaluation metric used with the objective 'binary:logistic' was changed from 'error' to 'logloss'. Explicitly set eval_metric if you'd like to restore the old behavior.\n",
      "[08:00:17] WARNING: C:/Users/Administrator/workspace/xgboost-win64_release_1.3.0/src/learner.cc:1061: Starting in XGBoost 1.3.0, the default evaluation metric used with the objective 'binary:logistic' was changed from 'error' to 'logloss'. Explicitly set eval_metric if you'd like to restore the old behavior.\n",
      "[08:00:17] WARNING: C:/Users/Administrator/workspace/xgboost-win64_release_1.3.0/src/learner.cc:1061: Starting in XGBoost 1.3.0, the default evaluation metric used with the objective 'binary:logistic' was changed from 'error' to 'logloss'. Explicitly set eval_metric if you'd like to restore the old behavior.\n",
      "[08:00:18] WARNING: C:/Users/Administrator/workspace/xgboost-win64_release_1.3.0/src/learner.cc:1061: Starting in XGBoost 1.3.0, the default evaluation metric used with the objective 'binary:logistic' was changed from 'error' to 'logloss'. Explicitly set eval_metric if you'd like to restore the old behavior.\n",
      "[08:00:18] WARNING: C:/Users/Administrator/workspace/xgboost-win64_release_1.3.0/src/learner.cc:1061: Starting in XGBoost 1.3.0, the default evaluation metric used with the objective 'binary:logistic' was changed from 'error' to 'logloss'. Explicitly set eval_metric if you'd like to restore the old behavior.\n",
      "[08:00:18] WARNING: C:/Users/Administrator/workspace/xgboost-win64_release_1.3.0/src/learner.cc:1061: Starting in XGBoost 1.3.0, the default evaluation metric used with the objective 'binary:logistic' was changed from 'error' to 'logloss'. Explicitly set eval_metric if you'd like to restore the old behavior.\n",
      "[08:00:18] WARNING: C:/Users/Administrator/workspace/xgboost-win64_release_1.3.0/src/learner.cc:1061: Starting in XGBoost 1.3.0, the default evaluation metric used with the objective 'binary:logistic' was changed from 'error' to 'logloss'. Explicitly set eval_metric if you'd like to restore the old behavior.\n",
      "[08:00:18] WARNING: C:/Users/Administrator/workspace/xgboost-win64_release_1.3.0/src/learner.cc:1061: Starting in XGBoost 1.3.0, the default evaluation metric used with the objective 'binary:logistic' was changed from 'error' to 'logloss'. Explicitly set eval_metric if you'd like to restore the old behavior.\n",
      "[08:00:18] WARNING: C:/Users/Administrator/workspace/xgboost-win64_release_1.3.0/src/learner.cc:1061: Starting in XGBoost 1.3.0, the default evaluation metric used with the objective 'binary:logistic' was changed from 'error' to 'logloss'. Explicitly set eval_metric if you'd like to restore the old behavior.\n",
      "[08:00:18] WARNING: C:/Users/Administrator/workspace/xgboost-win64_release_1.3.0/src/learner.cc:1061: Starting in XGBoost 1.3.0, the default evaluation metric used with the objective 'binary:logistic' was changed from 'error' to 'logloss'. Explicitly set eval_metric if you'd like to restore the old behavior.\n",
      "[08:00:18] WARNING: C:/Users/Administrator/workspace/xgboost-win64_release_1.3.0/src/learner.cc:1061: Starting in XGBoost 1.3.0, the default evaluation metric used with the objective 'binary:logistic' was changed from 'error' to 'logloss'. Explicitly set eval_metric if you'd like to restore the old behavior.\n",
      "[08:00:18] WARNING: C:/Users/Administrator/workspace/xgboost-win64_release_1.3.0/src/learner.cc:1061: Starting in XGBoost 1.3.0, the default evaluation metric used with the objective 'binary:logistic' was changed from 'error' to 'logloss'. Explicitly set eval_metric if you'd like to restore the old behavior.\n",
      "[08:00:18] WARNING: C:/Users/Administrator/workspace/xgboost-win64_release_1.3.0/src/learner.cc:1061: Starting in XGBoost 1.3.0, the default evaluation metric used with the objective 'binary:logistic' was changed from 'error' to 'logloss'. Explicitly set eval_metric if you'd like to restore the old behavior.\n",
      "[08:00:19] WARNING: C:/Users/Administrator/workspace/xgboost-win64_release_1.3.0/src/learner.cc:1061: Starting in XGBoost 1.3.0, the default evaluation metric used with the objective 'binary:logistic' was changed from 'error' to 'logloss'. Explicitly set eval_metric if you'd like to restore the old behavior.\n",
      "[08:00:19] WARNING: C:/Users/Administrator/workspace/xgboost-win64_release_1.3.0/src/learner.cc:1061: Starting in XGBoost 1.3.0, the default evaluation metric used with the objective 'binary:logistic' was changed from 'error' to 'logloss'. Explicitly set eval_metric if you'd like to restore the old behavior.\n",
      "[08:00:19] WARNING: C:/Users/Administrator/workspace/xgboost-win64_release_1.3.0/src/learner.cc:1061: Starting in XGBoost 1.3.0, the default evaluation metric used with the objective 'binary:logistic' was changed from 'error' to 'logloss'. Explicitly set eval_metric if you'd like to restore the old behavior.\n",
      "[08:00:19] WARNING: C:/Users/Administrator/workspace/xgboost-win64_release_1.3.0/src/learner.cc:1061: Starting in XGBoost 1.3.0, the default evaluation metric used with the objective 'binary:logistic' was changed from 'error' to 'logloss'. Explicitly set eval_metric if you'd like to restore the old behavior.\n",
      "\n",
      "добавляем признаки в порядке убывания валидации ...\n"
     ]
    },
    {
     "data": {
      "application/vnd.jupyter.widget-view+json": {
       "model_id": "3d2e8b9ab05f4e1e9d851c62ca23cf9b",
       "version_major": 2,
       "version_minor": 0
      },
      "text/plain": [
       "HBox(children=(FloatProgress(value=0.0, max=11.0), HTML(value='')))"
      ]
     },
     "metadata": {},
     "output_type": "display_data"
    },
    {
     "name": "stdout",
     "output_type": "stream",
     "text": [
      "[08:00:19] WARNING: C:/Users/Administrator/workspace/xgboost-win64_release_1.3.0/src/learner.cc:1061: Starting in XGBoost 1.3.0, the default evaluation metric used with the objective 'binary:logistic' was changed from 'error' to 'logloss'. Explicitly set eval_metric if you'd like to restore the old behavior.\n",
      "[08:00:20] WARNING: C:/Users/Administrator/workspace/xgboost-win64_release_1.3.0/src/learner.cc:1061: Starting in XGBoost 1.3.0, the default evaluation metric used with the objective 'binary:logistic' was changed from 'error' to 'logloss'. Explicitly set eval_metric if you'd like to restore the old behavior.\n",
      "[08:00:20] WARNING: C:/Users/Administrator/workspace/xgboost-win64_release_1.3.0/src/learner.cc:1061: Starting in XGBoost 1.3.0, the default evaluation metric used with the objective 'binary:logistic' was changed from 'error' to 'logloss'. Explicitly set eval_metric if you'd like to restore the old behavior.\n",
      "[08:00:20] WARNING: C:/Users/Administrator/workspace/xgboost-win64_release_1.3.0/src/learner.cc:1061: Starting in XGBoost 1.3.0, the default evaluation metric used with the objective 'binary:logistic' was changed from 'error' to 'logloss'. Explicitly set eval_metric if you'd like to restore the old behavior.\n",
      "[08:00:20] WARNING: C:/Users/Administrator/workspace/xgboost-win64_release_1.3.0/src/learner.cc:1061: Starting in XGBoost 1.3.0, the default evaluation metric used with the objective 'binary:logistic' was changed from 'error' to 'logloss'. Explicitly set eval_metric if you'd like to restore the old behavior.\n",
      "[08:00:20] WARNING: C:/Users/Administrator/workspace/xgboost-win64_release_1.3.0/src/learner.cc:1061: Starting in XGBoost 1.3.0, the default evaluation metric used with the objective 'binary:logistic' was changed from 'error' to 'logloss'. Explicitly set eval_metric if you'd like to restore the old behavior.\n",
      "[08:00:20] WARNING: C:/Users/Administrator/workspace/xgboost-win64_release_1.3.0/src/learner.cc:1061: Starting in XGBoost 1.3.0, the default evaluation metric used with the objective 'binary:logistic' was changed from 'error' to 'logloss'. Explicitly set eval_metric if you'd like to restore the old behavior.\n",
      "[08:00:20] WARNING: C:/Users/Administrator/workspace/xgboost-win64_release_1.3.0/src/learner.cc:1061: Starting in XGBoost 1.3.0, the default evaluation metric used with the objective 'binary:logistic' was changed from 'error' to 'logloss'. Explicitly set eval_metric if you'd like to restore the old behavior.\n",
      "[08:00:20] WARNING: C:/Users/Administrator/workspace/xgboost-win64_release_1.3.0/src/learner.cc:1061: Starting in XGBoost 1.3.0, the default evaluation metric used with the objective 'binary:logistic' was changed from 'error' to 'logloss'. Explicitly set eval_metric if you'd like to restore the old behavior.\n",
      "[08:00:20] WARNING: C:/Users/Administrator/workspace/xgboost-win64_release_1.3.0/src/learner.cc:1061: Starting in XGBoost 1.3.0, the default evaluation metric used with the objective 'binary:logistic' was changed from 'error' to 'logloss'. Explicitly set eval_metric if you'd like to restore the old behavior.\n",
      "[08:00:21] WARNING: C:/Users/Administrator/workspace/xgboost-win64_release_1.3.0/src/learner.cc:1061: Starting in XGBoost 1.3.0, the default evaluation metric used with the objective 'binary:logistic' was changed from 'error' to 'logloss'. Explicitly set eval_metric if you'd like to restore the old behavior.\n",
      "[08:00:21] WARNING: C:/Users/Administrator/workspace/xgboost-win64_release_1.3.0/src/learner.cc:1061: Starting in XGBoost 1.3.0, the default evaluation metric used with the objective 'binary:logistic' was changed from 'error' to 'logloss'. Explicitly set eval_metric if you'd like to restore the old behavior.\n",
      "[08:00:21] WARNING: C:/Users/Administrator/workspace/xgboost-win64_release_1.3.0/src/learner.cc:1061: Starting in XGBoost 1.3.0, the default evaluation metric used with the objective 'binary:logistic' was changed from 'error' to 'logloss'. Explicitly set eval_metric if you'd like to restore the old behavior.\n",
      "[08:00:21] WARNING: C:/Users/Administrator/workspace/xgboost-win64_release_1.3.0/src/learner.cc:1061: Starting in XGBoost 1.3.0, the default evaluation metric used with the objective 'binary:logistic' was changed from 'error' to 'logloss'. Explicitly set eval_metric if you'd like to restore the old behavior.\n",
      "[08:00:21] WARNING: C:/Users/Administrator/workspace/xgboost-win64_release_1.3.0/src/learner.cc:1061: Starting in XGBoost 1.3.0, the default evaluation metric used with the objective 'binary:logistic' was changed from 'error' to 'logloss'. Explicitly set eval_metric if you'd like to restore the old behavior.\n",
      "[08:00:21] WARNING: C:/Users/Administrator/workspace/xgboost-win64_release_1.3.0/src/learner.cc:1061: Starting in XGBoost 1.3.0, the default evaluation metric used with the objective 'binary:logistic' was changed from 'error' to 'logloss'. Explicitly set eval_metric if you'd like to restore the old behavior.\n",
      "[08:00:21] WARNING: C:/Users/Administrator/workspace/xgboost-win64_release_1.3.0/src/learner.cc:1061: Starting in XGBoost 1.3.0, the default evaluation metric used with the objective 'binary:logistic' was changed from 'error' to 'logloss'. Explicitly set eval_metric if you'd like to restore the old behavior.\n",
      "[08:00:22] WARNING: C:/Users/Administrator/workspace/xgboost-win64_release_1.3.0/src/learner.cc:1061: Starting in XGBoost 1.3.0, the default evaluation metric used with the objective 'binary:logistic' was changed from 'error' to 'logloss'. Explicitly set eval_metric if you'd like to restore the old behavior.\n",
      "[08:00:22] WARNING: C:/Users/Administrator/workspace/xgboost-win64_release_1.3.0/src/learner.cc:1061: Starting in XGBoost 1.3.0, the default evaluation metric used with the objective 'binary:logistic' was changed from 'error' to 'logloss'. Explicitly set eval_metric if you'd like to restore the old behavior.\n",
      "[08:00:22] WARNING: C:/Users/Administrator/workspace/xgboost-win64_release_1.3.0/src/learner.cc:1061: Starting in XGBoost 1.3.0, the default evaluation metric used with the objective 'binary:logistic' was changed from 'error' to 'logloss'. Explicitly set eval_metric if you'd like to restore the old behavior.\n",
      "[08:00:22] WARNING: C:/Users/Administrator/workspace/xgboost-win64_release_1.3.0/src/learner.cc:1061: Starting in XGBoost 1.3.0, the default evaluation metric used with the objective 'binary:logistic' was changed from 'error' to 'logloss'. Explicitly set eval_metric if you'd like to restore the old behavior.\n",
      "[08:00:23] WARNING: C:/Users/Administrator/workspace/xgboost-win64_release_1.3.0/src/learner.cc:1061: Starting in XGBoost 1.3.0, the default evaluation metric used with the objective 'binary:logistic' was changed from 'error' to 'logloss'. Explicitly set eval_metric if you'd like to restore the old behavior.\n",
      "[08:00:23] WARNING: C:/Users/Administrator/workspace/xgboost-win64_release_1.3.0/src/learner.cc:1061: Starting in XGBoost 1.3.0, the default evaluation metric used with the objective 'binary:logistic' was changed from 'error' to 'logloss'. Explicitly set eval_metric if you'd like to restore the old behavior.\n",
      "[08:00:23] WARNING: C:/Users/Administrator/workspace/xgboost-win64_release_1.3.0/src/learner.cc:1061: Starting in XGBoost 1.3.0, the default evaluation metric used with the objective 'binary:logistic' was changed from 'error' to 'logloss'. Explicitly set eval_metric if you'd like to restore the old behavior.\n",
      "[08:00:23] WARNING: C:/Users/Administrator/workspace/xgboost-win64_release_1.3.0/src/learner.cc:1061: Starting in XGBoost 1.3.0, the default evaluation metric used with the objective 'binary:logistic' was changed from 'error' to 'logloss'. Explicitly set eval_metric if you'd like to restore the old behavior.\n",
      "[08:00:24] WARNING: C:/Users/Administrator/workspace/xgboost-win64_release_1.3.0/src/learner.cc:1061: Starting in XGBoost 1.3.0, the default evaluation metric used with the objective 'binary:logistic' was changed from 'error' to 'logloss'. Explicitly set eval_metric if you'd like to restore the old behavior.\n",
      "[08:00:24] WARNING: C:/Users/Administrator/workspace/xgboost-win64_release_1.3.0/src/learner.cc:1061: Starting in XGBoost 1.3.0, the default evaluation metric used with the objective 'binary:logistic' was changed from 'error' to 'logloss'. Explicitly set eval_metric if you'd like to restore the old behavior.\n",
      "[08:00:24] WARNING: C:/Users/Administrator/workspace/xgboost-win64_release_1.3.0/src/learner.cc:1061: Starting in XGBoost 1.3.0, the default evaluation metric used with the objective 'binary:logistic' was changed from 'error' to 'logloss'. Explicitly set eval_metric if you'd like to restore the old behavior.\n",
      "[08:00:24] WARNING: C:/Users/Administrator/workspace/xgboost-win64_release_1.3.0/src/learner.cc:1061: Starting in XGBoost 1.3.0, the default evaluation metric used with the objective 'binary:logistic' was changed from 'error' to 'logloss'. Explicitly set eval_metric if you'd like to restore the old behavior.\n",
      "[08:00:25] WARNING: C:/Users/Administrator/workspace/xgboost-win64_release_1.3.0/src/learner.cc:1061: Starting in XGBoost 1.3.0, the default evaluation metric used with the objective 'binary:logistic' was changed from 'error' to 'logloss'. Explicitly set eval_metric if you'd like to restore the old behavior.\n",
      "[08:00:25] WARNING: C:/Users/Administrator/workspace/xgboost-win64_release_1.3.0/src/learner.cc:1061: Starting in XGBoost 1.3.0, the default evaluation metric used with the objective 'binary:logistic' was changed from 'error' to 'logloss'. Explicitly set eval_metric if you'd like to restore the old behavior.\n",
      "[08:00:25] WARNING: C:/Users/Administrator/workspace/xgboost-win64_release_1.3.0/src/learner.cc:1061: Starting in XGBoost 1.3.0, the default evaluation metric used with the objective 'binary:logistic' was changed from 'error' to 'logloss'. Explicitly set eval_metric if you'd like to restore the old behavior.\n",
      "[08:00:25] WARNING: C:/Users/Administrator/workspace/xgboost-win64_release_1.3.0/src/learner.cc:1061: Starting in XGBoost 1.3.0, the default evaluation metric used with the objective 'binary:logistic' was changed from 'error' to 'logloss'. Explicitly set eval_metric if you'd like to restore the old behavior.\n",
      "\n",
      "проверяем признаки повторно ...\n"
     ]
    },
    {
     "data": {
      "application/vnd.jupyter.widget-view+json": {
       "model_id": "c81bbe5125c046cba0b4d17736744847",
       "version_major": 2,
       "version_minor": 0
      },
      "text/plain": [
       "HBox(children=(FloatProgress(value=0.0, max=4.0), HTML(value='')))"
      ]
     },
     "metadata": {},
     "output_type": "display_data"
    },
    {
     "name": "stdout",
     "output_type": "stream",
     "text": [
      "[08:00:26] WARNING: C:/Users/Administrator/workspace/xgboost-win64_release_1.3.0/src/learner.cc:1061: Starting in XGBoost 1.3.0, the default evaluation metric used with the objective 'binary:logistic' was changed from 'error' to 'logloss'. Explicitly set eval_metric if you'd like to restore the old behavior.\n",
      "[08:00:26] WARNING: C:/Users/Administrator/workspace/xgboost-win64_release_1.3.0/src/learner.cc:1061: Starting in XGBoost 1.3.0, the default evaluation metric used with the objective 'binary:logistic' was changed from 'error' to 'logloss'. Explicitly set eval_metric if you'd like to restore the old behavior.\n",
      "[08:00:26] WARNING: C:/Users/Administrator/workspace/xgboost-win64_release_1.3.0/src/learner.cc:1061: Starting in XGBoost 1.3.0, the default evaluation metric used with the objective 'binary:logistic' was changed from 'error' to 'logloss'. Explicitly set eval_metric if you'd like to restore the old behavior.\n",
      "[08:00:26] WARNING: C:/Users/Administrator/workspace/xgboost-win64_release_1.3.0/src/learner.cc:1061: Starting in XGBoost 1.3.0, the default evaluation metric used with the objective 'binary:logistic' was changed from 'error' to 'logloss'. Explicitly set eval_metric if you'd like to restore the old behavior.\n",
      "[08:00:27] WARNING: C:/Users/Administrator/workspace/xgboost-win64_release_1.3.0/src/learner.cc:1061: Starting in XGBoost 1.3.0, the default evaluation metric used with the objective 'binary:logistic' was changed from 'error' to 'logloss'. Explicitly set eval_metric if you'd like to restore the old behavior.\n",
      "[08:00:27] WARNING: C:/Users/Administrator/workspace/xgboost-win64_release_1.3.0/src/learner.cc:1061: Starting in XGBoost 1.3.0, the default evaluation metric used with the objective 'binary:logistic' was changed from 'error' to 'logloss'. Explicitly set eval_metric if you'd like to restore the old behavior.\n",
      "[08:00:27] WARNING: C:/Users/Administrator/workspace/xgboost-win64_release_1.3.0/src/learner.cc:1061: Starting in XGBoost 1.3.0, the default evaluation metric used with the objective 'binary:logistic' was changed from 'error' to 'logloss'. Explicitly set eval_metric if you'd like to restore the old behavior.\n",
      "[08:00:27] WARNING: C:/Users/Administrator/workspace/xgboost-win64_release_1.3.0/src/learner.cc:1061: Starting in XGBoost 1.3.0, the default evaluation metric used with the objective 'binary:logistic' was changed from 'error' to 'logloss'. Explicitly set eval_metric if you'd like to restore the old behavior.\n",
      "[08:00:28] WARNING: C:/Users/Administrator/workspace/xgboost-win64_release_1.3.0/src/learner.cc:1061: Starting in XGBoost 1.3.0, the default evaluation metric used with the objective 'binary:logistic' was changed from 'error' to 'logloss'. Explicitly set eval_metric if you'd like to restore the old behavior.\n",
      "[08:00:28] WARNING: C:/Users/Administrator/workspace/xgboost-win64_release_1.3.0/src/learner.cc:1061: Starting in XGBoost 1.3.0, the default evaluation metric used with the objective 'binary:logistic' was changed from 'error' to 'logloss'. Explicitly set eval_metric if you'd like to restore the old behavior.\n",
      "[08:00:28] WARNING: C:/Users/Administrator/workspace/xgboost-win64_release_1.3.0/src/learner.cc:1061: Starting in XGBoost 1.3.0, the default evaluation metric used with the objective 'binary:logistic' was changed from 'error' to 'logloss'. Explicitly set eval_metric if you'd like to restore the old behavior.\n",
      "[08:00:28] WARNING: C:/Users/Administrator/workspace/xgboost-win64_release_1.3.0/src/learner.cc:1061: Starting in XGBoost 1.3.0, the default evaluation metric used with the objective 'binary:logistic' was changed from 'error' to 'logloss'. Explicitly set eval_metric if you'd like to restore the old behavior.\n",
      "\n",
      "валидируем признаки ...\n"
     ]
    },
    {
     "data": {
      "application/vnd.jupyter.widget-view+json": {
       "model_id": "abaaef417be04638b840566479f60842",
       "version_major": 2,
       "version_minor": 0
      },
      "text/plain": [
       "HBox(children=(FloatProgress(value=0.0, max=11.0), HTML(value='')))"
      ]
     },
     "metadata": {},
     "output_type": "display_data"
    },
    {
     "name": "stdout",
     "output_type": "stream",
     "text": [
      "\n",
      "добавляем признаки в порядке убывания валидации ...\n"
     ]
    },
    {
     "data": {
      "application/vnd.jupyter.widget-view+json": {
       "model_id": "b1d47147387d400e82dba5374697ada3",
       "version_major": 2,
       "version_minor": 0
      },
      "text/plain": [
       "HBox(children=(FloatProgress(value=0.0, max=11.0), HTML(value='')))"
      ]
     },
     "metadata": {},
     "output_type": "display_data"
    },
    {
     "name": "stdout",
     "output_type": "stream",
     "text": [
      "\n",
      "проверяем признаки повторно ...\n"
     ]
    },
    {
     "data": {
      "application/vnd.jupyter.widget-view+json": {
       "model_id": "9bd53fdf631e48829c090ccbd2a7f5dd",
       "version_major": 2,
       "version_minor": 0
      },
      "text/plain": [
       "HBox(children=(FloatProgress(value=0.0, max=4.0), HTML(value='')))"
      ]
     },
     "metadata": {},
     "output_type": "display_data"
    },
    {
     "name": "stdout",
     "output_type": "stream",
     "text": [
      "\n",
      "\n"
     ]
    }
   ],
   "source": [
    "D = defaultdict(list)\n",
    "for metric in ('f1', 'roc_auc'):\n",
    "    for est, est_name, _X in tqdm_notebook((\n",
    "                                            (lgb_est, 'lgb', X_TR),\\\n",
    "                                            (rf_est, 'rf', X_TR),\\\n",
    "                                            (logit_est, 'logit', X_ohe_TR),\\\n",
    "                                            (xgb_est, 'xgb', X_TR),\\\n",
    "                                            (cb_est, 'cb', X_TR)\n",
    "                                           )\n",
    "                                          ):\n",
    "        best_score, best_features, X_best_TR = _select_features(est, _X, Y_TR, cv = kf3, scoring = metric)\n",
    "        D[metric].append((est_name, best_score, best_features, X_best_TR))        "
   ]
  },
  {
   "cell_type": "code",
   "execution_count": 70,
   "metadata": {},
   "outputs": [
    {
     "name": "stdout",
     "output_type": "stream",
     "text": [
      "модель | кол-во признаков |     f1    \n",
      "---------------------------------------\n",
      "cb     | 10               | 0.59759   \n",
      "lgb    | 9                | 0.59294   \n",
      "xgb    | 9                | 0.58866   \n",
      "rf     | 8                | 0.58371   \n",
      "logit  | 133              | 0.56913   \n",
      "---------------------------------------\n",
      "\n",
      "модель | кол-во признаков |  roc_auc  \n",
      "---------------------------------------\n",
      "cb     | 10               | 0.86239   \n",
      "logit  | 170              | 0.8556    \n",
      "lgb    | 10               | 0.85262   \n",
      "rf     | 10               | 0.84812   \n",
      "xgb    | 8                | 0.84069   \n",
      "---------------------------------------\n",
      "\n"
     ]
    }
   ],
   "source": [
    "for metric in ('f1', 'roc_auc'):    \n",
    "    L = [] \n",
    "    for el in D[metric]:\n",
    "        L.append((el[0], el[-1].shape[1], round(el[1], 5)))\n",
    "    L.sort(key=lambda x: x[2], reverse = True)    \n",
    "    print('{:^5} | {:^8} | {:^10}'.format('модель', 'кол-во признаков', metric))\n",
    "    print('---------------------------------------')\n",
    "    for row in L:\n",
    "        print('{:<6} | {:<16} | {:<10}'.format(row[0], row[1], row[2]))\n",
    "    print('---------------------------------------\\n')"
   ]
  },
  {
   "cell_type": "markdown",
   "metadata": {},
   "source": [
    "#### пробуем варианты таргет кодирования категориальных признаков"
   ]
  },
  {
   "cell_type": "code",
   "execution_count": 72,
   "metadata": {},
   "outputs": [
    {
     "name": "stdout",
     "output_type": "stream",
     "text": [
      "      энкодер        | число фолдов | f1\n",
      "------------------------------------------------\n",
      "   target ecnoder    |      3       | 0.57301\n",
      "   target ecnoder    |      5       | 0.57603\n",
      "   target ecnoder    |      10      | 0.58356\n",
      "   target ecnoder    |      20      | 0.58581\n",
      "  catboost encoder   |      3       | 0.56618\n",
      "  catboost encoder   |      5       | 0.57784\n",
      "  catboost encoder   |      10      | 0.57049\n",
      "  catboost encoder   |      20      | 0.58546\n",
      "------------------------------------------------\n",
      "\n",
      "      энкодер        | число фолдов | roc_auc\n",
      "------------------------------------------------\n",
      "   target ecnoder    |      3       | 0.84941\n",
      "   target ecnoder    |      5       | 0.84794\n",
      "   target ecnoder    |      10      | 0.85142\n",
      "   target ecnoder    |      20      | 0.86456\n",
      "  catboost encoder   |      3       | 0.85127\n",
      "  catboost encoder   |      5       | 0.84834\n",
      "  catboost encoder   |      10      | 0.85385\n",
      "  catboost encoder   |      20      | 0.86134\n",
      "------------------------------------------------\n",
      "\n"
     ]
    }
   ],
   "source": [
    "for metric in ('f1', 'roc_auc'):\n",
    "    print('{:^20} | {:^10} | {}'.format('энкодер', 'число фолдов', metric))\n",
    "    print('------------------------------------------------')\n",
    "    for name, encoder in zip(('target ecnoder', 'catboost encoder'), (ce.TargetEncoder(cols = cat_cols, min_samples_leaf = 2),\\\n",
    "                        ce.CatBoostEncoder(cols = cat_cols))):\n",
    "        for nfolds in [3, 5, 10, 20]:\n",
    "            enc_df = pd.DataFrame(index = X_TR.index, columns = cat_cols)\n",
    "            for tr_idx, val_idx in KFold(nfolds).split(X_TR):\n",
    "                xtr, xval = X_TR.iloc[tr_idx], X_TR.iloc[val_idx]\n",
    "                ytr, yval = Y_TR.iloc[tr_idx], Y_TR.iloc[val_idx]\n",
    "                encoder.fit(xtr, ytr)\n",
    "                enc_df.loc[yval.index, cat_cols] = encoder.transform(xval)\n",
    "            mean_cv = cross_validate(lgb_est, np.column_stack([X_TR.drop(columns = enc_df.columns), enc_df]),\\\n",
    "                               Y_TR.values, cv = kf3, scoring = metric)['test_score'].mean()\n",
    "\n",
    "            print('{:^20} | {:^12} | {}'.format(name, nfolds, round(mean_cv, 5)))\n",
    "    print('------------------------------------------------\\n')"
   ]
  },
  {
   "cell_type": "markdown",
   "metadata": {},
   "source": [
    "#### оптимизируем гиперпараметры моделей"
   ]
  },
  {
   "cell_type": "code",
   "execution_count": 158,
   "metadata": {},
   "outputs": [],
   "source": [
    "D_parameters = defaultdict(list)"
   ]
  },
  {
   "cell_type": "code",
   "execution_count": 161,
   "metadata": {},
   "outputs": [],
   "source": [
    "HYPERPARAMETERS_TO_TUNE_d = {'logit' : [LogisticRegression(random_state = SEED), {'C' : np.around(np.logspace (-2, 4, 100), 2), 'penalty' : ['l1', 'l2']}],\n",
    "                             'rf' : [RandomForestClassifier(random_state = SEED), {'max_depth': [3, 5, 7, 9, 11, 13],\\\n",
    "                                     'min_samples_split' : [3, 10, 20, 50]}],\\\n",
    "                             'lgb' :  [LGBMClassifier(random_state = SEED), {'min_child_samples' : [75, 100],'max_depth':[5, 7, 9],\\\n",
    "                                                                             'num_leaves' : [8, 16, 24], \\\n",
    "                                                                             'learning_rate' : np.around(np.linspace(.05, .2, 10), 2)}],                             \n",
    "                             'cb' : [CatBoostClassifier(random_state = SEED, silent = True),{'depth': [3, 4, 5],\n",
    "                                     'learning_rate' : [.05, 0.1],\n",
    "                                     'l2_leaf_reg': [4,9,11]}]}\n"
   ]
  },
  {
   "cell_type": "code",
   "execution_count": 163,
   "metadata": {
    "scrolled": true
   },
   "outputs": [
    {
     "name": "stdout",
     "output_type": "stream",
     "text": [
      "метрика | модель | лучшее значение метрики | лучшие параметры\n",
      "-------------------------------------------------------------------------------------------------------\n",
      "f1      | logit  | 0.5861                  | {'C': 43.29, 'penalty': 'l2'}\n",
      "f1      | rf     | 0.5793                  | {'max_depth': 13, 'min_samples_split': 3}\n",
      "f1      | lgb    | 0.599                   | {'learning_rate': 0.07, 'max_depth': 9, 'min_child_samples': 100, 'num_leaves': 16}\n",
      "f1      | cb     | 0.5968                  | {'depth': 4, 'l2_leaf_reg': 9, 'learning_rate': 0.05}\n",
      "-------------------------------------------------------------------------------------------------------\n",
      "\n",
      "roc_auc | logit  | 0.8577                  | {'C': 6.14, 'penalty': 'l2'}\n",
      "roc_auc | rf     | 0.8564                  | {'max_depth': 9, 'min_samples_split': 50}\n",
      "roc_auc | lgb    | 0.8641                  | {'learning_rate': 0.08, 'max_depth': 7, 'min_child_samples': 75, 'num_leaves': 8}\n",
      "roc_auc | cb     | 0.8598                  | {'depth': 3, 'l2_leaf_reg': 9, 'learning_rate': 0.05}\n",
      "-------------------------------------------------------------------------------------------------------\n",
      "\n",
      "Wall time: 7min 18s\n"
     ]
    }
   ],
   "source": [
    "%%time\n",
    "print('{:<5} | {:<5} | {:<5} | {:<5}'.format('метрика', 'модель', 'лучшее значение метрики', 'лучшие параметры'))\n",
    "print('-------------------------------------------------------------------------------------------------------')\n",
    "grid_results = []\n",
    "for metric in ['f1', 'roc_auc']:    \n",
    "    for k, v in HYPERPARAMETERS_TO_TUNE_d.items():\n",
    "        idx = np.argwhere(np.array([el[0] for el in D[metric]]) == k).flatten()[0]\n",
    "        _X_TR = D[metric][idx][-1]        \n",
    "        grid = GridSearchCV(v[0], param_grid = v[1], cv = kf3, scoring = metric)\n",
    "        grid.fit(_X_TR, Y_TR.values)\n",
    "        grid_results.append((metric, k, grid.best_score_, grid.best_params_))        \n",
    "        print('{:<7} | {:<6} | {:<23} | {:<20}'.format(metric, k, round(grid.best_score_,4), str(grid.best_params_)))\n",
    "    print('-------------------------------------------------------------------------------------------------------\\n')        "
   ]
  },
  {
   "cell_type": "markdown",
   "metadata": {},
   "source": [
    "#### модели, оптимальные параметры"
   ]
  },
  {
   "cell_type": "code",
   "execution_count": null,
   "metadata": {},
   "outputs": [],
   "source": []
  },
  {
   "cell_type": "code",
   "execution_count": 176,
   "metadata": {},
   "outputs": [
    {
     "data": {
      "text/html": [
       "<div>\n",
       "<style scoped>\n",
       "    .dataframe tbody tr th:only-of-type {\n",
       "        vertical-align: middle;\n",
       "    }\n",
       "\n",
       "    .dataframe tbody tr th {\n",
       "        vertical-align: top;\n",
       "    }\n",
       "\n",
       "    .dataframe thead th {\n",
       "        text-align: right;\n",
       "    }\n",
       "</style>\n",
       "<table border=\"1\" class=\"dataframe\">\n",
       "  <thead>\n",
       "    <tr style=\"text-align: right;\">\n",
       "      <th></th>\n",
       "      <th>возраст</th>\n",
       "      <th>количество продуктов банка, используемых клиентом</th>\n",
       "      <th>активность клиента</th>\n",
       "      <th>количество недвижимости у клиента</th>\n",
       "      <th>пол</th>\n",
       "      <th>страна проживания</th>\n",
       "      <th>фамилия</th>\n",
       "      <th>баланс на счёте</th>\n",
       "      <th>предполагаемая зарплата</th>\n",
       "    </tr>\n",
       "    <tr>\n",
       "      <th>уникальный идентификатор клиента</th>\n",
       "      <th></th>\n",
       "      <th></th>\n",
       "      <th></th>\n",
       "      <th></th>\n",
       "      <th></th>\n",
       "      <th></th>\n",
       "      <th></th>\n",
       "      <th></th>\n",
       "      <th></th>\n",
       "    </tr>\n",
       "  </thead>\n",
       "  <tbody>\n",
       "    <tr>\n",
       "      <th>15758856</th>\n",
       "      <td>45</td>\n",
       "      <td>2</td>\n",
       "      <td>0</td>\n",
       "      <td>7.0</td>\n",
       "      <td>0</td>\n",
       "      <td>0</td>\n",
       "      <td>0</td>\n",
       "      <td>0.000000</td>\n",
       "      <td>12.030272</td>\n",
       "    </tr>\n",
       "    <tr>\n",
       "      <th>15644934</th>\n",
       "      <td>26</td>\n",
       "      <td>1</td>\n",
       "      <td>0</td>\n",
       "      <td>9.0</td>\n",
       "      <td>0</td>\n",
       "      <td>0</td>\n",
       "      <td>1</td>\n",
       "      <td>11.566684</td>\n",
       "      <td>9.291275</td>\n",
       "    </tr>\n",
       "    <tr>\n",
       "      <th>15627232</th>\n",
       "      <td>44</td>\n",
       "      <td>1</td>\n",
       "      <td>1</td>\n",
       "      <td>7.0</td>\n",
       "      <td>0</td>\n",
       "      <td>1</td>\n",
       "      <td>2</td>\n",
       "      <td>11.645742</td>\n",
       "      <td>11.262295</td>\n",
       "    </tr>\n",
       "    <tr>\n",
       "      <th>15775709</th>\n",
       "      <td>27</td>\n",
       "      <td>1</td>\n",
       "      <td>0</td>\n",
       "      <td>10.0</td>\n",
       "      <td>1</td>\n",
       "      <td>0</td>\n",
       "      <td>3</td>\n",
       "      <td>11.498735</td>\n",
       "      <td>10.338964</td>\n",
       "    </tr>\n",
       "    <tr>\n",
       "      <th>15726634</th>\n",
       "      <td>47</td>\n",
       "      <td>1</td>\n",
       "      <td>0</td>\n",
       "      <td>1.0</td>\n",
       "      <td>0</td>\n",
       "      <td>0</td>\n",
       "      <td>4</td>\n",
       "      <td>0.000000</td>\n",
       "      <td>11.464491</td>\n",
       "    </tr>\n",
       "    <tr>\n",
       "      <th>...</th>\n",
       "      <td>...</td>\n",
       "      <td>...</td>\n",
       "      <td>...</td>\n",
       "      <td>...</td>\n",
       "      <td>...</td>\n",
       "      <td>...</td>\n",
       "      <td>...</td>\n",
       "      <td>...</td>\n",
       "      <td>...</td>\n",
       "    </tr>\n",
       "    <tr>\n",
       "      <th>15659677</th>\n",
       "      <td>47</td>\n",
       "      <td>1</td>\n",
       "      <td>1</td>\n",
       "      <td>8.0</td>\n",
       "      <td>0</td>\n",
       "      <td>0</td>\n",
       "      <td>1088</td>\n",
       "      <td>11.866276</td>\n",
       "      <td>11.036308</td>\n",
       "    </tr>\n",
       "    <tr>\n",
       "      <th>15607577</th>\n",
       "      <td>27</td>\n",
       "      <td>1</td>\n",
       "      <td>1</td>\n",
       "      <td>8.0</td>\n",
       "      <td>0</td>\n",
       "      <td>2</td>\n",
       "      <td>1428</td>\n",
       "      <td>0.000000</td>\n",
       "      <td>12.144245</td>\n",
       "    </tr>\n",
       "    <tr>\n",
       "      <th>15672016</th>\n",
       "      <td>35</td>\n",
       "      <td>2</td>\n",
       "      <td>1</td>\n",
       "      <td>1.0</td>\n",
       "      <td>0</td>\n",
       "      <td>0</td>\n",
       "      <td>674</td>\n",
       "      <td>0.000000</td>\n",
       "      <td>8.127405</td>\n",
       "    </tr>\n",
       "    <tr>\n",
       "      <th>15591286</th>\n",
       "      <td>49</td>\n",
       "      <td>1</td>\n",
       "      <td>1</td>\n",
       "      <td>4.0</td>\n",
       "      <td>1</td>\n",
       "      <td>1</td>\n",
       "      <td>335</td>\n",
       "      <td>11.394446</td>\n",
       "      <td>10.427032</td>\n",
       "    </tr>\n",
       "    <tr>\n",
       "      <th>15783865</th>\n",
       "      <td>59</td>\n",
       "      <td>1</td>\n",
       "      <td>1</td>\n",
       "      <td>5.0</td>\n",
       "      <td>0</td>\n",
       "      <td>0</td>\n",
       "      <td>2627</td>\n",
       "      <td>11.690075</td>\n",
       "      <td>11.009241</td>\n",
       "    </tr>\n",
       "  </tbody>\n",
       "</table>\n",
       "<p>8000 rows × 9 columns</p>\n",
       "</div>"
      ],
      "text/plain": [
       "                                  возраст  \\\n",
       "уникальный идентификатор клиента            \n",
       "15758856                               45   \n",
       "15644934                               26   \n",
       "15627232                               44   \n",
       "15775709                               27   \n",
       "15726634                               47   \n",
       "...                                   ...   \n",
       "15659677                               47   \n",
       "15607577                               27   \n",
       "15672016                               35   \n",
       "15591286                               49   \n",
       "15783865                               59   \n",
       "\n",
       "                                  количество продуктов банка, используемых клиентом  \\\n",
       "уникальный идентификатор клиента                                                      \n",
       "15758856                                                                          2   \n",
       "15644934                                                                          1   \n",
       "15627232                                                                          1   \n",
       "15775709                                                                          1   \n",
       "15726634                                                                          1   \n",
       "...                                                                             ...   \n",
       "15659677                                                                          1   \n",
       "15607577                                                                          1   \n",
       "15672016                                                                          2   \n",
       "15591286                                                                          1   \n",
       "15783865                                                                          1   \n",
       "\n",
       "                                  активность клиента  \\\n",
       "уникальный идентификатор клиента                       \n",
       "15758856                                           0   \n",
       "15644934                                           0   \n",
       "15627232                                           1   \n",
       "15775709                                           0   \n",
       "15726634                                           0   \n",
       "...                                              ...   \n",
       "15659677                                           1   \n",
       "15607577                                           1   \n",
       "15672016                                           1   \n",
       "15591286                                           1   \n",
       "15783865                                           1   \n",
       "\n",
       "                                  количество недвижимости у клиента  пол  \\\n",
       "уникальный идентификатор клиента                                           \n",
       "15758856                                                        7.0    0   \n",
       "15644934                                                        9.0    0   \n",
       "15627232                                                        7.0    0   \n",
       "15775709                                                       10.0    1   \n",
       "15726634                                                        1.0    0   \n",
       "...                                                             ...  ...   \n",
       "15659677                                                        8.0    0   \n",
       "15607577                                                        8.0    0   \n",
       "15672016                                                        1.0    0   \n",
       "15591286                                                        4.0    1   \n",
       "15783865                                                        5.0    0   \n",
       "\n",
       "                                  страна проживания  фамилия  баланс на счёте  \\\n",
       "уникальный идентификатор клиента                                                \n",
       "15758856                                          0        0         0.000000   \n",
       "15644934                                          0        1        11.566684   \n",
       "15627232                                          1        2        11.645742   \n",
       "15775709                                          0        3        11.498735   \n",
       "15726634                                          0        4         0.000000   \n",
       "...                                             ...      ...              ...   \n",
       "15659677                                          0     1088        11.866276   \n",
       "15607577                                          2     1428         0.000000   \n",
       "15672016                                          0      674         0.000000   \n",
       "15591286                                          1      335        11.394446   \n",
       "15783865                                          0     2627        11.690075   \n",
       "\n",
       "                                  предполагаемая зарплата  \n",
       "уникальный идентификатор клиента                           \n",
       "15758856                                        12.030272  \n",
       "15644934                                         9.291275  \n",
       "15627232                                        11.262295  \n",
       "15775709                                        10.338964  \n",
       "15726634                                        11.464491  \n",
       "...                                                   ...  \n",
       "15659677                                        11.036308  \n",
       "15607577                                        12.144245  \n",
       "15672016                                         8.127405  \n",
       "15591286                                        10.427032  \n",
       "15783865                                        11.009241  \n",
       "\n",
       "[8000 rows x 9 columns]"
      ]
     },
     "execution_count": 176,
     "metadata": {},
     "output_type": "execute_result"
    }
   ],
   "source": [
    "X_lgb_est_TR"
   ]
  },
  {
   "cell_type": "code",
   "execution_count": 185,
   "metadata": {},
   "outputs": [
    {
     "name": "stdout",
     "output_type": "stream",
     "text": [
      "f1  на отложенной = 0.5889212827988338\n",
      "roc_auc на отложенной = 0.8563964580913734\n"
     ]
    }
   ],
   "source": [
    "for metric in ('f1', 'roc_auc'):\n",
    "    to_argm = []\n",
    "    for l in grid_results:\n",
    "        if (l[0]==metric) & (l[1] == 'lgb'):        \n",
    "            lgb_best = LGBMClassifier(random_state = SEED, **l[-1])    \n",
    "    X_lgb_est_TR = X_TR.iloc[:, D[metric][0][2]]\n",
    "    X_lgb_est_HOLDOUT = X_HOLDOUT.iloc[:, D[metric][0][2]]\n",
    "    lgb_best.fit(X_lgb_est_TR.fillna(0).values, Y_TR.values)\n",
    "    if metric == 'f1':\n",
    "        print('{}  на отложенной = {}'.format(metric,\\\n",
    "                                             f1_score(Y_HOLDOUT.values, lgb_best.predict(X_lgb_est_HOLDOUT.values))))        \n",
    "    else:\n",
    "        print('{} на отложенной = {}'.format(metric,\\\n",
    "                                              roc_auc_score(Y_HOLDOUT.values, lgb_best.predict_proba(X_lgb_est_HOLDOUT.values)[:, 1])))"
   ]
  },
  {
   "cell_type": "markdown",
   "metadata": {},
   "source": [
    "#### oversampling, downsampling"
   ]
  },
  {
   "cell_type": "code",
   "execution_count": 188,
   "metadata": {},
   "outputs": [
    {
     "data": {
      "application/vnd.jupyter.widget-view+json": {
       "model_id": "7396a4f686494b009a27d534b9a9ae71",
       "version_major": 2,
       "version_minor": 0
      },
      "text/plain": [
       "HBox(children=(FloatProgress(value=0.0, max=10.0), HTML(value='')))"
      ]
     },
     "metadata": {},
     "output_type": "display_data"
    },
    {
     "name": "stdout",
     "output_type": "stream",
     "text": [
      "\n"
     ]
    }
   ],
   "source": [
    "idx0 = Y_TR[Y_TR == 0].index\n",
    "idx1 = Y_TR[Y_TR == 1].index\n",
    "over_f1, down_f1 = [], []\n",
    "n_iter = 10\n",
    "\n",
    "for SEED in tqdm_notebook(range(n_iter)):\n",
    "    np.random.seed(SEED)\n",
    "    oversampling = np.random.choice(idx1, len(idx0), replace = True)\n",
    "    downsampling = np.random.choice(idx0, len(idx1), replace = False)\n",
    "\n",
    "    over_X_tr = X_cb_TR.loc[oversampling.tolist() + idx0.tolist()]\n",
    "    over_y_tr = Y_TR.loc[oversampling.tolist() + idx0.tolist()]\n",
    "\n",
    "    down_X_tr = X_cb_TR.loc[downsampling.tolist() + idx1.tolist()]\n",
    "    down_y_tr = Y_TR.loc[downsampling.tolist() + idx1.tolist()]\n",
    "    \n",
    "    over_score = cross_validate(lgb_est, over_X_tr.values, over_y_tr.values,\\\n",
    "                   cv = kf3, scoring = scoring)['test_score'].mean()\n",
    "    down_score = cross_validate(lgb_est, down_X_tr.values, down_y_tr.values,\\\n",
    "                   cv = kf3, scoring = scoring)['test_score'].mean()\n",
    "    over_f1.append(over_score)\n",
    "    down_f1.append(down_score)    "
   ]
  },
  {
   "cell_type": "code",
   "execution_count": 193,
   "metadata": {},
   "outputs": [
    {
     "name": "stdout",
     "output_type": "stream",
     "text": [
      "f1(oversamopling) = 0.556796402862171\n",
      "f1(downsamopling) = 0.4351499898797668\n"
     ]
    }
   ],
   "source": [
    "print('f1(oversamopling) = {}'.format(np.mean(over_f1)))\n",
    "print('f1(downsamopling) = {}'.format(np.mean(down_f1)))"
   ]
  },
  {
   "cell_type": "code",
   "execution_count": null,
   "metadata": {},
   "outputs": [],
   "source": []
  },
  {
   "cell_type": "code",
   "execution_count": null,
   "metadata": {},
   "outputs": [],
   "source": []
  },
  {
   "cell_type": "code",
   "execution_count": null,
   "metadata": {},
   "outputs": [],
   "source": []
  },
  {
   "cell_type": "code",
   "execution_count": null,
   "metadata": {},
   "outputs": [],
   "source": []
  },
  {
   "cell_type": "code",
   "execution_count": null,
   "metadata": {},
   "outputs": [],
   "source": []
  },
  {
   "cell_type": "code",
   "execution_count": null,
   "metadata": {},
   "outputs": [],
   "source": []
  }
 ],
 "metadata": {
  "kernelspec": {
   "display_name": "Python 3",
   "language": "python",
   "name": "python3"
  },
  "language_info": {
   "codemirror_mode": {
    "name": "ipython",
    "version": 3
   },
   "file_extension": ".py",
   "mimetype": "text/x-python",
   "name": "python",
   "nbconvert_exporter": "python",
   "pygments_lexer": "ipython3",
   "version": "3.8.5"
  },
  "toc": {
   "base_numbering": 1,
   "nav_menu": {},
   "number_sections": true,
   "sideBar": true,
   "skip_h1_title": true,
   "title_cell": "Table of Contents",
   "title_sidebar": "Contents",
   "toc_cell": false,
   "toc_position": {},
   "toc_section_display": true,
   "toc_window_display": false
  }
 },
 "nbformat": 4,
 "nbformat_minor": 4
}
