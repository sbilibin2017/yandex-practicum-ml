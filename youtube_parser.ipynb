{
 "cells": [
  {
   "cell_type": "markdown",
   "metadata": {},
   "source": [
    "# Web-scrapping (на примере youtube)\n",
    "* selenium (использование браузера с помощью python)\n",
    "* beautifulsoup (парсинг страницы)\n",
    "* attrs\n",
    "----"
   ]
  },
  {
   "cell_type": "markdown",
   "metadata": {},
   "source": [
    "#### библиотеки"
   ]
  },
  {
   "cell_type": "code",
   "execution_count": 83,
   "metadata": {},
   "outputs": [
    {
     "name": "stderr",
     "output_type": "stream",
     "text": [
      "[nltk_data] Downloading package stopwords to\n",
      "[nltk_data]     C:\\Users\\Sergey\\AppData\\Roaming\\nltk_data...\n",
      "[nltk_data]   Package stopwords is already up-to-date!\n"
     ]
    }
   ],
   "source": [
    "from selenium import webdriver\n",
    "from selenium.webdriver.common.keys import Keys \n",
    "from bs4 import BeautifulSoup \n",
    "import pandas as pd\n",
    "import time\n",
    "import unicodedata\n",
    "import numpy as np\n",
    "import pickle\n",
    "from tqdm import tqdm_notebook\n",
    "from wordcloud import WordCloud, STOPWORDS\n",
    "import matplotlib.pyplot as plt\n",
    "from nltk.stem.snowball import SnowballStemmer\n",
    "import warnings\n",
    "warnings.filterwarnings('ignore')\n",
    "import unicodedata\n",
    "import requests\n",
    "\n",
    "import nltk\n",
    "nltk.download(\"stopwords\")\n",
    "from nltk.corpus import stopwords\n",
    "from pymystem3 import Mystem\n",
    "from string import punctuation\n",
    "import time\n",
    "from selenium.webdriver import Chrome\n",
    "from selenium.webdriver.common.by import By\n",
    "from selenium.webdriver.common.keys import Keys\n",
    "from selenium.webdriver.support.ui import WebDriverWait\n",
    "from selenium.webdriver.support import expected_conditions as EC\n",
    "import string\n",
    "from nltk.stem.snowball import SnowballStemmer\n",
    "import seaborn as sns\n",
    "import matplotlib.pyplot as plt"
   ]
  },
  {
   "cell_type": "markdown",
   "metadata": {},
   "source": [
    "#### функция, загружающая html страницу"
   ]
  },
  {
   "cell_type": "markdown",
   "metadata": {},
   "source": [
    "<img src=\"hova_videos.png\">"
   ]
  },
  {
   "cell_type": "code",
   "execution_count": 140,
   "metadata": {},
   "outputs": [],
   "source": [
    "def get_lemmas(df_hova_videos):\n",
    "    '''\n",
    "    лемматизация названий видео\n",
    "    '''\n",
    "    ##############################################################\n",
    "    def stem_string(string):\n",
    "        punctuation = \"!@#$%^&*()_+<>?:.,;-\"  \n",
    "        s2 = string.lower().strip()\n",
    "        for c in s2:\n",
    "            if c in punctuation:\n",
    "                s2 = s2.replace(c, \"\")    \n",
    "        words = s2.split(' ')\n",
    "        return [stemmer.stem(word) for word in words if word !='']\n",
    "    ###################################################################\n",
    "    from nltk.corpus import stopwords\n",
    "    russian_stopwords = stopwords.words(\"russian\")\n",
    "    stemmer = SnowballStemmer(\"russian\") \n",
    "    lemmas= []\n",
    "    for i in tqdm_notebook(range(len(df_hova_videos))):\n",
    "        lemmas.extend(stem_string(df_hova_videos.iloc[i]['title']))\n",
    "    lemmas_ser = pd.Series(lemmas)\n",
    "    return lemmas_ser[lemmas_ser.apply(lambda x: x not in russian_stopwords)]    \n",
    "\n",
    "def get_comments(url, n_iterations):\n",
    "       \n",
    "    driver = webdriver.Chrome()\n",
    "    data=[]\n",
    "    driver.get(url)\n",
    "    for item in tqdm_notebook(range(n_iterations)):\n",
    "        wait = WebDriverWait(driver,15)\n",
    "        wait.until(EC.visibility_of_element_located((By.TAG_NAME, \"body\"))).send_keys(Keys.END)\n",
    "        time.sleep(.1)\n",
    "    for comment in tqdm_notebook(wait.until(EC.presence_of_all_elements_located((By.CSS_SELECTOR, \"#content\")))):\n",
    "        data.append(comment.text)\n",
    "    driver.close()\n",
    "    \n",
    "    table = str.maketrans('', '', string.punctuation)\n",
    "    stemmer = SnowballStemmer(\"russian\") \n",
    "    _stopwords = stopwords.words('russian')\n",
    "    LL = []\n",
    "    for row in data:\n",
    "        _row = row.strip().lower()\n",
    "        _row = ''.join([w.translate(table) for w in _row])\n",
    "        for word in _row.split(' '):\n",
    "            _w = stemmer.stem(word)\n",
    "            if (_w not in _stopwords) & (_w!=''):\n",
    "                LL.append(_w)\n",
    "    \n",
    "    return pd.Series(LL).value_counts().head(10).index.tolist()  \n",
    "\n",
    "\n",
    "def get_all_tags(soup):\n",
    "    return list(set([tag.name for tag in soup.find_all()]))\n",
    "def get_yt_chanel_all_videos_info(user_name):\n",
    "    D_MONTHS = {'янв.':1, 'февр.':2, 'мар.':3, 'апр.':4,\\\n",
    "            'мая':5,  'июн.':6, 'июл.':7, 'авг.':8,\\\n",
    "            'сент.':9,'окт.':10,'нояб.':11,'дек.':12}    \n",
    "    YT_MAIN = \"https://www.youtube.com\"\n",
    "    link_to_all_videos = f\"https://www.youtube.com/c/{user_name}/videos\"\n",
    "    \n",
    "    # открываем страницу в браузере\n",
    "    driver = webdriver.Chrome()\n",
    "    driver.get(link_to_all_videos)\n",
    "    # с помощью webdriver полностью проматываю страницу, чтобы отображались все видео канала\n",
    "    scroll_counter=0\n",
    "    while scroll_counter!=50:\n",
    "        # читаем страницу\n",
    "        html_prev = driver.page_source         \n",
    "        # скролим вниз\n",
    "        html_next = driver.find_element_by_tag_name('body').send_keys(Keys.END)\n",
    "        scroll_counter+=1\n",
    "        time.sleep(.3)\n",
    "\n",
    "    # загружаем промотанную страницу в BeautifulSoup\n",
    "    soup = BeautifulSoup(driver.page_source, \"html.parser\")\n",
    "    L = []\n",
    "\n",
    "    # уже нашли, какие теги отвечают за ссылку на видео\n",
    "    for i in soup.findAll('a',class_='yt-simple-endpoint style-scope ytd-grid-video-renderer'):\n",
    "        # ссылка\n",
    "        link = YT_MAIN+i['href'] \n",
    "        title = i['title']\n",
    "        view_counter = np.int32(unicodedata.normalize(\"NFKD\", i['aria-label'].split(' ')[-2]).replace(' ', ''))\n",
    "        L.append((title, link, view_counter))\n",
    "\n",
    "    # датафрейм с названием видео и ссылкой на него\n",
    "    df_videos= pd.DataFrame(L, columns =['title', 'url', 'view_counter']).set_index('url')\n",
    "    \n",
    "    # проходим по выгруженным урлам\n",
    "    for url in tqdm_notebook(df_videos.index):\n",
    "\n",
    "        # код страницы\n",
    "        content = requests.get(url).content\n",
    "\n",
    "        # загружаем в BeautifulSoup\n",
    "        soup = BeautifulSoup(content, \"html.parser\")\n",
    "\n",
    "        # итерируемся по тегу body (в body лежит информация с лайками/дизлайками)\n",
    "        for body in soup.find_all('body'):\n",
    "            # итерируемся по тегу script\n",
    "            for script in body.find_all('script'):\n",
    "                # преобразуем в строку\n",
    "                s = str(script)\n",
    "                # ищем строку, где есть Нра\n",
    "                if 'Нра' in s:\n",
    "                    s_like = s\n",
    "                for el in s.split(','):\n",
    "                    if 'dateText' in el:\n",
    "                        pub_date = el.split(':')[-1][1:-4]\n",
    "\n",
    "        # разбиваем строку по разделителям, нормализуем(удаляем юникод-символы)\n",
    "        # ищем подстроку с оценками\n",
    "        # сохраняем\n",
    "        for row in s_like.split(','):    \n",
    "            if 'Видео понравилось' in row:\n",
    "                like_row = row\n",
    "                like_counter = np.int32(unicodedata.normalize(\"NFKD\", like_row[:-16].split(' ')[-1])\\\n",
    "                                                   .replace(' ', '')\\\n",
    "                                                   .strip())\n",
    "            elif 'Видео не понравилось' in row:\n",
    "                dislike_row = row\n",
    "                dislike_counter = np.int32(unicodedata.normalize(\"NFKD\", dislike_row[:-16].split(' ')[-1])\\\n",
    "                                                      .replace(' ', '')\\\n",
    "                                                      .strip())\n",
    "        df_videos.loc[url, 'like_counter'] = like_counter\n",
    "        df_videos.loc[url, 'dislike_counter'] = dislike_counter\n",
    "        df_videos.loc[url, 'date_publication'] = pub_date\n",
    "    \n",
    "    # конвертируем строковую дату в timestamp\n",
    "    for i in df_videos.index:\n",
    "        date_str = df_videos.loc[i, 'date_publication']\n",
    "        try:\n",
    "            daynumber, month, year, tail = date_str.split(' ')        \n",
    "        except:\n",
    "            daynumber, month, year = dt_row.split(' ')[3:-1]\n",
    "        d, m, y = np.int32(daynumber), np.int32(D_MONTHS[month]), np.int32(year)\n",
    "        timestamp = pd.Timestamp(year=y, month=m, day=d)\n",
    "        df_videos.loc[i, 'date_publication'] = timestamp\n",
    "    \n",
    "    return df_videos    "
   ]
  },
  {
   "cell_type": "code",
   "execution_count": 13,
   "metadata": {},
   "outputs": [],
   "source": [
    "# открываем страницу в браузере\n",
    "driver = webdriver.Chrome()\n",
    "# driver.get(\"https://www.youtube.com/c/ЮрийХованский69/videos\")\n"
   ]
  },
  {
   "cell_type": "markdown",
   "metadata": {},
   "source": [
    "#### выгружаем названия и адреса всех видео канала"
   ]
  },
  {
   "cell_type": "code",
   "execution_count": 20,
   "metadata": {},
   "outputs": [],
   "source": [
    "YT_MAIN = 'https://www.youtube.com'\n",
    "# с помощью webdriver полностью проматываю страницу, чтобы отображались все видео канала\n",
    "scroll_counter=0\n",
    "while scroll_counter!=50:\n",
    "    # читаем страницу\n",
    "    html_prev = driver.page_source         \n",
    "    # скролим вниз\n",
    "    html_next = driver.find_element_by_tag_name('body').send_keys(Keys.END)\n",
    "    scroll_counter+=1\n",
    "    time.sleep(.3)\n",
    "\n",
    "# загружаем промотанную страницу в BeautifulSoup\n",
    "soup = BeautifulSoup(driver.page_source, \"html.parser\")\n",
    "L = []\n",
    "    \n",
    "# уже нашли, какие теги отвечают за ссылку на видео\n",
    "for i in soup.findAll('a',class_='yt-simple-endpoint style-scope ytd-grid-video-renderer'):\n",
    "    # ссылка\n",
    "    link = YT_MAIN+i['href'] \n",
    "    title = i['title']\n",
    "    view_counter = np.int32(unicodedata.normalize(\"NFKD\", i['aria-label'].split(' ')[-2]).replace(' ', ''))\n",
    "    L.append((title, link, view_counter))\n",
    "\n",
    "# датафрейм с названием видео и ссылкой на него\n",
    "df_videos= pd.DataFrame(L, columns =['title', 'url', 'view_counter']).set_index('url')"
   ]
  },
  {
   "cell_type": "code",
   "execution_count": null,
   "metadata": {},
   "outputs": [],
   "source": [
    "# первые 5 видео\n",
    "df_videos.head(5)"
   ]
  },
  {
   "cell_type": "code",
   "execution_count": null,
   "metadata": {},
   "outputs": [],
   "source": [
    "# последние 5 видео\n",
    "df_videos.tail(5)"
   ]
  },
  {
   "cell_type": "markdown",
   "metadata": {},
   "source": [
    "#### выгружаем дату публикации, лайки, дизлайки"
   ]
  },
  {
   "cell_type": "code",
   "execution_count": null,
   "metadata": {},
   "outputs": [],
   "source": [
    "# проходим по выгруженным урлам\n",
    "for url in tqdm_notebook(df_videos.index):\n",
    "    \n",
    "    # код страницы\n",
    "    content = requests.get(url).content\n",
    "    \n",
    "    # загружаем в BeautifulSoup\n",
    "    soup = BeautifulSoup(content, \"html.parser\")\n",
    "    \n",
    "    # итерируемся по тегу body (в body лежит информация с лайками/дизлайками)\n",
    "    for body in soup.find_all('body'):\n",
    "        # итерируемся по тегу script\n",
    "        for script in body.find_all('script'):\n",
    "            # преобразуем в строку\n",
    "            s = str(script)\n",
    "            # ищем строку, где есть Нра\n",
    "            if 'Нра' in s:\n",
    "                s_like = s\n",
    "            for el in s.split(','):\n",
    "                if 'dateText' in el:\n",
    "                    pub_date = el.split(':')[-1][1:-4]\n",
    "                \n",
    "    # разбиваем строку по разделителям, нормализуем(удаляем юникод-символы)\n",
    "    # ищем подстроку с оценками\n",
    "    # сохраняем\n",
    "    for row in s_like.split(','):    \n",
    "        if 'Видео понравилось' in row:\n",
    "            like_row = row\n",
    "            like_counter = np.int32(unicodedata.normalize(\"NFKD\", like_row[:-16].split(' ')[-1])\\\n",
    "                                               .replace(' ', '')\\\n",
    "                                               .strip())\n",
    "        elif 'Видео не понравилось' in row:\n",
    "            dislike_row = row\n",
    "            dislike_counter = np.int32(unicodedata.normalize(\"NFKD\", dislike_row[:-16].split(' ')[-1])\\\n",
    "                                                  .replace(' ', '')\\\n",
    "                                                  .strip())\n",
    "    df_videos.loc[url, 'like_counter'] = like_counter\n",
    "    df_videos.loc[url, 'dislike_counter'] = dislike_counter\n",
    "    df_videos.loc[url, 'date_publication'] = pub_date   \n",
    "    \n",
    "\n",
    "for i in df_videos.index:\n",
    "    date_str = df_videos.loc[i, 'date_publication']\n",
    "    try:\n",
    "        daynumber, month, year, tail = date_str.split(' ')        \n",
    "    except:\n",
    "        daynumber, month, year = dt_row.split(' ')[3:-1]\n",
    "    d, m, y = np.int32(daynumber), np.int32(d_months[month]), np.int32(year)\n",
    "    timestamp = pd.Timestamp(year=y, month=m, day=d)\n",
    "    df_videos.loc[i, 'date_publication'] = timestamp"
   ]
  },
  {
   "cell_type": "code",
   "execution_count": 44,
   "metadata": {},
   "outputs": [],
   "source": [
    "# df_videos.to_pickle('df_videos.pickle')"
   ]
  },
  {
   "cell_type": "code",
   "execution_count": 15,
   "metadata": {},
   "outputs": [],
   "source": [
    "# d_months = {'янв.':1, 'февр.':2, 'мар.':3, 'апр.':4,\\\n",
    "#             'мая':5,  'июн.':6, 'июл.':7, 'авг.':8,\\\n",
    "#             'сент.':9,'окт.':10,'нояб.':11,'дек.':12}\n",
    "# for i in df_videos.index:\n",
    "#     date_str = df_videos.loc[i, 'date_publication']\n",
    "#     try:\n",
    "#         daynumber, month, year, tail = date_str.split(' ')        \n",
    "#     except:\n",
    "#         daynumber, month, year = dt_row.split(' ')[3:-1]\n",
    "#     d, m, y = np.int32(daynumber), np.int32(d_months[month]), np.int32(year)\n",
    "#     timestamp = pd.Timestamp(year=y, month=m, day=d)\n",
    "#     df_videos.loc[i, 'date_publication'] = timestamp"
   ]
  },
  {
   "cell_type": "code",
   "execution_count": null,
   "metadata": {},
   "outputs": [],
   "source": [
    "df_videos = pd.read_pickle('df_videos.pickle')"
   ]
  },
  {
   "cell_type": "code",
   "execution_count": 40,
   "metadata": {},
   "outputs": [
    {
     "data": {
      "text/html": [
       "<div>\n",
       "<style scoped>\n",
       "    .dataframe tbody tr th:only-of-type {\n",
       "        vertical-align: middle;\n",
       "    }\n",
       "\n",
       "    .dataframe tbody tr th {\n",
       "        vertical-align: top;\n",
       "    }\n",
       "\n",
       "    .dataframe thead th {\n",
       "        text-align: right;\n",
       "    }\n",
       "</style>\n",
       "<table border=\"1\" class=\"dataframe\">\n",
       "  <thead>\n",
       "    <tr style=\"text-align: right;\">\n",
       "      <th></th>\n",
       "      <th>title</th>\n",
       "      <th>view_counter</th>\n",
       "      <th>like_counter</th>\n",
       "      <th>dislike_counter</th>\n",
       "      <th>date_publication</th>\n",
       "    </tr>\n",
       "    <tr>\n",
       "      <th>url</th>\n",
       "      <th></th>\n",
       "      <th></th>\n",
       "      <th></th>\n",
       "      <th></th>\n",
       "      <th></th>\n",
       "    </tr>\n",
       "  </thead>\n",
       "  <tbody>\n",
       "    <tr>\n",
       "      <th>https://www.youtube.com/watch?v=lCN-OGZPuXU</th>\n",
       "      <td>VERSUS BATTLE: ПЕРЕЗАГРУЗКА</td>\n",
       "      <td>515043</td>\n",
       "      <td>11125.0</td>\n",
       "      <td>11012.0</td>\n",
       "      <td>2021-06-07 00:00:00</td>\n",
       "    </tr>\n",
       "    <tr>\n",
       "      <th>https://www.youtube.com/watch?v=jxK2bbSGRB0</th>\n",
       "      <td>ВОЗДУШНЫЙ ЦИРК АЛЕКСАНДРА ЛУКАШЕНКО</td>\n",
       "      <td>392847</td>\n",
       "      <td>25569.0</td>\n",
       "      <td>2650.0</td>\n",
       "      <td>2021-06-03 00:00:00</td>\n",
       "    </tr>\n",
       "    <tr>\n",
       "      <th>https://www.youtube.com/watch?v=FmiuTIDxdGI</th>\n",
       "      <td>МОИ САМЫЕ ТУПЫЕ ПОКУПКИ (ПОТРАТИЛ 400к на ФУФЛО)</td>\n",
       "      <td>270213</td>\n",
       "      <td>17344.0</td>\n",
       "      <td>1380.0</td>\n",
       "      <td>2021-05-31 00:00:00</td>\n",
       "    </tr>\n",
       "    <tr>\n",
       "      <th>https://www.youtube.com/watch?v=dKtoKzfooF0</th>\n",
       "      <td>УСТАЛ ОТ ЖИЗНИ БЛОГЕРА И УСТРОИЛСЯ НА РАБОТУ</td>\n",
       "      <td>194173</td>\n",
       "      <td>8284.0</td>\n",
       "      <td>6324.0</td>\n",
       "      <td>2021-05-27 00:00:00</td>\n",
       "    </tr>\n",
       "    <tr>\n",
       "      <th>https://www.youtube.com/watch?v=HvpytFS0m1w</th>\n",
       "      <td>ИНСТАСАМКА ОБЪЯВИЛА ВОЙНУ ЯНДЕКСУ</td>\n",
       "      <td>288338</td>\n",
       "      <td>10217.0</td>\n",
       "      <td>1433.0</td>\n",
       "      <td>2021-05-23 00:00:00</td>\n",
       "    </tr>\n",
       "  </tbody>\n",
       "</table>\n",
       "</div>"
      ],
      "text/plain": [
       "                                                                                        title  \\\n",
       "url                                                                                             \n",
       "https://www.youtube.com/watch?v=lCN-OGZPuXU                       VERSUS BATTLE: ПЕРЕЗАГРУЗКА   \n",
       "https://www.youtube.com/watch?v=jxK2bbSGRB0               ВОЗДУШНЫЙ ЦИРК АЛЕКСАНДРА ЛУКАШЕНКО   \n",
       "https://www.youtube.com/watch?v=FmiuTIDxdGI  МОИ САМЫЕ ТУПЫЕ ПОКУПКИ (ПОТРАТИЛ 400к на ФУФЛО)   \n",
       "https://www.youtube.com/watch?v=dKtoKzfooF0      УСТАЛ ОТ ЖИЗНИ БЛОГЕРА И УСТРОИЛСЯ НА РАБОТУ   \n",
       "https://www.youtube.com/watch?v=HvpytFS0m1w                 ИНСТАСАМКА ОБЪЯВИЛА ВОЙНУ ЯНДЕКСУ   \n",
       "\n",
       "                                             view_counter  like_counter  \\\n",
       "url                                                                       \n",
       "https://www.youtube.com/watch?v=lCN-OGZPuXU        515043       11125.0   \n",
       "https://www.youtube.com/watch?v=jxK2bbSGRB0        392847       25569.0   \n",
       "https://www.youtube.com/watch?v=FmiuTIDxdGI        270213       17344.0   \n",
       "https://www.youtube.com/watch?v=dKtoKzfooF0        194173        8284.0   \n",
       "https://www.youtube.com/watch?v=HvpytFS0m1w        288338       10217.0   \n",
       "\n",
       "                                             dislike_counter  \\\n",
       "url                                                            \n",
       "https://www.youtube.com/watch?v=lCN-OGZPuXU          11012.0   \n",
       "https://www.youtube.com/watch?v=jxK2bbSGRB0           2650.0   \n",
       "https://www.youtube.com/watch?v=FmiuTIDxdGI           1380.0   \n",
       "https://www.youtube.com/watch?v=dKtoKzfooF0           6324.0   \n",
       "https://www.youtube.com/watch?v=HvpytFS0m1w           1433.0   \n",
       "\n",
       "                                                date_publication  \n",
       "url                                                               \n",
       "https://www.youtube.com/watch?v=lCN-OGZPuXU  2021-06-07 00:00:00  \n",
       "https://www.youtube.com/watch?v=jxK2bbSGRB0  2021-06-03 00:00:00  \n",
       "https://www.youtube.com/watch?v=FmiuTIDxdGI  2021-05-31 00:00:00  \n",
       "https://www.youtube.com/watch?v=dKtoKzfooF0  2021-05-27 00:00:00  \n",
       "https://www.youtube.com/watch?v=HvpytFS0m1w  2021-05-23 00:00:00  "
      ]
     },
     "execution_count": 40,
     "metadata": {},
     "output_type": "execute_result"
    }
   ],
   "source": [
    "df_videos.head()"
   ]
  },
  {
   "cell_type": "code",
   "execution_count": 185,
   "metadata": {},
   "outputs": [
    {
     "data": {
      "application/vnd.jupyter.widget-view+json": {
       "model_id": "b281e425287540ac96b2ff635f1bcefd",
       "version_major": 2,
       "version_minor": 0
      },
      "text/plain": [
       "HBox(children=(HTML(value=''), FloatProgress(value=0.0, max=1119.0), HTML(value='')))"
      ]
     },
     "metadata": {},
     "output_type": "display_data"
    },
    {
     "data": {
      "application/vnd.jupyter.widget-view+json": {
       "model_id": "c2328544e49e4b1e87a6ef478636e925",
       "version_major": 2,
       "version_minor": 0
      },
      "text/plain": [
       "HBox(children=(HTML(value=''), FloatProgress(value=0.0), HTML(value='')))"
      ]
     },
     "metadata": {},
     "output_type": "display_data"
    },
    {
     "name": "stdout",
     "output_type": "stream",
     "text": [
      "\n"
     ]
    },
    {
     "data": {
      "application/vnd.jupyter.widget-view+json": {
       "model_id": "312c0c73228f42cd93da87d9dfb83ea9",
       "version_major": 2,
       "version_minor": 0
      },
      "text/plain": [
       "HBox(children=(HTML(value=''), FloatProgress(value=0.0, max=479.0), HTML(value='')))"
      ]
     },
     "metadata": {},
     "output_type": "display_data"
    },
    {
     "name": "stdout",
     "output_type": "stream",
     "text": [
      "\n"
     ]
    },
    {
     "data": {
      "application/vnd.jupyter.widget-view+json": {
       "model_id": "fdf9ea6f04d140f28ca4b7f7694dab6b",
       "version_major": 2,
       "version_minor": 0
      },
      "text/plain": [
       "HBox(children=(HTML(value=''), FloatProgress(value=0.0), HTML(value='')))"
      ]
     },
     "metadata": {},
     "output_type": "display_data"
    },
    {
     "name": "stdout",
     "output_type": "stream",
     "text": [
      "\n"
     ]
    },
    {
     "data": {
      "application/vnd.jupyter.widget-view+json": {
       "model_id": "2008714de6fa44c2a3b02e6f12059b11",
       "version_major": 2,
       "version_minor": 0
      },
      "text/plain": [
       "HBox(children=(HTML(value=''), FloatProgress(value=0.0, max=84.0), HTML(value='')))"
      ]
     },
     "metadata": {},
     "output_type": "display_data"
    },
    {
     "name": "stdout",
     "output_type": "stream",
     "text": [
      "\n"
     ]
    },
    {
     "data": {
      "application/vnd.jupyter.widget-view+json": {
       "model_id": "974daa4ee4b5494199e6ed7bfb7d2b7a",
       "version_major": 2,
       "version_minor": 0
      },
      "text/plain": [
       "HBox(children=(HTML(value=''), FloatProgress(value=0.0), HTML(value='')))"
      ]
     },
     "metadata": {},
     "output_type": "display_data"
    },
    {
     "name": "stdout",
     "output_type": "stream",
     "text": [
      "\n"
     ]
    },
    {
     "data": {
      "application/vnd.jupyter.widget-view+json": {
       "model_id": "b65e46d2c13245388e5c1979825ecc96",
       "version_major": 2,
       "version_minor": 0
      },
      "text/plain": [
       "HBox(children=(HTML(value=''), FloatProgress(value=0.0, max=665.0), HTML(value='')))"
      ]
     },
     "metadata": {},
     "output_type": "display_data"
    },
    {
     "name": "stdout",
     "output_type": "stream",
     "text": [
      "\n"
     ]
    },
    {
     "data": {
      "application/vnd.jupyter.widget-view+json": {
       "model_id": "96293b98e6944fe1b80dc75ea251f7b9",
       "version_major": 2,
       "version_minor": 0
      },
      "text/plain": [
       "HBox(children=(HTML(value=''), FloatProgress(value=0.0), HTML(value='')))"
      ]
     },
     "metadata": {},
     "output_type": "display_data"
    },
    {
     "name": "stdout",
     "output_type": "stream",
     "text": [
      "\n",
      "\n"
     ]
    },
    {
     "ename": "KeyboardInterrupt",
     "evalue": "",
     "output_type": "error",
     "traceback": [
      "\u001b[1;31m---------------------------------------------------------------------------\u001b[0m",
      "\u001b[1;31mKeyboardInterrupt\u001b[0m                         Traceback (most recent call last)",
      "\u001b[1;32m<ipython-input-185-0d6a891a445b>\u001b[0m in \u001b[0;36m<module>\u001b[1;34m\u001b[0m\n\u001b[0;32m      1\u001b[0m \u001b[1;32mfor\u001b[0m \u001b[0murl\u001b[0m \u001b[1;32min\u001b[0m \u001b[0mtqdm_notebook\u001b[0m\u001b[1;33m(\u001b[0m\u001b[0mdf_videos\u001b[0m\u001b[1;33m.\u001b[0m\u001b[0mindex\u001b[0m\u001b[1;33m)\u001b[0m\u001b[1;33m:\u001b[0m\u001b[1;33m\u001b[0m\u001b[1;33m\u001b[0m\u001b[0m\n\u001b[1;32m----> 2\u001b[1;33m     \u001b[0mdf_videos\u001b[0m\u001b[1;33m.\u001b[0m\u001b[0mloc\u001b[0m\u001b[1;33m[\u001b[0m\u001b[0murl\u001b[0m\u001b[1;33m,\u001b[0m \u001b[1;34m'text'\u001b[0m\u001b[1;33m]\u001b[0m \u001b[1;33m=\u001b[0m \u001b[1;34m','\u001b[0m\u001b[1;33m.\u001b[0m\u001b[0mjoin\u001b[0m\u001b[1;33m(\u001b[0m\u001b[0mget_comments\u001b[0m\u001b[1;33m(\u001b[0m\u001b[0murl\u001b[0m\u001b[1;33m=\u001b[0m\u001b[0murl\u001b[0m\u001b[1;33m,\u001b[0m \u001b[0mn_iterations\u001b[0m\u001b[1;33m=\u001b[0m\u001b[1;36m100\u001b[0m\u001b[1;33m)\u001b[0m\u001b[1;33m)\u001b[0m\u001b[1;33m\u001b[0m\u001b[1;33m\u001b[0m\u001b[0m\n\u001b[0m",
      "\u001b[1;32m<ipython-input-140-f669183e98df>\u001b[0m in \u001b[0;36mget_comments\u001b[1;34m(url, n_iterations)\u001b[0m\n\u001b[0;32m     30\u001b[0m         \u001b[0mwait\u001b[0m \u001b[1;33m=\u001b[0m \u001b[0mWebDriverWait\u001b[0m\u001b[1;33m(\u001b[0m\u001b[0mdriver\u001b[0m\u001b[1;33m,\u001b[0m\u001b[1;36m15\u001b[0m\u001b[1;33m)\u001b[0m\u001b[1;33m\u001b[0m\u001b[1;33m\u001b[0m\u001b[0m\n\u001b[0;32m     31\u001b[0m         \u001b[0mwait\u001b[0m\u001b[1;33m.\u001b[0m\u001b[0muntil\u001b[0m\u001b[1;33m(\u001b[0m\u001b[0mEC\u001b[0m\u001b[1;33m.\u001b[0m\u001b[0mvisibility_of_element_located\u001b[0m\u001b[1;33m(\u001b[0m\u001b[1;33m(\u001b[0m\u001b[0mBy\u001b[0m\u001b[1;33m.\u001b[0m\u001b[0mTAG_NAME\u001b[0m\u001b[1;33m,\u001b[0m \u001b[1;34m\"body\"\u001b[0m\u001b[1;33m)\u001b[0m\u001b[1;33m)\u001b[0m\u001b[1;33m)\u001b[0m\u001b[1;33m.\u001b[0m\u001b[0msend_keys\u001b[0m\u001b[1;33m(\u001b[0m\u001b[0mKeys\u001b[0m\u001b[1;33m.\u001b[0m\u001b[0mEND\u001b[0m\u001b[1;33m)\u001b[0m\u001b[1;33m\u001b[0m\u001b[1;33m\u001b[0m\u001b[0m\n\u001b[1;32m---> 32\u001b[1;33m         \u001b[0mtime\u001b[0m\u001b[1;33m.\u001b[0m\u001b[0msleep\u001b[0m\u001b[1;33m(\u001b[0m\u001b[1;36m.1\u001b[0m\u001b[1;33m)\u001b[0m\u001b[1;33m\u001b[0m\u001b[1;33m\u001b[0m\u001b[0m\n\u001b[0m\u001b[0;32m     33\u001b[0m     \u001b[1;32mfor\u001b[0m \u001b[0mcomment\u001b[0m \u001b[1;32min\u001b[0m \u001b[0mtqdm_notebook\u001b[0m\u001b[1;33m(\u001b[0m\u001b[0mwait\u001b[0m\u001b[1;33m.\u001b[0m\u001b[0muntil\u001b[0m\u001b[1;33m(\u001b[0m\u001b[0mEC\u001b[0m\u001b[1;33m.\u001b[0m\u001b[0mpresence_of_all_elements_located\u001b[0m\u001b[1;33m(\u001b[0m\u001b[1;33m(\u001b[0m\u001b[0mBy\u001b[0m\u001b[1;33m.\u001b[0m\u001b[0mCSS_SELECTOR\u001b[0m\u001b[1;33m,\u001b[0m \u001b[1;34m\"#content\"\u001b[0m\u001b[1;33m)\u001b[0m\u001b[1;33m)\u001b[0m\u001b[1;33m)\u001b[0m\u001b[1;33m)\u001b[0m\u001b[1;33m:\u001b[0m\u001b[1;33m\u001b[0m\u001b[1;33m\u001b[0m\u001b[0m\n\u001b[0;32m     34\u001b[0m         \u001b[0mdata\u001b[0m\u001b[1;33m.\u001b[0m\u001b[0mappend\u001b[0m\u001b[1;33m(\u001b[0m\u001b[0mcomment\u001b[0m\u001b[1;33m.\u001b[0m\u001b[0mtext\u001b[0m\u001b[1;33m)\u001b[0m\u001b[1;33m\u001b[0m\u001b[1;33m\u001b[0m\u001b[0m\n",
      "\u001b[1;31mKeyboardInterrupt\u001b[0m: "
     ]
    }
   ],
   "source": [
    "for url in tqdm_notebook(df_videos.index):\n",
    "    df_videos.loc[url, 'text'] = ','.join(get_comments(url=url, n_iterations=100))"
   ]
  },
  {
   "cell_type": "code",
   "execution_count": 186,
   "metadata": {
    "scrolled": false
   },
   "outputs": [
    {
     "data": {
      "image/png": "[encoded data removed]",
      "text/plain": [
       "<Figure size 864x432 with 1 Axes>"
      ]
     },
     "metadata": {
      "needs_background": "light"
     },
     "output_type": "display_data"
    },
    {
     "data": {
      "image/png": "[encoded data removed]",
      "text/plain": [
       "<Figure size 864x432 with 1 Axes>"
      ]
     },
     "metadata": {
      "needs_background": "light"
     },
     "output_type": "display_data"
    }
   ],
   "source": [
    "df_videos.set_index('date_publication')['view_counter'].plot(figsize = (12, 6), color='black')\n",
    "plt.title('Кол-во просмотров с течением веремени')\n",
    "plt.xlabel('дата')\n",
    "plt.ylabel('кол-во');\n",
    "plt.show()\n",
    "\n",
    "(df_videos.set_index('date_publication')['like_counter'] / df_videos.set_index('date_publication')['dislike_counter'])\\\n",
    "    .plot(figsize = (12, 6), color='black')\n",
    "plt.axhline(1, color='red', linestyle='--')\n",
    "plt.title('Соотношение лайков и дизлайков')\n",
    "plt.xlabel('дата')\n",
    "plt.ylabel('лайк/дизлайк');\n",
    "plt.show()"
   ]
  },
  {
   "cell_type": "code",
   "execution_count": 232,
   "metadata": {},
   "outputs": [
    {
     "data": {
      "text/html": [
       "<div>\n",
       "<style scoped>\n",
       "    .dataframe tbody tr th:only-of-type {\n",
       "        vertical-align: middle;\n",
       "    }\n",
       "\n",
       "    .dataframe tbody tr th {\n",
       "        vertical-align: top;\n",
       "    }\n",
       "\n",
       "    .dataframe thead th {\n",
       "        text-align: right;\n",
       "    }\n",
       "</style>\n",
       "<table border=\"1\" class=\"dataframe\">\n",
       "  <thead>\n",
       "    <tr style=\"text-align: right;\">\n",
       "      <th></th>\n",
       "      <th>date_publication</th>\n",
       "      <th>title</th>\n",
       "      <th>text</th>\n",
       "    </tr>\n",
       "  </thead>\n",
       "  <tbody>\n",
       "    <tr>\n",
       "      <th>0</th>\n",
       "      <td>2021-06-07 00:00:00</td>\n",
       "      <td>VERSUS BATTLE: ПЕРЕЗАГРУЗКА</td>\n",
       "      <td>недел,теб,юр,свободухованск,эт,дня,виде,ден,хо...</td>\n",
       "    </tr>\n",
       "    <tr>\n",
       "      <th>1</th>\n",
       "      <td>2021-06-03 00:00:00</td>\n",
       "      <td>ВОЗДУШНЫЙ ЦИРК АЛЕКСАНДРА ЛУКАШЕНКО</td>\n",
       "      <td>эт,месяц,виде,недел,хов,ег,песн,посад,юр,ролик</td>\n",
       "    </tr>\n",
       "    <tr>\n",
       "      <th>2</th>\n",
       "      <td>2021-05-31 00:00:00</td>\n",
       "      <td>МОИ САМЫЕ ТУПЫЕ ПОКУПКИ (ПОТРАТИЛ 400к на ФУФЛО)</td>\n",
       "      <td>месяц,эт,юр,пылесос,гта,теб,куп,робот,рп,виде</td>\n",
       "    </tr>\n",
       "    <tr>\n",
       "      <th>3</th>\n",
       "      <td>2021-05-27 00:00:00</td>\n",
       "      <td>УСТАЛ ОТ ЖИЗНИ БЛОГЕРА И УСТРОИЛСЯ НА РАБОТУ</td>\n",
       "      <td>месяц,эт,гта,рп,юр,хов,назад\\n,когд,ролик,теб</td>\n",
       "    </tr>\n",
       "    <tr>\n",
       "      <th>4</th>\n",
       "      <td>2021-05-23 00:00:00</td>\n",
       "      <td>ИНСТАСАМКА ОБЪЯВИЛА ВОЙНУ ЯНДЕКСУ</td>\n",
       "      <td>NaN</td>\n",
       "    </tr>\n",
       "    <tr>\n",
       "      <th>5</th>\n",
       "      <td>2021-05-19 00:00:00</td>\n",
       "      <td>МЕСЯЦ СПАЛ ПО 12 ЧАСОВ В ДЕНЬ. ЧТО ИЗМЕНИЛОСЬ?</td>\n",
       "      <td>NaN</td>\n",
       "    </tr>\n",
       "    <tr>\n",
       "      <th>6</th>\n",
       "      <td>2021-05-15 00:00:00</td>\n",
       "      <td>МОРТАЛ КОМБАТ 2021 - ЦАРЬ ВСЕХ РЕМЕЙКОВ</td>\n",
       "      <td>NaN</td>\n",
       "    </tr>\n",
       "    <tr>\n",
       "      <th>7</th>\n",
       "      <td>2021-05-12 00:00:00</td>\n",
       "      <td>НАВАЛЬНЫЙ, ЛУКАШЕНКО И ВЫСЫЛКА ДИПЛОМАТОВ</td>\n",
       "      <td>NaN</td>\n",
       "    </tr>\n",
       "    <tr>\n",
       "      <th>8</th>\n",
       "      <td>2021-05-09 00:00:00</td>\n",
       "      <td>КАК ИВАНГАЙ СОШЁЛ С УМА ПОСЛЕ ИНТЕРВЬЮ ДУДЯ</td>\n",
       "      <td>NaN</td>\n",
       "    </tr>\n",
       "    <tr>\n",
       "      <th>9</th>\n",
       "      <td>2021-05-06 00:00:00</td>\n",
       "      <td>ПРОБУЮ ЗОЖ: ПРАВИЛЬНО ПИТАЮСЬ, ХУДЕЮ К ЛЕТУ, К...</td>\n",
       "      <td>NaN</td>\n",
       "    </tr>\n",
       "  </tbody>\n",
       "</table>\n",
       "</div>"
      ],
      "text/plain": [
       "      date_publication                                              title  \\\n",
       "0  2021-06-07 00:00:00                        VERSUS BATTLE: ПЕРЕЗАГРУЗКА   \n",
       "1  2021-06-03 00:00:00                ВОЗДУШНЫЙ ЦИРК АЛЕКСАНДРА ЛУКАШЕНКО   \n",
       "2  2021-05-31 00:00:00   МОИ САМЫЕ ТУПЫЕ ПОКУПКИ (ПОТРАТИЛ 400к на ФУФЛО)   \n",
       "3  2021-05-27 00:00:00       УСТАЛ ОТ ЖИЗНИ БЛОГЕРА И УСТРОИЛСЯ НА РАБОТУ   \n",
       "4  2021-05-23 00:00:00                  ИНСТАСАМКА ОБЪЯВИЛА ВОЙНУ ЯНДЕКСУ   \n",
       "5  2021-05-19 00:00:00     МЕСЯЦ СПАЛ ПО 12 ЧАСОВ В ДЕНЬ. ЧТО ИЗМЕНИЛОСЬ?   \n",
       "6  2021-05-15 00:00:00            МОРТАЛ КОМБАТ 2021 - ЦАРЬ ВСЕХ РЕМЕЙКОВ   \n",
       "7  2021-05-12 00:00:00          НАВАЛЬНЫЙ, ЛУКАШЕНКО И ВЫСЫЛКА ДИПЛОМАТОВ   \n",
       "8  2021-05-09 00:00:00        КАК ИВАНГАЙ СОШЁЛ С УМА ПОСЛЕ ИНТЕРВЬЮ ДУДЯ   \n",
       "9  2021-05-06 00:00:00  ПРОБУЮ ЗОЖ: ПРАВИЛЬНО ПИТАЮСЬ, ХУДЕЮ К ЛЕТУ, К...   \n",
       "\n",
       "                                                text  \n",
       "0  недел,теб,юр,свободухованск,эт,дня,виде,ден,хо...  \n",
       "1     эт,месяц,виде,недел,хов,ег,песн,посад,юр,ролик  \n",
       "2      месяц,эт,юр,пылесос,гта,теб,куп,робот,рп,виде  \n",
       "3      месяц,эт,гта,рп,юр,хов,назад\\n,когд,ролик,теб  \n",
       "4                                                NaN  \n",
       "5                                                NaN  \n",
       "6                                                NaN  \n",
       "7                                                NaN  \n",
       "8                                                NaN  \n",
       "9                                                NaN  "
      ]
     },
     "execution_count": 232,
     "metadata": {},
     "output_type": "execute_result"
    }
   ],
   "source": [
    "df_videos[['date_publication', 'title', 'text']].reset_index(drop = True).head(10)"
   ]
  },
  {
   "cell_type": "markdown",
   "metadata": {},
   "source": [
    "#### самый популярный ролик"
   ]
  },
  {
   "cell_type": "code",
   "execution_count": 233,
   "metadata": {},
   "outputs": [
    {
     "data": {
      "text/html": [
       "<div>\n",
       "<style scoped>\n",
       "    .dataframe tbody tr th:only-of-type {\n",
       "        vertical-align: middle;\n",
       "    }\n",
       "\n",
       "    .dataframe tbody tr th {\n",
       "        vertical-align: top;\n",
       "    }\n",
       "\n",
       "    .dataframe thead th {\n",
       "        text-align: right;\n",
       "    }\n",
       "</style>\n",
       "<table border=\"1\" class=\"dataframe\">\n",
       "  <thead>\n",
       "    <tr style=\"text-align: right;\">\n",
       "      <th></th>\n",
       "      <th>title</th>\n",
       "      <th>view_counter</th>\n",
       "      <th>like_counter</th>\n",
       "      <th>dislike_counter</th>\n",
       "      <th>date_publication</th>\n",
       "      <th>text</th>\n",
       "      <th>ym</th>\n",
       "    </tr>\n",
       "    <tr>\n",
       "      <th>url</th>\n",
       "      <th></th>\n",
       "      <th></th>\n",
       "      <th></th>\n",
       "      <th></th>\n",
       "      <th></th>\n",
       "      <th></th>\n",
       "      <th></th>\n",
       "    </tr>\n",
       "  </thead>\n",
       "  <tbody>\n",
       "    <tr>\n",
       "      <th>https://www.youtube.com/watch?v=8TX9zpTqZrc</th>\n",
       "      <td>МС ХОВАНСКИЙ - Батя в Здании</td>\n",
       "      <td>43292077</td>\n",
       "      <td>1206492.0</td>\n",
       "      <td>108613.0</td>\n",
       "      <td>2016-10-31 00:00:00</td>\n",
       "      <td>NaN</td>\n",
       "      <td>201610</td>\n",
       "    </tr>\n",
       "  </tbody>\n",
       "</table>\n",
       "</div>"
      ],
      "text/plain": [
       "                                                                    title  \\\n",
       "url                                                                         \n",
       "https://www.youtube.com/watch?v=8TX9zpTqZrc  МС ХОВАНСКИЙ - Батя в Здании   \n",
       "\n",
       "                                             view_counter  like_counter  \\\n",
       "url                                                                       \n",
       "https://www.youtube.com/watch?v=8TX9zpTqZrc      43292077     1206492.0   \n",
       "\n",
       "                                             dislike_counter  \\\n",
       "url                                                            \n",
       "https://www.youtube.com/watch?v=8TX9zpTqZrc         108613.0   \n",
       "\n",
       "                                                date_publication text      ym  \n",
       "url                                                                            \n",
       "https://www.youtube.com/watch?v=8TX9zpTqZrc  2016-10-31 00:00:00  NaN  201610  "
      ]
     },
     "execution_count": 233,
     "metadata": {},
     "output_type": "execute_result"
    }
   ],
   "source": [
    "df_videos.sort_values('view_counter', ascending = False).head(1)"
   ]
  },
  {
   "cell_type": "markdown",
   "metadata": {},
   "source": [
    "#### ролик с максимальным числом лайков"
   ]
  },
  {
   "cell_type": "code",
   "execution_count": 234,
   "metadata": {},
   "outputs": [
    {
     "data": {
      "text/html": [
       "<div>\n",
       "<style scoped>\n",
       "    .dataframe tbody tr th:only-of-type {\n",
       "        vertical-align: middle;\n",
       "    }\n",
       "\n",
       "    .dataframe tbody tr th {\n",
       "        vertical-align: top;\n",
       "    }\n",
       "\n",
       "    .dataframe thead th {\n",
       "        text-align: right;\n",
       "    }\n",
       "</style>\n",
       "<table border=\"1\" class=\"dataframe\">\n",
       "  <thead>\n",
       "    <tr style=\"text-align: right;\">\n",
       "      <th></th>\n",
       "      <th>title</th>\n",
       "      <th>view_counter</th>\n",
       "      <th>like_counter</th>\n",
       "      <th>dislike_counter</th>\n",
       "      <th>date_publication</th>\n",
       "      <th>text</th>\n",
       "      <th>ym</th>\n",
       "    </tr>\n",
       "    <tr>\n",
       "      <th>url</th>\n",
       "      <th></th>\n",
       "      <th></th>\n",
       "      <th></th>\n",
       "      <th></th>\n",
       "      <th></th>\n",
       "      <th></th>\n",
       "      <th></th>\n",
       "    </tr>\n",
       "  </thead>\n",
       "  <tbody>\n",
       "    <tr>\n",
       "      <th>https://www.youtube.com/watch?v=8TX9zpTqZrc</th>\n",
       "      <td>МС ХОВАНСКИЙ - Батя в Здании</td>\n",
       "      <td>43292077</td>\n",
       "      <td>1206492.0</td>\n",
       "      <td>108613.0</td>\n",
       "      <td>2016-10-31 00:00:00</td>\n",
       "      <td>NaN</td>\n",
       "      <td>201610</td>\n",
       "    </tr>\n",
       "  </tbody>\n",
       "</table>\n",
       "</div>"
      ],
      "text/plain": [
       "                                                                    title  \\\n",
       "url                                                                         \n",
       "https://www.youtube.com/watch?v=8TX9zpTqZrc  МС ХОВАНСКИЙ - Батя в Здании   \n",
       "\n",
       "                                             view_counter  like_counter  \\\n",
       "url                                                                       \n",
       "https://www.youtube.com/watch?v=8TX9zpTqZrc      43292077     1206492.0   \n",
       "\n",
       "                                             dislike_counter  \\\n",
       "url                                                            \n",
       "https://www.youtube.com/watch?v=8TX9zpTqZrc         108613.0   \n",
       "\n",
       "                                                date_publication text      ym  \n",
       "url                                                                            \n",
       "https://www.youtube.com/watch?v=8TX9zpTqZrc  2016-10-31 00:00:00  NaN  201610  "
      ]
     },
     "execution_count": 234,
     "metadata": {},
     "output_type": "execute_result"
    }
   ],
   "source": [
    "df_videos.sort_values('like_counter', ascending = False).head(1)"
   ]
  },
  {
   "cell_type": "markdown",
   "metadata": {},
   "source": [
    "#### ролик с максимальным числом дизлайков"
   ]
  },
  {
   "cell_type": "code",
   "execution_count": 235,
   "metadata": {},
   "outputs": [
    {
     "data": {
      "text/html": [
       "<div>\n",
       "<style scoped>\n",
       "    .dataframe tbody tr th:only-of-type {\n",
       "        vertical-align: middle;\n",
       "    }\n",
       "\n",
       "    .dataframe tbody tr th {\n",
       "        vertical-align: top;\n",
       "    }\n",
       "\n",
       "    .dataframe thead th {\n",
       "        text-align: right;\n",
       "    }\n",
       "</style>\n",
       "<table border=\"1\" class=\"dataframe\">\n",
       "  <thead>\n",
       "    <tr style=\"text-align: right;\">\n",
       "      <th></th>\n",
       "      <th>title</th>\n",
       "      <th>view_counter</th>\n",
       "      <th>like_counter</th>\n",
       "      <th>dislike_counter</th>\n",
       "      <th>date_publication</th>\n",
       "      <th>text</th>\n",
       "      <th>ym</th>\n",
       "    </tr>\n",
       "    <tr>\n",
       "      <th>url</th>\n",
       "      <th></th>\n",
       "      <th></th>\n",
       "      <th></th>\n",
       "      <th></th>\n",
       "      <th></th>\n",
       "      <th></th>\n",
       "      <th></th>\n",
       "    </tr>\n",
       "  </thead>\n",
       "  <tbody>\n",
       "    <tr>\n",
       "      <th>https://www.youtube.com/watch?v=b2WoZBi5ZtI</th>\n",
       "      <td>МС ХОВАНСКИЙ - Дисс на Летсплейщиков</td>\n",
       "      <td>4247117</td>\n",
       "      <td>151829.0</td>\n",
       "      <td>330568.0</td>\n",
       "      <td>2017-05-27 00:00:00</td>\n",
       "      <td>NaN</td>\n",
       "      <td>201705</td>\n",
       "    </tr>\n",
       "  </tbody>\n",
       "</table>\n",
       "</div>"
      ],
      "text/plain": [
       "                                                                            title  \\\n",
       "url                                                                                 \n",
       "https://www.youtube.com/watch?v=b2WoZBi5ZtI  МС ХОВАНСКИЙ - Дисс на Летсплейщиков   \n",
       "\n",
       "                                             view_counter  like_counter  \\\n",
       "url                                                                       \n",
       "https://www.youtube.com/watch?v=b2WoZBi5ZtI       4247117      151829.0   \n",
       "\n",
       "                                             dislike_counter  \\\n",
       "url                                                            \n",
       "https://www.youtube.com/watch?v=b2WoZBi5ZtI         330568.0   \n",
       "\n",
       "                                                date_publication text      ym  \n",
       "url                                                                            \n",
       "https://www.youtube.com/watch?v=b2WoZBi5ZtI  2017-05-27 00:00:00  NaN  201705  "
      ]
     },
     "execution_count": 235,
     "metadata": {},
     "output_type": "execute_result"
    }
   ],
   "source": [
    "df_videos.sort_values('dislike_counter', ascending = False).head(1)"
   ]
  },
  {
   "cell_type": "markdown",
   "metadata": {},
   "source": [
    "#### ролик с минимальным рейтингом у аудитории"
   ]
  },
  {
   "cell_type": "code",
   "execution_count": 236,
   "metadata": {},
   "outputs": [
    {
     "data": {
      "text/html": [
       "<div>\n",
       "<style scoped>\n",
       "    .dataframe tbody tr th:only-of-type {\n",
       "        vertical-align: middle;\n",
       "    }\n",
       "\n",
       "    .dataframe tbody tr th {\n",
       "        vertical-align: top;\n",
       "    }\n",
       "\n",
       "    .dataframe thead th {\n",
       "        text-align: right;\n",
       "    }\n",
       "</style>\n",
       "<table border=\"1\" class=\"dataframe\">\n",
       "  <thead>\n",
       "    <tr style=\"text-align: right;\">\n",
       "      <th></th>\n",
       "      <th>title</th>\n",
       "      <th>view_counter</th>\n",
       "      <th>like_counter</th>\n",
       "      <th>dislike_counter</th>\n",
       "      <th>date_publication</th>\n",
       "      <th>text</th>\n",
       "      <th>ym</th>\n",
       "    </tr>\n",
       "    <tr>\n",
       "      <th>url</th>\n",
       "      <th></th>\n",
       "      <th></th>\n",
       "      <th></th>\n",
       "      <th></th>\n",
       "      <th></th>\n",
       "      <th></th>\n",
       "      <th></th>\n",
       "    </tr>\n",
       "  </thead>\n",
       "  <tbody>\n",
       "    <tr>\n",
       "      <th>https://www.youtube.com/watch?v=Q95xmSBv_3Q</th>\n",
       "      <td>ШАВЕРМА ИЗ ГИПЕРМАРКЕТА</td>\n",
       "      <td>870053</td>\n",
       "      <td>26150.0</td>\n",
       "      <td>41629.0</td>\n",
       "      <td>2018-03-23 00:00:00</td>\n",
       "      <td>NaN</td>\n",
       "      <td>201803</td>\n",
       "    </tr>\n",
       "    <tr>\n",
       "      <th>https://www.youtube.com/watch?v=qVz0WYKzmCw</th>\n",
       "      <td>ВЫЖИВАЕМ В СЕЗОН ГРИППА</td>\n",
       "      <td>280072</td>\n",
       "      <td>9789.0</td>\n",
       "      <td>32164.0</td>\n",
       "      <td>2018-03-21 00:00:00</td>\n",
       "      <td>NaN</td>\n",
       "      <td>201803</td>\n",
       "    </tr>\n",
       "    <tr>\n",
       "      <th>https://www.youtube.com/watch?v=071BAkdAzkc</th>\n",
       "      <td>МС ХОВАНСКИЙ - Секс, Бухло, Русский Рэп</td>\n",
       "      <td>1882290</td>\n",
       "      <td>61689.0</td>\n",
       "      <td>173695.0</td>\n",
       "      <td>2018-03-13 00:00:00</td>\n",
       "      <td>NaN</td>\n",
       "      <td>201803</td>\n",
       "    </tr>\n",
       "  </tbody>\n",
       "</table>\n",
       "</div>"
      ],
      "text/plain": [
       "                                                                               title  \\\n",
       "url                                                                                    \n",
       "https://www.youtube.com/watch?v=Q95xmSBv_3Q                  ШАВЕРМА ИЗ ГИПЕРМАРКЕТА   \n",
       "https://www.youtube.com/watch?v=qVz0WYKzmCw                  ВЫЖИВАЕМ В СЕЗОН ГРИППА   \n",
       "https://www.youtube.com/watch?v=071BAkdAzkc  МС ХОВАНСКИЙ - Секс, Бухло, Русский Рэп   \n",
       "\n",
       "                                             view_counter  like_counter  \\\n",
       "url                                                                       \n",
       "https://www.youtube.com/watch?v=Q95xmSBv_3Q        870053       26150.0   \n",
       "https://www.youtube.com/watch?v=qVz0WYKzmCw        280072        9789.0   \n",
       "https://www.youtube.com/watch?v=071BAkdAzkc       1882290       61689.0   \n",
       "\n",
       "                                             dislike_counter  \\\n",
       "url                                                            \n",
       "https://www.youtube.com/watch?v=Q95xmSBv_3Q          41629.0   \n",
       "https://www.youtube.com/watch?v=qVz0WYKzmCw          32164.0   \n",
       "https://www.youtube.com/watch?v=071BAkdAzkc         173695.0   \n",
       "\n",
       "                                                date_publication text      ym  \n",
       "url                                                                            \n",
       "https://www.youtube.com/watch?v=Q95xmSBv_3Q  2018-03-23 00:00:00  NaN  201803  \n",
       "https://www.youtube.com/watch?v=qVz0WYKzmCw  2018-03-21 00:00:00  NaN  201803  \n",
       "https://www.youtube.com/watch?v=071BAkdAzkc  2018-03-13 00:00:00  NaN  201803  "
      ]
     },
     "execution_count": 236,
     "metadata": {},
     "output_type": "execute_result"
    }
   ],
   "source": [
    "ttl = df_videos.loc[(df_videos['dislike_counter'] / df_videos['like_counter']).sort_values(ascending = True).index[-1], 'title']\n",
    "idx = np.argwhere(df_videos['title'].values == ttl).flatten()[0]\n",
    "df_videos.iloc[[idx-1,idx,idx+2]]"
   ]
  },
  {
   "cell_type": "markdown",
   "metadata": {},
   "source": [
    "#### ролик с минимальным рейтингом у аудитории"
   ]
  },
  {
   "cell_type": "code",
   "execution_count": 237,
   "metadata": {},
   "outputs": [
    {
     "data": {
      "text/html": [
       "<div>\n",
       "<style scoped>\n",
       "    .dataframe tbody tr th:only-of-type {\n",
       "        vertical-align: middle;\n",
       "    }\n",
       "\n",
       "    .dataframe tbody tr th {\n",
       "        vertical-align: top;\n",
       "    }\n",
       "\n",
       "    .dataframe thead th {\n",
       "        text-align: right;\n",
       "    }\n",
       "</style>\n",
       "<table border=\"1\" class=\"dataframe\">\n",
       "  <thead>\n",
       "    <tr style=\"text-align: right;\">\n",
       "      <th></th>\n",
       "      <th>title</th>\n",
       "      <th>view_counter</th>\n",
       "      <th>like_counter</th>\n",
       "      <th>dislike_counter</th>\n",
       "      <th>date_publication</th>\n",
       "      <th>text</th>\n",
       "      <th>ym</th>\n",
       "    </tr>\n",
       "    <tr>\n",
       "      <th>url</th>\n",
       "      <th></th>\n",
       "      <th></th>\n",
       "      <th></th>\n",
       "      <th></th>\n",
       "      <th></th>\n",
       "      <th></th>\n",
       "      <th></th>\n",
       "    </tr>\n",
       "  </thead>\n",
       "  <tbody>\n",
       "    <tr>\n",
       "      <th>https://www.youtube.com/watch?v=buwBUVhVwng</th>\n",
       "      <td>САМЫЙ ДЕШЕВЫЙ ВИСКАРЬ vs САМЫЙ ДОРОГОЙ ВИСКИ</td>\n",
       "      <td>354041</td>\n",
       "      <td>22694.0</td>\n",
       "      <td>1089.0</td>\n",
       "      <td>2020-08-01 00:00:00</td>\n",
       "      <td>NaN</td>\n",
       "      <td>202008</td>\n",
       "    </tr>\n",
       "    <tr>\n",
       "      <th>https://www.youtube.com/watch?v=PoJFMObtPfU</th>\n",
       "      <td>СМОТРИМ ГЕЙСКИЕ МОМЕНТЫ ИЗ НАШИХ РОЛИКОВ</td>\n",
       "      <td>1069221</td>\n",
       "      <td>113502.0</td>\n",
       "      <td>1443.0</td>\n",
       "      <td>2020-07-30 00:00:00</td>\n",
       "      <td>NaN</td>\n",
       "      <td>202007</td>\n",
       "    </tr>\n",
       "    <tr>\n",
       "      <th>https://www.youtube.com/watch?v=59U3lkCSHPs</th>\n",
       "      <td>НЕЗАШКВАРНЫЕ ИСТОРИИ (Хованский VS Власов)</td>\n",
       "      <td>286224</td>\n",
       "      <td>28970.0</td>\n",
       "      <td>529.0</td>\n",
       "      <td>2020-07-26 00:00:00</td>\n",
       "      <td>NaN</td>\n",
       "      <td>202007</td>\n",
       "    </tr>\n",
       "  </tbody>\n",
       "</table>\n",
       "</div>"
      ],
      "text/plain": [
       "                                                                                    title  \\\n",
       "url                                                                                         \n",
       "https://www.youtube.com/watch?v=buwBUVhVwng  САМЫЙ ДЕШЕВЫЙ ВИСКАРЬ vs САМЫЙ ДОРОГОЙ ВИСКИ   \n",
       "https://www.youtube.com/watch?v=PoJFMObtPfU      СМОТРИМ ГЕЙСКИЕ МОМЕНТЫ ИЗ НАШИХ РОЛИКОВ   \n",
       "https://www.youtube.com/watch?v=59U3lkCSHPs    НЕЗАШКВАРНЫЕ ИСТОРИИ (Хованский VS Власов)   \n",
       "\n",
       "                                             view_counter  like_counter  \\\n",
       "url                                                                       \n",
       "https://www.youtube.com/watch?v=buwBUVhVwng        354041       22694.0   \n",
       "https://www.youtube.com/watch?v=PoJFMObtPfU       1069221      113502.0   \n",
       "https://www.youtube.com/watch?v=59U3lkCSHPs        286224       28970.0   \n",
       "\n",
       "                                             dislike_counter  \\\n",
       "url                                                            \n",
       "https://www.youtube.com/watch?v=buwBUVhVwng           1089.0   \n",
       "https://www.youtube.com/watch?v=PoJFMObtPfU           1443.0   \n",
       "https://www.youtube.com/watch?v=59U3lkCSHPs            529.0   \n",
       "\n",
       "                                                date_publication text      ym  \n",
       "url                                                                            \n",
       "https://www.youtube.com/watch?v=buwBUVhVwng  2020-08-01 00:00:00  NaN  202008  \n",
       "https://www.youtube.com/watch?v=PoJFMObtPfU  2020-07-30 00:00:00  NaN  202007  \n",
       "https://www.youtube.com/watch?v=59U3lkCSHPs  2020-07-26 00:00:00  NaN  202007  "
      ]
     },
     "execution_count": 237,
     "metadata": {},
     "output_type": "execute_result"
    }
   ],
   "source": [
    "ttl = df_videos.loc[(df_videos['dislike_counter'] / df_videos['like_counter']).sort_values(ascending = True).index[0], 'title']\n",
    "idx = np.argwhere(df_videos['title'].values == ttl).flatten()[0]\n",
    "df_videos.iloc[[idx-1,idx,idx+2]]"
   ]
  },
  {
   "cell_type": "code",
   "execution_count": null,
   "metadata": {},
   "outputs": [],
   "source": []
  }
 ],
 "metadata": {
  "kernelspec": {
   "display_name": "Python 3",
   "language": "python",
   "name": "python3"
  },
  "language_info": {
   "codemirror_mode": {
    "name": "ipython",
    "version": 3
   },
   "file_extension": ".py",
   "mimetype": "text/x-python",
   "name": "python",
   "nbconvert_exporter": "python",
   "pygments_lexer": "ipython3",
   "version": "3.8.5"
  }
 },
 "nbformat": 4,
 "nbformat_minor": 4
}
