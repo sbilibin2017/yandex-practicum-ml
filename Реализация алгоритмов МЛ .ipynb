{
 "cells": [
  {
   "cell_type": "markdown",
   "metadata": {},
   "source": [
    "# Реализация основных алгоритмов машинного обучения "
   ]
  },
  {
   "cell_type": "markdown",
   "metadata": {},
   "source": [
    "#### 1. линейная регрессия (обучается стохастическим градиентым спуском+батчам)"
   ]
  },
  {
   "cell_type": "code",
   "execution_count": 1,
   "metadata": {},
   "outputs": [],
   "source": [
    "class SGDLinearRegression:\n",
    "    def __init__(self, step_size, epochs, batch_size, reg_weight):\n",
    "        self.step_size = step_size   # шаг\n",
    "        self.epochs = epochs         # число эпох \n",
    "        self.batch_size = batch_size # размер батча\n",
    "        self.reg_weight = reg_weight # регуляризация\n",
    "    \n",
    "    def fit(self, train_features, train_target):\n",
    "        \n",
    "        # добавляем единичный вектор к признакам (свободный член)\n",
    "        X = np.concatenate((np.ones((train_features.shape[0], 1)), train_features), axis=1)   \n",
    "        # целевой признак\n",
    "        y = train_target\n",
    "        # веса\n",
    "        w = np.zeros(X.shape[1])\n",
    "        \n",
    "        # повторяем epochs раз\n",
    "        for _ in range(self.epochs):\n",
    "            \n",
    "            # число батчей\n",
    "            batches_count = X.shape[0] // self.batch_size\n",
    "            \n",
    "            # проходим по батчам\n",
    "            for i in range(batches_count):\n",
    "                # начало, конец\n",
    "                begin = i * self.batch_size\n",
    "                end = (i + 1) * self.batch_size                \n",
    "                # срезаем данные\n",
    "                X_batch = X[begin:end, :]\n",
    "                y_batch = y[begin:end]\n",
    "                \n",
    "                # считаем градиент\n",
    "                gradient = 2 * X_batch.T.dot(X_batch.dot(w) - y_batch) / X_batch.shape[0]\n",
    "                \n",
    "                # добавляем штраф\n",
    "                reg = 2 * w.copy()\n",
    "                reg[0]=0\n",
    "                penalty = self.reg_weight * reg                \n",
    "                gradient += penalty\n",
    "                \n",
    "                # обновляем веса\n",
    "                w -= self.step_size * gradient\n",
    "\n",
    "        self.w = w[1:]\n",
    "        self.w0 = w[0]\n",
    "\n",
    "    def predict(self, test_features):\n",
    "        return test_features.dot(self.w) + self.w0\n"
   ]
  },
  {
   "cell_type": "markdown",
   "metadata": {},
   "source": [
    "#### 2. к-ближайших соседей для регрессии"
   ]
  },
  {
   "cell_type": "code",
   "execution_count": 7,
   "metadata": {},
   "outputs": [],
   "source": [
    "def knn_regression(X, y, n_neighbors, distance_func):\n",
    "    # предсказания\n",
    "    predictions = []    \n",
    "    # проходим по строкам\n",
    "    for i in range(X.shape[0]):        \n",
    "        # текущая строка\n",
    "        row = X[i]        \n",
    "        # остальный строки\n",
    "        other_rows = np.delete(X, i, axis=0)        \n",
    "        # находим к ближайших строк к текущей и усредняем таргет для этих строк\n",
    "        y_pred = np.mean(y[np.argsort([distance_func(row, other_row) for other_row in other_rows])[:n_neighbors]])        \n",
    "        predictions.append(y_pred)    \n",
    "    return predictions"
   ]
  }
 ],
 "metadata": {
  "kernelspec": {
   "display_name": "Python 3",
   "language": "python",
   "name": "python3"
  },
  "language_info": {
   "codemirror_mode": {
    "name": "ipython",
    "version": 3
   },
   "file_extension": ".py",
   "mimetype": "text/x-python",
   "name": "python",
   "nbconvert_exporter": "python",
   "pygments_lexer": "ipython3",
   "version": "3.8.5"
  }
 },
 "nbformat": 4,
 "nbformat_minor": 4
}
