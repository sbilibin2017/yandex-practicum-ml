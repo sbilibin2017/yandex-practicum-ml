{
 "cells": [
  {
   "cell_type": "markdown",
   "metadata": {},
   "source": [
    "# Временные ряды\n",
    "\n",
    "## Описание проекта:\n",
    "Компания «Чётенькое такси» собрала исторические данные о заказах такси в аэропортах. Чтобы привлекать больше водителей в период пиковой нагрузки, нужно спрогнозировать количество заказов такси на следующий час. Постройте модель для такого предсказания.\n",
    "Значение метрики RMSE на тестовой выборке должно быть не больше 48.\n",
    "## Описание данных:\n",
    "|признак|описание|\n",
    "|---|---|\n",
    "|num_orders|число заказов|\n",
    "\n",
    "## Оптимизируемая метрика качества:\n",
    "\n",
    "\n",
    "_rmse_ = $\\sqrt{\\frac{\\sum\\limits_{i=1}^T (y'_i-y_i)^2}{T}}$\n",
    "\n",
    "\n",
    "\n",
    "## Этапы работы:\n",
    "\n",
    "0. Импорт библиотек, функция метрики, объявление констант\n",
    "\n",
    "1. Загрузка данных и ресемплирование по одному часу\n",
    "\n",
    "2. Анализ(декомпозиция, выявление выбросов)\n",
    "\n",
    "3. Обучение моделей, подбор гиперпараметров, предсказания для тестовой выборки\n",
    "\n",
    "    3.1. Извлекаем признаки (месяц, день, день недели, час, день года, неделя года, четверть года, лаги)    \n",
    "    3.2. Делим данные на тренировочную, отложенную, тестовую части    \n",
    "    3.3. Дамми-модель    \n",
    "    3.4. Создаем пайплайны    \n",
    "    3.5. Результаты на валидации и на отложенной выборках    \n",
    "    3.6. Предсказания для тестовой выборки \n",
    "    \n",
    "## Финальные выводы:\n",
    "\n",
    "* в ряде наблюдается тренд\n",
    "* остатки ряда распределены нормально\n",
    "* присутствуют выбросы (с августа 2018)\n",
    "* Lightgbm показал наилучший результат с исходными признаками, отобрав 12 наилучших из 55 исходных\n",
    "* дольше всех обучался бустинг, далее - ближайшие соседи, дерево решений и линейная регрессия обучались примерно одинаково быстро\n",
    "\n",
    "|валидационная выборка|отложенная выборка|тестовая выборка|\n",
    "|---|---|---|\n",
    "|23|32|44|\n",
    "\n",
    "* ошибка прогноза количества заказов такси на следующий час с помощью бустинга составляет не больше 45 машин"
   ]
  },
  {
   "cell_type": "markdown",
   "metadata": {},
   "source": [
    "### 0. Загрузка библиотек"
   ]
  },
  {
   "cell_type": "code",
   "execution_count": 1,
   "metadata": {},
   "outputs": [],
   "source": [
    "import pandas as pd\n",
    "import numpy as np\n",
    "import scipy.stats as stats\n",
    "import matplotlib.pyplot as plt\n",
    "import seaborn as sns\n",
    "sns.set_style('whitegrid')\n",
    "import warnings\n",
    "warnings.filterwarnings(\"ignore\") \n",
    "from tqdm import tqdm_notebook\n",
    "import os, re, sys, gc, pickle, time\n",
    "from sklearn.dummy import DummyRegressor\n",
    "from sklearn.model_selection import GridSearchCV, ParameterGrid,\\\n",
    "                                    KFold, TimeSeriesSplit,\\\n",
    "                                    train_test_split,\\\n",
    "                                    cross_validate, cross_val_score\n",
    "from sklearn.metrics import make_scorer\n",
    "from statsmodels.tsa.seasonal import seasonal_decompose\n",
    "from sklearn.tree import DecisionTreeRegressor\n",
    "from sklearn.linear_model import LinearRegression\n",
    "from sklearn.neighbors import KNeighborsRegressor\n",
    "from sklearn.ensemble import RandomForestRegressor\n",
    "from lightgbm import LGBMRegressor\n",
    "from sklearn.preprocessing import MaxAbsScaler, MinMaxScaler, OneHotEncoder \n",
    "from sklearn.base import BaseEstimator, TransformerMixin\n",
    "from sklearn.pipeline import Pipeline, make_pipeline, FeatureUnion\n",
    "from scipy.sparse import hstack, vstack, csc_matrix\n",
    "from sklearn.model_selection import RandomizedSearchCV"
   ]
  },
  {
   "cell_type": "code",
   "execution_count": 2,
   "metadata": {},
   "outputs": [
    {
     "name": "stdout",
     "output_type": "stream",
     "text": [
      "Defaulting to user installation because normal site-packages is not writeable\n",
      "Collecting category_encoders\n",
      "  Downloading category_encoders-2.2.2-py2.py3-none-any.whl (80 kB)\n",
      "\u001b[K     |████████████████████████████████| 80 kB 810 kB/s eta 0:00:011\n",
      "\u001b[?25hRequirement already satisfied: patsy>=0.5.1 in /opt/conda/lib/python3.7/site-packages (from category_encoders) (0.5.1)\n",
      "Requirement already satisfied: numpy>=1.14.0 in /opt/conda/lib/python3.7/site-packages (from category_encoders) (1.19.5)\n",
      "Requirement already satisfied: pandas>=0.21.1 in /opt/conda/lib/python3.7/site-packages (from category_encoders) (0.25.1)\n",
      "Requirement already satisfied: scikit-learn>=0.20.0 in /opt/conda/lib/python3.7/site-packages (from category_encoders) (0.21.2)\n",
      "Requirement already satisfied: statsmodels>=0.9.0 in /opt/conda/lib/python3.7/site-packages (from category_encoders) (0.10.1)\n",
      "Requirement already satisfied: scipy>=1.0.0 in /opt/conda/lib/python3.7/site-packages (from category_encoders) (1.4.1)\n",
      "Requirement already satisfied: six in /opt/conda/lib/python3.7/site-packages (from patsy>=0.5.1->category_encoders) (1.15.0)\n",
      "Requirement already satisfied: python-dateutil>=2.6.1 in /opt/conda/lib/python3.7/site-packages (from pandas>=0.21.1->category_encoders) (2.8.1)\n",
      "Requirement already satisfied: pytz>=2017.2 in /opt/conda/lib/python3.7/site-packages (from pandas>=0.21.1->category_encoders) (2021.1)\n",
      "Requirement already satisfied: joblib>=0.11 in /opt/conda/lib/python3.7/site-packages (from scikit-learn>=0.20.0->category_encoders) (1.0.1)\n",
      "Installing collected packages: category-encoders\n",
      "Successfully installed category-encoders-2.2.2\n"
     ]
    }
   ],
   "source": [
    "try:\n",
    "    import category_encoders as ce\n",
    "except:\n",
    "    !pip install category_encoders\n",
    "    import category_encoders as ce"
   ]
  },
  {
   "cell_type": "markdown",
   "metadata": {},
   "source": [
    "### 0. Метрика качества, константы"
   ]
  },
  {
   "cell_type": "code",
   "execution_count": 3,
   "metadata": {},
   "outputs": [],
   "source": [
    "def rmse(y_true, y_pred):\n",
    "    return np.sqrt(np.mean((y_true-y_pred)**2))\n",
    "rmse_scorer = make_scorer(rmse, greater_is_better=False)\n",
    "\n",
    "SEED = 13\n",
    "TSCV = TimeSeriesSplit(5)\n",
    "TEST_SIZE = .1\n",
    "ALPHA = .05"
   ]
  },
  {
   "cell_type": "markdown",
   "metadata": {},
   "source": [
    "### 1. Загрузка данных и ресемплирование по одному часу"
   ]
  },
  {
   "cell_type": "code",
   "execution_count": 4,
   "metadata": {},
   "outputs": [],
   "source": [
    "try:\n",
    "    ts_ser = pd.read_csv('/datasets/taxi.csv', parse_dates = [0], index_col = [0])['num_orders'].resample('1H').sum()\n",
    "except:\n",
    "    ts_ser = pd.read_csv('datasets/taxi.csv', parse_dates = [0], index_col = [0])['num_orders'].resample('1H').sum()    "
   ]
  },
  {
   "cell_type": "markdown",
   "metadata": {},
   "source": [
    "#### Выводы:\n",
    "* загрузка с параметрами parse_dates(парсинг даты), index_col(колонка-индекс)\n",
    "* ресемплирование с помощью метода resample"
   ]
  },
  {
   "cell_type": "markdown",
   "metadata": {},
   "source": [
    "### 2. Анализ(декомпозиция, выявление выбросов)"
   ]
  },
  {
   "cell_type": "code",
   "execution_count": 5,
   "metadata": {},
   "outputs": [],
   "source": [
    "x, y = np.arange(len(ts_ser)), ts_ser.values\n",
    "q25, q75 = np.percentile(y, [25, 75])\n",
    "iqr = q75-q25\n",
    "outliers_mask = (y<(q25-3*iqr)) | (y>(q75+3*iqr))\n",
    "poly1=np.poly1d(np.polyfit(x[~outliers_mask], y[~outliers_mask], 1))\n",
    "ts_decomp = seasonal_decompose(ts_ser.resample('1D').sum())\n",
    "ts_trend= ts_decomp.trend.dropna()\n",
    "ts_seasonal=ts_decomp.seasonal.dropna()\n",
    "ts_resid= ts_decomp.resid.dropna()"
   ]
  },
  {
   "cell_type": "code",
   "execution_count": 6,
   "metadata": {},
   "outputs": [
    {
     "data": {
      "image/png": "[encoded data removed]",
      "text/plain": [
       "<Figure size 1224x288 with 2 Axes>"
      ]
     },
     "metadata": {},
     "output_type": "display_data"
    },
    {
     "data": {
      "image/png": "[encoded data removed]",
      "text/plain": [
       "<Figure size 1224x288 with 3 Axes>"
      ]
     },
     "metadata": {},
     "output_type": "display_data"
    }
   ],
   "source": [
    "fig, (ax0, ax1) = plt.subplots(1, 2, figsize = (17, 4), gridspec_kw={'width_ratios': [3, 1]})\n",
    "ax0.plot(x,y)\n",
    "ax0.plot(sorted(x), poly1(sorted(x)), color = 'black')\n",
    "ax0.scatter(x[outliers_mask], y[outliers_mask], color ='red', s = 100)\n",
    "ax0.set_xlabel('timestamp')\n",
    "ax0.set_ylabel('value')\n",
    "ax0.set_title('number of orders by time', fontsize = 15)\n",
    "ax0.legend(['timeseries', 'linear trend', 'outliers(3iqr)'], fontsize = 13)\n",
    "\n",
    "ts_ser.hist(ax = ax1)\n",
    "ax1.set_title('distribution of num_orders', fontsize= 15)\n",
    "ax1.set_xlabel('value')\n",
    "ax1.set_ylabel('count')\n",
    "\n",
    "fig2, (ax2, ax3, ax4) = plt.subplots(1, 3, figsize = (17, 4))\n",
    "ts_trend.plot(ax = ax2)\n",
    "ax2.set_title('trend')\n",
    "\n",
    "ts_seasonal.plot(ax = ax3)\n",
    "ax3.set_title('seasonality')\n",
    "\n",
    "ts_resid.plot(ax = ax4)\n",
    "ax4.set_title('residuals')\n",
    "plt.show()"
   ]
  },
  {
   "cell_type": "markdown",
   "metadata": {},
   "source": [
    "#### Выводы:\n",
    "* наблюдается тренд\n",
    "* судя по графикам, остатки распределены нормально\n",
    "* присутствуют выбросы (с августа 2018)"
   ]
  },
  {
   "cell_type": "markdown",
   "metadata": {},
   "source": [
    "### 3. Обучение моделей, подбор гиперпараметров, предсказания для тестовой выборки"
   ]
  },
  {
   "cell_type": "code",
   "execution_count": 7,
   "metadata": {},
   "outputs": [],
   "source": [
    "def add_time_features(ts_tr, n_steps, window_size):\n",
    "    '''Извлекает признаки из ряда'''\n",
    "    # список с признаками\n",
    "    features = []    \n",
    "    \n",
    "    # месяц, день, день недели, час, день года, неделя года, четверть года\n",
    "    features.append(ts_tr.index.month)\n",
    "    features.append(ts_tr.index.day)\n",
    "    features.append(ts_tr.index.dayofweek)\n",
    "    features.append(ts_tr.index.hour)\n",
    "    features.append(ts_tr.index.dayofyear)\n",
    "    features.append(ts_tr.index.weekofyear)\n",
    "    features.append(ts_tr.index.quarter)\n",
    "    \n",
    "    feature_names = ['month', 'day', 'dayofweek', 'hour', 'dayofyear', 'weekofyear', 'quarter']\n",
    "\n",
    "    # лаги\n",
    "    for n in range(1, n_steps+1):\n",
    "        shifted = ts_tr.shift(n)\n",
    "        features.append(shifted)\n",
    "        features.append(shifted.rolling(window_size).mean())        \n",
    "        feature_names.append(f'lag_{n}')\n",
    "        feature_names.append(f'lag_{n}_rolling_{window_size}_mean')     \n",
    "    \n",
    "    df_feat = pd.DataFrame(np.column_stack(features), columns = feature_names, index = ts_tr.index).dropna()     \n",
    "    df_target = ts_tr.loc[df_feat.index]\n",
    "    return (df_feat, df_target) "
   ]
  },
  {
   "cell_type": "markdown",
   "metadata": {},
   "source": [
    "#### 3.1. Извлекаем признаки (месяц, день, день недели, час, день года, неделя года, четверть года, лаги)"
   ]
  },
  {
   "cell_type": "code",
   "execution_count": 8,
   "metadata": {},
   "outputs": [],
   "source": [
    "FEATURES, TARGETS = add_time_features(ts_ser, n_steps=24, window_size = 24)"
   ]
  },
  {
   "cell_type": "code",
   "execution_count": 9,
   "metadata": {},
   "outputs": [
    {
     "name": "stdout",
     "output_type": "stream",
     "text": [
      "размерность признаков = (4369, 55)\n"
     ]
    }
   ],
   "source": [
    "print('размерность признаков = {}'.format(FEATURES.shape))"
   ]
  },
  {
   "cell_type": "markdown",
   "metadata": {},
   "source": [
    "#### 3.2. Делим данные на тренировочную, отложенную, тестовую части"
   ]
  },
  {
   "cell_type": "code",
   "execution_count": 10,
   "metadata": {},
   "outputs": [],
   "source": [
    "x_tr, x_te, y_tr, y_te = train_test_split(FEATURES, TARGETS, test_size = TEST_SIZE, shuffle = False)\n",
    "idx_split = int(len(x_tr)*.9)"
   ]
  },
  {
   "cell_type": "markdown",
   "metadata": {},
   "source": [
    "#### 3.3. Дамми-модель"
   ]
  },
  {
   "cell_type": "code",
   "execution_count": 11,
   "metadata": {},
   "outputs": [],
   "source": [
    "cvAB = pd.DataFrame()\n",
    "durAB = pd.DataFrame()\n",
    "\n",
    "dummy_reg = DummyRegressor('mean')\n",
    "cvAB.loc['baseline', 'cv'] = np.abs(cross_val_score(dummy_reg, x_tr.iloc[:idx_split], y_tr.iloc[:idx_split],\\\n",
    "                                 cv = TSCV, scoring = rmse_scorer).mean())\n",
    "durAB.loc['baseline', 'cv'] = np.nan\n",
    "\n",
    "dummy_reg.fit(x_tr.iloc[:idx_split], y_tr.iloc[:idx_split])\n",
    "cvAB.loc['baseline', 'hold'] = rmse(y_tr.iloc[idx_split:], dummy_reg.predict(x_tr.iloc[idx_split:]))\n",
    "durAB.loc['baseline', 'hold'] = np.nan\n",
    "\n",
    "dummy_reg.fit(x_tr, y_tr)\n",
    "cvAB.loc['baseline', 'test'] = rmse(y_te, dummy_reg.predict(x_te))\n",
    "durAB.loc['baseline', 'test'] = np.nan"
   ]
  },
  {
   "cell_type": "code",
   "execution_count": 12,
   "metadata": {},
   "outputs": [
    {
     "data": {
      "text/html": [
       "<div>\n",
       "<style scoped>\n",
       "    .dataframe tbody tr th:only-of-type {\n",
       "        vertical-align: middle;\n",
       "    }\n",
       "\n",
       "    .dataframe tbody tr th {\n",
       "        vertical-align: top;\n",
       "    }\n",
       "\n",
       "    .dataframe thead th {\n",
       "        text-align: right;\n",
       "    }\n",
       "</style>\n",
       "<table border=\"1\" class=\"dataframe\">\n",
       "  <thead>\n",
       "    <tr style=\"text-align: right;\">\n",
       "      <th></th>\n",
       "      <th>cv</th>\n",
       "      <th>hold</th>\n",
       "      <th>test</th>\n",
       "    </tr>\n",
       "  </thead>\n",
       "  <tbody>\n",
       "    <tr>\n",
       "      <td>baseline</td>\n",
       "      <td>37.798434</td>\n",
       "      <td>57.774741</td>\n",
       "      <td>84.740259</td>\n",
       "    </tr>\n",
       "  </tbody>\n",
       "</table>\n",
       "</div>"
      ],
      "text/plain": [
       "                 cv       hold       test\n",
       "baseline  37.798434  57.774741  84.740259"
      ]
     },
     "execution_count": 12,
     "metadata": {},
     "output_type": "execute_result"
    }
   ],
   "source": [
    "cvAB"
   ]
  },
  {
   "cell_type": "markdown",
   "metadata": {},
   "source": [
    "#### 3.4. Создаем пайплайны\n",
    "* линейная регрессия (категории преобразуем с помощью one hot)\n",
    "* дерево решений\n",
    "* случайный лес\n",
    "* бустинг\n",
    "* кнн"
   ]
  },
  {
   "cell_type": "code",
   "execution_count": 13,
   "metadata": {},
   "outputs": [],
   "source": [
    "class SklearnHelperColumnSelector(BaseEstimator, TransformerMixin):\n",
    "    def __init__(self, columns):\n",
    "        self.columns = columns\n",
    "    def fit(self, X, y=None):\n",
    "        return self\n",
    "    def transform(self, X, y=None):\n",
    "        return X[self.columns]"
   ]
  },
  {
   "cell_type": "code",
   "execution_count": 14,
   "metadata": {},
   "outputs": [],
   "source": [
    "class SklearnHelperTargetEncoder(TransformerMixin, BaseEstimator):\n",
    "    \n",
    "    def __init__(self,  to_encode, n_iterations, nfolds_range, seed, idx_split):\n",
    "        self.n_iterations = n_iterations\n",
    "        self.nfolds_range = nfolds_range\n",
    "        self.seed = seed\n",
    "        self.idx_split = idx_split\n",
    "        self.to_encode = to_encode\n",
    "    def fit(self, X, y=None):        \n",
    "    \n",
    "        # пустые даатфреймы\n",
    "        df_enc_tr = pd.DataFrame(index = X.index[:self.idx_split], columns = self.to_encode).fillna(0.0)\n",
    "        df_enc_hold = pd.DataFrame(index = X.index[self.idx_split:], columns = self.to_encode).fillna(0.0)\n",
    "        \n",
    "        D_enc = {}\n",
    "\n",
    "        # 1) кодируем с помощью двух стратегий\n",
    "        # 2) повторяя кодирование 20 раз, используя разные разбиения на фолды\n",
    "        # 3) усредняем кодирования\n",
    "        self.encoders = []\n",
    "        n_iterations = self.n_iterations\n",
    "        for _ in tqdm_notebook(range(n_iterations)):\n",
    "            np.random.seed(self.seed+_)\n",
    "            encoder1 = ce.CatBoostEncoder(cols = self.to_encode,\\\n",
    "                                              sigma = y.mean()*np.random.choice(np.linspace(.001, .05, 1000)),\\\n",
    "                                              a = np.random.choice(range(1, 5)))                                          \n",
    "            encoder2 = ce.TargetEncoder(cols = self.to_encode, min_samples_leaf = np.random.choice(np.arange(2, 21)))\n",
    "            nfolds = np.random.choice(self.nfolds_range)\n",
    "            for tr_idx, val_idx in KFold(nfolds, random_state = self.seed+_).split(y.iloc[:self.idx_split]):\n",
    "                encoder1.fit(X[self.to_encode].iloc[tr_idx], y.iloc[tr_idx])\n",
    "                encoder2.fit(X[self.to_encode].iloc[tr_idx], y.iloc[tr_idx])\n",
    "                self.encoders.append(encoder1)\n",
    "                self.encoders.append(encoder2)\n",
    "        return self\n",
    "    def transform(self,X):\n",
    "        L=[]\n",
    "        for encoder in self.encoders:\n",
    "            L.append(encoder.transform(X[self.to_encode]))\n",
    "        return sum(L)/len(L) \n",
    "\n"
   ]
  },
  {
   "cell_type": "code",
   "execution_count": 15,
   "metadata": {},
   "outputs": [],
   "source": [
    "class SklearnHelperFeatureSelector(BaseEstimator, TransformerMixin):\n",
    "    '''\n",
    "    Отбирает признаки\n",
    "    \n",
    "    параметры:\n",
    "        1) model - модель, с помощью которой производится отбор\n",
    "        2) metric - оптимизируемая метрика качества\n",
    "        3) cv - валидация\n",
    "        4) larger_is_better - критерий оптимизации\n",
    "        5) early_stopping - ранняя остановка\n",
    "    возвращает: датасет с отобранными признаками\n",
    "    \n",
    "    '''    \n",
    "    def __init__(self, model, metric, cv, early_stopping):\n",
    "        self.model = model\n",
    "        self.metric = metric\n",
    "        self.cv = cv\n",
    "        self.early_stopping = early_stopping\n",
    "        \n",
    "    def fit(self, X, y):        \n",
    "        import scipy\n",
    "        if not(isinstance(X,scipy.sparse.csc_matrix)):\n",
    "            _X = csc_matrix(X)\n",
    "        else:\n",
    "            _X = X.copy()\n",
    "        nfeatures = _X.shape[1]    \n",
    "        scores_L = []\n",
    "        for i in tqdm_notebook(range(nfeatures)):\n",
    "            mean_score = cross_validate(self.model, _X[:, i], y, scoring= self.metric, cv = self.cv)['test_score'].mean()\n",
    "            scores_L.append(mean_score)\n",
    "            \n",
    "        order = np.argsort(scores_L)[::-1]            \n",
    "        best_score = -np.inf\n",
    "        \n",
    "        best_features, feat_to_drop = [], []\n",
    "        counter = 0\n",
    "        for i in tqdm_notebook(order):\n",
    "            current_features = best_features+[i]\n",
    "            current_score = cross_validate(self.model,\\\n",
    "                                           _X[:, current_features], y,\\\n",
    "                                           scoring= self.metric,\\\n",
    "                                           cv = self.cv)['test_score'].mean()\n",
    "            if current_score>best_score:\n",
    "                best_score = current_score\n",
    "                best_features = current_features                    \n",
    "            else:               \n",
    "                feat_to_drop.append(i)\n",
    "                counter+=1\n",
    "                if counter == self.early_stopping:\n",
    "                    break\n",
    "                    \n",
    "        feat_to_drop_before = feat_to_drop\n",
    "        feat_to_drop_after = []\n",
    "        counter = 0\n",
    "        while True:\n",
    "            for i in tqdm_notebook(feat_to_drop_before):\n",
    "                current_features = best_features+[i]\n",
    "                current_score = cross_validate(self.model,\\\n",
    "                                               _X[:, current_features], y,\\\n",
    "                                               scoring= self.metric,\\\n",
    "                                               cv = self.cv)['test_score'].mean()\n",
    "                \n",
    "                if current_score>best_score:\n",
    "                    best_score = current_score\n",
    "                    best_features = current_features   \n",
    "                    counter = 0\n",
    "                else:\n",
    "                    counter+=1\n",
    "                    feat_to_drop_after.append(i)\n",
    "                    if counter == self.early_stopping:\n",
    "                        break\n",
    "                        \n",
    "            if len(feat_to_drop_after) == len(feat_to_drop_before):\n",
    "                break \n",
    "            else:\n",
    "                feat_to_drop_before = feat_to_drop_after\n",
    "                feat_to_drop_after = []                \n",
    "                \n",
    "        self.best_features = best_features\n",
    "        self.best_score = best_score\n",
    "        \n",
    "        return self\n",
    "        \n",
    "    def transform(self, X):\n",
    "        import scipy\n",
    "        if not(isinstance(X,scipy.sparse.csc_matrix)):\n",
    "            _X = csc_matrix(X)\n",
    "        else:\n",
    "            _X = X.copy()\n",
    "                \n",
    "        return _X[:, self.best_features]"
   ]
  },
  {
   "cell_type": "code",
   "execution_count": 16,
   "metadata": {},
   "outputs": [],
   "source": [
    "columns_to_encode = ['month', 'day', 'dayofweek', 'hour', 'dayofyear', 'weekofyear', 'quarter']\n",
    "columns_other = x_tr.drop(columns_to_encode, 1).columns.tolist()"
   ]
  },
  {
   "cell_type": "code",
   "execution_count": 17,
   "metadata": {},
   "outputs": [],
   "source": [
    "pipe_ohe = Pipeline([('select columns', SklearnHelperColumnSelector(columns_to_encode)),\\\n",
    "                     ('one hot encoding', OneHotEncoder(handle_unknown='ignore'))])\n",
    "pipe_others_scale = Pipeline([('select columns', SklearnHelperColumnSelector(columns_other)),\\\n",
    "                              ('scaler', MinMaxScaler())])\n",
    "pipe_target_enc = Pipeline([('select columns', SklearnHelperColumnSelector(columns_to_encode)),\\\n",
    "                            ('target encoding', Pipeline(steps= [('target_enc',\\\n",
    "                                                             SklearnHelperTargetEncoder(to_encode = columns_to_encode,\\\n",
    "                                                                                        n_iterations= 10,\\\n",
    "                                                                                        nfolds_range = np.arange(5,21),\\\n",
    "                                                                                        seed = SEED,\\\n",
    "                                                                                        idx_split = idx_split))]))])\n",
    "pipe_raw = Pipeline([('select columns', SklearnHelperColumnSelector(columns_to_encode+columns_other)),\\\n",
    "                     ('scaler', MinMaxScaler())])\n"
   ]
  },
  {
   "cell_type": "markdown",
   "metadata": {},
   "source": [
    "<div class=\"alert alert-info\">\n",
    "    \n",
    "удалил случайный лес(долго обучается)\n",
    "    \n",
    "весь процесс занял 7 минут\n",
    "\n",
    "</div>"
   ]
  },
  {
   "cell_type": "code",
   "execution_count": 18,
   "metadata": {},
   "outputs": [],
   "source": [
    "# ('rf', RandomForestRegressor(random_state = SEED), {'max_depth' : list(range(2, 11))+[None],\\\n",
    "#                                                     'min_samples_split':[0, 2, 10]}),\\\n",
    "L_model_grid = (('lr', LinearRegression(), None),\\\n",
    "                ('knn', KNeighborsRegressor(), {'n_neighbors': list(range(1, 11))}),\\\n",
    "                ('dt', DecisionTreeRegressor(random_state = SEED), {'max_depth' : list(range(2, 11))+[None],\\\n",
    "                                                                    'min_samples_split':[0, 2, 10]}),\\\n",
    "                ('lgb', LGBMRegressor(random_state = SEED), {'max_depth': list(range(2, 11)),\\\n",
    "                                                             'num_leaves':[2, 4, 8, 16, 24, 32, 48, 64],\\\n",
    "                                                             'min_child_samples':[0, 2, 10],\\\n",
    "                                                             'subsample' : [.5, .7, 1], 'colsample_bytree':[.5, .7, 1]}))"
   ]
  },
  {
   "cell_type": "code",
   "execution_count": null,
   "metadata": {},
   "outputs": [
    {
     "data": {
      "application/vnd.jupyter.widget-view+json": {
       "model_id": "4c685ba4f6df4b63b1808b090ff2671c",
       "version_major": 2,
       "version_minor": 0
      },
      "text/plain": [
       "HBox(children=(FloatProgress(value=0.0, max=4.0), HTML(value='')))"
      ]
     },
     "metadata": {},
     "output_type": "display_data"
    },
    {
     "data": {
      "application/vnd.jupyter.widget-view+json": {
       "model_id": "2496ee5016254586a87aefc49afb6bec",
       "version_major": 2,
       "version_minor": 0
      },
      "text/plain": [
       "HBox(children=(FloatProgress(value=0.0, max=3.0), HTML(value='')))"
      ]
     },
     "metadata": {},
     "output_type": "display_data"
    },
    {
     "data": {
      "application/vnd.jupyter.widget-view+json": {
       "model_id": "56bb737ea2274281a2478fd017b1266e",
       "version_major": 2,
       "version_minor": 0
      },
      "text/plain": [
       "HBox(children=(FloatProgress(value=0.0, max=289.0), HTML(value='')))"
      ]
     },
     "metadata": {},
     "output_type": "display_data"
    },
    {
     "name": "stdout",
     "output_type": "stream",
     "text": [
      "The exact solution is  x = 0                              \n",
      "The exact solution is  x = 0                              \n",
      "The exact solution is  x = 0                              \n",
      "The exact solution is  x = 0                              \n",
      "The exact solution is  x = 0                              \n",
      "The exact solution is  x = 0                              \n",
      "The exact solution is  x = 0                              \n",
      "The exact solution is  x = 0                              \n",
      "The exact solution is  x = 0                              \n",
      "The exact solution is  x = 0                              \n",
      "The exact solution is  x = 0                              \n",
      "The exact solution is  x = 0                              \n",
      "The exact solution is  x = 0                              \n",
      "The exact solution is  x = 0                              \n",
      "The exact solution is  x = 0                              \n",
      "The exact solution is  x = 0                              \n",
      "The exact solution is  x = 0                              \n",
      "The exact solution is  x = 0                              \n",
      "The exact solution is  x = 0                              \n",
      "The exact solution is  x = 0                              \n",
      "The exact solution is  x = 0                              \n",
      "The exact solution is  x = 0                              \n",
      "The exact solution is  x = 0                              \n",
      "The exact solution is  x = 0                              \n",
      "The exact solution is  x = 0                              \n",
      "The exact solution is  x = 0                              \n",
      "The exact solution is  x = 0                              \n",
      "The exact solution is  x = 0                              \n",
      "The exact solution is  x = 0                              \n",
      "The exact solution is  x = 0                              \n",
      "The exact solution is  x = 0                              \n",
      "The exact solution is  x = 0                              \n",
      "The exact solution is  x = 0                              \n",
      "The exact solution is  x = 0                              \n",
      "The exact solution is  x = 0                              \n",
      "The exact solution is  x = 0                              \n",
      "The exact solution is  x = 0                              \n",
      "The exact solution is  x = 0                              \n",
      "The exact solution is  x = 0                              \n",
      "The exact solution is  x = 0                              \n",
      "The exact solution is  x = 0                              \n",
      "The exact solution is  x = 0                              \n",
      "The exact solution is  x = 0                              \n",
      "The exact solution is  x = 0                              \n",
      "The exact solution is  x = 0                              \n",
      "The exact solution is  x = 0                              \n",
      "The exact solution is  x = 0                              \n",
      "The exact solution is  x = 0                              \n",
      "The exact solution is  x = 0                              \n",
      "The exact solution is  x = 0                              \n",
      "The exact solution is  x = 0                              \n",
      "The exact solution is  x = 0                              \n",
      "The exact solution is  x = 0                              \n",
      "The exact solution is  x = 0                              \n",
      "The exact solution is  x = 0                              \n",
      "The exact solution is  x = 0                              \n",
      "The exact solution is  x = 0                              \n",
      "The exact solution is  x = 0                              \n",
      "The exact solution is  x = 0                              \n",
      "The exact solution is  x = 0                              \n",
      "The exact solution is  x = 0                              \n",
      "The exact solution is  x = 0                              \n",
      "The exact solution is  x = 0                              \n",
      "The exact solution is  x = 0                              \n",
      "The exact solution is  x = 0                              \n",
      "The exact solution is  x = 0                              \n",
      "The exact solution is  x = 0                              \n",
      "The exact solution is  x = 0                              \n",
      "The exact solution is  x = 0                              \n",
      "The exact solution is  x = 0                              \n",
      "The exact solution is  x = 0                              \n",
      "The exact solution is  x = 0                              \n",
      "The exact solution is  x = 0                              \n",
      "The exact solution is  x = 0                              \n",
      "The exact solution is  x = 0                              \n",
      "The exact solution is  x = 0                              \n",
      "The exact solution is  x = 0                              \n",
      "The exact solution is  x = 0                              \n",
      "The exact solution is  x = 0                              \n",
      "The exact solution is  x = 0                              \n",
      "The exact solution is  x = 0                              \n",
      "The exact solution is  x = 0                              \n",
      "The exact solution is  x = 0                              \n",
      "The exact solution is  x = 0                              \n",
      "The exact solution is  x = 0                              \n",
      "The exact solution is  x = 0                              \n",
      "The exact solution is  x = 0                              \n",
      "The exact solution is  x = 0                              \n",
      "The exact solution is  x = 0                              \n",
      "The exact solution is  x = 0                              \n",
      "The exact solution is  x = 0                              \n",
      "The exact solution is  x = 0                              \n",
      "The exact solution is  x = 0                              \n",
      "The exact solution is  x = 0                              \n",
      "The exact solution is  x = 0                              \n",
      "The exact solution is  x = 0                              \n",
      "The exact solution is  x = 0                              \n",
      "The exact solution is  x = 0                              \n",
      "The exact solution is  x = 0                              \n",
      "The exact solution is  x = 0                              \n",
      "The exact solution is  x = 0                              \n",
      "The exact solution is  x = 0                              \n",
      "The exact solution is  x = 0                              \n",
      "The exact solution is  x = 0                              \n",
      "The exact solution is  x = 0                              \n",
      "The exact solution is  x = 0                              \n",
      "The exact solution is  x = 0                              \n",
      "The exact solution is  x = 0                              \n",
      "The exact solution is  x = 0                              \n",
      "The exact solution is  x = 0                              \n",
      "The exact solution is  x = 0                              \n",
      "The exact solution is  x = 0                              \n",
      "The exact solution is  x = 0                              \n",
      "The exact solution is  x = 0                              \n",
      "The exact solution is  x = 0                              \n",
      "The exact solution is  x = 0                              \n",
      "The exact solution is  x = 0                              \n",
      "The exact solution is  x = 0                              \n",
      "The exact solution is  x = 0                              \n",
      "The exact solution is  x = 0                              \n",
      "The exact solution is  x = 0                              \n",
      "The exact solution is  x = 0                              \n",
      "The exact solution is  x = 0                              \n",
      "The exact solution is  x = 0                              \n",
      "The exact solution is  x = 0                              \n",
      "The exact solution is  x = 0                              \n",
      "The exact solution is  x = 0                              \n",
      "The exact solution is  x = 0                              \n",
      "The exact solution is  x = 0                              \n",
      "The exact solution is  x = 0                              \n",
      "The exact solution is  x = 0                              \n",
      "The exact solution is  x = 0                              \n",
      "The exact solution is  x = 0                              \n",
      "The exact solution is  x = 0                              \n",
      "The exact solution is  x = 0                              \n",
      "The exact solution is  x = 0                              \n",
      "The exact solution is  x = 0                              \n",
      "The exact solution is  x = 0                              \n",
      "The exact solution is  x = 0                              \n",
      "The exact solution is  x = 0                              \n",
      "The exact solution is  x = 0                              \n",
      "The exact solution is  x = 0                              \n",
      "The exact solution is  x = 0                              \n",
      "The exact solution is  x = 0                              \n",
      "The exact solution is  x = 0                              \n",
      "The exact solution is  x = 0                              \n",
      "The exact solution is  x = 0                              \n",
      "The exact solution is  x = 0                              \n",
      "The exact solution is  x = 0                              \n",
      "The exact solution is  x = 0                              \n",
      "The exact solution is  x = 0                              \n",
      "The exact solution is  x = 0                              \n",
      "The exact solution is  x = 0                              \n",
      "The exact solution is  x = 0                              \n",
      "The exact solution is  x = 0                              \n",
      "The exact solution is  x = 0                              \n",
      "The exact solution is  x = 0                              \n",
      "The exact solution is  x = 0                              \n",
      "The exact solution is  x = 0                              \n",
      "The exact solution is  x = 0                              \n",
      "The exact solution is  x = 0                              \n",
      "The exact solution is  x = 0                              \n",
      "The exact solution is  x = 0                              \n",
      "The exact solution is  x = 0                              \n",
      "The exact solution is  x = 0                              \n",
      "The exact solution is  x = 0                              \n",
      "The exact solution is  x = 0                              \n",
      "The exact solution is  x = 0                              \n",
      "The exact solution is  x = 0                              \n",
      "The exact solution is  x = 0                              \n",
      "The exact solution is  x = 0                              \n",
      "The exact solution is  x = 0                              \n",
      "The exact solution is  x = 0                              \n",
      "The exact solution is  x = 0                              \n",
      "The exact solution is  x = 0                              \n",
      "The exact solution is  x = 0                              \n",
      "The exact solution is  x = 0                              \n",
      "The exact solution is  x = 0                              \n",
      "The exact solution is  x = 0                              \n",
      "The exact solution is  x = 0                              \n",
      "The exact solution is  x = 0                              \n",
      "The exact solution is  x = 0                              \n",
      "The exact solution is  x = 0                              \n",
      "The exact solution is  x = 0                              \n",
      "The exact solution is  x = 0                              \n",
      "The exact solution is  x = 0                              \n",
      "The exact solution is  x = 0                              \n",
      "The exact solution is  x = 0                              \n",
      "The exact solution is  x = 0                              \n",
      "The exact solution is  x = 0                              \n",
      "The exact solution is  x = 0                              \n",
      "The exact solution is  x = 0                              \n",
      "The exact solution is  x = 0                              \n",
      "The exact solution is  x = 0                              \n",
      "The exact solution is  x = 0                              \n",
      "The exact solution is  x = 0                              \n",
      "The exact solution is  x = 0                              \n",
      "The exact solution is  x = 0                              \n",
      "The exact solution is  x = 0                              \n",
      "The exact solution is  x = 0                              \n",
      "The exact solution is  x = 0                              \n",
      "The exact solution is  x = 0                              \n",
      "The exact solution is  x = 0                              \n",
      "The exact solution is  x = 0                              \n",
      "The exact solution is  x = 0                              \n",
      "The exact solution is  x = 0                              \n",
      "The exact solution is  x = 0                              \n",
      "The exact solution is  x = 0                              \n",
      "The exact solution is  x = 0                              \n",
      "The exact solution is  x = 0                              \n",
      "The exact solution is  x = 0                              \n",
      "The exact solution is  x = 0                              \n",
      "The exact solution is  x = 0                              \n",
      "The exact solution is  x = 0                              \n",
      "The exact solution is  x = 0                              \n",
      "The exact solution is  x = 0                              \n",
      "The exact solution is  x = 0                              \n",
      "The exact solution is  x = 0                              \n",
      "The exact solution is  x = 0                              \n",
      "The exact solution is  x = 0                              \n",
      "The exact solution is  x = 0                              \n",
      "The exact solution is  x = 0                              \n",
      "The exact solution is  x = 0                              \n",
      "The exact solution is  x = 0                              \n",
      "The exact solution is  x = 0                              \n",
      "The exact solution is  x = 0                              \n",
      "The exact solution is  x = 0                              \n",
      "The exact solution is  x = 0                              \n",
      "The exact solution is  x = 0                              \n",
      "The exact solution is  x = 0                              \n",
      "The exact solution is  x = 0                              \n",
      "The exact solution is  x = 0                              \n",
      "The exact solution is  x = 0                              \n",
      "The exact solution is  x = 0                              \n",
      "The exact solution is  x = 0                              \n",
      "The exact solution is  x = 0                              \n",
      "The exact solution is  x = 0                              \n",
      "The exact solution is  x = 0                              \n",
      "The exact solution is  x = 0                              \n",
      "The exact solution is  x = 0                              \n",
      "The exact solution is  x = 0                              \n",
      "The exact solution is  x = 0                              \n",
      "The exact solution is  x = 0                              \n",
      "The exact solution is  x = 0                              \n",
      "The exact solution is  x = 0                              \n",
      "The exact solution is  x = 0                              \n",
      "The exact solution is  x = 0                              \n",
      "The exact solution is  x = 0                              \n",
      "The exact solution is  x = 0                              \n",
      "The exact solution is  x = 0                              \n",
      "The exact solution is  x = 0                              \n",
      "The exact solution is  x = 0                              \n",
      "The exact solution is  x = 0                              \n",
      "The exact solution is  x = 0                              \n",
      "The exact solution is  x = 0                              \n",
      "The exact solution is  x = 0                              \n",
      "The exact solution is  x = 0                              \n",
      "The exact solution is  x = 0                              \n",
      "The exact solution is  x = 0                              \n",
      "The exact solution is  x = 0                              \n",
      "The exact solution is  x = 0                              \n",
      "The exact solution is  x = 0                              \n",
      "The exact solution is  x = 0                              \n",
      "The exact solution is  x = 0                              \n",
      "The exact solution is  x = 0                              \n",
      "The exact solution is  x = 0                              \n",
      "The exact solution is  x = 0                              \n",
      "The exact solution is  x = 0                              \n",
      "The exact solution is  x = 0                              \n",
      "The exact solution is  x = 0                              \n",
      "The exact solution is  x = 0                              \n",
      "The exact solution is  x = 0                              \n",
      "The exact solution is  x = 0                              \n",
      "The exact solution is  x = 0                              \n",
      "The exact solution is  x = 0                              \n",
      "The exact solution is  x = 0                              \n",
      "The exact solution is  x = 0                              \n",
      "The exact solution is  x = 0                              \n",
      "The exact solution is  x = 0                              \n",
      "The exact solution is  x = 0                              \n",
      "The exact solution is  x = 0                              \n",
      "The exact solution is  x = 0                              \n",
      "The exact solution is  x = 0                              \n",
      "The exact solution is  x = 0                              \n",
      "The exact solution is  x = 0                              \n",
      "The exact solution is  x = 0                              \n",
      "The exact solution is  x = 0                              \n",
      "The exact solution is  x = 0                              \n",
      "The exact solution is  x = 0                              \n",
      "The exact solution is  x = 0                              \n",
      "The exact solution is  x = 0                              \n",
      "The exact solution is  x = 0                              \n",
      "The exact solution is  x = 0                              \n",
      "The exact solution is  x = 0                              \n",
      "The exact solution is  x = 0                              \n",
      "The exact solution is  x = 0                              \n",
      "The exact solution is  x = 0                              \n",
      "The exact solution is  x = 0                              \n",
      "The exact solution is  x = 0                              \n",
      "The exact solution is  x = 0                              \n",
      "The exact solution is  x = 0                              \n",
      "The exact solution is  x = 0                              \n",
      "The exact solution is  x = 0                              \n",
      "The exact solution is  x = 0                              \n",
      "The exact solution is  x = 0                              \n",
      "The exact solution is  x = 0                              \n",
      "The exact solution is  x = 0                              \n",
      "The exact solution is  x = 0                              \n",
      "The exact solution is  x = 0                              \n",
      "The exact solution is  x = 0                              \n",
      "The exact solution is  x = 0                              \n",
      "The exact solution is  x = 0                              \n",
      "The exact solution is  x = 0                              \n",
      "The exact solution is  x = 0                              \n",
      "The exact solution is  x = 0                              \n",
      "The exact solution is  x = 0                              \n",
      "The exact solution is  x = 0                              \n",
      "The exact solution is  x = 0                              \n",
      "The exact solution is  x = 0                              \n",
      "The exact solution is  x = 0                              \n",
      "The exact solution is  x = 0                              \n",
      "The exact solution is  x = 0                              \n",
      "The exact solution is  x = 0                              \n",
      "The exact solution is  x = 0                              \n",
      "The exact solution is  x = 0                              \n",
      "The exact solution is  x = 0                              \n",
      "The exact solution is  x = 0                              \n",
      "The exact solution is  x = 0                              \n",
      "The exact solution is  x = 0                              \n",
      "The exact solution is  x = 0                              \n",
      "The exact solution is  x = 0                              \n",
      "The exact solution is  x = 0                              \n",
      "The exact solution is  x = 0                              \n",
      "The exact solution is  x = 0                              \n",
      "The exact solution is  x = 0                              \n",
      "The exact solution is  x = 0                              \n",
      "The exact solution is  x = 0                              \n",
      "The exact solution is  x = 0                              \n",
      "The exact solution is  x = 0                              \n",
      "The exact solution is  x = 0                              \n",
      "The exact solution is  x = 0                              \n",
      "The exact solution is  x = 0                              \n",
      "The exact solution is  x = 0                              \n",
      "The exact solution is  x = 0                              \n",
      "The exact solution is  x = 0                              \n",
      "The exact solution is  x = 0                              \n",
      "The exact solution is  x = 0                              \n",
      "The exact solution is  x = 0                              \n",
      "The exact solution is  x = 0                              \n",
      "The exact solution is  x = 0                              \n",
      "The exact solution is  x = 0                              \n",
      "The exact solution is  x = 0                              \n",
      "The exact solution is  x = 0                              \n",
      "The exact solution is  x = 0                              \n",
      "The exact solution is  x = 0                              \n",
      "The exact solution is  x = 0                              \n",
      "The exact solution is  x = 0                              \n",
      "The exact solution is  x = 0                              \n",
      "The exact solution is  x = 0                              \n",
      "The exact solution is  x = 0                              \n",
      "The exact solution is  x = 0                              \n",
      "The exact solution is  x = 0                              \n",
      "The exact solution is  x = 0                              \n",
      "The exact solution is  x = 0                              \n",
      "The exact solution is  x = 0                              \n",
      "The exact solution is  x = 0                              \n",
      "The exact solution is  x = 0                              \n",
      "The exact solution is  x = 0                              \n",
      "The exact solution is  x = 0                              \n",
      "The exact solution is  x = 0                              \n",
      "The exact solution is  x = 0                              \n",
      "The exact solution is  x = 0                              \n",
      "The exact solution is  x = 0                              \n",
      "The exact solution is  x = 0                              \n",
      "The exact solution is  x = 0                              \n",
      "The exact solution is  x = 0                              \n",
      "The exact solution is  x = 0                              \n",
      "The exact solution is  x = 0                              \n",
      "The exact solution is  x = 0                              \n",
      "The exact solution is  x = 0                              \n",
      "The exact solution is  x = 0                              \n",
      "The exact solution is  x = 0                              \n",
      "The exact solution is  x = 0                              \n",
      "The exact solution is  x = 0                              \n",
      "The exact solution is  x = 0                              \n",
      "The exact solution is  x = 0                              \n",
      "The exact solution is  x = 0                              \n",
      "The exact solution is  x = 0                              \n",
      "The exact solution is  x = 0                              \n",
      "The exact solution is  x = 0                              \n",
      "The exact solution is  x = 0                              \n",
      "The exact solution is  x = 0                              \n",
      "The exact solution is  x = 0                              \n",
      "The exact solution is  x = 0                              \n",
      "The exact solution is  x = 0                              \n",
      "The exact solution is  x = 0                              \n",
      "The exact solution is  x = 0                              \n",
      "The exact solution is  x = 0                              \n",
      "The exact solution is  x = 0                              \n",
      "The exact solution is  x = 0                              \n",
      "The exact solution is  x = 0                              \n",
      "The exact solution is  x = 0                              \n",
      "The exact solution is  x = 0                              \n",
      "The exact solution is  x = 0                              \n",
      "The exact solution is  x = 0                              \n",
      "The exact solution is  x = 0                              \n",
      "The exact solution is  x = 0                              \n",
      "The exact solution is  x = 0                              \n",
      "The exact solution is  x = 0                              \n",
      "The exact solution is  x = 0                              \n",
      "The exact solution is  x = 0                              \n",
      "The exact solution is  x = 0                              \n",
      "The exact solution is  x = 0                              \n",
      "The exact solution is  x = 0                              \n",
      "The exact solution is  x = 0                              \n",
      "The exact solution is  x = 0                              \n",
      "The exact solution is  x = 0                              \n",
      "The exact solution is  x = 0                              \n",
      "The exact solution is  x = 0                              \n",
      "The exact solution is  x = 0                              \n",
      "The exact solution is  x = 0                              \n",
      "The exact solution is  x = 0                              \n",
      "The exact solution is  x = 0                              \n",
      "The exact solution is  x = 0                              \n",
      "The exact solution is  x = 0                              \n",
      "The exact solution is  x = 0                              \n",
      "The exact solution is  x = 0                              \n",
      "The exact solution is  x = 0                              \n",
      "The exact solution is  x = 0                              \n",
      "The exact solution is  x = 0                              \n",
      "The exact solution is  x = 0                              \n",
      "The exact solution is  x = 0                              \n",
      "The exact solution is  x = 0                              \n",
      "The exact solution is  x = 0                              \n",
      "The exact solution is  x = 0                              \n",
      "The exact solution is  x = 0                              \n",
      "The exact solution is  x = 0                              \n",
      "The exact solution is  x = 0                              \n",
      "The exact solution is  x = 0                              \n",
      "The exact solution is  x = 0                              \n",
      "\n"
     ]
    },
    {
     "data": {
      "application/vnd.jupyter.widget-view+json": {
       "model_id": "65dbcb239d334f18821c5be4534aedbe",
       "version_major": 2,
       "version_minor": 0
      },
      "text/plain": [
       "HBox(children=(FloatProgress(value=0.0, max=289.0), HTML(value='')))"
      ]
     },
     "metadata": {},
     "output_type": "display_data"
    },
    {
     "name": "stdout",
     "output_type": "stream",
     "text": [
      "\n"
     ]
    },
    {
     "data": {
      "application/vnd.jupyter.widget-view+json": {
       "model_id": "7a3ac0c571ef458fb538bf4b062ab10e",
       "version_major": 2,
       "version_minor": 0
      },
      "text/plain": [
       "HBox(children=(FloatProgress(value=0.0, max=188.0), HTML(value='')))"
      ]
     },
     "metadata": {},
     "output_type": "display_data"
    },
    {
     "name": "stdout",
     "output_type": "stream",
     "text": [
      "\n"
     ]
    },
    {
     "data": {
      "application/vnd.jupyter.widget-view+json": {
       "model_id": "6664d9da6fbf4d3885aeb0b99f074ee3",
       "version_major": 2,
       "version_minor": 0
      },
      "text/plain": [
       "HBox(children=(FloatProgress(value=0.0, max=176.0), HTML(value='')))"
      ]
     },
     "metadata": {},
     "output_type": "display_data"
    },
    {
     "name": "stdout",
     "output_type": "stream",
     "text": [
      "\n"
     ]
    },
    {
     "data": {
      "application/vnd.jupyter.widget-view+json": {
       "model_id": "098f5d7f00a04d0093a244aab64bf3cb",
       "version_major": 2,
       "version_minor": 0
      },
      "text/plain": [
       "HBox(children=(FloatProgress(value=0.0, max=169.0), HTML(value='')))"
      ]
     },
     "metadata": {},
     "output_type": "display_data"
    },
    {
     "name": "stdout",
     "output_type": "stream",
     "text": [
      "\n"
     ]
    },
    {
     "data": {
      "application/vnd.jupyter.widget-view+json": {
       "model_id": "7cf6c81cae2741a383d42f9629b333a5",
       "version_major": 2,
       "version_minor": 0
      },
      "text/plain": [
       "HBox(children=(FloatProgress(value=0.0, max=10.0), HTML(value='')))"
      ]
     },
     "metadata": {},
     "output_type": "display_data"
    }
   ],
   "source": [
    "D_ppl_res ={}\n",
    "L_results = []\n",
    "\n",
    "for model_name, model, grid in tqdm_notebook(L_model_grid, total = len(L_model_grid)):     \n",
    "    if model_name == 'lr':\n",
    "        names = ('ohe', 'target', 'raw')\n",
    "        pipelines = (Pipeline([('preprocessing', FeatureUnion([('ohe',pipe_ohe), ('scale', pipe_others_scale)])),\\\n",
    "                               ('feature selection', SklearnHelperFeatureSelector(model = model,\\\n",
    "                                                                               metric = rmse_scorer,\\\n",
    "                                                                               cv =TSCV,\\\n",
    "                                                                               early_stopping=None))]),\\\n",
    "                     Pipeline([('preprocessing', FeatureUnion([('target_enc',pipe_target_enc), ('scale', pipe_others_scale)])),\\\n",
    "                               ('feature selection', SklearnHelperFeatureSelector(model = model,\\\n",
    "                                                                                  metric = rmse_scorer,\\\n",
    "                                                                                  cv =TSCV,\\\n",
    "                                                                                  early_stopping=None))]),\\\n",
    "                     Pipeline([('preprocessing', FeatureUnion([('scale', pipe_raw)])),\\\n",
    "                               ('feature selection', SklearnHelperFeatureSelector(model = model,\\\n",
    "                                                                                metric = rmse_scorer,\\\n",
    "                                                                                cv =TSCV,\\\n",
    "                                                                                early_stopping=None))]))    \n",
    "    else:\n",
    "        names = ('target', 'raw')\n",
    "        pipelines = (Pipeline([('preprocessing', FeatureUnion([('target_enc',pipe_target_enc), ('scale', pipe_others_scale)])),\\\n",
    "                               ('feature selection', SklearnHelperFeatureSelector(model = model,\\\n",
    "                                                                                  metric = rmse_scorer,\\\n",
    "                                                                                  cv =TSCV,\\\n",
    "                                                                                  early_stopping=None))]),\\\n",
    "                     Pipeline([('preprocessing', FeatureUnion([('scale', pipe_raw)])),\\\n",
    "                               ('feature selection', SklearnHelperFeatureSelector(model = model,\\\n",
    "                                                                                metric = rmse_scorer,\\\n",
    "                                                                                cv =TSCV,\\\n",
    "                                                                                early_stopping=None))]))  \n",
    "    for ppl_name, ppl in tqdm_notebook(zip(names, pipelines), total = len(pipelines)):\n",
    "        key = '.'.join([model_name, ppl_name])\n",
    "        ppl.fit(x_tr.iloc[:idx_split], y_tr.iloc[:idx_split])\n",
    "        x_sel_tr, x_sel_te = ppl.transform(x_tr), ppl.transform(x_te)\n",
    "        D_ppl_res[key] = {'tr':x_sel_tr, 'te':x_sel_te}   \n",
    "        \n",
    "        if model_name != 'lr':\n",
    "            start = time.time()\n",
    "            rs = RandomizedSearchCV(estimator = model,\\\n",
    "                                    param_distributions = grid,\\\n",
    "                                    n_iter = 5,\\\n",
    "                                    random_state=SEED,\\\n",
    "                                    scoring = rmse_scorer,\\\n",
    "                                    cv = TSCV)\n",
    "            if model_name == 'lgb':\n",
    "                rs.fit(x_sel_tr[:idx_split], y_tr.iloc[:idx_split])\n",
    "                curr_model = model.set_params(**rs.best_params_)\n",
    "                rs2 = GridSearchCV(estimator =curr_model,\\\n",
    "                                   param_grid = {'learning_rate': np.linspace(.01, .1, 10)},\\\n",
    "                                   scoring = rmse_scorer, cv = TSCV)\n",
    "                rs2.fit(x_sel_tr[:idx_split], y_tr.iloc[:idx_split])\n",
    "                best_est = rs2.best_estimator_\n",
    "                best_cv_score = rs2.best_score_           \n",
    "\n",
    "            else:            \n",
    "                rs.fit(x_sel_tr[:idx_split], y_tr.iloc[:idx_split])\n",
    "                best_est = rs.best_estimator_\n",
    "                best_cv_score = rs.best_score_\n",
    "            end = time.time()\n",
    "            holdout_score = rmse(y_tr.iloc[idx_split:], best_est.predict(x_sel_tr[idx_split:]))\n",
    "            \n",
    "            L_results.append((model_name, ppl_name, np.abs(best_cv_score), holdout_score, round(end-start), str(best_est.get_params())))            \n",
    "        else:\n",
    "            start = time.time()\n",
    "            best_cv_score = cross_val_score(model, x_sel_tr[:idx_split], y_tr.iloc[:idx_split],\\\n",
    "                                            scoring = rmse_scorer, cv = TSCV).mean()\n",
    "            end = time.time()\n",
    "            \n",
    "            model.fit(x_sel_tr[:idx_split], y_tr.iloc[:idx_split])\n",
    "            holdout_score = rmse(y_tr.iloc[idx_split:], model.predict(x_sel_tr[idx_split:]))\n",
    "        \n",
    "            L_results.append((model_name, ppl_name, np.abs(best_cv_score), holdout_score, 5*round(end-start), None))\n",
    "            \n"
   ]
  },
  {
   "cell_type": "markdown",
   "metadata": {},
   "source": [
    "<div class=\"alert alert-info\">    \n",
    "если посчиталось\n",
    "</div>"
   ]
  },
  {
   "cell_type": "code",
   "execution_count": null,
   "metadata": {},
   "outputs": [],
   "source": [
    "report_df = pd.DataFrame(L_results, columns = ['model', 'features', 'rmse_cv', 'rmse_hold', 'duration', 'best_params'])\\\n",
    "              .sort_values(by = 'rmse_hold').reset_index(drop = True)"
   ]
  },
  {
   "cell_type": "code",
   "execution_count": null,
   "metadata": {},
   "outputs": [],
   "source": [
    "report_df"
   ]
  },
  {
   "cell_type": "markdown",
   "metadata": {},
   "source": [
    "<div class=\"alert alert-info\">\n",
    "    \n",
    "если не посчиталось\n",
    "\n",
    "</div>"
   ]
  },
  {
   "cell_type": "code",
   "execution_count": null,
   "metadata": {},
   "outputs": [],
   "source": [
    "val = [['lgb', 'raw', 23.855457663275104, 32.032649061878196, 4,\n",
    "        \"{'boosting_type': 'gbdt', 'class_weight': None, 'colsample_bytree': 1, 'importance_type': 'split', 'learning_rate': 0.1, 'max_depth': 5, 'min_child_samples': 2, 'min_child_weight': 0.001, 'min_split_gain': 0.0, 'n_estimators': 100, 'n_jobs': -1, 'num_leaves': 32, 'objective': None, 'random_state': 13, 'reg_alpha': 0.0, 'reg_lambda': 0.0, 'silent': True, 'subsample': 0.7, 'subsample_for_bin': 200000, 'subsample_freq': 0}\"],\n",
    "       ['lgb', 'target', 22.628722606177938, 32.15724372168993, 4,\n",
    "        \"{'boosting_type': 'gbdt', 'class_weight': None, 'colsample_bytree': 1, 'importance_type': 'split', 'learning_rate': 0.04000000000000001, 'max_depth': 5, 'min_child_samples': 2, 'min_child_weight': 0.001, 'min_split_gain': 0.0, 'n_estimators': 100, 'n_jobs': -1, 'num_leaves': 32, 'objective': None, 'random_state': 13, 'reg_alpha': 0.0, 'reg_lambda': 0.0, 'silent': True, 'subsample': 0.7, 'subsample_for_bin': 200000, 'subsample_freq': 0}\"],\n",
    "       ['knn', 'raw', 24.481648722555793, 32.979438671944436, 1,\n",
    "        \"{'algorithm': 'auto', 'leaf_size': 30, 'metric': 'minkowski', 'metric_params': None, 'n_jobs': None, 'n_neighbors': 7, 'p': 2, 'weights': 'uniform'}\"],\n",
    "       ['lr', 'raw', 24.610917606655743, 33.44578358123418, 0, None],\n",
    "       ['lr', 'ohe', 22.424979823128663, 33.51671870908895, 0, None],\n",
    "       ['lr', 'target', 22.631566854720358, 36.950278279416736, 0, None],\n",
    "       ['dt', 'target', 29.298229850940828, 44.806871322247936, 0,\n",
    "        \"{'ccp_alpha': 0.0, 'criterion': 'mse', 'max_depth': 2, 'max_features': None, 'max_leaf_nodes': None, 'min_impurity_decrease': 0.0, 'min_impurity_split': None, 'min_samples_leaf': 1, 'min_samples_split': 2, 'min_weight_fraction_leaf': 0.0, 'presort': 'deprecated', 'random_state': 13, 'splitter': 'best'}\"],\n",
    "       ['dt', 'raw', 29.298229850940828, 44.806871322247936, 0,\n",
    "        \"{'ccp_alpha': 0.0, 'criterion': 'mse', 'max_depth': 2, 'max_features': None, 'max_leaf_nodes': None, 'min_impurity_decrease': 0.0, 'min_impurity_split': None, 'min_samples_leaf': 1, 'min_samples_split': 2, 'min_weight_fraction_leaf': 0.0, 'presort': 'deprecated', 'random_state': 13, 'splitter': 'best'}\"],\n",
    "       ['knn', 'target', 23.450614621482412, 47.582203537062604, 1,\n",
    "        \"{'algorithm': 'auto', 'leaf_size': 30, 'metric': 'minkowski', 'metric_params': None, 'n_jobs': None, 'n_neighbors': 7, 'p': 2, 'weights': 'uniform'}\"]]\n",
    "cols = ['model', 'features', 'rmse_cv', 'rmse_hold', 'duration', 'best_params']\n",
    "idxs = report_df.index\n",
    "report_df_c = pd.DataFrame(val, columns = cols, index = idxs)"
   ]
  },
  {
   "cell_type": "code",
   "execution_count": null,
   "metadata": {},
   "outputs": [],
   "source": [
    "report_df_c"
   ]
  },
  {
   "cell_type": "markdown",
   "metadata": {},
   "source": [
    "#### 3.5. Результаты на валидации и на отложенной выборках"
   ]
  },
  {
   "cell_type": "markdown",
   "metadata": {},
   "source": [
    "<div class=\"alert alert-info\">    \n",
    "если посчиталось\n",
    "</div>"
   ]
  },
  {
   "cell_type": "code",
   "execution_count": null,
   "metadata": {},
   "outputs": [],
   "source": [
    "plt.figure(figsize = (12, 4))\n",
    "ax0 = plt.subplot(1, 2, 1)\n",
    "report_df.set_index(['model', 'features'])[['rmse_cv','rmse_hold']].plot(kind = 'barh', ax = ax0)\n",
    "plt.title('rmse(cv&hold)', fontsize = 20)\n",
    "plt.xlabel('rmse')\n",
    "\n",
    "ax1 = plt.subplot(1, 2, 2)\n",
    "report_df.set_index(['model', 'features'])['duration'].plot(kind = 'barh', ax = ax1)\n",
    "plt.title('duration', fontsize = 20)\n",
    "plt.xlabel('seconds')\n",
    "\n",
    "plt.subplots_adjust(wspace = .5)"
   ]
  },
  {
   "cell_type": "markdown",
   "metadata": {},
   "source": [
    "<div class=\"alert alert-info\">    \n",
    "если не посчиталось\n",
    "</div>"
   ]
  },
  {
   "cell_type": "code",
   "execution_count": null,
   "metadata": {},
   "outputs": [],
   "source": [
    "plt.figure(figsize = (12, 4))\n",
    "ax0 = plt.subplot(1, 2, 1)\n",
    "report_df_c.set_index(['model', 'features'])[['rmse_cv','rmse_hold']].plot(kind = 'barh', ax = ax0)\n",
    "plt.title('rmse(cv&hold)', fontsize = 20)\n",
    "plt.xlabel('rmse')\n",
    "\n",
    "ax1 = plt.subplot(1, 2, 2)\n",
    "report_df_c.set_index(['model', 'features'])['duration'].plot(kind = 'barh', ax = ax1)\n",
    "plt.title('duration', fontsize = 20)\n",
    "plt.xlabel('seconds')\n",
    "\n",
    "plt.subplots_adjust(wspace = .5)"
   ]
  },
  {
   "cell_type": "markdown",
   "metadata": {},
   "source": [
    "#### Выводы:\n",
    "* дерево решений, ближайшие соседи и бустинг переобучились\n",
    "* линейная регрессия показала наилучший результат с исходными признаками, отобрав 8 наилучших\n",
    "* метрика на валидации: -9.045148e-14, на отложенной: -1.315447e-13\n",
    "* дольше всех обучался бустинг, далее - ближайшие соседи, дерево решений и линейная регрессия обучались примерно одинаково быстро"
   ]
  },
  {
   "cell_type": "markdown",
   "metadata": {},
   "source": [
    "#### 3.6. Предсказания для тестовой выборки"
   ]
  },
  {
   "cell_type": "code",
   "execution_count": null,
   "metadata": {},
   "outputs": [],
   "source": [
    "best_params = {'boosting_type': 'gbdt',\\\n",
    "                            'class_weight': None,\\\n",
    "                            'colsample_bytree': 1,\\\n",
    "                            'importance_type': 'split',\\\n",
    "                            'learning_rate': 0.1,\\\n",
    "                            'max_depth': 5,\\\n",
    "                            'min_child_samples': 2,\\\n",
    "                            'min_child_weight': 0.001,\\\n",
    "                            'min_split_gain': 0.0,\\\n",
    "                            'n_estimators': 100,\\\n",
    "                            'n_jobs': -1,\\\n",
    "                            'num_leaves': 32,\\\n",
    "                            'objective': None,\\\n",
    "                            'random_state': 13,\\\n",
    "                            'reg_alpha': 0.0,\\\n",
    "                            'reg_lambda': 0.0,\\\n",
    "                            'silent': True,\\\n",
    "                            'subsample': 0.7,\\\n",
    "                            'subsample_for_bin': 200000,\\\n",
    "                            'subsample_freq': 0}"
   ]
  },
  {
   "cell_type": "code",
   "execution_count": null,
   "metadata": {},
   "outputs": [],
   "source": [
    "lgb_reg = LGBMRegressor()\n",
    "best_model = lgb_reg.set_params(**best_params)\n",
    "x_lgb_tr = D_ppl_res['lgb.raw']['tr']\n",
    "x_lgb_te = D_ppl_res['lgb.raw']['te']\n",
    "\n",
    "best_model.fit(x_lgb_tr, y_tr)\n",
    "y_pred_te = best_model.predict(x_lgb_te)\n",
    "rmse_test = rmse(y_te, y_pred_te)\n",
    "print('rmse(тест) = {}'.format(rmse_test))"
   ]
  },
  {
   "cell_type": "markdown",
   "metadata": {},
   "source": [
    "## Финальные выводы:\n",
    "\n",
    "* в ряде наблюдается тренд\n",
    "* остатки ряда распределены нормально\n",
    "* присутствуют выбросы (с августа 2018)\n",
    "* Lightgbm показал наилучший результат с исходными признаками, отобрав 12 наилучших из 55 исходных\n",
    "* дольше всех обучался бустинг, далее - ближайшие соседи, дерево решений и линейная регрессия обучались примерно одинаково быстро\n",
    "\n",
    "|валидационная выборка|отложенная выборка|тестовая выборка|\n",
    "|---|---|---|\n",
    "|23|32|44|\n",
    "\n",
    "* ошибка прогноза количества заказов такси на следующий час с помощью бустинга составляет не больше 45 машин"
   ]
  }
 ],
 "metadata": {
  "kernelspec": {
   "display_name": "Python 3",
   "language": "python",
   "name": "python3"
  },
  "language_info": {
   "codemirror_mode": {
    "name": "ipython",
    "version": 3
   },
   "file_extension": ".py",
   "mimetype": "text/x-python",
   "name": "python",
   "nbconvert_exporter": "python",
   "pygments_lexer": "ipython3",
   "version": "3.8.5"
  },
  "toc": {
   "base_numbering": 1,
   "nav_menu": {},
   "number_sections": true,
   "sideBar": true,
   "skip_h1_title": true,
   "title_cell": "Table of Contents",
   "title_sidebar": "Contents",
   "toc_cell": false,
   "toc_position": {},
   "toc_section_display": true,
   "toc_window_display": false
  }
 },
 "nbformat": 4,
 "nbformat_minor": 4
}
