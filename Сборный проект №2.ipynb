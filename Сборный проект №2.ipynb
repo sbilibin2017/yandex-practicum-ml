{
 "cells": [
  {
   "cell_type": "markdown",
   "metadata": {},
   "source": [
    "# Сборный проект №2\n",
    "\n",
    "## Постановка задачи\n",
    "\n",
    "Подготовьте прототип модели машинного обучения для «Цифры». Компания разрабатывает решения для эффективной работы промышленных предприятий.\n",
    "Модель должна предсказать коэффициент восстановления золота из золотосодержащей руды. В вашем распоряжении данные с параметрами добычи и очистки.\n",
    "Модель поможет оптимизировать производство, чтобы не запускать предприятие с убыточными характеристиками.\n",
    "   \n",
    "## Технологический процесс\n",
    "\n",
    "Когда добытая руда проходит первичную обработку, получается дроблёная смесь. Её отправляют на флотацию (обогащение) и двухэтапную очистку.\n",
    "\n",
    "1. Флотация\n",
    "Во флотационную установку подаётся смесь золотосодержащей руды. После обогащения получается черновой концентрат и «отвальные хвосты», то есть остатки продукта с низкой концентрацией ценных металлов.\n",
    "На стабильность этого процесса влияет непостоянное и неоптимальное физико-химическое состояние флотационной пульпы (смеси твёрдых частиц и жидкости).\n",
    "2. Очистка\n",
    "Черновой концентрат проходит две очистки. На выходе получается финальный концентрат и новые отвальные хвосты.\n",
    "\n",
    "## Описание данных\n",
    "\n",
    "* Технологический процесс\n",
    "\n",
    "|признак|описание|\n",
    "|---|---|\n",
    "|Rougher feed|исходное сырье|\n",
    "|Rougher additions (или reagent additions)|флотационные реагенты: Xanthate, Sulphate, Depressant|\n",
    "|Xanthate|ксантогенат (промотер, или активатор флотации)|\n",
    "|Sulphate|сульфат (на данном производстве сульфид натрия)|\n",
    "|Depressant|депрессант (силикат натрия)|\n",
    "|Rougher process (англ. «грубый процесс»)|флотация|\n",
    "|Rougher tails|отвальные хвосты|\n",
    "|Float banks|флотационная установка|\n",
    "|Cleaner process|очистка|\n",
    "|Rougher Au|черновой концентрат золота|\n",
    "|Final Au|финальный концентрат золота|\n",
    "\n",
    "* Параметры этапов\n",
    "\n",
    "|признак|описание|\n",
    "|---|---|\n",
    "|air amount|объём воздуха|\n",
    "|fluid levels|уровень жидкости|\n",
    "|feed size|размер гранул сырья|\n",
    "|feed rate|скорость подачи|\n",
    "\n",
    "## Наименование признаков\n",
    "\n",
    "[этап].[тип_параметра].[название_параметра]\n",
    "\n",
    "## Метрика качества\n",
    "sMAPE\n",
    "\n",
    "## целевой признак - эффективность обогащения(recovery)\n",
    "\n",
    "* C — доля золота в концентрате после флотации/очистки;\n",
    "* F — доля золота в сырье/концентрате до флотации/очистки;\n",
    "* T — доля золота в отвальных хвостах после флотации/очистки.\n",
    "\n",
    "## Recovery = C*(F-T) / F(C-T)\n",
    "\n",
    "## Содержание:\n",
    "\n",
    "1. Подготовка данных\n",
    "\n",
    "    1.1 импорт библиотек    \n",
    "    1.2 загрузка данных    \n",
    "    1.3 производственный процесс    \n",
    "    1.4 ставим в трейне признаки, присутствующие в тесте, выделим признаки, отсутствующие в тесте    \n",
    "    1.5 сортируем признаки в порядке выполнения производственного процесса    \n",
    "    1.6 отделяем данные о черновом и финальном концентратах    \n",
    "    1.7 проверка того, что эффективность обогащения рассчитана правильно    \n",
    "    1.8 анализ признаков, недоступные в тестовой выборке. Что это за параметры? К какому типу относятся?\n",
    "    \n",
    "2. Проанализируйте данные\n",
    "\n",
    "    2.1 изменение концентрации металлов (Au, Ag, Pb) на различных этапах очистки\n",
    "    2.2 сравнение распределения размеров гранул сырья на обучающей и тестовой выборках. \n",
    "    \n",
    "3. Моделирование\n",
    "\n",
    "    3.1 функция для вычисления итоговой sMAPE    \n",
    "    3.2 обучение разных моделей и оценение их качества\n",
    "    \n",
    "    \n",
    "## Выводы:\n",
    "\n",
    "* присутствуют поторяющиеся строки (удалим)\n",
    "* доли nan в трейне и тесте распределены по-разному(в тесте не превышают 0.06, в трейне - 0.11\n",
    "* в общем случае nan не больше ~.03\n",
    "* отсутствующие признаки - характеристики, вычисляемые после производственного процесса\n",
    "* похоже, названия целевых переменных поменяли местами(эффективность финального концентрата должна быть выше эффективности исходного)\n",
    "* присутствуют нулевые значения (ими, скорее всего, были заполнены пропуски)\n",
    "* присутствуют характеристики, которые измеряются после технологического процесса, поэтому они отсутствуют в тесте\n",
    "* элементы: ag, pb, au, sol\n",
    "* оставим индексы с ненулевым и не nan таргетом\n",
    "* на этапе очистки доли концентратов au, pb, sol выше долей хвостов (более чистая смесь?)\n",
    "* по-разному меняются и другие характеристики\n",
    "* пропущенные значения выбрасывать не будем \n",
    "распределения всех признаков в тесте и трейне разные, средние одинаковые (кроме rougher.state.floatbank10_c_air - удалим его)\n",
    "* некоторые признаки сильно коррелируют\n",
    "\n",
    "* rougher\n",
    "\n",
    "|model|mean_cv|selected_mean_cv|selected_tuned_mean_cv|\n",
    "|---|---|---|---|\n",
    "|knn|0.05699422802640525|0.057002354820046966|0.05183314030498091|\n",
    "|rf|0.061685970929276704|0.06133283616656747|0.05984908420063571|\n",
    "|lgb|0.06426503666545977|0.06427432693402922|0.06427432693402922|\n",
    "|dt|0.08442023177247264|0.08241751761381276|0.07488083851825938|\n",
    "|lr|0.08166464578609513|0.0815814493978417|nan|\n",
    "\n",
    "* cleaner\n",
    "\n",
    "|model|mean_cv|selected_mean_cv|selected_tuned_mean_cv|\n",
    "|---|---|---|---|\n",
    "|knn|0.026036926803692195|0.026005871675204746|0.025940401654386214|\n",
    "|rf|0.02894559464732761|0.02892127029336186|0.02892127029336186|\n",
    "|lgb|0.03429881236117789|0.03430279815616245|0.03430279815616245|\n",
    "|dt|0.03693996050387871|0.0360232113210459|0.0360232113210459|\n",
    "|lr|0.04902270002712837|0.04901779349679982|nan|\n",
    "\n",
    "* финальная метрика  0.06201079755301554\n",
    "\n",
    "## Вывод: \n",
    "* обработка включает в себя 2 этапа\n",
    "* для каждого этапа требовалось предсказать эффективность месторождения\n",
    "* финальная эффективность считалась как взвешенная сумма (.25 * концетрат + .75 * финальный концентрат)\n",
    "* были использованы моедли: линейная регрессия, решающее дерево, случайный лес, бустинг, ближайшие соседи\n",
    "* лучше всего показали себя ближайшие соседи\n",
    "* это связано с особенностями данных: предсказывать эффектитвность точки логично по эффективностям похожих на эту точку месторождений"
   ]
  },
  {
   "cell_type": "markdown",
   "metadata": {},
   "source": [
    "## 1. Подготовьте данные"
   ]
  },
  {
   "cell_type": "markdown",
   "metadata": {},
   "source": [
    "### 1.1 импорт библиотек"
   ]
  },
  {
   "cell_type": "code",
   "execution_count": 1,
   "metadata": {},
   "outputs": [],
   "source": [
    "import pandas as pd\n",
    "import numpy as np\n",
    "from scipy import stats\n",
    "import matplotlib.pyplot as plt\n",
    "import seaborn as sns\n",
    "from collections import defaultdict\n",
    "plt.style.use('ggplot')\n",
    "import warnings\n",
    "warnings.filterwarnings('ignore')\n",
    "from sklearn.metrics import make_scorer\n",
    "from sklearn.model_selection import train_test_split,cross_validate, TimeSeriesSplit\n",
    "from sklearn.preprocessing import MinMaxScaler\n",
    "from lightgbm import LGBMRegressor\n",
    "from sklearn.ensemble import RandomForestRegressor\n",
    "from sklearn.tree import DecisionTreeRegressor\n",
    "from sklearn.linear_model import LinearRegression\n",
    "from tqdm import tqdm_notebook\n",
    "from sklearn.preprocessing import OneHotEncoder\n",
    "from scipy.sparse import hstack, csc_matrix\n",
    "from sklearn.model_selection import GridSearchCV, ParameterGrid\n",
    "import time\n",
    "from sklearn.model_selection import cross_val_score\n",
    "from sklearn.model_selection import KFold\n",
    "import category_encoders as ce\n",
    "from sklearn.neighbors import KNeighborsRegressor\n",
    "from sklearn.svm import SVR\n",
    "from sklearn.base import BaseEstimator\n",
    "\n",
    "SEED = 13\n",
    "ALPHA = .05"
   ]
  },
  {
   "cell_type": "markdown",
   "metadata": {},
   "source": [
    "### 1.2 загрузка данных\n"
   ]
  },
  {
   "cell_type": "code",
   "execution_count": 2,
   "metadata": {},
   "outputs": [],
   "source": [
    "df_train = pd.read_csv('datasets/gold_recovery_train.csv.', parse_dates =True, index_col = 0).sort_index()\n",
    "df_test = pd.read_csv('datasets/gold_recovery_test.csv.', parse_dates =True, index_col = 0).sort_index()\n",
    "df_full = pd.read_csv('datasets/gold_recovery_full.csv.', parse_dates =True, index_col = 0).sort_index()"
   ]
  },
  {
   "cell_type": "code",
   "execution_count": 3,
   "metadata": {},
   "outputs": [
    {
     "data": {
      "image/png": "[encoded data removed]",
      "text/plain": [
       "<Figure size 360x288 with 1 Axes>"
      ]
     },
     "metadata": {},
     "output_type": "display_data"
    }
   ],
   "source": [
    "plt.figure(figsize = (5, 4))\n",
    "df_train.isna().mean().hist(density=1, alpha = .5)\n",
    "df_test.isna().mean().hist(density=1, alpha = .5)\n",
    "plt.title('nan shares by featuers')\n",
    "plt.xlabel('nan share')\n",
    "plt.ylabel('count')\n",
    "plt.legend(['train', 'test'])\n",
    "plt.show()"
   ]
  },
  {
   "cell_type": "code",
   "execution_count": 4,
   "metadata": {},
   "outputs": [
    {
     "name": "stdout",
     "output_type": "stream",
     "text": [
      "доля дубликатов строк в трейне = 0.00095\n",
      "доля дубликатов строк в тесте = 0.00102\n"
     ]
    }
   ],
   "source": [
    "print('доля дубликатов строк в трейне = {:.5f}'.format(df_train.duplicated().mean()))\n",
    "print('доля дубликатов строк в тесте = {:.5f}'.format(df_test.duplicated().mean()))"
   ]
  },
  {
   "cell_type": "code",
   "execution_count": 5,
   "metadata": {},
   "outputs": [],
   "source": [
    "df_test = df_test[~df_test.duplicated()]"
   ]
  },
  {
   "cell_type": "markdown",
   "metadata": {},
   "source": [
    "#### Выводы: \n",
    "* удалим повторяющиеся строки\n",
    "* доли nan в трейне и тесте распределены по-разному(в тесте не превышают 0.06, в трейне - 0.11\n",
    "* в общем случае nan не больше ~.03"
   ]
  },
  {
   "cell_type": "markdown",
   "metadata": {},
   "source": [
    "### 1.3 производственный процесс\n"
   ]
  },
  {
   "cell_type": "code",
   "execution_count": 6,
   "metadata": {},
   "outputs": [
    {
     "name": "stdout",
     "output_type": "stream",
     "text": [
      "\t\t\t\tСмесь золотоносной руды\n",
      "\t\t\t\t\t\t|\n",
      "\t\t\t\t\t\t|\n",
      "\t\t\t\t\t\tV\n",
      "\t\t\t\t\t   Флотация\n",
      "\t\t\t\t\t\t|\n",
      "\t\t\t\t\t\t|\n",
      "\t\t\t\t\t\tV\n",
      "\t\t\tчерновой концентрат\t   отвальные хвосты\n",
      "\t\t\t\t\t\t|\n",
      "\t\t\t\t\t\t|\n",
      "\t\t\t\t\t\tV\n",
      "\t\t\tпервый этап очистки\n",
      "\t\t\t\t\t\t|\n",
      "\t\t\t\t\t\t|\n",
      "\t\t\t\t\t\tV\n",
      "\t\t\tвторой этап очистки\n",
      "\t\t\t\t\t\t|\n",
      "\t\t\t\t\t\t|\n",
      "\t\t\t\t\t\tV\n",
      "\t\t\tфинальный концентрат\t+  отвальные хвосты\n"
     ]
    }
   ],
   "source": [
    "print('\\t\\t\\t\\tСмесь золотоносной руды')\n",
    "print('\\t\\t\\t\\t\\t\\t|')\n",
    "print('\\t\\t\\t\\t\\t\\t|')\n",
    "print('\\t\\t\\t\\t\\t\\tV')\n",
    "print('\\t\\t\\t\\t\\t   Флотация')\n",
    "print('\\t\\t\\t\\t\\t\\t|')\n",
    "print('\\t\\t\\t\\t\\t\\t|')\n",
    "print('\\t\\t\\t\\t\\t\\tV')\n",
    "print('\\t\\t\\tчерновой концентрат\\t   отвальные хвосты')\n",
    "print('\\t\\t\\t\\t\\t\\t|')\n",
    "print('\\t\\t\\t\\t\\t\\t|')\n",
    "print('\\t\\t\\t\\t\\t\\tV')\n",
    "print('\\t\\t\\tпервый этап очистки')\n",
    "print('\\t\\t\\t\\t\\t\\t|')\n",
    "print('\\t\\t\\t\\t\\t\\t|')\n",
    "print('\\t\\t\\t\\t\\t\\tV')\n",
    "print('\\t\\t\\tвторой этап очистки')\n",
    "print('\\t\\t\\t\\t\\t\\t|')\n",
    "print('\\t\\t\\t\\t\\t\\t|')\n",
    "print('\\t\\t\\t\\t\\t\\tV')\n",
    "print('\\t\\t\\tфинальный концентрат\\t+  отвальные хвосты')"
   ]
  },
  {
   "cell_type": "markdown",
   "metadata": {},
   "source": [
    "Нужно спрогнозировать сразу две величины:\n",
    "* эффективность обогащения чернового концентрата rougher.output.recovery;\n",
    "* эффективность обогащения финального концентрата final.output.recovery.\n",
    "\n",
    "Наименование признаков должно быть такое:\n",
    "[этап].[тип_параметра].[название_параметра]"
   ]
  },
  {
   "cell_type": "code",
   "execution_count": 7,
   "metadata": {},
   "outputs": [],
   "source": [
    "df_train_in_te = df_train[df_test.columns]\n",
    "df_train_not_in_te = df_train.drop(df_test.columns, 1)"
   ]
  },
  {
   "cell_type": "markdown",
   "metadata": {},
   "source": [
    "### 1.4 ставим в трейне признаки, присутствующие в тесте, выделим признаки, отсутствующие в тесте(сортируем признаки в порядке выполнения производственного процесса)\n"
   ]
  },
  {
   "cell_type": "code",
   "execution_count": 8,
   "metadata": {},
   "outputs": [],
   "source": [
    "def _order_columns(df):\n",
    "    '''\n",
    "    сортирует колонки в порядке выполнения производственного процесса\n",
    "    '''\n",
    "    \n",
    "    # словари с порядком выполнения этапов\n",
    "    steps_order_d = {'rougher':1,'primary_cleaner':2, 'secondary_cleaner' :3, 'final': 4}\n",
    "    types_d={'input':1, 'output':2,'state':3,'calculation':4}\n",
    "    \n",
    "    # сортируем колонки в порядке выполнения этапов производства\n",
    "    report_tr = pd.DataFrame([col.split('.') for col in df.columns],\\\n",
    "                              columns = ['этап', 'тип_параметра', 'название_параметра'])    \n",
    "    report_tr_c = report_tr.copy()   \n",
    "\n",
    "    report_tr_c['этап'] = report_tr['этап'].map(steps_order_d)\n",
    "    report_tr_c['тип_параметра'] = report_tr['тип_параметра'].map(types_d)\n",
    "\n",
    "    columns_ordered = report_tr.loc[report_tr_c.sort_values('этап').index]\\\n",
    "                               .apply(lambda x:'.'.join(x), axis = 1).values\n",
    "    \n",
    "    return df.loc[:, columns_ordered]\n",
    "    \n",
    "    "
   ]
  },
  {
   "cell_type": "code",
   "execution_count": 9,
   "metadata": {},
   "outputs": [],
   "source": [
    "df_train = _order_columns(df_train)\n",
    "df_test = _order_columns(df_test)"
   ]
  },
  {
   "cell_type": "code",
   "execution_count": 10,
   "metadata": {},
   "outputs": [
    {
     "name": "stdout",
     "output_type": "stream",
     "text": [
      "число признаков в трейне = 52\n",
      "число признаков в тесте = 52\n"
     ]
    }
   ],
   "source": [
    "print('число признаков в трейне = {}'.format(df_train_in_te.shape[1]))\n",
    "print('число признаков в тесте = {}'.format(df_test.shape[1]))\n"
   ]
  },
  {
   "cell_type": "markdown",
   "metadata": {},
   "source": [
    "#### Вывод: отсутствующие признаки - характеристики, вычисляемые после производственного процесса"
   ]
  },
  {
   "cell_type": "markdown",
   "metadata": {},
   "source": [
    "### 1.4 отделяем данные о черновом и финальном концентратах\n",
    "* таргет(y)\n",
    "* признаки(X)\n",
    "\n"
   ]
  },
  {
   "cell_type": "code",
   "execution_count": 11,
   "metadata": {},
   "outputs": [],
   "source": [
    "features = df_test.columns.values\n",
    "targets = ['rougher.output.recovery', 'final.output.recovery']\n",
    "\n",
    "features_train = df_train[features]\n",
    "target_train = df_train[targets]\n",
    "features_test = df_test[features]\n",
    "target_test = df_full[targets].loc[df_test.index]\n",
    "\n",
    "rougher_mask = features_train.columns.str.contains('rougher')\n",
    "X_rougher_tr = features_train.loc[:, rougher_mask]\n",
    "X_cleaner_tr = features_train.loc[:, ~rougher_mask]\n",
    "y_rougher_tr = target_train['rougher.output.recovery']\n",
    "y_cleaner_tr = target_train['final.output.recovery']\n",
    "\n",
    "X_rougher_te = features_test.loc[:, rougher_mask]\n",
    "X_cleaner_te = features_test.loc[:, ~rougher_mask]\n",
    "y_rougher_te = target_test['rougher.output.recovery']\n",
    "y_cleaner_te = target_test['final.output.recovery']"
   ]
  },
  {
   "cell_type": "code",
   "execution_count": 12,
   "metadata": {},
   "outputs": [
    {
     "data": {
      "image/png": "[encoded data removed]",
      "text/plain": [
       "<Figure size 432x288 with 1 Axes>"
      ]
     },
     "metadata": {},
     "output_type": "display_data"
    }
   ],
   "source": [
    "plt.title('recovery')\n",
    "sns.kdeplot(y_cleaner_tr, label = 'cleaner_tr')\n",
    "sns.kdeplot(y_cleaner_te, label = 'cleaner_te')\n",
    "sns.kdeplot(y_rougher_tr, label = 'rougher_tr')\n",
    "sns.kdeplot(y_rougher_te, label = 'rougher_tr')\n",
    "plt.xlabel('value')\n",
    "plt.ylabel('density')\n",
    "plt.show()"
   ]
  },
  {
   "cell_type": "code",
   "execution_count": 13,
   "metadata": {},
   "outputs": [
    {
     "name": "stdout",
     "output_type": "stream",
     "text": [
      "rougher top5 mean corr with target rougher = 0.21708311070538114\n",
      "rougher top5 mean corr with target cleaner = 0.2771010391105754\n"
     ]
    }
   ],
   "source": [
    "print('rougher top5 mean corr with target rougher = {}'\\\n",
    "      .format(X_rougher_tr.corrwith(y_rougher_tr).abs().sort_values(ascending = False).head(5).mean()))\n",
    "\n",
    "print('rougher top5 mean corr with target cleaner = {}'\\\n",
    "      .format(X_rougher_tr.corrwith(y_cleaner_tr).abs().sort_values(ascending = False).head(5).mean()))"
   ]
  },
  {
   "cell_type": "code",
   "execution_count": 14,
   "metadata": {},
   "outputs": [],
   "source": [
    "y_cleaner_tr = target_train['rougher.output.recovery']\n",
    "y_rougher_tr = target_train['final.output.recovery']\n",
    "y_cleaner_te = target_test['rougher.output.recovery']\n",
    "y_rougher_te = target_test['final.output.recovery']\n",
    "\n",
    "y_cleaner_tr = y_cleaner_tr.replace({0:np.nan}).dropna()\n",
    "y_rougher_tr = y_rougher_tr.replace({0:np.nan}).dropna()\n",
    "y_rougher_te = y_rougher_te.replace({0:np.nan}).dropna()\n",
    "y_cleaner_te = y_cleaner_te.replace({0:np.nan}).dropna()\n",
    "\n",
    "idx_use_tr = np.intersect1d(y_cleaner_tr.index, y_rougher_tr.index)\n",
    "idx_use_te = np.intersect1d(y_cleaner_te.index, y_rougher_te.index)\n",
    "\n",
    "y_cleaner_tr = y_cleaner_tr.loc[idx_use_tr].sort_index()\n",
    "y_rougher_tr = y_rougher_tr.loc[idx_use_tr].sort_index()\n",
    "\n",
    "y_cleaner_te = y_cleaner_te.loc[idx_use_te].sort_index()\n",
    "y_rougher_te = y_rougher_te.loc[idx_use_te].sort_index()\n",
    "\n",
    "X_rougher_tr = X_rougher_tr.loc[y_rougher_tr.index]\n",
    "X_cleaner_tr = X_cleaner_tr.loc[y_cleaner_tr.index]\n",
    "\n",
    "X_rougher_te = X_rougher_te.loc[y_rougher_te.index]\n",
    "X_cleaner_te = X_cleaner_te.loc[y_cleaner_te.index]"
   ]
  },
  {
   "cell_type": "markdown",
   "metadata": {},
   "source": [
    "#### Вывод:\n",
    "* похоже, названия целевых переменных поменяли местами(эффективность финального концентрата должна быть выше эффективности исходного)\n",
    "* присутствуют нулевые значения (ими, скорее всего, были заполнены пропуски)"
   ]
  },
  {
   "cell_type": "markdown",
   "metadata": {},
   "source": [
    "### 1.4. Проверьте, что эффективность обогащения рассчитана правильно. Вычислите её на обучающей выборке для признака rougher.output.recovery. Найдите MAE между вашими расчётами и значением признака. Опишите выводы.\n",
    "\n",
    "\n"
   ]
  },
  {
   "cell_type": "code",
   "execution_count": 15,
   "metadata": {},
   "outputs": [],
   "source": [
    "def _get_recovery(C, F, T):\n",
    "    '''\n",
    "    Выполняет: расчет эффективности обогащения \n",
    "    Параметры:\n",
    "        1) C — доля золота в концентрате после флотации/очистки;\n",
    "        2) F — доля золота в сырье/концентрате до флотации/очистки;\n",
    "        3) T — доля золота в отвальных хвостах после флотации/очистки.\n",
    "    Результат:\n",
    "        эффективность обогащения \n",
    "    '''\n",
    "    num = C*(F-T)\n",
    "    den = F*(C-T)\n",
    "    recovery = num/den * 100    \n",
    "    return recovery"
   ]
  },
  {
   "cell_type": "code",
   "execution_count": 16,
   "metadata": {},
   "outputs": [
    {
     "name": "stdout",
     "output_type": "stream",
     "text": [
      "рассчитанные и данные значения совпадают с точностью 1e-5 в 98% случаев\n",
      "MAE между расчетами и исходными данными равен = 9.444891926100695e-15\n"
     ]
    }
   ],
   "source": [
    "# параметры для расчета эффективности\n",
    "f = df_train['rougher.input.feed_au']\n",
    "c = df_train['rougher.output.concentrate_au']\n",
    "t = df_train['rougher.output.tail_au']\n",
    "# расчет эффективности по формуле\n",
    "recovery_calculated = _get_recovery(c, f, t)\n",
    "# без np.nan\n",
    "recovery_calculated_notna = recovery_calculated.dropna()\n",
    "# данная эффективность \n",
    "recovery_train = df_train['rougher.output.recovery']\n",
    "\n",
    "print('рассчитанные и данные значения совпадают с точностью 1e-5 в {:.0%} случаев'\\\n",
    "      .format(np.isclose(recovery_train.loc[recovery_calculated_notna.index],\\\n",
    "                         recovery_calculated_notna, rtol=1e-05).mean()))\n",
    "print('MAE между расчетами и исходными данными равен = {}'\\\n",
    "      .format((recovery_train.loc[recovery_calculated_notna.index] - recovery_calculated_notna).abs().mean()))"
   ]
  },
  {
   "cell_type": "markdown",
   "metadata": {},
   "source": [
    "#### Вывод: эффективность обогащения рассчитана правильно(MAE между расчетами и данными -->0)"
   ]
  },
  {
   "cell_type": "markdown",
   "metadata": {},
   "source": [
    "### 1.5. Проанализируйте признаки, недоступные в тестовой выборке. Что это за параметры? К какому типу относятся?\n",
    "\n"
   ]
  },
  {
   "cell_type": "code",
   "execution_count": 17,
   "metadata": {},
   "outputs": [
    {
     "data": {
      "image/png": "[encoded data removed]",
      "text/plain": [
       "<Figure size 864x576 with 1 Axes>"
      ]
     },
     "metadata": {},
     "output_type": "display_data"
    }
   ],
   "source": [
    "feature_report_df = pd.DataFrame()\n",
    "for feat in df_train.columns:\n",
    "    feature_report_df.loc[feat, 'train'] = 1\n",
    "for feat in df_test.columns:\n",
    "    feature_report_df.loc[feat, 'test'] = 1\n",
    "for feat in df_full.columns:\n",
    "    feature_report_df.loc[feat, 'full'] = 1\n",
    "feature_report_df.fillna(0, inplace = True)    \n",
    "feature_report_df = feature_report_df.astype(int)\n",
    "\n",
    "plt.figure(figsize = (12, 8))\n",
    "sns.heatmap(feature_report_df, cbar = False)\n",
    "plt.title('наличие признаков в датасетах')\n",
    "plt.show()"
   ]
  },
  {
   "cell_type": "markdown",
   "metadata": {},
   "source": [
    "#### Вывод: \n",
    "* данные характеристики измеряются после технологического процесса, поэтому они отсутствуют в тесте\n",
    "* элементы: ag, pb, au, sol\n",
    "* оставим индексы с ненулевым и не nan таргетом"
   ]
  },
  {
   "cell_type": "markdown",
   "metadata": {},
   "source": [
    "# 2. Проанализируйте данные"
   ]
  },
  {
   "cell_type": "markdown",
   "metadata": {},
   "source": [
    "## 2.1. Посмотрите, как меняется концентрация металлов (Au, Ag, Pb) на различных этапах очистки. Опишите выводы."
   ]
  },
  {
   "cell_type": "code",
   "execution_count": 18,
   "metadata": {},
   "outputs": [],
   "source": [
    "df_tr_not_in_te = df_train.drop(df_test.columns, 1)\n",
    "df_tr_not_in_te = df_tr_not_in_te.loc[:, ~df_tr_not_in_te.columns.str.contains('recovery')]\n",
    "df_rougher = df_tr_not_in_te.loc[:, df_tr_not_in_te.columns.str.contains('rougher')]\n",
    "df_cleaner = df_tr_not_in_te.loc[:, df_tr_not_in_te.columns.str.contains('cleaner')]\n",
    "df_final = df_tr_not_in_te.drop(df_rougher.columns.tolist()+df_cleaner.columns.tolist(), 1)"
   ]
  },
  {
   "cell_type": "markdown",
   "metadata": {},
   "source": [
    "* rougher"
   ]
  },
  {
   "cell_type": "code",
   "execution_count": 19,
   "metadata": {},
   "outputs": [
    {
     "data": {
      "text/html": [
       "<div>\n",
       "<style scoped>\n",
       "    .dataframe tbody tr th:only-of-type {\n",
       "        vertical-align: middle;\n",
       "    }\n",
       "\n",
       "    .dataframe tbody tr th {\n",
       "        vertical-align: top;\n",
       "    }\n",
       "\n",
       "    .dataframe thead th {\n",
       "        text-align: right;\n",
       "    }\n",
       "</style>\n",
       "<table border=\"1\" class=\"dataframe\">\n",
       "  <thead>\n",
       "    <tr style=\"text-align: right;\">\n",
       "      <th></th>\n",
       "      <th>rougher_steps</th>\n",
       "      <th>cleaner_steps</th>\n",
       "      <th>final_steps</th>\n",
       "    </tr>\n",
       "  </thead>\n",
       "  <tbody>\n",
       "    <tr>\n",
       "      <th>0</th>\n",
       "      <td>rougher--&gt;output--&gt;concentrate_ag</td>\n",
       "      <td>primary_cleaner--&gt;output--&gt;concentrate_ag</td>\n",
       "      <td>final--&gt;output--&gt;tail_au</td>\n",
       "    </tr>\n",
       "    <tr>\n",
       "      <th>1</th>\n",
       "      <td>rougher--&gt;output--&gt;concentrate_pb</td>\n",
       "      <td>primary_cleaner--&gt;output--&gt;concentrate_sol</td>\n",
       "      <td>final--&gt;output--&gt;tail_sol</td>\n",
       "    </tr>\n",
       "    <tr>\n",
       "      <th>2</th>\n",
       "      <td>rougher--&gt;output--&gt;concentrate_sol</td>\n",
       "      <td>primary_cleaner--&gt;output--&gt;concentrate_au</td>\n",
       "      <td>final--&gt;output--&gt;tail_pb</td>\n",
       "    </tr>\n",
       "    <tr>\n",
       "      <th>3</th>\n",
       "      <td>rougher--&gt;output--&gt;concentrate_au</td>\n",
       "      <td>primary_cleaner--&gt;output--&gt;tail_ag</td>\n",
       "      <td>final--&gt;output--&gt;tail_ag</td>\n",
       "    </tr>\n",
       "    <tr>\n",
       "      <th>4</th>\n",
       "      <td>rougher--&gt;output--&gt;tail_ag</td>\n",
       "      <td>primary_cleaner--&gt;output--&gt;tail_pb</td>\n",
       "      <td>final--&gt;output--&gt;concentrate_au</td>\n",
       "    </tr>\n",
       "    <tr>\n",
       "      <th>5</th>\n",
       "      <td>rougher--&gt;output--&gt;tail_pb</td>\n",
       "      <td>primary_cleaner--&gt;output--&gt;tail_sol</td>\n",
       "      <td>final--&gt;output--&gt;concentrate_sol</td>\n",
       "    </tr>\n",
       "    <tr>\n",
       "      <th>6</th>\n",
       "      <td>rougher--&gt;output--&gt;tail_au</td>\n",
       "      <td>primary_cleaner--&gt;output--&gt;concentrate_pb</td>\n",
       "      <td>final--&gt;output--&gt;concentrate_pb</td>\n",
       "    </tr>\n",
       "    <tr>\n",
       "      <th>7</th>\n",
       "      <td>rougher--&gt;output--&gt;tail_sol</td>\n",
       "      <td>primary_cleaner--&gt;output--&gt;tail_au</td>\n",
       "      <td>final--&gt;output--&gt;concentrate_ag</td>\n",
       "    </tr>\n",
       "    <tr>\n",
       "      <th>8</th>\n",
       "      <td>rougher--&gt;calculation--&gt;au_pb_ratio</td>\n",
       "      <td>secondary_cleaner--&gt;output--&gt;tail_au</td>\n",
       "      <td>nan</td>\n",
       "    </tr>\n",
       "    <tr>\n",
       "      <th>9</th>\n",
       "      <td>rougher--&gt;calculation--&gt;floatbank10_sulfate_to...</td>\n",
       "      <td>secondary_cleaner--&gt;output--&gt;tail_sol</td>\n",
       "      <td>nan</td>\n",
       "    </tr>\n",
       "    <tr>\n",
       "      <th>10</th>\n",
       "      <td>rougher--&gt;calculation--&gt;sulfate_to_au_concentrate</td>\n",
       "      <td>secondary_cleaner--&gt;output--&gt;tail_pb</td>\n",
       "      <td>nan</td>\n",
       "    </tr>\n",
       "    <tr>\n",
       "      <th>11</th>\n",
       "      <td>rougher--&gt;calculation--&gt;floatbank11_sulfate_to...</td>\n",
       "      <td>secondary_cleaner--&gt;output--&gt;tail_ag</td>\n",
       "      <td>nan</td>\n",
       "    </tr>\n",
       "  </tbody>\n",
       "</table>\n",
       "</div>"
      ],
      "text/plain": [
       "                                        rougher_steps  \\\n",
       "0                   rougher-->output-->concentrate_ag   \n",
       "1                   rougher-->output-->concentrate_pb   \n",
       "2                  rougher-->output-->concentrate_sol   \n",
       "3                   rougher-->output-->concentrate_au   \n",
       "4                          rougher-->output-->tail_ag   \n",
       "5                          rougher-->output-->tail_pb   \n",
       "6                          rougher-->output-->tail_au   \n",
       "7                         rougher-->output-->tail_sol   \n",
       "8                 rougher-->calculation-->au_pb_ratio   \n",
       "9   rougher-->calculation-->floatbank10_sulfate_to...   \n",
       "10  rougher-->calculation-->sulfate_to_au_concentrate   \n",
       "11  rougher-->calculation-->floatbank11_sulfate_to...   \n",
       "\n",
       "                                 cleaner_steps  \\\n",
       "0    primary_cleaner-->output-->concentrate_ag   \n",
       "1   primary_cleaner-->output-->concentrate_sol   \n",
       "2    primary_cleaner-->output-->concentrate_au   \n",
       "3           primary_cleaner-->output-->tail_ag   \n",
       "4           primary_cleaner-->output-->tail_pb   \n",
       "5          primary_cleaner-->output-->tail_sol   \n",
       "6    primary_cleaner-->output-->concentrate_pb   \n",
       "7           primary_cleaner-->output-->tail_au   \n",
       "8         secondary_cleaner-->output-->tail_au   \n",
       "9        secondary_cleaner-->output-->tail_sol   \n",
       "10        secondary_cleaner-->output-->tail_pb   \n",
       "11        secondary_cleaner-->output-->tail_ag   \n",
       "\n",
       "                         final_steps  \n",
       "0           final-->output-->tail_au  \n",
       "1          final-->output-->tail_sol  \n",
       "2           final-->output-->tail_pb  \n",
       "3           final-->output-->tail_ag  \n",
       "4    final-->output-->concentrate_au  \n",
       "5   final-->output-->concentrate_sol  \n",
       "6    final-->output-->concentrate_pb  \n",
       "7    final-->output-->concentrate_ag  \n",
       "8                                nan  \n",
       "9                                nan  \n",
       "10                               nan  \n",
       "11                               nan  "
      ]
     },
     "execution_count": 19,
     "metadata": {},
     "output_type": "execute_result"
    }
   ],
   "source": [
    "pd.concat([pd.Series(df_rougher.columns).to_frame('rougher_steps'),\\\n",
    "           pd.Series(df_cleaner.columns).to_frame('cleaner_steps'),\\\n",
    "           pd.Series(df_final.columns).to_frame('final_steps')], 1)\\\n",
    " .astype(str).applymap(lambda x: '-->'.join(x.split('.')))"
   ]
  },
  {
   "cell_type": "code",
   "execution_count": 20,
   "metadata": {},
   "outputs": [],
   "source": [
    "con_out_mask= df_rougher.columns.str.contains('concentrate|output')\n",
    "\n",
    "_df_other = df_rougher.loc[:,~con_out_mask]\n",
    "_df_con_out = df_rougher.loc[:,con_out_mask]"
   ]
  },
  {
   "cell_type": "code",
   "execution_count": 21,
   "metadata": {},
   "outputs": [],
   "source": [
    "cols_to_drop = ['rougher.calculation.floatbank10_sulfate_to_au_feed',\n",
    "                'rougher.calculation.floatbank11_sulfate_to_au_feed',\n",
    "                'rougher.calculation.au_pb_ratio','rougher.calculation.sulfate_to_au_concentrate']\n",
    "_df_other = df_rougher[cols_to_drop]\n",
    "_df_con_out = df_rougher.drop(cols_to_drop, 1)"
   ]
  },
  {
   "cell_type": "code",
   "execution_count": 22,
   "metadata": {},
   "outputs": [],
   "source": [
    "def _mask_outliers(x1, iqr3):    \n",
    "    q25, q75 = x1.quantile([.25, .75])\n",
    "    iqr = q75-q25\n",
    "    if not iqr3:\n",
    "        return (x1>q25-1.5*iqr)&(x1<q75+1.5*iqr)\n",
    "    else:\n",
    "        return (x1>q25-3*iqr)&(x1<q75+3*iqr)"
   ]
  },
  {
   "cell_type": "code",
   "execution_count": 23,
   "metadata": {},
   "outputs": [
    {
     "data": {
      "image/png": "[encoded data removed]",
      "text/plain": [
       "<Figure size 1296x360 with 4 Axes>"
      ]
     },
     "metadata": {},
     "output_type": "display_data"
    }
   ],
   "source": [
    "plt.figure(figsize = (18, 5))\n",
    "for i, col in enumerate(_df_other.columns):    \n",
    "    plt.subplot(1, 4, i+1)\n",
    "    sns.boxplot(data = _df_other, y = col)\n",
    "    plt.title(col)\n",
    "    plt.ylabel('value')\n",
    "    plt.xlabel('feature')\n",
    "plt.subplots_adjust(wspace = .9)"
   ]
  },
  {
   "cell_type": "code",
   "execution_count": 24,
   "metadata": {},
   "outputs": [],
   "source": [
    "mask_df = _df_other.apply(lambda x: _mask_outliers(x, iqr3=True))"
   ]
  },
  {
   "cell_type": "code",
   "execution_count": 25,
   "metadata": {},
   "outputs": [
    {
     "name": "stdout",
     "output_type": "stream",
     "text": [
      "доля аномалий в rougher.calculation.floatbank10_sulfate_to_au_feed равна 0.04\n",
      "доля аномалий в rougher.calculation.floatbank11_sulfate_to_au_feed равна 0.03\n",
      "доля аномалий в rougher.calculation.au_pb_ratio равна 0.09\n",
      "доля аномалий в rougher.calculation.sulfate_to_au_concentrate равна 0.10\n"
     ]
    }
   ],
   "source": [
    "for k, v in mask_df.mean().items():\n",
    "    print('доля аномалий в {} равна {:.2f}'.format(k, 1-v))"
   ]
  },
  {
   "cell_type": "markdown",
   "metadata": {},
   "source": [
    "#### Вывод: аномалии могут свидетельствовать об особенностях производства, а не об ошибках в данных"
   ]
  },
  {
   "cell_type": "code",
   "execution_count": 26,
   "metadata": {},
   "outputs": [
    {
     "data": {
      "image/png": "[encoded data removed]",
      "text/plain": [
       "<Figure size 864x504 with 4 Axes>"
      ]
     },
     "metadata": {},
     "output_type": "display_data"
    }
   ],
   "source": [
    "_df_other[mask_df.all(1)].replace({0:np.nan}).dropna().hist(figsize = (12, 7), alpha =.7)\n",
    "plt.show()"
   ]
  },
  {
   "cell_type": "markdown",
   "metadata": {},
   "source": [
    "#### Вывод: присутствуют тяжелые хвосты"
   ]
  },
  {
   "cell_type": "code",
   "execution_count": 27,
   "metadata": {},
   "outputs": [
    {
     "data": {
      "image/png": "[encoded data removed]",
      "text/plain": [
       "<Figure size 1080x288 with 4 Axes>"
      ]
     },
     "metadata": {},
     "output_type": "display_data"
    }
   ],
   "source": [
    "for i, feat in enumerate(('au', 'ag', 'pb', 'sol')):\n",
    "    subdf = _df_con_out.loc[:, _df_con_out.columns.str.contains(feat)]\n",
    "    ax = plt.subplot(1, 4, i+1)\n",
    "    for col in subdf.columns:\n",
    "        _df_con_out[col].hist(figsize = (15, 4), density=1, alpha = .6, ax = ax)\n",
    "    plt.title(feat)\n",
    "    plt.legend([c[:-len(feat)-1] for c in subdf.columns])"
   ]
  },
  {
   "cell_type": "markdown",
   "metadata": {},
   "source": [
    "* cleaner"
   ]
  },
  {
   "cell_type": "code",
   "execution_count": 28,
   "metadata": {},
   "outputs": [
    {
     "data": {
      "image/png": "[encoded data removed]",
      "text/plain": [
       "<Figure size 1080x288 with 4 Axes>"
      ]
     },
     "metadata": {},
     "output_type": "display_data"
    }
   ],
   "source": [
    "for i, feat in enumerate(('au', 'ag', 'pb', 'sol')):\n",
    "    subdf = df_cleaner.loc[:, df_cleaner.columns.str.contains(feat)]\n",
    "    ax = plt.subplot(1, 4, i+1)\n",
    "    for col in subdf.columns:\n",
    "        subdf[col].hist(figsize = (15, 4), density=1, alpha = .6, ax = ax)\n",
    "    plt.title(feat)\n",
    "    plt.legend([c[:-len(feat)-1] for c in subdf.columns])"
   ]
  },
  {
   "cell_type": "markdown",
   "metadata": {},
   "source": [
    "#### Выводы:\n",
    "\n",
    "* на этапе очистки доли концентратов au, pb, sol выше долей хвостов (более чистая смесь?)\n",
    "* по-разному меняются и другие характеристики"
   ]
  },
  {
   "cell_type": "markdown",
   "metadata": {},
   "source": [
    "* final"
   ]
  },
  {
   "cell_type": "code",
   "execution_count": 29,
   "metadata": {},
   "outputs": [
    {
     "data": {
      "image/png": "[encoded data removed]",
      "text/plain": [
       "<Figure size 1080x288 with 4 Axes>"
      ]
     },
     "metadata": {},
     "output_type": "display_data"
    }
   ],
   "source": [
    "for i, feat in enumerate(('au', 'ag', 'pb', 'sol')):\n",
    "    subdf = df_final.loc[:, df_final.columns.str.contains(feat)]\n",
    "    ax = plt.subplot(1, 4, i+1)\n",
    "    for col in subdf.columns:\n",
    "        subdf[col].hist(figsize = (15, 4), density=1, alpha = .6, ax = ax)\n",
    "    plt.title(feat)\n",
    "    plt.legend([c[:-len(feat)-1] for c in subdf.columns])\n",
    "\n"
   ]
  },
  {
   "cell_type": "markdown",
   "metadata": {},
   "source": [
    "#### Вывод: в итоге, металлы выдают на выходе разные пропрции концетрата и хвостов"
   ]
  },
  {
   "cell_type": "markdown",
   "metadata": {},
   "source": [
    "## 2.2. Сравните распределения размеров гранул сырья на обучающей и тестовой выборках. Если распределения сильно отличаются друг от друга, оценка модели будет неправильной.\n",
    "\n"
   ]
  },
  {
   "cell_type": "code",
   "execution_count": 30,
   "metadata": {},
   "outputs": [],
   "source": [
    "def _check_dists_means(_x1,_x2,ALPHA):\n",
    "    \n",
    "    if not isinstance(_x1, pd.Series):\n",
    "        _x1 = pd.Series(_x1)\n",
    "    if not isinstance(_x2, pd.Series):\n",
    "        _x2 = pd.Series(_x2)\n",
    "        \n",
    "    test_results = []    \n",
    "    if (stats.normaltest(_x1.dropna())[1]<ALPHA) | (stats.normaltest(_x2.dropna())[1]<ALPHA):\n",
    "        means_results = []\n",
    "        _x1notna = _x1.dropna()\n",
    "        _x2notna = _x2.dropna()\n",
    "        for _ in range(100):\n",
    "            np.random.seed(_)        \n",
    "            x1_means = np.mean(np.random.choice(_x1notna, size = (1000, 100)), 1)\n",
    "            x2_means = np.mean(np.random.choice(_x2notna, size = (1000, 100)), 1)\n",
    "            if stats.ttest_ind(x1_means, x2_means, equal_var = True)[1] > ALPHA:\n",
    "                means_results.append('средние разные')\n",
    "            else:\n",
    "                means_results.append('средние одинаковые')\n",
    "        test_results.append(pd.Series(means_results).value_counts().idxmax())\n",
    "    else:        \n",
    "        if len(_x1)!=len(_x2):\n",
    "            if stats.ttest_ind(_x1, _x2, equal_var = False)[1] > ALPHA:\n",
    "                test_results.append('средние разные')\n",
    "            else:\n",
    "                test_results.append('средние одинаковые')\n",
    "\n",
    "        else:\n",
    "            if stats.ttest_ind(_x1, _x2, equal_var = True)[1] > ALPHA:\n",
    "                test_results.append('средние разные')\n",
    "            else:\n",
    "                test_results.append('средние одинаковые')\n",
    "    \n",
    "    if stats.ks_2samp(_x1,_x2)[1] < ALPHA:\n",
    "        test_results.append('распределения разные')\n",
    "    else:\n",
    "        test_results.append('распределения одинаковые')\n",
    "    test_results.append('alpha = {:.0%}'.format(1-ALPHA))\n",
    "    return test_results"
   ]
  },
  {
   "cell_type": "code",
   "execution_count": 31,
   "metadata": {},
   "outputs": [],
   "source": [
    "size_tr = df_train.loc[:, df_train.columns.str.contains('size')]\n",
    "size_te = df_test.loc[:, df_test.columns.str.contains('size')]\n",
    "\n",
    "size_tr = size_tr[sorted(size_tr.columns)]\n",
    "size_te = size_te[sorted(size_te.columns)]"
   ]
  },
  {
   "cell_type": "code",
   "execution_count": 32,
   "metadata": {},
   "outputs": [
    {
     "name": "stdout",
     "output_type": "stream",
     "text": [
      "\tprimary_cleaner.input.feed_size\n",
      "['средние одинаковые', 'распределения разные', 'alpha = 95%']\n"
     ]
    },
    {
     "data": {
      "image/png": "[encoded data removed]",
      "text/plain": [
       "<Figure size 864x288 with 2 Axes>"
      ]
     },
     "metadata": {},
     "output_type": "display_data"
    },
    {
     "name": "stdout",
     "output_type": "stream",
     "text": [
      "\trougher.input.feed_size\n",
      "['средние одинаковые', 'распределения разные', 'alpha = 95%']\n"
     ]
    },
    {
     "data": {
      "image/png": "[encoded data removed]",
      "text/plain": [
       "<Figure size 864x288 with 2 Axes>"
      ]
     },
     "metadata": {},
     "output_type": "display_data"
    }
   ],
   "source": [
    "for col in size_tr.columns:\n",
    "    _tr = size_tr[col]\n",
    "    _te = size_te[col]\n",
    "    print('\\t'+col)\n",
    "    print(_check_dists_means(_tr, _te, ALPHA))\n",
    "    plt.figure(figsize = (12, 4))\n",
    "    plt.subplot(1, 2, 1)\n",
    "    _tr.hist(density = 1, alpha = .5)\n",
    "    _te.hist(density = 1, alpha = .5)\n",
    "    plt.title(col)\n",
    "    plt.legend(['tr', 'te'])\n",
    "    \n",
    "    plt.subplot(1, 2, 2)\n",
    "    _tr[_mask_outliers(_tr, iqr3=False)].hist(density = 1, alpha = .5)\n",
    "    _te[_mask_outliers(_te, iqr3=False)].hist(density = 1, alpha = .5)\n",
    "    plt.title(col+' | no outliers')\n",
    "    plt.legend(['tr', 'te'])\n",
    "    \n",
    "    plt.show()"
   ]
  },
  {
   "cell_type": "code",
   "execution_count": 33,
   "metadata": {},
   "outputs": [
    {
     "data": {
      "image/png": "[encoded data removed]",
      "text/plain": [
       "<Figure size 864x288 with 2 Axes>"
      ]
     },
     "metadata": {},
     "output_type": "display_data"
    }
   ],
   "source": [
    "plt.figure(figsize = (12, 4))\n",
    "plt.subplot(1, 2, 1)\n",
    "y_cleaner_tr[X_cleaner_tr.isna().any(1)].hist(alpha = .6, density = 1)\n",
    "y_cleaner_tr[~X_cleaner_tr.isna().any(1)].hist(alpha = .6, density = 1)\n",
    "plt.title('cleaner')\n",
    "plt.legend(['drop na', 'keep na'])\n",
    "plt.xlabel('value')\n",
    "plt.ylabel('share')\n",
    "\n",
    "plt.subplot(1, 2, 2)\n",
    "y_rougher_tr[X_rougher_tr.isna().any(1)].hist(alpha = .6, density = 1)\n",
    "y_rougher_tr[~X_rougher_tr.isna().any(1)].hist(alpha = .6, density = 1)\n",
    "plt.title('rougher')\n",
    "plt.legend(['drop na', 'keep na'])\n",
    "plt.xlabel('value')\n",
    "plt.ylabel('share')\n",
    "\n",
    "plt.show()"
   ]
  },
  {
   "cell_type": "markdown",
   "metadata": {},
   "source": [
    "#### Вывод upd: пропущенные значения выбрасывать не будем \n"
   ]
  },
  {
   "cell_type": "code",
   "execution_count": 34,
   "metadata": {},
   "outputs": [],
   "source": [
    "for col in X_rougher_tr.columns:\n",
    "    X_rougher_tr[col] = X_rougher_tr[col].fillna(X_rougher_tr[col].median())\n",
    "    X_rougher_te[col] = X_rougher_te[col].fillna(X_rougher_te[col].median())\n",
    "    \n",
    "for col in X_cleaner_tr.columns:\n",
    "    X_cleaner_tr[col] = X_cleaner_tr[col].fillna(X_cleaner_tr[col].median())\n",
    "    X_cleaner_te[col] = X_cleaner_te[col].fillna(X_cleaner_te[col].median())\n",
    "        "
   ]
  },
  {
   "cell_type": "code",
   "execution_count": 35,
   "metadata": {},
   "outputs": [
    {
     "name": "stdout",
     "output_type": "stream",
     "text": [
      "rougher размерности = (22, 22)\n",
      "cleaner размерности  = (30, 30)\n",
      "таргеты, минимум = 0.1686109414550471, 2.5208538028907777\n",
      "таргеты, nan = False, False\n"
     ]
    }
   ],
   "source": [
    "print('rougher размерности = ({}, {})'.format(X_rougher_tr.shape[1], X_rougher_te.shape[1]))\n",
    "print('cleaner размерности  = ({}, {})'.format(X_cleaner_tr.shape[1], X_cleaner_te.shape[1]))\n",
    "print('таргеты, минимум = {}, {}'.format(y_rougher_tr.min(), y_cleaner_tr.min()))\n",
    "print('таргеты, nan = {}, {}'.format(y_rougher_tr.isna().any(), y_cleaner_tr.isna().any()))\n"
   ]
  },
  {
   "cell_type": "markdown",
   "metadata": {},
   "source": [
    "# 3. Постройте модель"
   ]
  },
  {
   "cell_type": "markdown",
   "metadata": {},
   "source": [
    "## 3.1. Напишите функцию для вычисления итоговой sMAPE."
   ]
  },
  {
   "cell_type": "code",
   "execution_count": 36,
   "metadata": {},
   "outputs": [],
   "source": [
    "def sMAPE(target, predictions):    \n",
    "    num = np.abs(target - predictions)\n",
    "    den = (np.abs(target) + np.abs(predictions))/2\n",
    "    return (num/den).mean()\n",
    "\n",
    "def smape_blend(smape_rougher, smape_final):\n",
    "    result = 0.25*smape_rougher + 0.75*smape_final\n",
    "    return result\n",
    "from sklearn.metrics import make_scorer\n",
    "sMAPE_custom = make_scorer(sMAPE)"
   ]
  },
  {
   "cell_type": "markdown",
   "metadata": {},
   "source": [
    "## 3.2. Обучите разные модели и оцените их качество кросс-валидацией. Выберите лучшую модель и проверьте её на тестовой выборке. Опишите выводы."
   ]
  },
  {
   "cell_type": "code",
   "execution_count": 37,
   "metadata": {},
   "outputs": [],
   "source": [
    "rougher_dummy = np.repeat(y_rougher_tr.mean(), len(y_rougher_tr))\n",
    "cleaner_dummy = np.repeat(y_cleaner_tr.mean(), len(y_cleaner_tr))\n",
    "\n",
    "baseline_rougher = sMAPE(y_rougher_tr, rougher_dummy)\n",
    "baseline_cleaner = sMAPE(y_cleaner_tr, cleaner_dummy)"
   ]
  },
  {
   "cell_type": "code",
   "execution_count": 38,
   "metadata": {},
   "outputs": [
    {
     "name": "stdout",
     "output_type": "stream",
     "text": [
      "sMAPE baseline rougher = 0.10233630120235924\n",
      "sMAPE baseline cleaner = 0.07347131979747629\n",
      "sMAPE baseline blend = 0.08068756514869703\n"
     ]
    }
   ],
   "source": [
    "print('sMAPE baseline rougher = {}'.format(baseline_rougher))\n",
    "print('sMAPE baseline cleaner = {}'.format(baseline_cleaner))\n",
    "print('sMAPE baseline blend = {}'.format(smape_blend(baseline_rougher, baseline_cleaner)))"
   ]
  },
  {
   "cell_type": "code",
   "execution_count": 39,
   "metadata": {},
   "outputs": [
    {
     "data": {
      "text/plain": [
       "<matplotlib.axes._subplots.AxesSubplot at 0x24bb220bac0>"
      ]
     },
     "execution_count": 39,
     "metadata": {},
     "output_type": "execute_result"
    },
    {
     "data": {
      "image/png": "[encoded data removed]",
      "text/plain": [
       "<Figure size 432x288 with 1 Axes>"
      ]
     },
     "metadata": {},
     "output_type": "display_data"
    }
   ],
   "source": [
    "df_y_rougher_tr = pd.DataFrame(y_rougher_tr)\n",
    "\n",
    "for idx in X_rougher_te.index:\n",
    "    df_y_rougher_tr.loc[idx, 'final.output.recovery'] = np.nan\n",
    "    \n",
    "df_y_rougher_tr.sort_index().plot()    "
   ]
  },
  {
   "cell_type": "code",
   "execution_count": 40,
   "metadata": {},
   "outputs": [
    {
     "name": "stdout",
     "output_type": "stream",
     "text": [
      "гипотеза о стационарности не отвергается\n"
     ]
    }
   ],
   "source": [
    "from statsmodels.tsa.stattools import adfuller\n",
    "\n",
    "if adfuller(y_rougher_tr)[1] < ALPHA:\n",
    "    print('гипотеза о стационарности не отвергается')\n",
    "else:\n",
    "    print('гипотеза о стационарности отвергается')\n",
    "    "
   ]
  },
  {
   "cell_type": "markdown",
   "metadata": {},
   "source": [
    "#### Вывод: тренда не наблюдается, валидирваться можно без учета времени"
   ]
  },
  {
   "cell_type": "markdown",
   "metadata": {},
   "source": [
    "#### Вывод: для теста были выбраны 2 отрезка, разделяющие трейн"
   ]
  },
  {
   "cell_type": "markdown",
   "metadata": {},
   "source": [
    "### 3.2.1 анализ признаков (rougher)"
   ]
  },
  {
   "cell_type": "code",
   "execution_count": 41,
   "metadata": {
    "scrolled": false
   },
   "outputs": [
    {
     "data": {
      "text/html": [
       "<div>\n",
       "<style scoped>\n",
       "    .dataframe tbody tr th:only-of-type {\n",
       "        vertical-align: middle;\n",
       "    }\n",
       "\n",
       "    .dataframe tbody tr th {\n",
       "        vertical-align: top;\n",
       "    }\n",
       "\n",
       "    .dataframe thead th {\n",
       "        text-align: right;\n",
       "    }\n",
       "</style>\n",
       "<table border=\"1\" class=\"dataframe\">\n",
       "  <thead>\n",
       "    <tr style=\"text-align: right;\">\n",
       "      <th></th>\n",
       "      <th>сравнение средних</th>\n",
       "      <th>сравнение распределений</th>\n",
       "      <th>уровень значимости</th>\n",
       "    </tr>\n",
       "  </thead>\n",
       "  <tbody>\n",
       "    <tr>\n",
       "      <th>rougher.input.feed_ag</th>\n",
       "      <td>средние одинаковые</td>\n",
       "      <td>распределения разные</td>\n",
       "      <td>alpha = 95%</td>\n",
       "    </tr>\n",
       "    <tr>\n",
       "      <th>rougher.input.feed_au</th>\n",
       "      <td>средние одинаковые</td>\n",
       "      <td>распределения разные</td>\n",
       "      <td>alpha = 95%</td>\n",
       "    </tr>\n",
       "    <tr>\n",
       "      <th>rougher.input.feed_pb</th>\n",
       "      <td>средние одинаковые</td>\n",
       "      <td>распределения разные</td>\n",
       "      <td>alpha = 95%</td>\n",
       "    </tr>\n",
       "    <tr>\n",
       "      <th>rougher.input.feed_rate</th>\n",
       "      <td>средние одинаковые</td>\n",
       "      <td>распределения разные</td>\n",
       "      <td>alpha = 95%</td>\n",
       "    </tr>\n",
       "    <tr>\n",
       "      <th>rougher.input.feed_size</th>\n",
       "      <td>средние одинаковые</td>\n",
       "      <td>распределения разные</td>\n",
       "      <td>alpha = 95%</td>\n",
       "    </tr>\n",
       "    <tr>\n",
       "      <th>rougher.input.feed_sol</th>\n",
       "      <td>средние одинаковые</td>\n",
       "      <td>распределения разные</td>\n",
       "      <td>alpha = 95%</td>\n",
       "    </tr>\n",
       "    <tr>\n",
       "      <th>rougher.input.floatbank10_sulfate</th>\n",
       "      <td>средние одинаковые</td>\n",
       "      <td>распределения разные</td>\n",
       "      <td>alpha = 95%</td>\n",
       "    </tr>\n",
       "    <tr>\n",
       "      <th>rougher.input.floatbank10_xanthate</th>\n",
       "      <td>средние одинаковые</td>\n",
       "      <td>распределения разные</td>\n",
       "      <td>alpha = 95%</td>\n",
       "    </tr>\n",
       "    <tr>\n",
       "      <th>rougher.input.floatbank11_sulfate</th>\n",
       "      <td>средние одинаковые</td>\n",
       "      <td>распределения разные</td>\n",
       "      <td>alpha = 95%</td>\n",
       "    </tr>\n",
       "    <tr>\n",
       "      <th>rougher.input.floatbank11_xanthate</th>\n",
       "      <td>средние одинаковые</td>\n",
       "      <td>распределения разные</td>\n",
       "      <td>alpha = 95%</td>\n",
       "    </tr>\n",
       "    <tr>\n",
       "      <th>rougher.state.floatbank10_a_air</th>\n",
       "      <td>средние одинаковые</td>\n",
       "      <td>распределения разные</td>\n",
       "      <td>alpha = 95%</td>\n",
       "    </tr>\n",
       "    <tr>\n",
       "      <th>rougher.state.floatbank10_a_level</th>\n",
       "      <td>средние одинаковые</td>\n",
       "      <td>распределения разные</td>\n",
       "      <td>alpha = 95%</td>\n",
       "    </tr>\n",
       "    <tr>\n",
       "      <th>rougher.state.floatbank10_b_air</th>\n",
       "      <td>средние одинаковые</td>\n",
       "      <td>распределения разные</td>\n",
       "      <td>alpha = 95%</td>\n",
       "    </tr>\n",
       "    <tr>\n",
       "      <th>rougher.state.floatbank10_b_level</th>\n",
       "      <td>средние одинаковые</td>\n",
       "      <td>распределения разные</td>\n",
       "      <td>alpha = 95%</td>\n",
       "    </tr>\n",
       "    <tr>\n",
       "      <th>rougher.state.floatbank10_c_air</th>\n",
       "      <td>средние разные</td>\n",
       "      <td>распределения разные</td>\n",
       "      <td>alpha = 95%</td>\n",
       "    </tr>\n",
       "    <tr>\n",
       "      <th>rougher.state.floatbank10_c_level</th>\n",
       "      <td>средние одинаковые</td>\n",
       "      <td>распределения разные</td>\n",
       "      <td>alpha = 95%</td>\n",
       "    </tr>\n",
       "    <tr>\n",
       "      <th>rougher.state.floatbank10_d_air</th>\n",
       "      <td>средние одинаковые</td>\n",
       "      <td>распределения разные</td>\n",
       "      <td>alpha = 95%</td>\n",
       "    </tr>\n",
       "    <tr>\n",
       "      <th>rougher.state.floatbank10_d_level</th>\n",
       "      <td>средние одинаковые</td>\n",
       "      <td>распределения разные</td>\n",
       "      <td>alpha = 95%</td>\n",
       "    </tr>\n",
       "    <tr>\n",
       "      <th>rougher.state.floatbank10_e_air</th>\n",
       "      <td>средние одинаковые</td>\n",
       "      <td>распределения разные</td>\n",
       "      <td>alpha = 95%</td>\n",
       "    </tr>\n",
       "    <tr>\n",
       "      <th>rougher.state.floatbank10_e_level</th>\n",
       "      <td>средние одинаковые</td>\n",
       "      <td>распределения разные</td>\n",
       "      <td>alpha = 95%</td>\n",
       "    </tr>\n",
       "    <tr>\n",
       "      <th>rougher.state.floatbank10_f_air</th>\n",
       "      <td>средние одинаковые</td>\n",
       "      <td>распределения разные</td>\n",
       "      <td>alpha = 95%</td>\n",
       "    </tr>\n",
       "    <tr>\n",
       "      <th>rougher.state.floatbank10_f_level</th>\n",
       "      <td>средние одинаковые</td>\n",
       "      <td>распределения разные</td>\n",
       "      <td>alpha = 95%</td>\n",
       "    </tr>\n",
       "  </tbody>\n",
       "</table>\n",
       "</div>"
      ],
      "text/plain": [
       "                                     сравнение средних  \\\n",
       "rougher.input.feed_ag               средние одинаковые   \n",
       "rougher.input.feed_au               средние одинаковые   \n",
       "rougher.input.feed_pb               средние одинаковые   \n",
       "rougher.input.feed_rate             средние одинаковые   \n",
       "rougher.input.feed_size             средние одинаковые   \n",
       "rougher.input.feed_sol              средние одинаковые   \n",
       "rougher.input.floatbank10_sulfate   средние одинаковые   \n",
       "rougher.input.floatbank10_xanthate  средние одинаковые   \n",
       "rougher.input.floatbank11_sulfate   средние одинаковые   \n",
       "rougher.input.floatbank11_xanthate  средние одинаковые   \n",
       "rougher.state.floatbank10_a_air     средние одинаковые   \n",
       "rougher.state.floatbank10_a_level   средние одинаковые   \n",
       "rougher.state.floatbank10_b_air     средние одинаковые   \n",
       "rougher.state.floatbank10_b_level   средние одинаковые   \n",
       "rougher.state.floatbank10_c_air         средние разные   \n",
       "rougher.state.floatbank10_c_level   средние одинаковые   \n",
       "rougher.state.floatbank10_d_air     средние одинаковые   \n",
       "rougher.state.floatbank10_d_level   средние одинаковые   \n",
       "rougher.state.floatbank10_e_air     средние одинаковые   \n",
       "rougher.state.floatbank10_e_level   средние одинаковые   \n",
       "rougher.state.floatbank10_f_air     средние одинаковые   \n",
       "rougher.state.floatbank10_f_level   средние одинаковые   \n",
       "\n",
       "                                   сравнение распределений уровень значимости  \n",
       "rougher.input.feed_ag                 распределения разные        alpha = 95%  \n",
       "rougher.input.feed_au                 распределения разные        alpha = 95%  \n",
       "rougher.input.feed_pb                 распределения разные        alpha = 95%  \n",
       "rougher.input.feed_rate               распределения разные        alpha = 95%  \n",
       "rougher.input.feed_size               распределения разные        alpha = 95%  \n",
       "rougher.input.feed_sol                распределения разные        alpha = 95%  \n",
       "rougher.input.floatbank10_sulfate     распределения разные        alpha = 95%  \n",
       "rougher.input.floatbank10_xanthate    распределения разные        alpha = 95%  \n",
       "rougher.input.floatbank11_sulfate     распределения разные        alpha = 95%  \n",
       "rougher.input.floatbank11_xanthate    распределения разные        alpha = 95%  \n",
       "rougher.state.floatbank10_a_air       распределения разные        alpha = 95%  \n",
       "rougher.state.floatbank10_a_level     распределения разные        alpha = 95%  \n",
       "rougher.state.floatbank10_b_air       распределения разные        alpha = 95%  \n",
       "rougher.state.floatbank10_b_level     распределения разные        alpha = 95%  \n",
       "rougher.state.floatbank10_c_air       распределения разные        alpha = 95%  \n",
       "rougher.state.floatbank10_c_level     распределения разные        alpha = 95%  \n",
       "rougher.state.floatbank10_d_air       распределения разные        alpha = 95%  \n",
       "rougher.state.floatbank10_d_level     распределения разные        alpha = 95%  \n",
       "rougher.state.floatbank10_e_air       распределения разные        alpha = 95%  \n",
       "rougher.state.floatbank10_e_level     распределения разные        alpha = 95%  \n",
       "rougher.state.floatbank10_f_air       распределения разные        alpha = 95%  \n",
       "rougher.state.floatbank10_f_level     распределения разные        alpha = 95%  "
      ]
     },
     "execution_count": 41,
     "metadata": {},
     "output_type": "execute_result"
    }
   ],
   "source": [
    "pd.DataFrame.from_records({col:_check_dists_means(X_rougher_tr[col],\\\n",
    "                                                  X_rougher_te[col], ALPHA)\\\n",
    "                           for col in X_rougher_tr.columns}).T\\\n",
    "            .rename(columns = {0:'сравнение средних', 1:'сравнение распределений', 2:'уровень значимости'})\n",
    "    \n",
    "    "
   ]
  },
  {
   "cell_type": "code",
   "execution_count": 42,
   "metadata": {},
   "outputs": [
    {
     "data": {
      "image/png": "[encoded data removed]",
      "text/plain": [
       "<Figure size 432x288 with 1 Axes>"
      ]
     },
     "metadata": {},
     "output_type": "display_data"
    }
   ],
   "source": [
    "plt.title('rougher.state.floatbank10_c_air')\n",
    "sns.kdeplot(X_rougher_tr['rougher.state.floatbank10_c_air'], label = 'tr')\n",
    "sns.kdeplot(X_rougher_te['rougher.state.floatbank10_c_air'], label = 'te')\n",
    "plt.show()"
   ]
  },
  {
   "cell_type": "markdown",
   "metadata": {},
   "source": [
    "#### Вывод: распределения всех признаков в тесте и трейне разные, средние одинаковые (кроме rougher.state.floatbank10_c_air - удалим его)"
   ]
  },
  {
   "cell_type": "code",
   "execution_count": 43,
   "metadata": {},
   "outputs": [],
   "source": [
    "X_rougher_tr = X_rougher_tr.drop('rougher.state.floatbank10_c_air', 1)\n",
    "X_rougher_te = X_rougher_te.drop('rougher.state.floatbank10_c_air', 1)"
   ]
  },
  {
   "cell_type": "code",
   "execution_count": 44,
   "metadata": {},
   "outputs": [],
   "source": [
    "to_bar = X_rougher_tr.corrwith(y_rougher_tr).sort_values()\n",
    "to_color = to_bar.apply(lambda x: 'red' if x<0 else 'green')\n",
    "corr_matrix = X_rougher_tr.corr()\n",
    "corr_triu = corr_matrix.where(np.triu(np.ones_like(corr_matrix), k =1).astype(np.bool))"
   ]
  },
  {
   "cell_type": "code",
   "execution_count": 45,
   "metadata": {},
   "outputs": [
    {
     "data": {
      "image/png": "[encoded data removed]",
      "text/plain": [
       "<Figure size 1080x360 with 3 Axes>"
      ]
     },
     "metadata": {},
     "output_type": "display_data"
    }
   ],
   "source": [
    "plt.figure(figsize = (15, 5))\n",
    "ax1 = plt.subplot(1, 2, 1)\n",
    "to_bar.plot(kind ='barh', color = to_color, ax = ax1)\n",
    "plt.title('corr with target')\n",
    "\n",
    "ax2 = plt.subplot(1, 2, 2)\n",
    "sns.heatmap(corr_triu)\n",
    "plt.title('corr bw features')\n",
    "plt.subplots_adjust(wspace = .7)"
   ]
  },
  {
   "cell_type": "code",
   "execution_count": 46,
   "metadata": {},
   "outputs": [
    {
     "data": {
      "text/plain": [
       "rougher.state.floatbank10_b_level   rougher.state.floatbank10_c_level     0.987757\n",
       "                                    rougher.state.floatbank10_d_level     0.977691\n",
       "                                    rougher.state.floatbank10_e_level     0.973262\n",
       "                                    rougher.state.floatbank10_f_level     0.965981\n",
       "rougher.input.floatbank10_xanthate  rougher.input.floatbank11_xanthate    0.905290\n",
       "rougher.state.floatbank10_b_air     rougher.state.floatbank10_d_air       0.926472\n",
       "rougher.state.floatbank10_c_level   rougher.state.floatbank10_d_level     0.987536\n",
       "                                    rougher.state.floatbank10_e_level     0.984209\n",
       "                                    rougher.state.floatbank10_f_level     0.976727\n",
       "rougher.state.floatbank10_d_level   rougher.state.floatbank10_e_level     0.976675\n",
       "                                    rougher.state.floatbank10_f_level     0.974439\n",
       "rougher.state.floatbank10_e_air     rougher.state.floatbank10_f_air       0.930419\n",
       "rougher.state.floatbank10_e_level   rougher.state.floatbank10_f_level     0.988271\n",
       "dtype: float64"
      ]
     },
     "execution_count": 46,
     "metadata": {},
     "output_type": "execute_result"
    }
   ],
   "source": [
    "corr_abs = corr_triu.stack().abs()\n",
    "corr_abs[corr_abs>.9]"
   ]
  },
  {
   "cell_type": "markdown",
   "metadata": {},
   "source": [
    "#### Вывод: некоторые признаки сильно коррелируют"
   ]
  },
  {
   "cell_type": "code",
   "execution_count": 47,
   "metadata": {},
   "outputs": [
    {
     "data": {
      "text/html": [
       "<div>\n",
       "<style scoped>\n",
       "    .dataframe tbody tr th:only-of-type {\n",
       "        vertical-align: middle;\n",
       "    }\n",
       "\n",
       "    .dataframe tbody tr th {\n",
       "        vertical-align: top;\n",
       "    }\n",
       "\n",
       "    .dataframe thead th {\n",
       "        text-align: right;\n",
       "    }\n",
       "</style>\n",
       "<table border=\"1\" class=\"dataframe\">\n",
       "  <thead>\n",
       "    <tr style=\"text-align: right;\">\n",
       "      <th></th>\n",
       "      <th>0</th>\n",
       "      <th>1</th>\n",
       "      <th>2</th>\n",
       "    </tr>\n",
       "  </thead>\n",
       "  <tbody>\n",
       "    <tr>\n",
       "      <th>20</th>\n",
       "      <td>rougher</td>\n",
       "      <td>input</td>\n",
       "      <td>floatbank11_xanthate</td>\n",
       "    </tr>\n",
       "    <tr>\n",
       "      <th>1</th>\n",
       "      <td>rougher</td>\n",
       "      <td>input</td>\n",
       "      <td>floatbank10_xanthate</td>\n",
       "    </tr>\n",
       "    <tr>\n",
       "      <th>2</th>\n",
       "      <td>rougher</td>\n",
       "      <td>input</td>\n",
       "      <td>floatbank10_sulfate</td>\n",
       "    </tr>\n",
       "    <tr>\n",
       "      <th>3</th>\n",
       "      <td>rougher</td>\n",
       "      <td>input</td>\n",
       "      <td>feed_au</td>\n",
       "    </tr>\n",
       "    <tr>\n",
       "      <th>4</th>\n",
       "      <td>rougher</td>\n",
       "      <td>input</td>\n",
       "      <td>feed_sol</td>\n",
       "    </tr>\n",
       "    <tr>\n",
       "      <th>5</th>\n",
       "      <td>rougher</td>\n",
       "      <td>input</td>\n",
       "      <td>feed_size</td>\n",
       "    </tr>\n",
       "    <tr>\n",
       "      <th>6</th>\n",
       "      <td>rougher</td>\n",
       "      <td>input</td>\n",
       "      <td>feed_rate</td>\n",
       "    </tr>\n",
       "    <tr>\n",
       "      <th>7</th>\n",
       "      <td>rougher</td>\n",
       "      <td>input</td>\n",
       "      <td>feed_pb</td>\n",
       "    </tr>\n",
       "    <tr>\n",
       "      <th>8</th>\n",
       "      <td>rougher</td>\n",
       "      <td>input</td>\n",
       "      <td>feed_ag</td>\n",
       "    </tr>\n",
       "    <tr>\n",
       "      <th>19</th>\n",
       "      <td>rougher</td>\n",
       "      <td>input</td>\n",
       "      <td>floatbank11_sulfate</td>\n",
       "    </tr>\n",
       "    <tr>\n",
       "      <th>18</th>\n",
       "      <td>rougher</td>\n",
       "      <td>state</td>\n",
       "      <td>floatbank10_f_level</td>\n",
       "    </tr>\n",
       "    <tr>\n",
       "      <th>17</th>\n",
       "      <td>rougher</td>\n",
       "      <td>state</td>\n",
       "      <td>floatbank10_f_air</td>\n",
       "    </tr>\n",
       "    <tr>\n",
       "      <th>16</th>\n",
       "      <td>rougher</td>\n",
       "      <td>state</td>\n",
       "      <td>floatbank10_e_level</td>\n",
       "    </tr>\n",
       "    <tr>\n",
       "      <th>15</th>\n",
       "      <td>rougher</td>\n",
       "      <td>state</td>\n",
       "      <td>floatbank10_e_air</td>\n",
       "    </tr>\n",
       "    <tr>\n",
       "      <th>0</th>\n",
       "      <td>rougher</td>\n",
       "      <td>state</td>\n",
       "      <td>floatbank10_b_level</td>\n",
       "    </tr>\n",
       "    <tr>\n",
       "      <th>13</th>\n",
       "      <td>rougher</td>\n",
       "      <td>state</td>\n",
       "      <td>floatbank10_d_air</td>\n",
       "    </tr>\n",
       "    <tr>\n",
       "      <th>12</th>\n",
       "      <td>rougher</td>\n",
       "      <td>state</td>\n",
       "      <td>floatbank10_c_level</td>\n",
       "    </tr>\n",
       "    <tr>\n",
       "      <th>11</th>\n",
       "      <td>rougher</td>\n",
       "      <td>state</td>\n",
       "      <td>floatbank10_b_air</td>\n",
       "    </tr>\n",
       "    <tr>\n",
       "      <th>9</th>\n",
       "      <td>rougher</td>\n",
       "      <td>state</td>\n",
       "      <td>floatbank10_a_air</td>\n",
       "    </tr>\n",
       "    <tr>\n",
       "      <th>14</th>\n",
       "      <td>rougher</td>\n",
       "      <td>state</td>\n",
       "      <td>floatbank10_d_level</td>\n",
       "    </tr>\n",
       "    <tr>\n",
       "      <th>10</th>\n",
       "      <td>rougher</td>\n",
       "      <td>state</td>\n",
       "      <td>floatbank10_a_level</td>\n",
       "    </tr>\n",
       "  </tbody>\n",
       "</table>\n",
       "</div>"
      ],
      "text/plain": [
       "          0      1                     2\n",
       "20  rougher  input  floatbank11_xanthate\n",
       "1   rougher  input  floatbank10_xanthate\n",
       "2   rougher  input   floatbank10_sulfate\n",
       "3   rougher  input               feed_au\n",
       "4   rougher  input              feed_sol\n",
       "5   rougher  input             feed_size\n",
       "6   rougher  input             feed_rate\n",
       "7   rougher  input               feed_pb\n",
       "8   rougher  input               feed_ag\n",
       "19  rougher  input   floatbank11_sulfate\n",
       "18  rougher  state   floatbank10_f_level\n",
       "17  rougher  state     floatbank10_f_air\n",
       "16  rougher  state   floatbank10_e_level\n",
       "15  rougher  state     floatbank10_e_air\n",
       "0   rougher  state   floatbank10_b_level\n",
       "13  rougher  state     floatbank10_d_air\n",
       "12  rougher  state   floatbank10_c_level\n",
       "11  rougher  state     floatbank10_b_air\n",
       "9   rougher  state     floatbank10_a_air\n",
       "14  rougher  state   floatbank10_d_level\n",
       "10  rougher  state   floatbank10_a_level"
      ]
     },
     "execution_count": 47,
     "metadata": {},
     "output_type": "execute_result"
    }
   ],
   "source": [
    "pd.DataFrame([c.split('.') for c in X_rougher_tr.columns]).sort_values(1)"
   ]
  },
  {
   "cell_type": "code",
   "execution_count": 48,
   "metadata": {},
   "outputs": [],
   "source": [
    "for X in (X_rougher_tr, X_rougher_te):\n",
    "    \n",
    "    X['f1'] = X.loc[:, X.columns.str.contains('input')&\\\n",
    "             X.columns.str.contains('au|ag|pb|sol')].sum(1)\n",
    "    X['f2'] = X.loc[:, X.columns.str.contains('input')&\\\n",
    "             X.columns.str.contains('floatbank11|floatbank10')].sum(1)\n",
    "\n",
    "    X['f3'] = X.loc[:, X.columns.str.contains('state')&\\\n",
    "             X.columns.str.contains('level')].sum(1)\n",
    "    X['f4'] = X.loc[:, X.columns.str.contains('state')&\\\n",
    "            ~X.columns.str.contains('air')].sum(1)\n",
    "dates_tr =X_rougher_tr.index.round('H')\n",
    "dates_te =X_rougher_te.index.round('H')\n",
    "\n",
    "for X, dates in zip((X_rougher_tr, X_rougher_te), (dates_tr, dates_te)):\n",
    "    X['year'] = dates.year\n",
    "    X['month'] =dates.month\n",
    "    X['day'] =dates.day\n",
    "    X['dow'] =dates.dayofweek\n",
    "    X['hour'] =dates.hour   \n",
    "    \n",
    "scaler = MinMaxScaler()\n",
    "scaler.fit(X_rougher_tr)\n",
    "X_rougher_tr = pd.DataFrame(np.log1p(scaler.transform(X_rougher_tr)), index = X_rougher_tr.index)\n",
    "X_rougher_te = pd.DataFrame(np.log1p(scaler.transform(X_rougher_te)), index = X_rougher_te.index)"
   ]
  },
  {
   "cell_type": "code",
   "execution_count": 49,
   "metadata": {},
   "outputs": [],
   "source": [
    "for X in (X_cleaner_tr, X_cleaner_te):\n",
    "    \n",
    "    X['f1'] = X.loc[:, X.columns.str.contains('input')&\\\n",
    "                      ~X.columns.str.contains('feed')].sum(1)\n",
    "    X['f2'] = X.loc[:, X.columns.str.contains('air')].sum(1)\n",
    "    X['f3'] = X.loc[:, X.columns.str.contains('level')].sum(1)\n",
    "    \n",
    "dates_tr =X_cleaner_tr.index.round('H')\n",
    "dates_te =X_cleaner_te.index.round('H')\n",
    "\n",
    "for X, dates in zip((X_cleaner_tr, X_cleaner_te), (dates_tr, dates_te)):\n",
    "    X['year'] = dates.year\n",
    "    X['month'] =dates.month\n",
    "    X['day'] =dates.day\n",
    "    X['dow'] =dates.dayofweek\n",
    "    X['hour'] =dates.hour   \n",
    "    \n",
    "scaler = MinMaxScaler()\n",
    "scaler.fit(X_cleaner_tr)\n",
    "X_cleaner_tr = pd.DataFrame(np.log1p(scaler.transform(X_cleaner_tr)), index = X_cleaner_tr.index)\n",
    "X_cleaner_te = pd.DataFrame(np.log1p(scaler.transform(X_cleaner_te)), index = X_cleaner_te.index)"
   ]
  },
  {
   "cell_type": "code",
   "execution_count": 50,
   "metadata": {},
   "outputs": [],
   "source": [
    "class FeatureSelector():\n",
    "    def __init__(self, estimator, metric, cv, use_values, use_recursion, fill_na, show_progress, larger_is_better, early_stopping = None):\n",
    "        self.estimator = estimator\n",
    "        self.metric = metric\n",
    "        self.cv = cv\n",
    "        self.use_values = use_values        \n",
    "        self.use_recursion = use_recursion\n",
    "        self.show_progress = show_progress\n",
    "        self.early_stopping = early_stopping\n",
    "        self.fill_na = fill_na\n",
    "        self.larger_is_better = larger_is_better\n",
    "    def fit(self, X, Y):        \n",
    "        flag = isinstance(X[:, 0], csc_matrix)\n",
    "        # список с результатами валидации\n",
    "        column_value_score = []\n",
    "        # проходим по признакам\n",
    "        for i in tqdm_notebook(range(X.shape[1])):\n",
    "            # если формат матрицы признаков == csc_matrix\n",
    "            if flag:\n",
    "                # выбираем столбец, преобразуем\n",
    "                ser = pd.DataFrame(X[:, i].todense())[0].values.flatten()\n",
    "            # если формат != csc_matrix\n",
    "            else:\n",
    "                # выбираем столбец\n",
    "                ser = X[:, i]        \n",
    "            # если столбец в списке с проверкой значений \n",
    "            if self.use_values is not None:                \n",
    "                if i in self.use_values:\n",
    "                    # уникальные значения столбца\n",
    "                    unique_values = np.unique(ser)  \n",
    "                    # валидируем каждое значение\n",
    "                    for val in unique_values:\n",
    "                        _x = np.int32(ser==val).reshape(-1,1)\n",
    "                        column_value_score.append((i, val,\\\n",
    "                                                   cross_val_score(self.estimator,\\\n",
    "                                                                   _x, Y,\\\n",
    "                                                                   scoring = self.metric,\\\n",
    "                                                                   cv = self.cv).mean()))\n",
    "                else: \n",
    "                    # валидируем столбец\n",
    "                    column_value_score.append((i, None,\\\n",
    "                                               cross_val_score(self.estimator,\\\n",
    "                                                               _x, Y,\\\n",
    "                                                               scoring = self.metric,\\\n",
    "                                                               cv = self.cv).mean()))\n",
    "            else:\n",
    "                # валидируем столбец\n",
    "                    column_value_score.append((i, None,\\\n",
    "                                               cross_val_score(self.estimator,\\\n",
    "                                                               ser.reshape(-1,1), Y,\\\n",
    "                                                               scoring = self.metric,\\\n",
    "                                                               cv = self.cv).mean()))\n",
    "                \n",
    "\n",
    "        # признаки и значения признаков в порядке убывания валидации\n",
    "        order = np.array(sorted(column_value_score, key = lambda x: x[-1], reverse = True))[:, :2]             \n",
    "        # список лучших признаков\n",
    "        best_features = []\n",
    "        # словарь лучших значений признаков\n",
    "        D_best_features = defaultdict(list)\n",
    "        # список с признаками, не давшими прироста\n",
    "        to_drop = []\n",
    "        \n",
    "        # лучшее значение метрики\n",
    "        if self.larger_is_better:\n",
    "            best_score = 0\n",
    "        else:\n",
    "            best_score = np.inf            \n",
    "        counter = 0\n",
    "        # проходим по признакам и значениям признаков в порядке убывания валидации\n",
    "        for feature, feature_value in tqdm_notebook(order):   \n",
    "\n",
    "            # добавляем текущие признаки/значения\n",
    "            if feature_value is None:\n",
    "                best_features.append(feature)               \n",
    "            else:\n",
    "                D_best_features[feature].append(feature_value)\n",
    "\n",
    "            # обновляем матрицы\n",
    "            L = []\n",
    "            for k, v in D_best_features.items():\n",
    "                if isinstance(X[:, k], csc_matrix):\n",
    "                    L.append(pd.DataFrame(X[:, k].tocsc().todense())[0].apply(lambda x: x if x in v else self.fill_na))\n",
    "                else:\n",
    "                    L.append(pd.Series(X[:, k].flatten()).apply(lambda x: x if x in v else self.fill_na))\n",
    "\n",
    "            if flag:\n",
    "                if (len(best_features)>0) & (len(L)>0):\n",
    "                    _X = csc_matrix(hstack([X[:, best_features], csc_matrix(np.column_stack(L)) ]))\n",
    "                elif (len(best_features)==0) & (len(L)>0):\n",
    "                    _X = csc_matrix(np.column_stack(L))\n",
    "                elif (len(best_features)>0) & (len(L)==0):\n",
    "                    _X = csc_matrix(X[:, best_features])                    \n",
    "                        \n",
    "            else:\n",
    "                if (len(best_features)>0) & (len(L)>0):\n",
    "                    _X = np.column_stack([X[:, best_features], np.column_stack(L)])\n",
    "                elif (len(best_features)==0) & (len(L)>0):\n",
    "                    _X = np.column_stack(L)\n",
    "                elif (len(best_features)>0) & (len(L)==0):\n",
    "                    _X = X[:, best_features] \n",
    "            # считаем валидацию    \n",
    "            current_score = cross_val_score(self.estimator, _X, Y, scoring = self.metric, cv = self.cv).mean()\n",
    "            # если метрика улучшилась\n",
    "            if self.larger_is_better:\n",
    "                if current_score>best_score:\n",
    "                    # обновляем лучшую метрику\n",
    "                    best_score = current_score\n",
    "                    counter = 0\n",
    "                    # печатаем \n",
    "                    if self.show_progress:\n",
    "                        print('new best_score = {}'.format(best_score))\n",
    "                # если метрика не улучшилась\n",
    "                else: \n",
    "                    counter+=1\n",
    "                    # удаляем признак/значение\n",
    "                    if feature_value is None:\n",
    "                        best_features = [val for val in best_features if val != feature]\n",
    "                        to_drop.append((feature, None))\n",
    "                    else:\n",
    "                        D_best_features[feature] = [val for val in D_best_features[feature] if val != feature_value]    \n",
    "                        to_drop.append((feature, feature_value))\n",
    "                    if counter == self.early_stopping:\n",
    "                        break\n",
    "            else:\n",
    "                if current_score<best_score:\n",
    "                    # обновляем лучшую метрику\n",
    "                    best_score = current_score\n",
    "                    counter = 0\n",
    "                    # печатаем \n",
    "                    if self.show_progress:\n",
    "                        print('new best_score = {}'.format(best_score))\n",
    "                    # если метрика не улучшилась\n",
    "                else: \n",
    "                    counter+=1\n",
    "                    # удаляем признак/значение\n",
    "                    if feature_value is None:\n",
    "                        best_features = [val for val in best_features if val != feature]\n",
    "                        to_drop.append((feature, None))\n",
    "                    else:\n",
    "                        D_best_features[feature] = [val for val in D_best_features[feature] if val != feature_value]    \n",
    "                        to_drop.append((feature, feature_value))\n",
    "                    if counter == self.early_stopping:\n",
    "                        break\n",
    "\n",
    "        if self.use_recursion:\n",
    "            # запускаем бесконечный цикл\n",
    "            while True:\n",
    "                # списки лучших признаков до и после\n",
    "                to_drop_before = to_drop\n",
    "                to_drop_after = []\n",
    "                # проходим по признакам и значениям признаков в порядке убывания валидации\n",
    "                for feature, feature_value in tqdm_notebook(to_drop_before):   \n",
    "                    # добавляем текущие признаки/значения\n",
    "                    if feature_value is None:\n",
    "                        best_features.append(feature)               \n",
    "                    else:\n",
    "                        D_best_features[feature].append(feature_value)\n",
    "\n",
    "                    # обновляем матрицы\n",
    "                    L = []\n",
    "                    for k, v in D_best_features.items():\n",
    "                        if isinstance(X[:, k], csc_matrix):\n",
    "                            L.append(pd.DataFrame(X[:, k].tocsc().todense())[0].apply(lambda x: x if x in v else self.fill_na))\n",
    "                        else:\n",
    "                            L.append(pd.Series(X[:, k].flatten()).apply(lambda x: x if x in v else self.fill_na))\n",
    "\n",
    "                    if flag:\n",
    "                        if (len(best_features)>0) & (len(L)>0):\n",
    "                            _X = csc_matrix(hstack([X[:, best_features], csc_matrix(np.column_stack(L)) ]))\n",
    "                        elif (len(best_features)==0) & (len(L)>0):\n",
    "                            _X = csc_matrix(np.column_stack(L))\n",
    "                        elif (len(best_features)>0) & (len(L)==0):\n",
    "                            _X = csc_matrix(X[:, best_features])                    \n",
    "\n",
    "                    else:\n",
    "                        if (len(best_features)>0) & (len(L)>0):\n",
    "                            _X = np.column_stack([X[:, best_features], np.column_stack(L)])\n",
    "                        elif (len(best_features)==0) & (len(L)>0):\n",
    "                            _X = np.column_stack(L)\n",
    "                        elif (len(best_features)>0) & (len(L)==0):\n",
    "                            _X = X[:, best_features] \n",
    "\n",
    "                    # считаем валидацию    \n",
    "                    current_score = cross_val_score(self.estimator, _X, Y, scoring = self.metric, cv = self.cv).mean()\n",
    "                    \n",
    "                    \n",
    "                    \n",
    "                    \n",
    "                    \n",
    "                    \n",
    "                    if self.larger_is_better:\n",
    "                        if current_score>best_score:\n",
    "                            # обновляем лучшую метрику\n",
    "                            best_score = current_score\n",
    "                            counter = 0\n",
    "                            # печатаем \n",
    "                            if self.show_progress:\n",
    "                                print('new best_score = {}'.format(best_score))\n",
    "                            # если метрика не улучшилась\n",
    "                        else: \n",
    "                            # удаляем признак/значение\n",
    "                            if feature_value is None:\n",
    "                                best_features = [val for val in best_features if val != feature]\n",
    "                                to_drop_after.append((feature, None))\n",
    "                            else:\n",
    "                                D_best_features[feature] = [val for val in D_best_features[feature] if val != feature_value]    \n",
    "                                to_drop_after.append((feature, feature_value))\n",
    "                    else:\n",
    "                        if current_score<best_score:\n",
    "                            # обновляем лучшую метрику\n",
    "                            best_score = current_score\n",
    "                            counter = 0\n",
    "                            # печатаем \n",
    "                            if self.show_progress:\n",
    "                                print('new best_score = {}'.format(best_score))\n",
    "                        else: \n",
    "                            # удаляем признак/значение\n",
    "                            if feature_value is None:\n",
    "                                best_features = [val for val in best_features if val != feature]\n",
    "                                to_drop_after.append((feature, None))\n",
    "                            else:\n",
    "                                D_best_features[feature] = [val for val in D_best_features[feature] if val != feature_value]    \n",
    "                                to_drop_after.append((feature, feature_value))\n",
    "                    \n",
    "\n",
    "                # если списки одинаковые, останавливаем отбор\n",
    "                if len(to_drop_after) == len(to_drop_before):\n",
    "                    break\n",
    "                # если разные - обновляем списки до и после\n",
    "                else:\n",
    "                    to_drop_before = to_drop_after\n",
    "                    to_drop_after = []\n",
    "                    \n",
    "        self.best_features = best_features\n",
    "        self.D_best_features = D_best_features\n",
    "        self.best_score =best_score\n",
    "        self.flag = flag\n",
    "    def transform(self, X):\n",
    "              \n",
    "        if len(self.best_features) !=0:\n",
    "            x1 = X[:, self.best_features]\n",
    "        else:\n",
    "            x1 = None\n",
    "        if len(list(self.D_best_features.keys())) !=0:\n",
    "            L=[]\n",
    "            for k, v in self.D_best_features.items():\n",
    "                if self.flag:\n",
    "                    L.append(pd.DataFrame(X[:, k].tocsc().todense())[0].apply(lambda x: x if x in v else self.fill_na))                    \n",
    "                else:\n",
    "                    L.append(pd.Series(X[:, k].flatten()).apply(lambda x: x if x in v else self.fill_na))\n",
    "            x2 = np.column_stack(L)\n",
    "        else:\n",
    "            x2 = None\n",
    "            \n",
    "        if (x1 is not None) & (x2 is not None):\n",
    "            if self.flag: \n",
    "                _X = csc_matrix(hstack([x1, x2]))\n",
    "            else:\n",
    "                _X = np.column_stack([x1, x2])\n",
    "                \n",
    "        if (x1 is not None) & (x2 is None):\n",
    "            _X = x1\n",
    "        if (x1 is None) & (x2 is not None):\n",
    "            if self.flag:\n",
    "                _X = csc_matrix(x2)\n",
    "            else:\n",
    "                _X = x2\n",
    "        return _X     \n",
    "        \n",
    "    def return_self(self):\n",
    "        return self\n",
    "    \n",
    "            \n",
    "            \n",
    "            "
   ]
  },
  {
   "cell_type": "code",
   "execution_count": 51,
   "metadata": {},
   "outputs": [],
   "source": [
    "\n",
    "dt_params = {'min_samples_split': range(2, 16, 2), \n",
    "             'min_samples_leaf':range(1, 12, 2),\n",
    "             'random_state':[SEED]}\n",
    "rf_params = {'n_estimators':[100],\n",
    "             'min_samples_leaf':[1,3],\n",
    "             'min_samples_split':[2,4], \n",
    "             'random_state':[SEED],\n",
    "             'n_jobs':[-1]}\n",
    "\n",
    "knn_params = {'n_neighbors':[5,7,9],\n",
    "              'leaf_size':[1,3,5],\n",
    "              'weights':['uniform', 'distance'],              \n",
    "              'n_jobs':[-1]}\n",
    "\n",
    "lgb_params = {'n_estimators' :[100], 'max_depth' : [2, 4, 6, 8], 'num_leaves':[2**i for i in range(1, 5)],\\\n",
    "              'min_child_samples' :[20, 50],\\\n",
    "              'subsample':[.7, 1], 'colsample_bytree':[.5, 1],\\\n",
    "              'random_state':[SEED], 'learning_rate':[.02, .05, .1]} \n",
    "\n",
    "NFOLDS = 5\n",
    "TEST_SIZE = .1\n",
    "\n"
   ]
  },
  {
   "cell_type": "code",
   "execution_count": 52,
   "metadata": {
    "scrolled": true
   },
   "outputs": [
    {
     "data": {
      "application/vnd.jupyter.widget-view+json": {
       "model_id": "9b07207ebfad464798f7d66abe4ea71d",
       "version_major": 2,
       "version_minor": 0
      },
      "text/plain": [
       "HBox(children=(FloatProgress(value=0.0, max=2.0), HTML(value='')))"
      ]
     },
     "metadata": {},
     "output_type": "display_data"
    },
    {
     "name": "stdout",
     "output_type": "stream",
     "text": [
      "GETTING BASELINE SCORES ...\n"
     ]
    },
    {
     "data": {
      "application/vnd.jupyter.widget-view+json": {
       "model_id": "6b4dc57b00b749c5b8db0e7fd3629876",
       "version_major": 2,
       "version_minor": 0
      },
      "text/plain": [
       "HBox(children=(FloatProgress(value=0.0, max=5.0), HTML(value='')))"
      ]
     },
     "metadata": {},
     "output_type": "display_data"
    },
    {
     "name": "stdout",
     "output_type": "stream",
     "text": [
      "\n",
      "SELECTING FEATURES ...\n"
     ]
    },
    {
     "data": {
      "application/vnd.jupyter.widget-view+json": {
       "model_id": "88764e2eb8e24d659d39a03ea2ae2439",
       "version_major": 2,
       "version_minor": 0
      },
      "text/plain": [
       "HBox(children=(FloatProgress(value=0.0, max=5.0), HTML(value='')))"
      ]
     },
     "metadata": {},
     "output_type": "display_data"
    },
    {
     "name": "stdout",
     "output_type": "stream",
     "text": [
      "\t\tLR\n"
     ]
    },
    {
     "data": {
      "application/vnd.jupyter.widget-view+json": {
       "model_id": "0fdbf7cb644f413eae39b203c240aa29",
       "version_major": 2,
       "version_minor": 0
      },
      "text/plain": [
       "HBox(children=(FloatProgress(value=0.0, max=30.0), HTML(value='')))"
      ]
     },
     "metadata": {},
     "output_type": "display_data"
    },
    {
     "name": "stdout",
     "output_type": "stream",
     "text": [
      "\n"
     ]
    },
    {
     "data": {
      "application/vnd.jupyter.widget-view+json": {
       "model_id": "99742dbcacd9430b8a37bf54701af3ac",
       "version_major": 2,
       "version_minor": 0
      },
      "text/plain": [
       "HBox(children=(FloatProgress(value=0.0, max=30.0), HTML(value='')))"
      ]
     },
     "metadata": {},
     "output_type": "display_data"
    },
    {
     "name": "stdout",
     "output_type": "stream",
     "text": [
      "new best_score = 0.1024560329129854\n",
      "new best_score = 0.10235866314161793\n",
      "new best_score = 0.09797158837543832\n",
      "new best_score = 0.09791745915930324\n",
      "new best_score = 0.09683167298585879\n",
      "new best_score = 0.09678736610401441\n",
      "new best_score = 0.09635399569321815\n",
      "new best_score = 0.09620958485559813\n",
      "new best_score = 0.09615135343561389\n",
      "new best_score = 0.09587302028912865\n",
      "new best_score = 0.09585568420734887\n",
      "new best_score = 0.0955184338839898\n",
      "new best_score = 0.09519528962181072\n",
      "new best_score = 0.0947671900633981\n",
      "new best_score = 0.09395946754801084\n",
      "new best_score = 0.09383577181189307\n",
      "new best_score = 0.09129533444344229\n",
      "new best_score = 0.09125045984467717\n",
      "new best_score = 0.09039545674711487\n",
      "new best_score = 0.09026645039198646\n",
      "new best_score = 0.08950267616230886\n",
      "new best_score = 0.08850829108277443\n",
      "new best_score = 0.08840615369311078\n",
      "new best_score = 0.08562881077847073\n",
      "new best_score = 0.0816099515760638\n",
      "\n"
     ]
    },
    {
     "data": {
      "application/vnd.jupyter.widget-view+json": {
       "model_id": "ead4480128314546a42405710e5f92c3",
       "version_major": 2,
       "version_minor": 0
      },
      "text/plain": [
       "HBox(children=(FloatProgress(value=0.0, max=5.0), HTML(value='')))"
      ]
     },
     "metadata": {},
     "output_type": "display_data"
    },
    {
     "name": "stdout",
     "output_type": "stream",
     "text": [
      "new best_score = 0.0815814493978417\n",
      "\n"
     ]
    },
    {
     "data": {
      "application/vnd.jupyter.widget-view+json": {
       "model_id": "b355fc0ebf574d4b8076698d47c64548",
       "version_major": 2,
       "version_minor": 0
      },
      "text/plain": [
       "HBox(children=(FloatProgress(value=0.0, max=5.0), HTML(value='')))"
      ]
     },
     "metadata": {},
     "output_type": "display_data"
    },
    {
     "name": "stdout",
     "output_type": "stream",
     "text": [
      "\n",
      "------------------------------------------------------\n",
      "\n",
      "\t\tDT\n"
     ]
    },
    {
     "data": {
      "application/vnd.jupyter.widget-view+json": {
       "model_id": "46cae48bce6c405d9743955d2075c07e",
       "version_major": 2,
       "version_minor": 0
      },
      "text/plain": [
       "HBox(children=(FloatProgress(value=0.0, max=30.0), HTML(value='')))"
      ]
     },
     "metadata": {},
     "output_type": "display_data"
    },
    {
     "name": "stdout",
     "output_type": "stream",
     "text": [
      "\n"
     ]
    },
    {
     "data": {
      "application/vnd.jupyter.widget-view+json": {
       "model_id": "91e0193ff8df4704976c4da9796fcc15",
       "version_major": 2,
       "version_minor": 0
      },
      "text/plain": [
       "HBox(children=(FloatProgress(value=0.0, max=30.0), HTML(value='')))"
      ]
     },
     "metadata": {},
     "output_type": "display_data"
    },
    {
     "name": "stdout",
     "output_type": "stream",
     "text": [
      "new best_score = 0.14947225478976964\n",
      "new best_score = 0.14760428722753732\n",
      "new best_score = 0.14097307019603234\n",
      "new best_score = 0.13050015773591875\n",
      "new best_score = 0.12074906049999798\n",
      "new best_score = 0.11409321556186627\n",
      "new best_score = 0.1046039054308199\n",
      "new best_score = 0.1041818787136271\n",
      "new best_score = 0.10229359970455291\n",
      "new best_score = 0.10115906406145359\n",
      "new best_score = 0.10047106290083337\n",
      "new best_score = 0.09531229289675369\n",
      "new best_score = 0.09459637469163369\n",
      "new best_score = 0.09204177052840831\n",
      "new best_score = 0.09113707864760637\n",
      "new best_score = 0.08763625481405886\n",
      "new best_score = 0.08697052964902394\n",
      "new best_score = 0.08645163619655274\n",
      "new best_score = 0.08570769805841116\n",
      "new best_score = 0.08435174324104612\n",
      "\n"
     ]
    },
    {
     "data": {
      "application/vnd.jupyter.widget-view+json": {
       "model_id": "f375b2bf4688465686224d5bf463f757",
       "version_major": 2,
       "version_minor": 0
      },
      "text/plain": [
       "HBox(children=(FloatProgress(value=0.0, max=10.0), HTML(value='')))"
      ]
     },
     "metadata": {},
     "output_type": "display_data"
    },
    {
     "name": "stdout",
     "output_type": "stream",
     "text": [
      "new best_score = 0.08414178219272805\n",
      "new best_score = 0.08369695041184608\n",
      "new best_score = 0.08319721326335679\n",
      "new best_score = 0.08241751761381276\n",
      "\n"
     ]
    },
    {
     "data": {
      "application/vnd.jupyter.widget-view+json": {
       "model_id": "f968e1e4158749848f4d06a06eb94c83",
       "version_major": 2,
       "version_minor": 0
      },
      "text/plain": [
       "HBox(children=(FloatProgress(value=0.0, max=10.0), HTML(value='')))"
      ]
     },
     "metadata": {},
     "output_type": "display_data"
    },
    {
     "name": "stdout",
     "output_type": "stream",
     "text": [
      "\n",
      "------------------------------------------------------\n",
      "\n",
      "\t\tRF\n"
     ]
    },
    {
     "data": {
      "application/vnd.jupyter.widget-view+json": {
       "model_id": "0be793577b6c40a58eda251b0fd8bf03",
       "version_major": 2,
       "version_minor": 0
      },
      "text/plain": [
       "HBox(children=(FloatProgress(value=0.0, max=30.0), HTML(value='')))"
      ]
     },
     "metadata": {},
     "output_type": "display_data"
    },
    {
     "name": "stdout",
     "output_type": "stream",
     "text": [
      "\n"
     ]
    },
    {
     "data": {
      "application/vnd.jupyter.widget-view+json": {
       "model_id": "f302950e7453434db7ae11913b557220",
       "version_major": 2,
       "version_minor": 0
      },
      "text/plain": [
       "HBox(children=(FloatProgress(value=0.0, max=30.0), HTML(value='')))"
      ]
     },
     "metadata": {},
     "output_type": "display_data"
    },
    {
     "name": "stdout",
     "output_type": "stream",
     "text": [
      "new best_score = 0.12796370954118177\n",
      "new best_score = 0.11200496757286252\n",
      "new best_score = 0.10830575044347283\n",
      "new best_score = 0.10608932910529323\n",
      "new best_score = 0.10247735921309498\n",
      "new best_score = 0.10170434118310816\n",
      "new best_score = 0.09782313146087776\n",
      "new best_score = 0.09182390902116208\n",
      "new best_score = 0.08543106888551126\n",
      "new best_score = 0.0818707183051141\n",
      "new best_score = 0.07814559822467185\n",
      "new best_score = 0.07611414089387177\n",
      "new best_score = 0.07594791391468833\n",
      "new best_score = 0.07522612311695684\n",
      "new best_score = 0.07434353735716186\n",
      "new best_score = 0.07353576612563531\n",
      "new best_score = 0.06925445212727085\n",
      "new best_score = 0.06827904908075615\n",
      "new best_score = 0.06548283636900784\n",
      "new best_score = 0.06541014883913152\n",
      "new best_score = 0.06467165523650284\n",
      "new best_score = 0.06401923183402854\n",
      "new best_score = 0.0627720998726129\n",
      "new best_score = 0.062419993887094474\n",
      "new best_score = 0.06190565571430564\n",
      "\n"
     ]
    },
    {
     "data": {
      "application/vnd.jupyter.widget-view+json": {
       "model_id": "58ee4729166942cc96a47c07ccb1a028",
       "version_major": 2,
       "version_minor": 0
      },
      "text/plain": [
       "HBox(children=(FloatProgress(value=0.0, max=5.0), HTML(value='')))"
      ]
     },
     "metadata": {},
     "output_type": "display_data"
    },
    {
     "name": "stdout",
     "output_type": "stream",
     "text": [
      "new best_score = 0.061839117674995316\n",
      "new best_score = 0.06164503777364433\n",
      "new best_score = 0.061588484171067034\n",
      "new best_score = 0.06142416567040391\n",
      "\n"
     ]
    },
    {
     "data": {
      "application/vnd.jupyter.widget-view+json": {
       "model_id": "1ea884925f2e4f8191b877709f935fbe",
       "version_major": 2,
       "version_minor": 0
      },
      "text/plain": [
       "HBox(children=(FloatProgress(value=0.0, max=5.0), HTML(value='')))"
      ]
     },
     "metadata": {},
     "output_type": "display_data"
    },
    {
     "name": "stdout",
     "output_type": "stream",
     "text": [
      "new best_score = 0.061415439315233286\n",
      "new best_score = 0.06133283616656747\n",
      "\n"
     ]
    },
    {
     "data": {
      "application/vnd.jupyter.widget-view+json": {
       "model_id": "079e527446914404b34fe43413f930eb",
       "version_major": 2,
       "version_minor": 0
      },
      "text/plain": [
       "HBox(children=(FloatProgress(value=0.0, max=5.0), HTML(value='')))"
      ]
     },
     "metadata": {},
     "output_type": "display_data"
    },
    {
     "name": "stdout",
     "output_type": "stream",
     "text": [
      "\n",
      "------------------------------------------------------\n",
      "\n",
      "\t\tKNN\n"
     ]
    },
    {
     "data": {
      "application/vnd.jupyter.widget-view+json": {
       "model_id": "3a8f64dab7be45598e72122cc1a02b0c",
       "version_major": 2,
       "version_minor": 0
      },
      "text/plain": [
       "HBox(children=(FloatProgress(value=0.0, max=30.0), HTML(value='')))"
      ]
     },
     "metadata": {},
     "output_type": "display_data"
    },
    {
     "name": "stdout",
     "output_type": "stream",
     "text": [
      "\n"
     ]
    },
    {
     "data": {
      "application/vnd.jupyter.widget-view+json": {
       "model_id": "59291c93fa5f4021beb74d06d10f3696",
       "version_major": 2,
       "version_minor": 0
      },
      "text/plain": [
       "HBox(children=(FloatProgress(value=0.0, max=30.0), HTML(value='')))"
      ]
     },
     "metadata": {},
     "output_type": "display_data"
    },
    {
     "name": "stdout",
     "output_type": "stream",
     "text": [
      "new best_score = 0.1148515981150064\n",
      "new best_score = 0.11323882042454222\n",
      "new best_score = 0.1126208915783751\n",
      "new best_score = 0.10692004826470178\n",
      "new best_score = 0.10586761707380181\n",
      "new best_score = 0.1049493450357881\n",
      "new best_score = 0.0903771434328881\n",
      "new best_score = 0.07226024418804802\n",
      "new best_score = 0.0721381494820605\n",
      "new best_score = 0.07211202880894109\n",
      "new best_score = 0.06874465368200465\n",
      "new best_score = 0.06494070383712906\n",
      "new best_score = 0.06292004514944158\n",
      "new best_score = 0.061048995193949775\n",
      "new best_score = 0.06057364108700791\n",
      "new best_score = 0.0596960330777309\n",
      "new best_score = 0.05968749052920665\n",
      "new best_score = 0.0592797600813873\n",
      "new best_score = 0.05915537491853201\n",
      "new best_score = 0.05901850144882202\n",
      "new best_score = 0.0586779136590048\n",
      "new best_score = 0.05814770847634555\n",
      "new best_score = 0.057522464971847556\n",
      "new best_score = 0.057309911836824656\n",
      "new best_score = 0.05718857246625727\n",
      "new best_score = 0.057170406860134325\n",
      "new best_score = 0.057145319385352354\n",
      "new best_score = 0.057002354820046966\n",
      "\n"
     ]
    },
    {
     "data": {
      "application/vnd.jupyter.widget-view+json": {
       "model_id": "0406337e34174ee7828d276e466a6ce2",
       "version_major": 2,
       "version_minor": 0
      },
      "text/plain": [
       "HBox(children=(FloatProgress(value=0.0, max=2.0), HTML(value='')))"
      ]
     },
     "metadata": {},
     "output_type": "display_data"
    },
    {
     "name": "stdout",
     "output_type": "stream",
     "text": [
      "\n",
      "------------------------------------------------------\n",
      "\n",
      "\t\tLGB\n"
     ]
    },
    {
     "data": {
      "application/vnd.jupyter.widget-view+json": {
       "model_id": "776a90507edb42a89daa4e97b52a9165",
       "version_major": 2,
       "version_minor": 0
      },
      "text/plain": [
       "HBox(children=(FloatProgress(value=0.0, max=30.0), HTML(value='')))"
      ]
     },
     "metadata": {},
     "output_type": "display_data"
    },
    {
     "name": "stdout",
     "output_type": "stream",
     "text": [
      "\n"
     ]
    },
    {
     "data": {
      "application/vnd.jupyter.widget-view+json": {
       "model_id": "c39d9d7901a44e85baf5577b723502a9",
       "version_major": 2,
       "version_minor": 0
      },
      "text/plain": [
       "HBox(children=(FloatProgress(value=0.0, max=30.0), HTML(value='')))"
      ]
     },
     "metadata": {},
     "output_type": "display_data"
    },
    {
     "name": "stdout",
     "output_type": "stream",
     "text": [
      "new best_score = 0.10279309824484514\n",
      "new best_score = 0.09964218210956503\n",
      "new best_score = 0.0939342025456613\n",
      "new best_score = 0.0936771735626155\n",
      "new best_score = 0.0935640072158185\n",
      "new best_score = 0.09316321955118342\n",
      "new best_score = 0.09302410335706883\n",
      "new best_score = 0.0855365581760067\n",
      "new best_score = 0.08145360761683931\n",
      "new best_score = 0.07731289088622444\n",
      "new best_score = 0.0750868412813546\n",
      "new best_score = 0.07334994013088059\n",
      "new best_score = 0.07085536072522372\n",
      "new best_score = 0.07076102951159187\n",
      "new best_score = 0.06937402276739596\n",
      "new best_score = 0.06904821218300373\n",
      "new best_score = 0.06877792817627533\n",
      "new best_score = 0.06822182905014111\n",
      "new best_score = 0.06784816177617162\n",
      "new best_score = 0.06707905002868275\n",
      "new best_score = 0.06643549623822328\n",
      "new best_score = 0.06535314352563282\n",
      "new best_score = 0.06507687279559674\n",
      "new best_score = 0.06493080917161223\n",
      "\n"
     ]
    },
    {
     "data": {
      "application/vnd.jupyter.widget-view+json": {
       "model_id": "862c46a64d704464883f872775303c30",
       "version_major": 2,
       "version_minor": 0
      },
      "text/plain": [
       "HBox(children=(FloatProgress(value=0.0, max=6.0), HTML(value='')))"
      ]
     },
     "metadata": {},
     "output_type": "display_data"
    },
    {
     "name": "stdout",
     "output_type": "stream",
     "text": [
      "new best_score = 0.06468672460121838\n",
      "new best_score = 0.06450769501483038\n",
      "new best_score = 0.06427432693402922\n",
      "\n"
     ]
    },
    {
     "data": {
      "application/vnd.jupyter.widget-view+json": {
       "model_id": "9bf3324f333b4add8508b5194719c8f4",
       "version_major": 2,
       "version_minor": 0
      },
      "text/plain": [
       "HBox(children=(FloatProgress(value=0.0, max=6.0), HTML(value='')))"
      ]
     },
     "metadata": {},
     "output_type": "display_data"
    },
    {
     "name": "stdout",
     "output_type": "stream",
     "text": [
      "\n",
      "------------------------------------------------------\n",
      "\n",
      "\n",
      "TUNING HYPERPARAMETERS ...\n"
     ]
    },
    {
     "data": {
      "application/vnd.jupyter.widget-view+json": {
       "model_id": "ba9779e39a3d4a53b42bc6468f074056",
       "version_major": 2,
       "version_minor": 0
      },
      "text/plain": [
       "HBox(children=(FloatProgress(value=0.0, max=4.0), HTML(value='')))"
      ]
     },
     "metadata": {},
     "output_type": "display_data"
    },
    {
     "name": "stdout",
     "output_type": "stream",
     "text": [
      "\t\tmodel = DT\n"
     ]
    },
    {
     "data": {
      "application/vnd.jupyter.widget-view+json": {
       "model_id": "0d9f871b1d674b9cae21df1f3f4968ba",
       "version_major": 2,
       "version_minor": 0
      },
      "text/plain": [
       "HBox(children=(FloatProgress(value=0.0, max=42.0), HTML(value='')))"
      ]
     },
     "metadata": {},
     "output_type": "display_data"
    },
    {
     "name": "stdout",
     "output_type": "stream",
     "text": [
      "best score = 0.08088\n",
      "best score = 0.08079\n",
      "best score = 0.07978\n",
      "best score = 0.07921\n",
      "best score = 0.07853\n",
      "best score = 0.07793\n",
      "best score = 0.07747\n",
      "best score = 0.07745\n",
      "best score = 0.07687\n",
      "best score = 0.07650\n",
      "best score = 0.07588\n",
      "best score = 0.07552\n",
      "best score = 0.07488\n",
      "\n",
      "-----------------------------------\n",
      "\n",
      "\t\tmodel = RF\n"
     ]
    },
    {
     "data": {
      "application/vnd.jupyter.widget-view+json": {
       "model_id": "8a1b4a942caa4f379ac6cb376e509de0",
       "version_major": 2,
       "version_minor": 0
      },
      "text/plain": [
       "HBox(children=(FloatProgress(value=0.0, max=4.0), HTML(value='')))"
      ]
     },
     "metadata": {},
     "output_type": "display_data"
    },
    {
     "name": "stdout",
     "output_type": "stream",
     "text": [
      "best score = 0.05985\n",
      "\n",
      "-----------------------------------\n",
      "\n",
      "\t\tmodel = KNN\n"
     ]
    },
    {
     "data": {
      "application/vnd.jupyter.widget-view+json": {
       "model_id": "16669dec87ba40e9899921f523b57c0d",
       "version_major": 2,
       "version_minor": 0
      },
      "text/plain": [
       "HBox(children=(FloatProgress(value=0.0, max=18.0), HTML(value='')))"
      ]
     },
     "metadata": {},
     "output_type": "display_data"
    },
    {
     "name": "stdout",
     "output_type": "stream",
     "text": [
      "best score = 0.05183\n",
      "\n",
      "-----------------------------------\n",
      "\n",
      "\t\tmodel = LGB\n"
     ]
    },
    {
     "data": {
      "application/vnd.jupyter.widget-view+json": {
       "model_id": "857f91a1a03345238fe0e0e3166a787e",
       "version_major": 2,
       "version_minor": 0
      },
      "text/plain": [
       "HBox(children=(FloatProgress(value=0.0, max=384.0), HTML(value='')))"
      ]
     },
     "metadata": {},
     "output_type": "display_data"
    },
    {
     "name": "stdout",
     "output_type": "stream",
     "text": [
      "\n",
      "-----------------------------------\n",
      "\n",
      "\n",
      "GETTING BASELINE SCORES ...\n"
     ]
    },
    {
     "data": {
      "application/vnd.jupyter.widget-view+json": {
       "model_id": "903921987df248c8bfa663ce78b02475",
       "version_major": 2,
       "version_minor": 0
      },
      "text/plain": [
       "HBox(children=(FloatProgress(value=0.0, max=5.0), HTML(value='')))"
      ]
     },
     "metadata": {},
     "output_type": "display_data"
    },
    {
     "name": "stdout",
     "output_type": "stream",
     "text": [
      "\n",
      "SELECTING FEATURES ...\n"
     ]
    },
    {
     "data": {
      "application/vnd.jupyter.widget-view+json": {
       "model_id": "16755b4a2fbd472590be4004a7b363f6",
       "version_major": 2,
       "version_minor": 0
      },
      "text/plain": [
       "HBox(children=(FloatProgress(value=0.0, max=5.0), HTML(value='')))"
      ]
     },
     "metadata": {},
     "output_type": "display_data"
    },
    {
     "name": "stdout",
     "output_type": "stream",
     "text": [
      "\t\tLR\n"
     ]
    },
    {
     "data": {
      "application/vnd.jupyter.widget-view+json": {
       "model_id": "5e66fdf0df1d4c59aacdb6c2fcf03168",
       "version_major": 2,
       "version_minor": 0
      },
      "text/plain": [
       "HBox(children=(FloatProgress(value=0.0, max=38.0), HTML(value='')))"
      ]
     },
     "metadata": {},
     "output_type": "display_data"
    },
    {
     "name": "stdout",
     "output_type": "stream",
     "text": [
      "\n"
     ]
    },
    {
     "data": {
      "application/vnd.jupyter.widget-view+json": {
       "model_id": "04e41cc4c95345e590b64b72fdc9d496",
       "version_major": 2,
       "version_minor": 0
      },
      "text/plain": [
       "HBox(children=(FloatProgress(value=0.0, max=38.0), HTML(value='')))"
      ]
     },
     "metadata": {},
     "output_type": "display_data"
    },
    {
     "name": "stdout",
     "output_type": "stream",
     "text": [
      "new best_score = 0.07354589849912374\n",
      "new best_score = 0.07354347983667656\n",
      "new best_score = 0.0735382666806323\n",
      "new best_score = 0.07352706614073168\n",
      "new best_score = 0.07346647713694762\n",
      "new best_score = 0.0734536429281423\n",
      "new best_score = 0.07331726303064469\n",
      "new best_score = 0.07310285738915238\n",
      "new best_score = 0.07248512169404567\n",
      "new best_score = 0.07225524404671387\n",
      "new best_score = 0.07059313402568197\n",
      "new best_score = 0.07036729780726785\n",
      "new best_score = 0.06948811319683326\n",
      "new best_score = 0.06688916339264352\n",
      "new best_score = 0.06681365824497938\n",
      "new best_score = 0.06617814318272278\n",
      "new best_score = 0.06476316918716343\n",
      "new best_score = 0.06443328555275954\n",
      "new best_score = 0.06316359457655649\n",
      "new best_score = 0.0624691909145087\n",
      "new best_score = 0.06234059657060477\n",
      "new best_score = 0.06117412828157291\n",
      "new best_score = 0.06115914166077978\n",
      "new best_score = 0.060936530484732895\n",
      "new best_score = 0.06002261816465835\n",
      "new best_score = 0.05832441615130497\n",
      "new best_score = 0.05751447104697431\n",
      "new best_score = 0.054350654224988006\n",
      "new best_score = 0.054194955458929495\n",
      "new best_score = 0.050419305214035384\n",
      "\n"
     ]
    },
    {
     "data": {
      "application/vnd.jupyter.widget-view+json": {
       "model_id": "9b0403b9555743c0aabe4b4305231555",
       "version_major": 2,
       "version_minor": 0
      },
      "text/plain": [
       "HBox(children=(FloatProgress(value=0.0, max=8.0), HTML(value='')))"
      ]
     },
     "metadata": {},
     "output_type": "display_data"
    },
    {
     "name": "stdout",
     "output_type": "stream",
     "text": [
      "new best_score = 0.050415192157309816\n",
      "new best_score = 0.05040774173898057\n",
      "new best_score = 0.04986292244631153\n",
      "new best_score = 0.04950631102005163\n",
      "new best_score = 0.04948454679751625\n",
      "new best_score = 0.049153893929670824\n",
      "new best_score = 0.04901779349679982\n",
      "\n"
     ]
    },
    {
     "data": {
      "application/vnd.jupyter.widget-view+json": {
       "model_id": "12b0136a69774c80b9d360c20916dcf1",
       "version_major": 2,
       "version_minor": 0
      },
      "text/plain": [
       "HBox(children=(FloatProgress(value=0.0, max=8.0), HTML(value='')))"
      ]
     },
     "metadata": {},
     "output_type": "display_data"
    },
    {
     "name": "stdout",
     "output_type": "stream",
     "text": [
      "\n",
      "------------------------------------------------------\n",
      "\n",
      "\t\tDT\n"
     ]
    },
    {
     "data": {
      "application/vnd.jupyter.widget-view+json": {
       "model_id": "70fccc512fec48968619af74c168f02d",
       "version_major": 2,
       "version_minor": 0
      },
      "text/plain": [
       "HBox(children=(FloatProgress(value=0.0, max=38.0), HTML(value='')))"
      ]
     },
     "metadata": {},
     "output_type": "display_data"
    },
    {
     "name": "stdout",
     "output_type": "stream",
     "text": [
      "\n"
     ]
    },
    {
     "data": {
      "application/vnd.jupyter.widget-view+json": {
       "model_id": "5fed3d5208434f59b938bdfdb714f041",
       "version_major": 2,
       "version_minor": 0
      },
      "text/plain": [
       "HBox(children=(FloatProgress(value=0.0, max=38.0), HTML(value='')))"
      ]
     },
     "metadata": {},
     "output_type": "display_data"
    },
    {
     "name": "stdout",
     "output_type": "stream",
     "text": [
      "new best_score = 0.10171640075921547\n",
      "new best_score = 0.10104119217805338\n",
      "new best_score = 0.0921708611442922\n",
      "new best_score = 0.09056947075343394\n",
      "new best_score = 0.09031794090249709\n",
      "new best_score = 0.08924585881825206\n",
      "new best_score = 0.08720311312149055\n",
      "new best_score = 0.08315139130199843\n",
      "new best_score = 0.0702644145238173\n",
      "new best_score = 0.06706053575283573\n",
      "new best_score = 0.05649772481439661\n",
      "new best_score = 0.05210548331238608\n",
      "new best_score = 0.04898940721198109\n",
      "new best_score = 0.046741884326205525\n",
      "new best_score = 0.04551827592809754\n",
      "new best_score = 0.04458784771128042\n",
      "new best_score = 0.044166636834455104\n",
      "new best_score = 0.044086016982414176\n",
      "new best_score = 0.043928182776687676\n",
      "new best_score = 0.043222040150465595\n",
      "new best_score = 0.04198472725597803\n",
      "new best_score = 0.04120468253676214\n",
      "new best_score = 0.040523561887382216\n",
      "new best_score = 0.040001609881488896\n",
      "new best_score = 0.03954473327393783\n",
      "\n"
     ]
    },
    {
     "data": {
      "application/vnd.jupyter.widget-view+json": {
       "model_id": "846bb6c43a5f414d880c0acd04ff22e6",
       "version_major": 2,
       "version_minor": 0
      },
      "text/plain": [
       "HBox(children=(FloatProgress(value=0.0, max=13.0), HTML(value='')))"
      ]
     },
     "metadata": {},
     "output_type": "display_data"
    },
    {
     "name": "stdout",
     "output_type": "stream",
     "text": [
      "new best_score = 0.039090504012254224\n",
      "\n"
     ]
    },
    {
     "data": {
      "application/vnd.jupyter.widget-view+json": {
       "model_id": "ecb93c8169b24e59acee7e0ca4552ac3",
       "version_major": 2,
       "version_minor": 0
      },
      "text/plain": [
       "HBox(children=(FloatProgress(value=0.0, max=13.0), HTML(value='')))"
      ]
     },
     "metadata": {},
     "output_type": "display_data"
    },
    {
     "name": "stdout",
     "output_type": "stream",
     "text": [
      "\n",
      "------------------------------------------------------\n",
      "\n",
      "\t\tRF\n"
     ]
    },
    {
     "data": {
      "application/vnd.jupyter.widget-view+json": {
       "model_id": "e91df880c027496885df8d1db9f0ac7d",
       "version_major": 2,
       "version_minor": 0
      },
      "text/plain": [
       "HBox(children=(FloatProgress(value=0.0, max=38.0), HTML(value='')))"
      ]
     },
     "metadata": {},
     "output_type": "display_data"
    },
    {
     "name": "stdout",
     "output_type": "stream",
     "text": [
      "\n"
     ]
    },
    {
     "data": {
      "application/vnd.jupyter.widget-view+json": {
       "model_id": "957933de0da9441b90301baf3e86668d",
       "version_major": 2,
       "version_minor": 0
      },
      "text/plain": [
       "HBox(children=(FloatProgress(value=0.0, max=38.0), HTML(value='')))"
      ]
     },
     "metadata": {},
     "output_type": "display_data"
    },
    {
     "name": "stdout",
     "output_type": "stream",
     "text": [
      "new best_score = 0.08906960532586175\n",
      "new best_score = 0.0797688119958653\n",
      "new best_score = 0.07524811315623008\n",
      "new best_score = 0.0723070114634363\n",
      "new best_score = 0.07166251852283387\n",
      "new best_score = 0.07081615472871876\n",
      "new best_score = 0.0680826257869069\n",
      "new best_score = 0.06319511165645865\n",
      "new best_score = 0.061097734924023\n",
      "new best_score = 0.06034953105497\n",
      "new best_score = 0.05906126329328683\n",
      "new best_score = 0.05896948512166178\n",
      "new best_score = 0.05685790612337952\n",
      "new best_score = 0.05614198916694263\n",
      "new best_score = 0.049855245108400434\n",
      "new best_score = 0.04347765600722866\n",
      "new best_score = 0.039861810709451204\n",
      "new best_score = 0.03885480369386144\n",
      "new best_score = 0.038541238876021656\n",
      "new best_score = 0.03670794580382773\n",
      "new best_score = 0.035294054044349266\n",
      "new best_score = 0.03438904705884839\n",
      "new best_score = 0.03406994564930874\n",
      "new best_score = 0.033927940018868855\n",
      "new best_score = 0.03335643419569234\n",
      "new best_score = 0.0333201903164927\n",
      "new best_score = 0.03316534146326493\n",
      "new best_score = 0.03251088553915454\n",
      "new best_score = 0.03119349260790255\n",
      "new best_score = 0.03092743780961795\n",
      "new best_score = 0.030737762685232255\n",
      "new best_score = 0.030326749321897238\n",
      "new best_score = 0.030178941233810163\n",
      "new best_score = 0.030111256208185205\n",
      "\n"
     ]
    },
    {
     "data": {
      "application/vnd.jupyter.widget-view+json": {
       "model_id": "eb05b519492344eb8663adcdf993b282",
       "version_major": 2,
       "version_minor": 0
      },
      "text/plain": [
       "HBox(children=(FloatProgress(value=0.0, max=4.0), HTML(value='')))"
      ]
     },
     "metadata": {},
     "output_type": "display_data"
    },
    {
     "name": "stdout",
     "output_type": "stream",
     "text": [
      "new best_score = 0.03007350183203126\n",
      "\n"
     ]
    },
    {
     "data": {
      "application/vnd.jupyter.widget-view+json": {
       "model_id": "194649b63f9a40f59eb8116f82fd3085",
       "version_major": 2,
       "version_minor": 0
      },
      "text/plain": [
       "HBox(children=(FloatProgress(value=0.0, max=4.0), HTML(value='')))"
      ]
     },
     "metadata": {},
     "output_type": "display_data"
    },
    {
     "name": "stdout",
     "output_type": "stream",
     "text": [
      "new best_score = 0.03002552658557689\n",
      "new best_score = 0.029963617190746233\n",
      "\n"
     ]
    },
    {
     "data": {
      "application/vnd.jupyter.widget-view+json": {
       "model_id": "a89d04f09bd14ffb88497fe0c537591c",
       "version_major": 2,
       "version_minor": 0
      },
      "text/plain": [
       "HBox(children=(FloatProgress(value=0.0, max=4.0), HTML(value='')))"
      ]
     },
     "metadata": {},
     "output_type": "display_data"
    },
    {
     "name": "stdout",
     "output_type": "stream",
     "text": [
      "\n",
      "------------------------------------------------------\n",
      "\n",
      "\t\tKNN\n"
     ]
    },
    {
     "data": {
      "application/vnd.jupyter.widget-view+json": {
       "model_id": "ee1ee0eca9ff4daf85410c4f810c4235",
       "version_major": 2,
       "version_minor": 0
      },
      "text/plain": [
       "HBox(children=(FloatProgress(value=0.0, max=38.0), HTML(value='')))"
      ]
     },
     "metadata": {},
     "output_type": "display_data"
    },
    {
     "name": "stdout",
     "output_type": "stream",
     "text": [
      "\n"
     ]
    },
    {
     "data": {
      "application/vnd.jupyter.widget-view+json": {
       "model_id": "360015a2dcdf410ab00f6283d7a2f99e",
       "version_major": 2,
       "version_minor": 0
      },
      "text/plain": [
       "HBox(children=(FloatProgress(value=0.0, max=38.0), HTML(value='')))"
      ]
     },
     "metadata": {},
     "output_type": "display_data"
    },
    {
     "name": "stdout",
     "output_type": "stream",
     "text": [
      "new best_score = 0.08042524048076873\n",
      "new best_score = 0.07937090498133068\n",
      "new best_score = 0.07808743415783775\n",
      "new best_score = 0.07509787252784325\n",
      "new best_score = 0.06812166774854962\n",
      "new best_score = 0.06705370932540682\n",
      "new best_score = 0.06531857900205576\n",
      "new best_score = 0.06342956824957931\n",
      "new best_score = 0.0621034091638681\n",
      "new best_score = 0.04989657010551026\n",
      "new best_score = 0.04835833400877735\n",
      "new best_score = 0.04700280397170631\n",
      "new best_score = 0.046710201936905664\n",
      "new best_score = 0.03799134889461758\n",
      "new best_score = 0.03711651356185501\n",
      "new best_score = 0.03444933060272316\n",
      "new best_score = 0.03405203309836426\n",
      "new best_score = 0.031000266063278797\n",
      "new best_score = 0.03011155610900503\n",
      "new best_score = 0.029571738711351197\n",
      "new best_score = 0.02933337642148297\n",
      "new best_score = 0.02917364488577278\n",
      "new best_score = 0.029081269169079597\n",
      "new best_score = 0.029025036116634734\n",
      "new best_score = 0.028971228513565966\n",
      "new best_score = 0.027392111347753684\n",
      "new best_score = 0.027388049063455305\n",
      "new best_score = 0.02731133114174108\n",
      "new best_score = 0.027264911360128558\n",
      "new best_score = 0.027246666999332224\n",
      "new best_score = 0.02722943103668678\n",
      "new best_score = 0.027191157439651635\n",
      "\n"
     ]
    },
    {
     "data": {
      "application/vnd.jupyter.widget-view+json": {
       "model_id": "29cc987c8a6042899b2c601f81882fc1",
       "version_major": 2,
       "version_minor": 0
      },
      "text/plain": [
       "HBox(children=(FloatProgress(value=0.0, max=6.0), HTML(value='')))"
      ]
     },
     "metadata": {},
     "output_type": "display_data"
    },
    {
     "name": "stdout",
     "output_type": "stream",
     "text": [
      "new best_score = 0.026830842274991884\n",
      "new best_score = 0.026690654884108777\n",
      "\n"
     ]
    },
    {
     "data": {
      "application/vnd.jupyter.widget-view+json": {
       "model_id": "9ba103abf7cc4608b7949d05c032a270",
       "version_major": 2,
       "version_minor": 0
      },
      "text/plain": [
       "HBox(children=(FloatProgress(value=0.0, max=6.0), HTML(value='')))"
      ]
     },
     "metadata": {},
     "output_type": "display_data"
    },
    {
     "name": "stdout",
     "output_type": "stream",
     "text": [
      "\n",
      "------------------------------------------------------\n",
      "\n",
      "\t\tLGB\n"
     ]
    },
    {
     "data": {
      "application/vnd.jupyter.widget-view+json": {
       "model_id": "45d460277e064acd82a0ad67e63cafae",
       "version_major": 2,
       "version_minor": 0
      },
      "text/plain": [
       "HBox(children=(FloatProgress(value=0.0, max=38.0), HTML(value='')))"
      ]
     },
     "metadata": {},
     "output_type": "display_data"
    },
    {
     "name": "stdout",
     "output_type": "stream",
     "text": [
      "\n"
     ]
    },
    {
     "data": {
      "application/vnd.jupyter.widget-view+json": {
       "model_id": "808bcb4265424dff85bb5d7e42562d16",
       "version_major": 2,
       "version_minor": 0
      },
      "text/plain": [
       "HBox(children=(FloatProgress(value=0.0, max=38.0), HTML(value='')))"
      ]
     },
     "metadata": {},
     "output_type": "display_data"
    },
    {
     "name": "stdout",
     "output_type": "stream",
     "text": [
      "new best_score = 0.07395053500752752\n",
      "new best_score = 0.07321346698782132\n",
      "new best_score = 0.07205290585591279\n",
      "new best_score = 0.07095207814898297\n",
      "new best_score = 0.07000308337596316\n",
      "new best_score = 0.06477735060888826\n",
      "new best_score = 0.06332092904453637\n",
      "new best_score = 0.06270991190833113\n",
      "new best_score = 0.06159038476902325\n",
      "new best_score = 0.05988996865869743\n",
      "new best_score = 0.059417417222026946\n",
      "new best_score = 0.0584126546636373\n",
      "new best_score = 0.05720543886597549\n",
      "new best_score = 0.05268947385241558\n",
      "new best_score = 0.052654672917322266\n",
      "new best_score = 0.050705213777102374\n",
      "new best_score = 0.0483177358498682\n",
      "new best_score = 0.043063642845526384\n",
      "new best_score = 0.04302857088848524\n",
      "new best_score = 0.03765251495437315\n",
      "new best_score = 0.03618971023191977\n",
      "new best_score = 0.035740653811550345\n",
      "new best_score = 0.03565277581359598\n",
      "new best_score = 0.0345526728019105\n",
      "new best_score = 0.03380848028396225\n",
      "new best_score = 0.03361811841299818\n",
      "new best_score = 0.03350661185875803\n",
      "new best_score = 0.03334439008856434\n",
      "new best_score = 0.033224430611146875\n",
      "new best_score = 0.03315613093855667\n",
      "new best_score = 0.03289246409181235\n",
      "new best_score = 0.03286862428783689\n",
      "new best_score = 0.03265250580312308\n",
      "new best_score = 0.032645340587353494\n",
      "new best_score = 0.03240566412572828\n",
      "\n"
     ]
    },
    {
     "data": {
      "application/vnd.jupyter.widget-view+json": {
       "model_id": "21132b7ff0654b99ae603389a68f61e0",
       "version_major": 2,
       "version_minor": 0
      },
      "text/plain": [
       "HBox(children=(FloatProgress(value=0.0, max=3.0), HTML(value='')))"
      ]
     },
     "metadata": {},
     "output_type": "display_data"
    },
    {
     "name": "stdout",
     "output_type": "stream",
     "text": [
      "new best_score = 0.03225922268246933\n",
      "\n"
     ]
    },
    {
     "data": {
      "application/vnd.jupyter.widget-view+json": {
       "model_id": "e4a4440957e746f0939e304274808cc1",
       "version_major": 2,
       "version_minor": 0
      },
      "text/plain": [
       "HBox(children=(FloatProgress(value=0.0, max=3.0), HTML(value='')))"
      ]
     },
     "metadata": {},
     "output_type": "display_data"
    },
    {
     "name": "stdout",
     "output_type": "stream",
     "text": [
      "\n",
      "------------------------------------------------------\n",
      "\n",
      "\n",
      "TUNING HYPERPARAMETERS ...\n"
     ]
    },
    {
     "data": {
      "application/vnd.jupyter.widget-view+json": {
       "model_id": "e341817494cb451e8e23b99e629c9bbf",
       "version_major": 2,
       "version_minor": 0
      },
      "text/plain": [
       "HBox(children=(FloatProgress(value=0.0, max=4.0), HTML(value='')))"
      ]
     },
     "metadata": {},
     "output_type": "display_data"
    },
    {
     "name": "stdout",
     "output_type": "stream",
     "text": [
      "\t\tmodel = DT\n"
     ]
    },
    {
     "data": {
      "application/vnd.jupyter.widget-view+json": {
       "model_id": "39c4c6db1d0b402884db5084b7092ece",
       "version_major": 2,
       "version_minor": 0
      },
      "text/plain": [
       "HBox(children=(FloatProgress(value=0.0, max=42.0), HTML(value='')))"
      ]
     },
     "metadata": {},
     "output_type": "display_data"
    },
    {
     "name": "stdout",
     "output_type": "stream",
     "text": [
      "best score = 0.03894\n",
      "best score = 0.03845\n",
      "best score = 0.03819\n",
      "best score = 0.03766\n",
      "best score = 0.03743\n",
      "best score = 0.03731\n",
      "best score = 0.03705\n",
      "best score = 0.03701\n",
      "best score = 0.03677\n",
      "best score = 0.03658\n",
      "best score = 0.03621\n",
      "best score = 0.03587\n",
      "\n",
      "-----------------------------------\n",
      "\n",
      "\t\tmodel = RF\n"
     ]
    },
    {
     "data": {
      "application/vnd.jupyter.widget-view+json": {
       "model_id": "845ef7ce12694c5980bbcfcfdd968272",
       "version_major": 2,
       "version_minor": 0
      },
      "text/plain": [
       "HBox(children=(FloatProgress(value=0.0, max=4.0), HTML(value='')))"
      ]
     },
     "metadata": {},
     "output_type": "display_data"
    },
    {
     "name": "stdout",
     "output_type": "stream",
     "text": [
      "best score = 0.02906\n",
      "best score = 0.02897\n",
      "\n",
      "-----------------------------------\n",
      "\n",
      "\t\tmodel = KNN\n"
     ]
    },
    {
     "data": {
      "application/vnd.jupyter.widget-view+json": {
       "model_id": "54184dbc06c943dab95fb6088f128d2d",
       "version_major": 2,
       "version_minor": 0
      },
      "text/plain": [
       "HBox(children=(FloatProgress(value=0.0, max=18.0), HTML(value='')))"
      ]
     },
     "metadata": {},
     "output_type": "display_data"
    },
    {
     "name": "stdout",
     "output_type": "stream",
     "text": [
      "best score = 0.02584\n",
      "\n",
      "-----------------------------------\n",
      "\n",
      "\t\tmodel = LGB\n"
     ]
    },
    {
     "data": {
      "application/vnd.jupyter.widget-view+json": {
       "model_id": "a7fd5f2ca03d455fb8e5e5ad2cd43893",
       "version_major": 2,
       "version_minor": 0
      },
      "text/plain": [
       "HBox(children=(FloatProgress(value=0.0, max=384.0), HTML(value='')))"
      ]
     },
     "metadata": {},
     "output_type": "display_data"
    },
    {
     "name": "stdout",
     "output_type": "stream",
     "text": [
      "\n",
      "-----------------------------------\n",
      "\n",
      "\n",
      "\n"
     ]
    }
   ],
   "source": [
    "D_report = {}\n",
    "for NAME, (XTR, XTE, YTR, YTE) in tqdm_notebook(zip(('rougher', 'cleaner'),\\\n",
    "                                                    ((X_rougher_tr, X_rougher_te, y_rougher_tr, y_rougher_te),\\\n",
    "                                                    (X_cleaner_tr, X_cleaner_te, y_cleaner_tr, y_cleaner_te))), total = 2):\n",
    "    \n",
    "    estimators_D = dict(zip(('lr', 'dt', 'rf', 'knn', 'lgb'),\\\n",
    "                        (LinearRegression(), DecisionTreeRegressor(random_state = SEED),\\\n",
    "                         RandomForestRegressor(n_estimators = 20, random_state = SEED),\\\n",
    "                         KNeighborsRegressor(), LGBMRegressor(random_state = SEED))))\n",
    "    \n",
    "    # масштабируем признаки\n",
    "    scaler = MinMaxScaler()\n",
    "    scaler.fit(XTR)\n",
    "    XTR = pd.DataFrame(scaler.transform(XTR), columns = XTR.columns, index = XTR.index)\n",
    "    XTE = pd.DataFrame(scaler.transform(XTE), columns = XTE.columns, index = XTE.index)\n",
    "    \n",
    "    # делим трейн датасет на трейн и отложенную части\n",
    "    x_tr, x_hold, y_tr, y_hold = train_test_split(XTR,\\\n",
    "                                                  YTR,\\\n",
    "                                                  test_size = TEST_SIZE, \\\n",
    "                                                  shuffle = True,\\\n",
    "                                                  random_state = SEED)\n",
    "    \n",
    "    print('GETTING BASELINE SCORES ...')\n",
    "    # получаем бейзлайн метрики\n",
    "    cvs_L = []\n",
    "    for name, est in tqdm_notebook(estimators_D.items()):    \n",
    "        smape_cv = cross_validate(est, x_tr, y_tr, scoring = sMAPE_custom, cv = NFOLDS)['test_score'].mean()    \n",
    "        cvs_L.append((name, smape_cv))\n",
    "    cvAB = pd.DataFrame.from_records(cvs_L).set_index(0)\n",
    "    cvAB = cvAB.rename(columns = {1:'mean_cv'})\n",
    "    cvAB.index.name = 'model'\n",
    "    \n",
    "    print('SELECTING FEATURES ...')  \n",
    "    # отбираем признаки\n",
    "    selection_D = {}\n",
    "    for name, est in tqdm_notebook(estimators_D.items()):   \n",
    "        selector = FeatureSelector(estimator = est,\\\n",
    "                                   metric = sMAPE_custom,\\\n",
    "                                   larger_is_better = False,\\\n",
    "                                   cv = NFOLDS,\\\n",
    "                                   use_values = None,\\\n",
    "                                   use_recursion = True,\\\n",
    "                                   fill_na = None,\\\n",
    "                                   show_progress = True)\n",
    "        \n",
    "        print('\\t\\t{}'.format(str.upper(name)))\n",
    "        selector.fit(x_tr.values, y_tr.values)\n",
    "        cvAB.loc[name, 'selected_mean_cv'] = selector.return_self().best_score\n",
    "        x_selected_tr = pd.DataFrame(selector.transform(x_tr.values), index = x_tr.index)\n",
    "        x_selected_hold = pd.DataFrame(selector.transform(x_hold.values), index = x_hold.index)\n",
    "        x1_selected_te = pd.DataFrame(selector.transform(XTE.values), index = XTE.index)\n",
    "        selection_D[name] = (x_selected_tr, x_selected_hold, x1_selected_te)\n",
    "        print('------------------------------------------------------\\n')\n",
    "\n",
    "    models_L = (estimators_D['dt'],estimators_D['rf'],  estimators_D['knn'], estimators_D['lgb'])\n",
    "    dt_x_selected_tr, dt_x_selected_hold, dt_x1_selected_te = selection_D['dt']\n",
    "    rf_x_selected_tr, rf_x_selected_hold, rf_x1_selected_te = selection_D['rf']\n",
    "    knn_x_selected_tr, knn_x_selected_hold, knn_x1_selected_te = selection_D['knn']\n",
    "    lgb_x_selected_tr, lgb_x_selected_hold, lgb_x1_selected_te = selection_D['lgb']    \n",
    "    Xs_L = (dt_x_selected_tr, rf_x_selected_tr,  knn_x_selected_tr, lgb_x_selected_tr)\n",
    "\n",
    "    D_xs = {}\n",
    "    D_xs['dt'] = {'train' : dt_x_selected_tr, 'hold':dt_x_selected_hold, 'test': dt_x1_selected_te}\n",
    "    D_xs['rf'] = {'train' : rf_x_selected_tr, 'hold' : rf_x_selected_hold, 'test':rf_x1_selected_te}\n",
    "    D_xs['knn'] = {'train' : knn_x_selected_tr, 'hold':knn_x_selected_hold, 'test':knn_x1_selected_te}\n",
    "    D_xs['lgb'] = {'train':lgb_x_selected_tr, 'hold':lgb_x_selected_hold, 'test':lgb_x1_selected_te}\n",
    "\n",
    "    names_L = ('dt', 'rf', 'knn', 'lgb')\n",
    "    params_L = (dt_params, rf_params, knn_params,lgb_params)\n",
    "    Xs_L = (dt_x_selected_tr, rf_x_selected_tr,  knn_x_selected_tr, lgb_x_selected_tr)\n",
    "\n",
    "    D_best_estimators = {}    \n",
    "    print('TUNING HYPERPARAMETERS ...')\n",
    "    # оптимизируем гиперпараметры\n",
    "    for name, params, model, X in tqdm_notebook(zip(names_L,params_L, models_L, Xs_L), total = len(names_L)):\n",
    "        print('\\t\\tmodel = {}'.format(str.upper(name)))\n",
    "        best_score = cvAB.loc[name,'selected_mean_cv']\n",
    "        for par in tqdm_notebook(ParameterGrid(params)):\n",
    "            _reg = model.set_params(**par)\n",
    "            smape_cv = cross_validate(_reg, X, y_tr, scoring = sMAPE_custom, cv = NFOLDS)['test_score'].mean()\n",
    "            if smape_cv<best_score:\n",
    "                best_score = smape_cv\n",
    "                best_params = par\n",
    "                print('best score = {:.5f}'.format(best_score))                     \n",
    "\n",
    "        cvAB.loc[name,'selected_tuned_mean_cv'] = best_score\n",
    "        \n",
    "        D_best_estimators[name] = model.set_params(**best_params)\n",
    "        print('-----------------------------------\\n')\n",
    "    \n",
    "    \n",
    "    # сохраняем\n",
    "    # 1) бейзлайн метрику, метрику после подбора гиерпараметров\n",
    "    # 2) датасеты\n",
    "    # 3) гиперпараметры\n",
    "    D_report[NAME] = (cvAB, D_xs, D_best_estimators)"
   ]
  },
  {
   "cell_type": "code",
   "execution_count": 53,
   "metadata": {},
   "outputs": [
    {
     "data": {
      "text/html": [
       "<div>\n",
       "<style scoped>\n",
       "    .dataframe tbody tr th:only-of-type {\n",
       "        vertical-align: middle;\n",
       "    }\n",
       "\n",
       "    .dataframe tbody tr th {\n",
       "        vertical-align: top;\n",
       "    }\n",
       "\n",
       "    .dataframe thead th {\n",
       "        text-align: right;\n",
       "    }\n",
       "</style>\n",
       "<table border=\"1\" class=\"dataframe\">\n",
       "  <thead>\n",
       "    <tr style=\"text-align: right;\">\n",
       "      <th></th>\n",
       "      <th>mean_cv</th>\n",
       "      <th>selected_mean_cv</th>\n",
       "      <th>selected_tuned_mean_cv</th>\n",
       "    </tr>\n",
       "    <tr>\n",
       "      <th>model</th>\n",
       "      <th></th>\n",
       "      <th></th>\n",
       "      <th></th>\n",
       "    </tr>\n",
       "  </thead>\n",
       "  <tbody>\n",
       "    <tr>\n",
       "      <th>knn</th>\n",
       "      <td>0.056994</td>\n",
       "      <td>0.057002</td>\n",
       "      <td>0.051833</td>\n",
       "    </tr>\n",
       "    <tr>\n",
       "      <th>rf</th>\n",
       "      <td>0.061686</td>\n",
       "      <td>0.061333</td>\n",
       "      <td>0.059849</td>\n",
       "    </tr>\n",
       "    <tr>\n",
       "      <th>lgb</th>\n",
       "      <td>0.064265</td>\n",
       "      <td>0.064274</td>\n",
       "      <td>0.064274</td>\n",
       "    </tr>\n",
       "    <tr>\n",
       "      <th>dt</th>\n",
       "      <td>0.084420</td>\n",
       "      <td>0.082418</td>\n",
       "      <td>0.074881</td>\n",
       "    </tr>\n",
       "    <tr>\n",
       "      <th>lr</th>\n",
       "      <td>0.081665</td>\n",
       "      <td>0.081581</td>\n",
       "      <td>NaN</td>\n",
       "    </tr>\n",
       "  </tbody>\n",
       "</table>\n",
       "</div>"
      ],
      "text/plain": [
       "        mean_cv  selected_mean_cv  selected_tuned_mean_cv\n",
       "model                                                    \n",
       "knn    0.056994          0.057002                0.051833\n",
       "rf     0.061686          0.061333                0.059849\n",
       "lgb    0.064265          0.064274                0.064274\n",
       "dt     0.084420          0.082418                0.074881\n",
       "lr     0.081665          0.081581                     NaN"
      ]
     },
     "execution_count": 53,
     "metadata": {},
     "output_type": "execute_result"
    }
   ],
   "source": [
    "D_report['rougher'][0].sort_values('selected_tuned_mean_cv')"
   ]
  },
  {
   "cell_type": "code",
   "execution_count": 54,
   "metadata": {},
   "outputs": [
    {
     "data": {
      "text/html": [
       "<div>\n",
       "<style scoped>\n",
       "    .dataframe tbody tr th:only-of-type {\n",
       "        vertical-align: middle;\n",
       "    }\n",
       "\n",
       "    .dataframe tbody tr th {\n",
       "        vertical-align: top;\n",
       "    }\n",
       "\n",
       "    .dataframe thead th {\n",
       "        text-align: right;\n",
       "    }\n",
       "</style>\n",
       "<table border=\"1\" class=\"dataframe\">\n",
       "  <thead>\n",
       "    <tr style=\"text-align: right;\">\n",
       "      <th></th>\n",
       "      <th>mean_cv</th>\n",
       "      <th>selected_mean_cv</th>\n",
       "      <th>selected_tuned_mean_cv</th>\n",
       "    </tr>\n",
       "    <tr>\n",
       "      <th>model</th>\n",
       "      <th></th>\n",
       "      <th></th>\n",
       "      <th></th>\n",
       "    </tr>\n",
       "  </thead>\n",
       "  <tbody>\n",
       "    <tr>\n",
       "      <th>knn</th>\n",
       "      <td>0.026779</td>\n",
       "      <td>0.026691</td>\n",
       "      <td>0.025840</td>\n",
       "    </tr>\n",
       "    <tr>\n",
       "      <th>rf</th>\n",
       "      <td>0.030095</td>\n",
       "      <td>0.029964</td>\n",
       "      <td>0.028974</td>\n",
       "    </tr>\n",
       "    <tr>\n",
       "      <th>lgb</th>\n",
       "      <td>0.032386</td>\n",
       "      <td>0.032259</td>\n",
       "      <td>0.032259</td>\n",
       "    </tr>\n",
       "    <tr>\n",
       "      <th>dt</th>\n",
       "      <td>0.041998</td>\n",
       "      <td>0.039091</td>\n",
       "      <td>0.035874</td>\n",
       "    </tr>\n",
       "    <tr>\n",
       "      <th>lr</th>\n",
       "      <td>0.049023</td>\n",
       "      <td>0.049018</td>\n",
       "      <td>NaN</td>\n",
       "    </tr>\n",
       "  </tbody>\n",
       "</table>\n",
       "</div>"
      ],
      "text/plain": [
       "        mean_cv  selected_mean_cv  selected_tuned_mean_cv\n",
       "model                                                    \n",
       "knn    0.026779          0.026691                0.025840\n",
       "rf     0.030095          0.029964                0.028974\n",
       "lgb    0.032386          0.032259                0.032259\n",
       "dt     0.041998          0.039091                0.035874\n",
       "lr     0.049023          0.049018                     NaN"
      ]
     },
     "execution_count": 54,
     "metadata": {},
     "output_type": "execute_result"
    }
   ],
   "source": [
    "D_report['cleaner'][0].sort_values('selected_tuned_mean_cv')"
   ]
  },
  {
   "cell_type": "code",
   "execution_count": 65,
   "metadata": {},
   "outputs": [],
   "source": [
    "L_rougher = []\n",
    "for _d1, _d2 in zip(D_report['rougher'][1].items(), D_report['rougher'][2].items()):\n",
    "    est = _d2[1]\n",
    "    xtr = _d1[1]['train']\n",
    "    xhold = _d1[1]['hold']\n",
    "    xte = _d1[1]['test']\n",
    "    L_rougher.append((xtr, xhold, xte, est))\n",
    "rougher_best = L_rougher[np.argmin(D_report['rougher'][0]['selected_tuned_mean_cv'].dropna())]\n",
    "\n",
    "L_cleaner = []\n",
    "for _d1, _d2 in zip(D_report['cleaner'][1].items(), D_report['cleaner'][2].items()):\n",
    "    est = _d2[1]\n",
    "    xtr = _d1[1]['train']\n",
    "    xhold = _d1[1]['hold']\n",
    "    xte = _d1[1]['test']\n",
    "    L_cleaner.append((xtr, xhold, xte, est))\n",
    "cleaner_best = L_cleaner[np.argmin(D_report['cleaner'][0]['selected_tuned_mean_cv'].dropna())]"
   ]
  },
  {
   "cell_type": "code",
   "execution_count": 66,
   "metadata": {},
   "outputs": [
    {
     "name": "stdout",
     "output_type": "stream",
     "text": [
      "holdout smape1 = 0.050028950847798466\n",
      "holdout smape1 = 0.02591024449062411\n"
     ]
    }
   ],
   "source": [
    "x1tr, x1hold, x1te, est1 = rougher_best\n",
    "x2tr, x2hold, x2te, est2 = cleaner_best\n",
    "\n",
    "est1.fit(x1tr, y_rougher_tr.loc[x1tr.index])\n",
    "print('holdout smape1 = {}'.format(sMAPE(y_rougher_tr.loc[x1hold.index], est1.predict(x1hold))))\n",
    "\n",
    "est2.fit(x2tr, y_cleaner_tr.loc[x2tr.index])\n",
    "print('holdout smape1 = {}'.format(sMAPE(y_cleaner_tr.loc[x2hold.index], est2.predict(x2hold))))"
   ]
  },
  {
   "cell_type": "code",
   "execution_count": 67,
   "metadata": {},
   "outputs": [
    {
     "name": "stdout",
     "output_type": "stream",
     "text": [
      "финальная sMAPE = 0.06308836022743648\n"
     ]
    }
   ],
   "source": [
    "X1_tr = pd.concat([x1tr, x1hold],0)\n",
    "y1_tr = y_rougher_tr.loc[X1_tr.index]\n",
    "\n",
    "X2_tr = pd.concat([x2tr, x2hold],0)\n",
    "y2_tr = y_cleaner_tr.loc[X2_tr.index]\n",
    "\n",
    "est1.fit(X1_tr, y1_tr)\n",
    "est2.fit(X2_tr, y2_tr)\n",
    "\n",
    "y_pred_blend = smape_blend(est1.predict(x1te), est2.predict(x2te))\n",
    "y_blend = smape_blend(y_rougher_te.values, y_cleaner_te.values)\n",
    "\n",
    "print('финальная sMAPE = {}'.format(sMAPE(y_blend, y_pred_blend)))"
   ]
  },
  {
   "cell_type": "markdown",
   "metadata": {},
   "source": [
    "##### стекинг"
   ]
  },
  {
   "cell_type": "code",
   "execution_count": 107,
   "metadata": {},
   "outputs": [],
   "source": [
    "class StackingRegressor(BaseEstimator):\n",
    "    \n",
    "    def __init__(self, models, nfolds, seed):\n",
    "        '''\n",
    "        models - список с ансамблем моделей\n",
    "        nfolds - число фолдов для ооф предсказаний\n",
    "        seed - генератор случайных чисел\n",
    "        '''        \n",
    "        self.models = models\n",
    "        self.nfolds = nfolds\n",
    "        self.seed = seed\n",
    "    def fit(self, X, y):\n",
    "        '''\n",
    "        1) обучаем модели на валидации\n",
    "        2) сохраняем обученные модели\n",
    "        '''        \n",
    "        try:\n",
    "            _X, _y = np.array(X), np.array(y)\n",
    "        except:\n",
    "            _X, _y = X, y        \n",
    "        estimators = []\n",
    "        for model in tqdm_notebook(self.models):            \n",
    "            for tr_idx, val_idx in KFold(self.nfolds, random_state = self.seed).split(_X):\n",
    "                model.fit(_X[tr_idx], _y[tr_idx])\n",
    "                estimators.append(model)\n",
    "        self.fitted_estimators = estimators\n",
    "    def get_metafeatures(self, X):\n",
    "        '''\n",
    "        с помощью обученных моделей получаем метапризнаки\n",
    "        '''\n",
    "        try:\n",
    "            _X = np.array(X)\n",
    "        except:\n",
    "            _X = X\n",
    "        L = []    \n",
    "        for estimator in self.fitted_estimators:\n",
    "            L.append(estimator.predict(_X))\n",
    "        return np.column_stack(L)"
   ]
  },
  {
   "cell_type": "code",
   "execution_count": 119,
   "metadata": {},
   "outputs": [
    {
     "name": "stdout",
     "output_type": "stream",
     "text": [
      "['dt', 'rf', 'knn', 'lgb']\n"
     ]
    }
   ],
   "source": [
    "# число итераций стекинга\n",
    "NSTACKS = 2\n",
    "# число фолдов\n",
    "NFOLDS = 5\n",
    "# доля используемых признаков\n",
    "FEAT_USE_SHARE = .85\n",
    "# базовые модели\n",
    "model_names = [el for el in D_report['rougher'][2].keys()]\n",
    "print(model_names)\n",
    "BASE_MODELS = [DecisionTreeRegressor(), RandomForestRegressor(),\\\n",
    "               KNeighborsRegressor(), LGBMRegressor(random_state = SEED)]"
   ]
  },
  {
   "cell_type": "code",
   "execution_count": 1,
   "metadata": {
    "scrolled": false
   },
   "outputs": [],
   "source": [
    "D_metas = {}\n",
    "# rougher, leaner датасеты\n",
    "for key, L, y_tr, y_te in tqdm_notebook(zip(('rougher', 'cleaner'),\\\n",
    "                              (L_rougher, L_cleaner),\\\n",
    "                              (y_rougher_tr, y_cleaner_tr),\\\n",
    "                              (y_rougher_te, y_cleaner_te)), total = 2):\n",
    "\n",
    "\n",
    "    # трейн, отложенная, тест\n",
    "    Xs1_tr = []\n",
    "    Xs1_hold = []\n",
    "    Xs1_te =[]\n",
    "    for _xtr, _xhold, _xte, _est in L:    \n",
    "        Xs1_tr.append(_xtr)\n",
    "        Xs1_hold.append(_xhold)\n",
    "        Xs1_te.append(_xte)    \n",
    "    y1_tr, y1_hold, y1_te = y_tr.loc[Xs1_tr[0].index], y_tr.loc[Xs1_tr[1].index], y_te\n",
    "    \n",
    "    # стекинг\n",
    "    L_tr = []\n",
    "    L_hold = []\n",
    "    L_te = []\n",
    "    for seed in tqdm_notebook(range(NSTACKS)):\n",
    "        for XTR, XHOLD, XTE, in zip(Xs1_tr, Xs1_hold, Xs1_te):  \n",
    "            _XTR, _XHOLD, _XTE = np.array(XTR), np.array(XHOLD), np.array(XTE)\n",
    "            _YTR, _YHOLD, _YTE = np.array(y1_tr), np.array(y1_hold), np.array(y1_te)\n",
    "            # всего признаков\n",
    "            nfeatures = _XTR.shape[1]\n",
    "            # признаков использовать\n",
    "            features_to_use = np.int32(np.ceil(FEAT_USE_SHARE * nfeatures))\n",
    "            use_idxs = np.random.choice(np.arange(nfeatures), features_to_use)\n",
    "            stacking_reg = StackingRegressor(models = BASE_MODELS,\n",
    "                                             nfolds = NFOLDS,\n",
    "                                             seed = SEED)        \n",
    "            stacking_reg.fit(_XTR[:, use_idxs], _YTR)\n",
    "            L_tr.append(stacking_reg.get_metafeatures(_XTR[:, use_idxs]))\n",
    "            L_hold.append(stacking_reg.get_metafeatures(_XHOLD[:, use_idxs]))\n",
    "            L_te.append(stacking_reg.get_metafeatures(_XTE[:, use_idxs]))\n",
    "\n",
    "    X_meta_tr = np.column_stack(L_tr)\n",
    "    X_meta_hold = np.column_stack(L_hold)\n",
    "    X_meta_te = np.column_stack(L_te)\n",
    "    \n",
    "    # отбор метапризнаков\n",
    "    TR = []\n",
    "    HOLD =[]\n",
    "    TE = []\n",
    "\n",
    "    for estimator in tqdm_notebook(BASE_MODELS):\n",
    "        selector = FeatureSelector(estimator = estimator,\\\n",
    "                                   metric = sMAPE_custom,\\\n",
    "                                   larger_is_better = False,\\\n",
    "                                   cv = NFOLDS,\\\n",
    "                                   use_values = None,\\\n",
    "                                   use_recursion = True,\\\n",
    "                                   fill_na = None,\\\n",
    "                                   show_progress = True)\n",
    "        selector.fit(X_meta_tr, y1_tr.values)\n",
    "        TR.append(selector.transform(X_meta_tr))\n",
    "        HOLD.append(selector.transform(X_meta_hold))\n",
    "        TE.append(selector.transform(X_meta_te))\n",
    "\n",
    "    X1_meta_tr = np.column_stack(TR)\n",
    "    X1_meta_hold = np.column_stack(HOLD)\n",
    "    X1_meta_te = np.column_stack(TE)    \n",
    "    D_metas[key] = ((X1_meta_tr, X1_meta_hold, X1_meta_te), (y1_tr, y1_hold, y1_te))"
   ]
  }
 ],
 "metadata": {
  "kernelspec": {
   "display_name": "Python 3",
   "language": "python",
   "name": "python3"
  },
  "language_info": {
   "codemirror_mode": {
    "name": "ipython",
    "version": 3
   },
   "file_extension": ".py",
   "mimetype": "text/x-python",
   "name": "python",
   "nbconvert_exporter": "python",
   "pygments_lexer": "ipython3",
   "version": "3.8.5"
  },
  "toc": {
   "base_numbering": 1,
   "nav_menu": {},
   "number_sections": true,
   "sideBar": true,
   "skip_h1_title": false,
   "title_cell": "Table of Contents",
   "title_sidebar": "Contents",
   "toc_cell": false,
   "toc_position": {},
   "toc_section_display": true,
   "toc_window_display": false
  }
 },
 "nbformat": 4,
 "nbformat_minor": 4
}
