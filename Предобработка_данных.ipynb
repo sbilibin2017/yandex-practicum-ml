{
 "cells": [
  {
   "cell_type": "markdown",
   "metadata": {},
   "source": [
    "# Проект №1: \"Исследование надёжности заёмщиков\"\n",
    "\n",
    "## Описание:\n",
    "* Заказчик — кредитный отдел банка\n",
    "* Данные - статистика о платёжеспособности клиентов\n",
    "\n",
    "## Признаки:\n",
    "|признак|описание|тип признака|\n",
    "|---|---|---|\n",
    "|children|количество детей в семье|признак|\n",
    "|days_employed|общий трудовой стаж в днях|признак|\n",
    "|dob_years|возраст клиента в годах|признак|\n",
    "|education|уровень образования клиента|признак|\n",
    "|education_id|идентификатор уровня образования|признак|\n",
    "|family_status|семейное положение|признак|\n",
    "|family_status_id|идентификатор семейного положения|признак|\n",
    "|gender — пол|клиента|признак|\n",
    "|income_type|тип занятости|признак|\n",
    "|total_income|ежемесячный доход|признак|\n",
    "|purpose|цель получения кредита|признак|\n",
    "|debt|имел ли задолженность по возврату кредитов|целевой признак|\n",
    "\n",
    "\n",
    "## Цель:\n",
    "разобраться, влияет ли семейное положение и количество детей клиента на факт погашения кредита в срок.\n",
    "\n",
    "## Содержание:\n",
    "\n",
    "1. [Загрузка данных](#1)\n",
    "2. [Предобработка данных](#2)\n",
    "\n",
    "    2.1 [Определение и заполнение пропущенных значений](#2.1)    \n",
    "    2.2 [Замена вещественного тип данных на целочисленный](#2.2)    \n",
    "    2.3 [Удаление дубликатов](#2.3)    \n",
    "    2.4 [Выделение леммы в значениях столбца с целями получения кредита](#2.4)    \n",
    "    2.5 [Категоризация данных](#2.5)\n",
    "    \n",
    "3. [Ответы на вопросы](#3)"
   ]
  },
  {
   "cell_type": "markdown",
   "metadata": {},
   "source": [
    "## 1. Откройте таблицу и изучите общую информацию о данных"
   ]
  },
  {
   "cell_type": "code",
   "execution_count": 438,
   "metadata": {},
   "outputs": [],
   "source": [
    "import pandas as pd\n",
    "import numpy as np\n",
    "\n",
    "from pymystem3 import Mystem\n",
    "from nltk.stem import SnowballStemmer \n",
    "\n",
    "import matplotlib.pyplot as plt\n",
    "plt.style.use('ggplot')\n",
    "import seaborn as sns\n",
    "\n",
    "import warnings\n",
    "warnings.filterwarnings('ignore')\n",
    "from tqdm import tqdm_notebook\n",
    "from tabulate import tabulate"
   ]
  },
  {
   "cell_type": "code",
   "execution_count": 439,
   "metadata": {},
   "outputs": [],
   "source": [
    "df = pd.read_csv('datasets/data.csv')"
   ]
  },
  {
   "cell_type": "code",
   "execution_count": 440,
   "metadata": {},
   "outputs": [
    {
     "data": {
      "text/html": [
       "<div>\n",
       "<style scoped>\n",
       "    .dataframe tbody tr th:only-of-type {\n",
       "        vertical-align: middle;\n",
       "    }\n",
       "\n",
       "    .dataframe tbody tr th {\n",
       "        vertical-align: top;\n",
       "    }\n",
       "\n",
       "    .dataframe thead th {\n",
       "        text-align: right;\n",
       "    }\n",
       "</style>\n",
       "<table border=\"1\" class=\"dataframe\">\n",
       "  <thead>\n",
       "    <tr style=\"text-align: right;\">\n",
       "      <th></th>\n",
       "      <th>children</th>\n",
       "      <th>days_employed</th>\n",
       "      <th>dob_years</th>\n",
       "      <th>education</th>\n",
       "      <th>education_id</th>\n",
       "      <th>family_status</th>\n",
       "      <th>family_status_id</th>\n",
       "      <th>gender</th>\n",
       "      <th>income_type</th>\n",
       "      <th>debt</th>\n",
       "      <th>total_income</th>\n",
       "      <th>purpose</th>\n",
       "    </tr>\n",
       "  </thead>\n",
       "  <tbody>\n",
       "    <tr>\n",
       "      <th>0</th>\n",
       "      <td>1</td>\n",
       "      <td>-8437.673028</td>\n",
       "      <td>42</td>\n",
       "      <td>высшее</td>\n",
       "      <td>0</td>\n",
       "      <td>женат / замужем</td>\n",
       "      <td>0</td>\n",
       "      <td>F</td>\n",
       "      <td>сотрудник</td>\n",
       "      <td>0</td>\n",
       "      <td>253875.639453</td>\n",
       "      <td>покупка жилья</td>\n",
       "    </tr>\n",
       "    <tr>\n",
       "      <th>1</th>\n",
       "      <td>1</td>\n",
       "      <td>-4024.803754</td>\n",
       "      <td>36</td>\n",
       "      <td>среднее</td>\n",
       "      <td>1</td>\n",
       "      <td>женат / замужем</td>\n",
       "      <td>0</td>\n",
       "      <td>F</td>\n",
       "      <td>сотрудник</td>\n",
       "      <td>0</td>\n",
       "      <td>112080.014102</td>\n",
       "      <td>приобретение автомобиля</td>\n",
       "    </tr>\n",
       "    <tr>\n",
       "      <th>2</th>\n",
       "      <td>0</td>\n",
       "      <td>-5623.422610</td>\n",
       "      <td>33</td>\n",
       "      <td>Среднее</td>\n",
       "      <td>1</td>\n",
       "      <td>женат / замужем</td>\n",
       "      <td>0</td>\n",
       "      <td>M</td>\n",
       "      <td>сотрудник</td>\n",
       "      <td>0</td>\n",
       "      <td>145885.952297</td>\n",
       "      <td>покупка жилья</td>\n",
       "    </tr>\n",
       "    <tr>\n",
       "      <th>3</th>\n",
       "      <td>3</td>\n",
       "      <td>-4124.747207</td>\n",
       "      <td>32</td>\n",
       "      <td>среднее</td>\n",
       "      <td>1</td>\n",
       "      <td>женат / замужем</td>\n",
       "      <td>0</td>\n",
       "      <td>M</td>\n",
       "      <td>сотрудник</td>\n",
       "      <td>0</td>\n",
       "      <td>267628.550329</td>\n",
       "      <td>дополнительное образование</td>\n",
       "    </tr>\n",
       "    <tr>\n",
       "      <th>4</th>\n",
       "      <td>0</td>\n",
       "      <td>340266.072047</td>\n",
       "      <td>53</td>\n",
       "      <td>среднее</td>\n",
       "      <td>1</td>\n",
       "      <td>гражданский брак</td>\n",
       "      <td>1</td>\n",
       "      <td>F</td>\n",
       "      <td>пенсионер</td>\n",
       "      <td>0</td>\n",
       "      <td>158616.077870</td>\n",
       "      <td>сыграть свадьбу</td>\n",
       "    </tr>\n",
       "  </tbody>\n",
       "</table>\n",
       "</div>"
      ],
      "text/plain": [
       "   children  days_employed  dob_years education  education_id  \\\n",
       "0         1   -8437.673028         42    высшее             0   \n",
       "1         1   -4024.803754         36   среднее             1   \n",
       "2         0   -5623.422610         33   Среднее             1   \n",
       "3         3   -4124.747207         32   среднее             1   \n",
       "4         0  340266.072047         53   среднее             1   \n",
       "\n",
       "      family_status  family_status_id gender income_type  debt   total_income  \\\n",
       "0   женат / замужем                 0      F   сотрудник     0  253875.639453   \n",
       "1   женат / замужем                 0      F   сотрудник     0  112080.014102   \n",
       "2   женат / замужем                 0      M   сотрудник     0  145885.952297   \n",
       "3   женат / замужем                 0      M   сотрудник     0  267628.550329   \n",
       "4  гражданский брак                 1      F   пенсионер     0  158616.077870   \n",
       "\n",
       "                      purpose  \n",
       "0               покупка жилья  \n",
       "1     приобретение автомобиля  \n",
       "2               покупка жилья  \n",
       "3  дополнительное образование  \n",
       "4             сыграть свадьбу  "
      ]
     },
     "execution_count": 440,
     "metadata": {},
     "output_type": "execute_result"
    }
   ],
   "source": [
    "df.head()"
   ]
  },
  {
   "cell_type": "markdown",
   "metadata": {},
   "source": [
    "### 1.1 Общая информация"
   ]
  },
  {
   "cell_type": "code",
   "execution_count": 441,
   "metadata": {},
   "outputs": [],
   "source": [
    "global_info = []\n",
    "for col in df.columns:\n",
    "    values = df[col]\n",
    "    mn, mx = values.min(), values.max()\n",
    "    if (isinstance(mn, (int,float))) and (isinstance(mx, (int,float))):\n",
    "        global_info.append([col,values.dtype, values.nunique(), mn, mx])\n",
    "    else:\n",
    "        global_info.append([col,values.dtype, values.nunique(), np.nan, np.nan])"
   ]
  },
  {
   "cell_type": "code",
   "execution_count": 442,
   "metadata": {},
   "outputs": [
    {
     "name": "stdout",
     "output_type": "stream",
     "text": [
      "Имя               Тип        Число уникальных значений    Минимум         Максимум\n",
      "----------------  -------  ---------------------------  ---------  ---------------\n",
      "children          int64                              8       -1        20\n",
      "days_employed     float64                        19351   -18388.9  401755\n",
      "dob_years         int64                             58        0        75\n",
      "education         object                            15      nan       nan\n",
      "education_id      int64                              5        0         4\n",
      "family_status     object                             5      nan       nan\n",
      "family_status_id  int64                              5        0         4\n",
      "gender            object                             3      nan       nan\n",
      "income_type       object                             8      nan       nan\n",
      "debt              int64                              2        0         1\n",
      "total_income      float64                        19351    20667.3       2.2656e+06\n",
      "purpose           object                            38      nan       nan\n"
     ]
    }
   ],
   "source": [
    "print(tabulate(global_info, headers=['Имя', 'Тип', 'Число уникальных значений', 'Минимум', 'Максимум']))"
   ]
  },
  {
   "cell_type": "code",
   "execution_count": 443,
   "metadata": {},
   "outputs": [
    {
     "name": "stdout",
     "output_type": "stream",
     "text": [
      "% отрицательных зачений в столбце days_employed равен 73.9%\n",
      "Минимум, максимум для отрицательных значений: 328728.72 401755.40\n",
      "Минимум, максимум для положительных значений: 24.14 18388.95\n"
     ]
    },
    {
     "data": {
      "image/png": "[encoded data removed]",
      "text/plain": [
       "<Figure size 864x360 with 2 Axes>"
      ]
     },
     "metadata": {},
     "output_type": "display_data"
    }
   ],
   "source": [
    "feat = 'days_employed'\n",
    "negative_days_employed = df[feat] < 0\n",
    "\n",
    "print('% отрицательных зачений в столбце {} равен {:.1%}'.format(feat, (df[feat] < 0).mean()))\n",
    "print('Минимум, максимум для отрицательных значений: {:.2f} {:.2f}'.format((df[feat][df[feat] > 0]).min(), df[feat][df[feat] > 0].max()))\n",
    "print('Минимум, максимум для положительных значений: {:.2f} {:.2f}'.format(df[feat][df[feat] < 0].abs().min(), df[feat][df[feat] < 0].abs().max()))\n",
    "\n",
    "plt.figure(figsize = (12, 5))\n",
    "plt.subplot(1, 2, 1)\n",
    "df[negative_days_employed][feat].abs().hist(edgecolor = 'black', alpha = .8)\n",
    "plt.title(feat+' | days_employed<0')\n",
    "\n",
    "plt.subplot(1, 2, 2)\n",
    "df[~negative_days_employed][feat].abs().hist(edgecolor = 'black', alpha = .8)\n",
    "plt.title(feat+' | days_employed>0')\n",
    "\n",
    "plt.show()"
   ]
  },
  {
   "cell_type": "markdown",
   "metadata": {},
   "source": [
    "## Шаг 2. Предобработка данных"
   ]
  },
  {
   "cell_type": "markdown",
   "metadata": {},
   "source": [
    "##### days_employed - трудовой стаж\n",
    "* _трудовой стаж, имеющий отрицательные значения распределен логнормально, что говорит об адектватности значений. Все отрицательные значения возьмем по модулю_\n",
    "* _положительные значения распределены равномерно. это говорит о том, что данные значения принадлежат похожим людям_\n",
    "* _заметим, что масшатбы значений в данных группах разные (одни измерены в днях, другие - в часах)_\n",
    "* _все стажи, имющие значение в годах больше 100, поделим на 24_"
   ]
  },
  {
   "cell_type": "code",
   "execution_count": 444,
   "metadata": {},
   "outputs": [],
   "source": [
    "df['days_employed'] = df['days_employed'].abs().apply(lambda x: x if (x/365.25 < 100) else x/24) "
   ]
  },
  {
   "cell_type": "code",
   "execution_count": 445,
   "metadata": {},
   "outputs": [
    {
     "data": {
      "image/png": "[encoded data removed]",
      "text/plain": [
       "<Figure size 432x288 with 1 Axes>"
      ]
     },
     "metadata": {},
     "output_type": "display_data"
    }
   ],
   "source": [
    "df['days_employed'].hist(edgecolor = 'black', alpha = .8)\n",
    "plt.title('days_employed')\n",
    "plt.show()"
   ]
  },
  {
   "cell_type": "code",
   "execution_count": 446,
   "metadata": {},
   "outputs": [
    {
     "name": "stdout",
     "output_type": "stream",
     "text": [
      "days_employed | max == 50.0\n",
      "days_employed | min == 0.0\n"
     ]
    }
   ],
   "source": [
    "for k, v in (df['days_employed'] // 365.25).agg({'min', 'max'}).items():\n",
    "    print('days_employed | {} == {}'.format(k, v))"
   ]
  },
  {
   "cell_type": "markdown",
   "metadata": {},
   "source": [
    "##### Работать можно с 14 лет, проверим, все ли рабочие стажи этому соответствуют"
   ]
  },
  {
   "cell_type": "code",
   "execution_count": 447,
   "metadata": {},
   "outputs": [
    {
     "name": "stdout",
     "output_type": "stream",
     "text": [
      "Возраст и трудовой стаж не соответствуют трудовому законодательству у 872 пенсионер из 3856\n",
      "Возраст и трудовой стаж не соответствуют трудовому законодательству у 10 сотрудник из 11119\n",
      "Возраст и трудовой стаж не соответствуют трудовому законодательству у 4 компаньон из 5085\n",
      "Возраст и трудовой стаж не соответствуют трудовому законодательству у 2 безработный из 2\n",
      "Возраст и трудовой стаж не соответствуют трудовому законодательству у 1 госслужащий из 1459\n"
     ]
    }
   ],
   "source": [
    "df['years_employed'] = df['days_employed'] // 365.25\n",
    "mask = (df['dob_years']!=0) & (df['years_employed'].notna()) & (df['years_employed']  >= (df['dob_years']-14))\n",
    "for k, v in df[mask]['income_type'].value_counts().items():\n",
    "    print('Возраст и трудовой стаж не соответствуют трудовому законодательству у {} {} из {}'\\\n",
    "          .format(v, k, (df['income_type'] == k).sum()))"
   ]
  },
  {
   "cell_type": "markdown",
   "metadata": {},
   "source": [
    "##### У 872 пенсионеров рабочий стаж и возраст не соотвествуют законодательсву, исправим стаж на средний по группировке возраста и типа дохода"
   ]
  },
  {
   "cell_type": "code",
   "execution_count": 448,
   "metadata": {},
   "outputs": [],
   "source": [
    "grouped_by_dob_years_and_income_type = df[~mask].groupby(['dob_years', 'income_type'])['days_employed'].mean().reset_index()"
   ]
  },
  {
   "cell_type": "code",
   "execution_count": 449,
   "metadata": {},
   "outputs": [],
   "source": [
    "grouped_by_dob_years_and_income_type = grouped_by_dob_years_and_income_type[grouped_by_dob_years_and_income_type['income_type'] != 'безработный']"
   ]
  },
  {
   "cell_type": "code",
   "execution_count": 450,
   "metadata": {},
   "outputs": [],
   "source": [
    "for i in df[mask].index:\n",
    "    row = df.loc[i]\n",
    "    if ~np.isnan(row['days_employed']) and ~np.isnan(row['total_income']):\n",
    "        df.loc[i, 'days_employed'] = \\\n",
    "        grouped_by_dob_years_and_income_type[grouped_by_dob_years_and_income_type['income_type'] == row['income_type']]\\\n",
    "        ['days_employed'].mean()"
   ]
  },
  {
   "cell_type": "code",
   "execution_count": 451,
   "metadata": {},
   "outputs": [],
   "source": [
    "df.loc[df['income_type'] == 'безработный', 'days_employed'] = df[df['income_type'] != 'безработный']['days_employed'].mean()"
   ]
  },
  {
   "cell_type": "code",
   "execution_count": 452,
   "metadata": {},
   "outputs": [
    {
     "name": "stdout",
     "output_type": "stream",
     "text": [
      "Возраст и трудовой стаж не соответствуют трудовому законодательству False \n"
     ]
    }
   ],
   "source": [
    "print('Возраст и трудовой стаж не соответствуют трудовому законодательству {} '\\\n",
    "      .format(((df['dob_years']!=0) & (df['years_employed'].notna()) & (df['years_employed']  >= (df['dob_years']-14))).all()))\n",
    "df = df.drop('years_employed', 1)"
   ]
  },
  {
   "cell_type": "code",
   "execution_count": 453,
   "metadata": {},
   "outputs": [],
   "source": [
    "def show_categories_distribution(df, feat):\n",
    "    info = []\n",
    "    for key, value in df[feat].value_counts().sort_index().items():\n",
    "        info.append((key, value))  \n",
    "\n",
    "    print('признак: {}         \\n'.format(feat))\n",
    "    print(tabulate(info, headers=['группа', 'размер группы']))"
   ]
  },
  {
   "cell_type": "code",
   "execution_count": 454,
   "metadata": {
    "scrolled": false
   },
   "outputs": [
    {
     "name": "stdout",
     "output_type": "stream",
     "text": [
      "признак: children         \n",
      "\n",
      "  группа    размер группы\n",
      "--------  ---------------\n",
      "      -1               47\n",
      "       0            14149\n",
      "       1             4818\n",
      "       2             2055\n",
      "       3              330\n",
      "       4               41\n",
      "       5                9\n",
      "      20               76\n",
      "\n",
      "#############################################\n",
      "\n",
      "признак: dob_years         \n",
      "\n",
      "  группа    размер группы\n",
      "--------  ---------------\n",
      "       0              101\n",
      "      19               14\n",
      "      20               51\n",
      "      21              111\n",
      "      22              183\n",
      "      23              254\n",
      "      24              264\n",
      "      25              357\n",
      "      26              408\n",
      "      27              493\n",
      "      28              503\n",
      "      29              545\n",
      "      30              540\n",
      "      31              560\n",
      "      32              510\n",
      "      33              581\n",
      "      34              603\n",
      "      35              617\n",
      "      36              555\n",
      "      37              537\n",
      "      38              598\n",
      "      39              573\n",
      "      40              609\n",
      "      41              607\n",
      "      42              597\n",
      "      43              513\n",
      "      44              547\n",
      "      45              497\n",
      "      46              475\n",
      "      47              480\n",
      "      48              538\n",
      "      49              508\n",
      "      50              514\n",
      "      51              448\n",
      "      52              484\n",
      "      53              459\n",
      "      54              479\n",
      "      55              443\n",
      "      56              487\n",
      "      57              460\n",
      "      58              461\n",
      "      59              444\n",
      "      60              377\n",
      "      61              355\n",
      "      62              352\n",
      "      63              269\n",
      "      64              265\n",
      "      65              194\n",
      "      66              183\n",
      "      67              167\n",
      "      68               99\n",
      "      69               85\n",
      "      70               65\n",
      "      71               58\n",
      "      72               33\n",
      "      73                8\n",
      "      74                6\n",
      "      75                1\n",
      "\n",
      "#############################################\n",
      "\n",
      "признак: education         \n",
      "\n",
      "группа                 размер группы\n",
      "-------------------  ---------------\n",
      "ВЫСШЕЕ                           274\n",
      "Высшее                           268\n",
      "НАЧАЛЬНОЕ                         17\n",
      "НЕОКОНЧЕННОЕ ВЫСШЕЕ               29\n",
      "Начальное                         15\n",
      "Неоконченное высшее               47\n",
      "СРЕДНЕЕ                          772\n",
      "Среднее                          711\n",
      "УЧЕНАЯ СТЕПЕНЬ                     1\n",
      "Ученая степень                     1\n",
      "высшее                          4718\n",
      "начальное                        250\n",
      "неоконченное высшее              668\n",
      "среднее                        13750\n",
      "ученая степень                     4\n",
      "\n",
      "#############################################\n",
      "\n",
      "признак: education_id         \n",
      "\n",
      "  группа    размер группы\n",
      "--------  ---------------\n",
      "       0             5260\n",
      "       1            15233\n",
      "       2              744\n",
      "       3              282\n",
      "       4                6\n",
      "\n",
      "#############################################\n",
      "\n",
      "признак: family_status         \n",
      "\n",
      "группа                   размер группы\n",
      "---------------------  ---------------\n",
      "Не женат / не замужем             2813\n",
      "в разводе                         1195\n",
      "вдовец / вдова                     960\n",
      "гражданский брак                  4177\n",
      "женат / замужем                  12380\n",
      "\n",
      "#############################################\n",
      "\n",
      "признак: family_status_id         \n",
      "\n",
      "  группа    размер группы\n",
      "--------  ---------------\n",
      "       0            12380\n",
      "       1             4177\n",
      "       2              960\n",
      "       3             1195\n",
      "       4             2813\n",
      "\n",
      "#############################################\n",
      "\n",
      "признак: gender         \n",
      "\n",
      "группа      размер группы\n",
      "--------  ---------------\n",
      "F                   14236\n",
      "M                    7288\n",
      "XNA                     1\n",
      "\n",
      "#############################################\n",
      "\n",
      "признак: income_type         \n",
      "\n",
      "группа             размер группы\n",
      "---------------  ---------------\n",
      "безработный                    2\n",
      "в декрете                      1\n",
      "госслужащий                 1459\n",
      "компаньон                   5085\n",
      "пенсионер                   3856\n",
      "предприниматель                2\n",
      "сотрудник                  11119\n",
      "студент                        1\n",
      "\n",
      "#############################################\n",
      "\n",
      "признак: purpose         \n",
      "\n",
      "группа                                    размер группы\n",
      "--------------------------------------  ---------------\n",
      "автомобили                                          478\n",
      "автомобиль                                          495\n",
      "высшее образование                                  453\n",
      "дополнительное образование                          462\n",
      "жилье                                               647\n",
      "заняться высшим образованием                        496\n",
      "заняться образованием                               412\n",
      "на покупку автомобиля                               472\n",
      "на покупку подержанного автомобиля                  479\n",
      "на покупку своего автомобиля                        505\n",
      "на проведение свадьбы                               777\n",
      "недвижимость                                        634\n",
      "образование                                         447\n",
      "операции с жильем                                   653\n",
      "операции с коммерческой недвижимостью               651\n",
      "операции с недвижимостью                            676\n",
      "операции со своей недвижимостью                     630\n",
      "покупка жилой недвижимости                          607\n",
      "покупка жилья                                       647\n",
      "покупка жилья для сдачи                             653\n",
      "покупка жилья для семьи                             641\n",
      "покупка коммерческой недвижимости                   664\n",
      "покупка недвижимости                                624\n",
      "покупка своего жилья                                620\n",
      "получение высшего образования                       426\n",
      "получение дополнительного образования               447\n",
      "получение образования                               443\n",
      "приобретение автомобиля                             462\n",
      "профильное образование                              436\n",
      "ремонт жилью                                        612\n",
      "свадьба                                             797\n",
      "свой автомобиль                                     480\n",
      "сделка с автомобилем                                455\n",
      "сделка с подержанным автомобилем                    489\n",
      "строительство жилой недвижимости                    626\n",
      "строительство недвижимости                          620\n",
      "строительство собственной недвижимости              635\n",
      "сыграть свадьбу                                     774\n",
      "\n",
      "#############################################\n",
      "\n"
     ]
    }
   ],
   "source": [
    "for feat in ['children', 'dob_years', 'education', 'education_id',\n",
    "             'family_status', 'family_status_id', 'gender', 'income_type', 'purpose']:\n",
    "    show_categories_distribution(df, feat)\n",
    "    print('\\n#############################################\\n')"
   ]
  },
  {
   "cell_type": "markdown",
   "metadata": {},
   "source": [
    "##### Значения в children, dob_years, gender заменим на типичные значения для людей с подобным уровнем дохода"
   ]
  },
  {
   "cell_type": "markdown",
   "metadata": {},
   "source": [
    "* _total_income  (доход распределен логнормально, как и должно быть)_  \n",
    "* _children - странные значения -1, 20_\n",
    "* _dob_years - странное значение 0_\n",
    "* _gender - странное значение XNA_"
   ]
  },
  {
   "cell_type": "code",
   "execution_count": 455,
   "metadata": {},
   "outputs": [
    {
     "name": "stdout",
     "output_type": "stream",
     "text": [
      "В children заменяем -1 по total_income значением 0\n",
      "В children заменяем 20 по total_income значением 5\n",
      "В dob_years заменяем 0 по total_income значением 26\n",
      "В gender заменяем XNA по total_income значением M\n"
     ]
    }
   ],
   "source": [
    "for by, to_estimate, values in zip(('children', 'dob_years', 'gender'),\n",
    "                                    ('total_income', 'total_income', 'total_income'),\n",
    "                                    ([-1, 20], [0], ['XNA'])):\n",
    "    try:\n",
    "        grouped = df.groupby(by)[to_estimate].mean()\n",
    "    except:\n",
    "        grouped = df.groupby(by)[to_estimate].value_counts()        \n",
    "    g_ok = grouped.drop(values)\n",
    "    g_notok = grouped[values]\n",
    "    for val, g in zip(values, g_notok.index):\n",
    "        replacement = g_ok.index[np.argmin(np.abs(g_ok - g_notok[val]))]\n",
    "        df.loc[df[by] == val, by] =  replacement\n",
    "        print('В {} заменяем {} по {} значением {}'.format(by, val, to_estimate, replacement))"
   ]
  },
  {
   "cell_type": "markdown",
   "metadata": {},
   "source": [
    "### 2.1 Определите и заполните пропущенные значения:"
   ]
  },
  {
   "cell_type": "markdown",
   "metadata": {},
   "source": [
    "* пропусков около 10%\n",
    "* пропуски находятся в идентичных строках\n",
    "* в столбцах days_employed, total_income\n",
    "* пропуски могли появиться из-за ошибки в сборе инфорамции\n",
    "* заполним пропуски средним по типу занятости"
   ]
  },
  {
   "cell_type": "code",
   "execution_count": 456,
   "metadata": {},
   "outputs": [
    {
     "data": {
      "text/plain": [
       "children               0\n",
       "days_employed       2174\n",
       "dob_years              0\n",
       "education              0\n",
       "education_id           0\n",
       "family_status          0\n",
       "family_status_id       0\n",
       "gender                 0\n",
       "income_type            0\n",
       "debt                   0\n",
       "total_income        2174\n",
       "purpose                0\n",
       "dtype: int64"
      ]
     },
     "execution_count": 456,
     "metadata": {},
     "output_type": "execute_result"
    }
   ],
   "source": [
    "df.isna().sum()"
   ]
  },
  {
   "cell_type": "code",
   "execution_count": 457,
   "metadata": {},
   "outputs": [
    {
     "name": "stdout",
     "output_type": "stream",
     "text": [
      "% строк с пропусками равен 10.10%\n",
      "значения пропущены в  ['days_employed', 'total_income']\n",
      "Значения пропущены в идентичных строках: True\n"
     ]
    }
   ],
   "source": [
    "print('% строк с пропусками равен {:.2%}'.format(df.isna().any(1).mean()))\n",
    "print('значения пропущены в  {}'.format(df.columns[df.isna().any()].tolist()))\n",
    "print('Значения пропущены в идентичных строках: {}'.format((df['days_employed'].isna() == df['total_income'].isna()).all()))"
   ]
  },
  {
   "cell_type": "code",
   "execution_count": 458,
   "metadata": {},
   "outputs": [],
   "source": [
    "means_by_income_type = df.groupby('income_type')[['days_employed', 'total_income']].mean()"
   ]
  },
  {
   "cell_type": "code",
   "execution_count": 459,
   "metadata": {},
   "outputs": [
    {
     "data": {
      "text/html": [
       "<div>\n",
       "<style scoped>\n",
       "    .dataframe tbody tr th:only-of-type {\n",
       "        vertical-align: middle;\n",
       "    }\n",
       "\n",
       "    .dataframe tbody tr th {\n",
       "        vertical-align: top;\n",
       "    }\n",
       "\n",
       "    .dataframe thead th {\n",
       "        text-align: right;\n",
       "    }\n",
       "</style>\n",
       "<table border=\"1\" class=\"dataframe\">\n",
       "  <thead>\n",
       "    <tr style=\"text-align: right;\">\n",
       "      <th></th>\n",
       "      <th>days_employed</th>\n",
       "      <th>total_income</th>\n",
       "    </tr>\n",
       "    <tr>\n",
       "      <th>income_type</th>\n",
       "      <th></th>\n",
       "      <th></th>\n",
       "    </tr>\n",
       "  </thead>\n",
       "  <tbody>\n",
       "    <tr>\n",
       "      <th>безработный</th>\n",
       "      <td>4604.976161</td>\n",
       "      <td>131339.751676</td>\n",
       "    </tr>\n",
       "    <tr>\n",
       "      <th>в декрете</th>\n",
       "      <td>3296.759962</td>\n",
       "      <td>53829.130729</td>\n",
       "    </tr>\n",
       "    <tr>\n",
       "      <th>госслужащий</th>\n",
       "      <td>3390.996085</td>\n",
       "      <td>170898.309923</td>\n",
       "    </tr>\n",
       "    <tr>\n",
       "      <th>компаньон</th>\n",
       "      <td>2103.416611</td>\n",
       "      <td>202417.461462</td>\n",
       "    </tr>\n",
       "    <tr>\n",
       "      <th>пенсионер</th>\n",
       "      <td>15048.905858</td>\n",
       "      <td>137127.465690</td>\n",
       "    </tr>\n",
       "    <tr>\n",
       "      <th>предприниматель</th>\n",
       "      <td>520.848083</td>\n",
       "      <td>499163.144947</td>\n",
       "    </tr>\n",
       "    <tr>\n",
       "      <th>сотрудник</th>\n",
       "      <td>2317.513463</td>\n",
       "      <td>161380.260488</td>\n",
       "    </tr>\n",
       "    <tr>\n",
       "      <th>студент</th>\n",
       "      <td>578.751554</td>\n",
       "      <td>98201.625314</td>\n",
       "    </tr>\n",
       "  </tbody>\n",
       "</table>\n",
       "</div>"
      ],
      "text/plain": [
       "                 days_employed   total_income\n",
       "income_type                                  \n",
       "безработный        4604.976161  131339.751676\n",
       "в декрете          3296.759962   53829.130729\n",
       "госслужащий        3390.996085  170898.309923\n",
       "компаньон          2103.416611  202417.461462\n",
       "пенсионер         15048.905858  137127.465690\n",
       "предприниматель     520.848083  499163.144947\n",
       "сотрудник          2317.513463  161380.260488\n",
       "студент             578.751554   98201.625314"
      ]
     },
     "execution_count": 459,
     "metadata": {},
     "output_type": "execute_result"
    }
   ],
   "source": [
    "means_by_income_type"
   ]
  },
  {
   "cell_type": "code",
   "execution_count": 460,
   "metadata": {},
   "outputs": [],
   "source": [
    "for i in df[df['days_employed'].isna()].index:\n",
    "    row = df.loc[i]    \n",
    "    df.loc[i, ['days_employed', 'total_income']] = means_by_income_type.loc[row['income_type']]"
   ]
  },
  {
   "cell_type": "code",
   "execution_count": 461,
   "metadata": {},
   "outputs": [
    {
     "name": "stdout",
     "output_type": "stream",
     "text": [
      "Есть пропуски: False\n"
     ]
    }
   ],
   "source": [
    "print('Есть пропуски: {}'.format(df.isna().any().any()))"
   ]
  },
  {
   "cell_type": "code",
   "execution_count": 462,
   "metadata": {},
   "outputs": [
    {
     "data": {
      "image/png": "[encoded data removed]",
      "text/plain": [
       "<Figure size 432x288 with 1 Axes>"
      ]
     },
     "metadata": {},
     "output_type": "display_data"
    }
   ],
   "source": [
    "(df['days_employed'] // 365.25).hist(edgecolor = 'black', alpha = .8)\n",
    "plt.title('years_employed');"
   ]
  },
  {
   "cell_type": "markdown",
   "metadata": {},
   "source": [
    "### 2.2 Замените вещественный тип данных на целочисленный\n",
    "* выбираем вещественные колонки с помощью .select_dtypes()\n",
    "* округляем .round()\n",
    "* приводим к типу int .astype()"
   ]
  },
  {
   "cell_type": "code",
   "execution_count": 463,
   "metadata": {},
   "outputs": [],
   "source": [
    "for col in df.select_dtypes(exclude = ['object']).columns:\n",
    "    df[col] = df[col].round().astype(int)"
   ]
  },
  {
   "cell_type": "code",
   "execution_count": 464,
   "metadata": {},
   "outputs": [
    {
     "name": "stdout",
     "output_type": "stream",
     "text": [
      "<class 'pandas.core.frame.DataFrame'>\n",
      "RangeIndex: 21525 entries, 0 to 21524\n",
      "Data columns (total 12 columns):\n",
      " #   Column            Non-Null Count  Dtype \n",
      "---  ------            --------------  ----- \n",
      " 0   children          21525 non-null  int32 \n",
      " 1   days_employed     21525 non-null  int32 \n",
      " 2   dob_years         21525 non-null  int32 \n",
      " 3   education         21525 non-null  object\n",
      " 4   education_id      21525 non-null  int32 \n",
      " 5   family_status     21525 non-null  object\n",
      " 6   family_status_id  21525 non-null  int32 \n",
      " 7   gender            21525 non-null  object\n",
      " 8   income_type       21525 non-null  object\n",
      " 9   debt              21525 non-null  int32 \n",
      " 10  total_income      21525 non-null  int32 \n",
      " 11  purpose           21525 non-null  object\n",
      "dtypes: int32(7), object(5)\n",
      "memory usage: 1.4+ MB\n"
     ]
    }
   ],
   "source": [
    "df.info()"
   ]
  },
  {
   "cell_type": "markdown",
   "metadata": {},
   "source": [
    "### 2.3 Удалите дубликаты\n",
    "* все строки приводим к нижнему регистру, удаляем пропуски в начале и конце строк: .str.strip(), .str.lower()\n",
    "* ищем дублирующиеся строки с помощью .duplicated()\n",
    "* удаляем дубликаты с помощью .drop_duplicates()\n",
    "* дубликаты могли появиться, если данные выгружались из разных таблиц БД с помощью внешнего джойна"
   ]
  },
  {
   "cell_type": "code",
   "execution_count": 465,
   "metadata": {},
   "outputs": [
    {
     "name": "stdout",
     "output_type": "stream",
     "text": [
      "распределения в education и education_id одинаковые : True\n",
      "распределения в family_status и family_status_id одинаковые : True\n",
      "% дублирующихся строк равен 0.33%\n"
     ]
    }
   ],
   "source": [
    "for col in df.select_dtypes(object).columns:\n",
    "    df[col] = df[col].str.strip().str.lower()\n",
    "print('распределения в education и education_id одинаковые : {}'\\\n",
    "      .format(set(df['education'].value_counts().values) == set(df['education_id'].value_counts().values)))\n",
    "print('распределения в family_status и family_status_id одинаковые : {}'\n",
    "      .format(set(df['family_status'].value_counts().values) == set(df['family_status_id'].value_counts().values)))\n",
    "print('% дублирующихся строк равен {:.2%}'.format(df.duplicated().mean()))"
   ]
  },
  {
   "cell_type": "code",
   "execution_count": 466,
   "metadata": {},
   "outputs": [],
   "source": [
    "df = df.drop_duplicates()"
   ]
  },
  {
   "cell_type": "code",
   "execution_count": 467,
   "metadata": {},
   "outputs": [],
   "source": [
    "df['gender'] = df['gender'].map({'f' : 'ж', 'm' : 'м'})"
   ]
  },
  {
   "cell_type": "markdown",
   "metadata": {},
   "source": [
    "### 2.4 Выделите леммы в значениях столбца с целями получения кредита\n",
    "* чтобы быстрее провести лемматизацию, делаем n_iterations бутстреп подвыборок размером n_samples\n",
    "* лемматизируем столбец с целью кредита с помощью Mystem() (.lemmatize())\n",
    "* далее делаем стемминг с помощью SnowbalSteamer(), чтобы выделить более общие группы\n",
    "* добавляем полученные строки в список\n",
    "* посчитаем количества каждого слова в полученном списке\n",
    "* выделим топ слов и выявим основные группы целей"
   ]
  },
  {
   "cell_type": "code",
   "execution_count": 468,
   "metadata": {},
   "outputs": [],
   "source": [
    "def _get_top_lemmas(series, n_iterations, n_samples):\n",
    "    '''    \n",
    "    n_iteraions раз семплирует строки по n_samples, лемматизирует      \n",
    "    '''\n",
    "    m = Mystem()    \n",
    "    list_of_lemmas = []\n",
    "    # итерируемся\n",
    "    for seed in tqdm_notebook(range(n_iterations)):\n",
    "        # фиксируем сид\n",
    "        np.random.seed(seed)\n",
    "        # семплируем\n",
    "        idxs_subset = np.random.choice(np.arange(len(series)), n_samples)\n",
    "        sample = series.iloc[idxs_subset]\n",
    "        # по строкам\n",
    "        for element in sample:\n",
    "            # лемматизируем\n",
    "            lemmas = m.lemmatize(element)\n",
    "            # добавляем к списку лемм\n",
    "            list_of_lemmas.extend(lemmas)\n",
    "    # применяем стемминг\n",
    "    russian_stemmer = SnowballStemmer('russian')  \n",
    "    lemmas_counts = pd.Series([russian_stemmer.stem(word) for word in list_of_lemmas]).value_counts()\n",
    "    return lemmas_counts"
   ]
  },
  {
   "cell_type": "code",
   "execution_count": 469,
   "metadata": {},
   "outputs": [
    {
     "data": {
      "application/vnd.jupyter.widget-view+json": {
       "model_id": "614d2439dde1462a968b538390e85e5b",
       "version_major": 2,
       "version_minor": 0
      },
      "text/plain": [
       "HBox(children=(FloatProgress(value=0.0), HTML(value='')))"
      ]
     },
     "metadata": {},
     "output_type": "display_data"
    },
    {
     "name": "stdout",
     "output_type": "stream",
     "text": [
      "\n"
     ]
    }
   ],
   "source": [
    "lemmas_counts = _get_top_lemmas(df['purpose'], n_iterations=100, n_samples=5)"
   ]
  },
  {
   "cell_type": "code",
   "execution_count": 470,
   "metadata": {},
   "outputs": [
    {
     "name": "stdout",
     "output_type": "stream",
     "text": [
      "Самые популярные леммы (группа лемм, чья длина меньше 3 не учитывалась) :\n",
      "----------------------------------------\n",
      "лемма == недвижим | кол-во равно 131\n",
      "лемма == покупк | кол-во равно 130\n",
      "лемма == жил | кол-во равно 127\n",
      "лемма == образован | кол-во равно 117\n",
      "лемма == автомобил | кол-во равно 109\n",
      "лемма == операц | кол-во равно 54\n",
      "лемма == свадьб | кол-во равно 43\n",
      "лемма == сво | кол-во равно 42\n",
      "лемма == строительств | кол-во равно 38\n",
      "лемма == получен | кол-во равно 37\n",
      "лемма == высок | кол-во равно 37\n",
      "лемма == подержа | кол-во равно 35\n",
      "лемма == коммерческ | кол-во равно 29\n",
      "лемма == для | кол-во равно 26\n",
      "лемма == сделк | кол-во равно 26\n",
      "лемма == занима | кол-во равно 23\n",
      "лемма == дополнительн | кол-во равно 19\n",
      "лемма == профильн | кол-во равно 19\n",
      "лемма == ремонт | кол-во равно 17\n",
      "лемма == сдач | кол-во равно 16\n",
      "лемма == сыгра | кол-во равно 16\n",
      "лемма == проведен | кол-во равно 15\n",
      "лемма == приобретен | кол-во равно 14\n",
      "лемма == сем | кол-во равно 10\n",
      "лемма == собствен | кол-во равно 9\n",
      "----------------------------------------\n",
      "Выделим такие группы: жилье, недвижимость, образование, автомобиль, свадьба\n",
      "Создадим словарь для замены\n",
      "Заменим исходные цели на выявленные категории\n"
     ]
    }
   ],
   "source": [
    "print('Самые популярные леммы (группа лемм, чья длина меньше 3 не учитывалась) :\\n----------------------------------------')\n",
    "for k, v in lemmas_counts.items():\n",
    "    if len(k.strip())>=3:\n",
    "        print('лемма == {} | кол-во равно {}'.format(k, v))\n",
    "print('----------------------------------------')\n",
    "print('Выделим такие группы: жилье, недвижимость, образование, автомобиль, свадьба')\n",
    "print('Создадим словарь для замены')\n",
    "purposes_dict = {'жил':'жилье', 'недвижим' :'недвижимость', 'образован' : 'образование', 'автомобил':'автомобиль', 'свадьб ':'свадьба'}\n",
    "print('Заменим исходные цели на выявленные категории')\n",
    "for key, value in purposes_dict.items():    \n",
    "    df.loc[df['purpose'].str.contains(key), 'purpose_cat'] = value"
   ]
  },
  {
   "cell_type": "markdown",
   "metadata": {},
   "source": [
    "### 2.5 категоризируйте данные:\n",
    "* клипируем значения колонки\n",
    "* с помощью np.histogram получим гистограмму\n",
    "* с помощью l1 нормы определим, к какому из бинов каждое значение ближе \n",
    "* факторизуем получившийся индекс "
   ]
  },
  {
   "cell_type": "code",
   "execution_count": 471,
   "metadata": {},
   "outputs": [],
   "source": [
    "def _show_categories(df, feat):\n",
    "    print('----------Категоризация {}----------'.format(feat))\n",
    "    for k, v in df[feat].value_counts().items():\n",
    "        print('категория == {}, размер категории == {}'.format(k, v))    "
   ]
  },
  {
   "cell_type": "code",
   "execution_count": 472,
   "metadata": {},
   "outputs": [
    {
     "name": "stdout",
     "output_type": "stream",
     "text": [
      "----------Категоризация children_cat----------\n",
      "категория == 0, размер категории == 14138\n",
      "категория == 1, размер категории == 4808\n",
      "категория == 2, размер категории == 2508\n",
      "----------Категоризация days_employed_cat----------\n",
      "категория == 1, размер категории == 7109\n",
      "категория == 0, размер категории == 5030\n",
      "категория == 2, размер категории == 2909\n",
      "категория == 9, размер категории == 2648\n",
      "категория == 3, размер категории == 1269\n",
      "категория == 10, размер категории == 1215\n",
      "категория == 4, размер категории == 554\n",
      "категория == 5, размер категории == 349\n",
      "категория == 6, размер категории == 195\n",
      "категория == 7, размер категории == 124\n",
      "категория == 8, размер категории == 52\n",
      "----------Категоризация total_income_cat----------\n",
      "категория == 3, размер категории == 4633\n",
      "категория == 2, размер категории == 4342\n",
      "категория == 1, размер категории == 3587\n",
      "категория == 4, размер категории == 2753\n",
      "категория == 0, размер категории == 1590\n",
      "категория == 5, размер категории == 1538\n",
      "категория == 6, размер категории == 1070\n",
      "категория == 10, размер категории == 631\n",
      "категория == 7, размер категории == 621\n",
      "категория == 8, размер категории == 416\n",
      "категория == 9, размер категории == 273\n",
      "----------Категоризация dob_years_cat----------\n",
      "категория == 3, размер категории == 2904\n",
      "категория == 4, размер категории == 2380\n",
      "категория == 7, размер категории == 2308\n",
      "категория == 2, размер категории == 2186\n",
      "категория == 1, размер категории == 2049\n",
      "категория == 6, размер категории == 2034\n",
      "категория == 5, размер категории == 2025\n",
      "категория == 8, размер категории == 1836\n",
      "категория == 9, размер категории == 1345\n",
      "категория == 0, размер категории == 1232\n",
      "категория == 10, размер категории == 1155\n"
     ]
    }
   ],
   "source": [
    "for col in ['children', 'days_employed', 'total_income', 'dob_years']:\n",
    "    new_col = col+'_cat'\n",
    "    values = df[col]\n",
    "    # клипируем значения\n",
    "    val_clipped = values.clip(values.quantile(.025), values.quantile(.975))\n",
    "    # строим гистограмму\n",
    "    bins = np.histogram(val_clipped)[1]\n",
    "    # определяем ближайший бин, факторизуем\n",
    "    df[new_col] = val_clipped.apply(lambda x: np.abs(x- bins).argmin())\n",
    "    # среднее значение показаеля по лейблам, сортируем\n",
    "    mean_by_label_sorted = df.groupby(new_col)[col].mean().sort_values()\n",
    "    # ранжируем показатель\n",
    "    d = dict(zip(mean_by_label_sorted.index, range(len(mean_by_label_sorted))))\n",
    "    # обновляем лейбл (ставим лейбл в соответствии с средним значением в категории)\n",
    "    df[new_col] = df[new_col].map(d)            \n",
    "    # распределение категорий\n",
    "    _show_categories(df, new_col)"
   ]
  },
  {
   "cell_type": "code",
   "execution_count": 473,
   "metadata": {},
   "outputs": [
    {
     "name": "stdout",
     "output_type": "stream",
     "text": [
      "-----------------------------------------------------\n",
      "признак == children_cat, категория == 0, среднее значение == 0.0\n",
      "признак == children_cat, категория == 1, среднее значение == 1.0\n",
      "признак == children_cat, категория == 2, среднее значение == 2.2659489633173844\n",
      "-----------------------------------------------------\n",
      "признак == days_employed_cat, категория == 0, среднее значение == 498.2924453280318\n",
      "признак == days_employed_cat, категория == 1, среднее значение == 1775.5757490504993\n",
      "признак == days_employed_cat, категория == 2, среднее значение == 3216.325197662427\n",
      "признак == days_employed_cat, категория == 3, среднее значение == 4802.835303388495\n",
      "признак == days_employed_cat, категория == 4, среднее значение == 6400.667870036101\n",
      "признак == days_employed_cat, категория == 5, среднее значение == 7988.372492836676\n",
      "признак == days_employed_cat, категория == 6, среднее значение == 9573.117948717949\n",
      "признак == days_employed_cat, категория == 7, среднее значение == 11193.290322580646\n",
      "признак == days_employed_cat, категория == 8, среднее значение == 12648.288461538461\n",
      "признак == days_employed_cat, категория == 9, среднее значение == 14673.303247734138\n",
      "признак == days_employed_cat, категория == 10, среднее значение == 15855.328395061728\n",
      "-----------------------------------------------------\n",
      "признак == total_income_cat, категория == 0, среднее значение == 57486.847798742136\n",
      "признак == total_income_cat, категория == 1, среднее значение == 89994.26010593811\n",
      "признак == total_income_cat, категория == 2, среднее значение == 124179.00207277753\n",
      "признак == total_income_cat, категория == 3, среднее значение == 158472.0094970861\n",
      "признак == total_income_cat, категория == 4, среднее значение == 193208.71848892118\n",
      "признак == total_income_cat, категория == 5, среднее значение == 225111.00195058517\n",
      "признак == total_income_cat, категория == 6, среднее значение == 260054.28691588785\n",
      "признак == total_income_cat, категория == 7, среднее значение == 292658.3494363929\n",
      "признак == total_income_cat, категория == 8, среднее значение == 328947.3149038461\n",
      "признак == total_income_cat, категория == 9, среднее значение == 362883.64835164836\n",
      "признак == total_income_cat, категория == 10, среднее значение == 523700.0665610143\n",
      "-----------------------------------------------------\n",
      "признак == dob_years_cat, категория == 0, среднее значение == 23.295454545454547\n",
      "признак == dob_years_cat, категория == 1, среднее значение == 27.528062469497314\n",
      "признак == dob_years_cat, категория == 2, среднее значение == 31.51875571820677\n",
      "признак == dob_years_cat, категория == 3, среднее значение == 35.96969696969697\n",
      "признак == dob_years_cat, категория == 4, среднее значение == 40.51470588235294\n",
      "признак == dob_years_cat, категория == 5, среднее значение == 44.45827160493827\n",
      "признак == dob_years_cat, категория == 6, среднее значение == 48.5196656833825\n",
      "признак == dob_years_cat, категория == 7, среднее значение == 52.993934142114384\n",
      "признак == dob_years_cat, категория == 8, среднее значение == 57.46677559912854\n",
      "признак == dob_years_cat, категория == 9, среднее значение == 61.38066914498141\n",
      "признак == dob_years_cat, категория == 10, среднее значение == 66.65627705627706\n"
     ]
    }
   ],
   "source": [
    "for col1, col2 in zip(['children', 'days_employed', 'total_income', 'dob_years'],\\\n",
    "                      ['children_cat', 'days_employed_cat', 'total_income_cat', 'dob_years_cat']):\n",
    "    grouped_means = df.groupby(col2)[col1].mean().sort_values()\n",
    "    print('-----------------------------------------------------')\n",
    "    for k, v in grouped_means.items():\n",
    "        print('признак == {}, категория == {}, среднее значение == {}'.format(col2, k, v))"
   ]
  },
  {
   "cell_type": "markdown",
   "metadata": {},
   "source": [
    "#### Заменим лейблы категорий на округленное среднее значение показателя в категории (дни переведем в годы)"
   ]
  },
  {
   "cell_type": "code",
   "execution_count": 474,
   "metadata": {},
   "outputs": [],
   "source": [
    "for col in ['days_employed', 'total_income']:\n",
    "    df[col+'_cat'] = df[col+'_cat']\\\n",
    "                              .map((df.groupby(col+'_cat')[col].mean() // 365.25).astype(int))\n",
    "df['dob_years_cat'] = df['dob_years_cat'].map(df.groupby('dob_years_cat')['dob_years'].mean().round().astype(int))"
   ]
  },
  {
   "cell_type": "code",
   "execution_count": 475,
   "metadata": {},
   "outputs": [
    {
     "name": "stdout",
     "output_type": "stream",
     "text": [
      "Группы категорий\n",
      "-----------------------------------------------------\n",
      "признак == children_cat, категория == 0, среднее значение == 0.0\n",
      "признак == children_cat, категория == 1, среднее значение == 1.0\n",
      "признак == children_cat, категория == 2, среднее значение == 2.2659489633173844\n",
      "-----------------------------------------------------\n",
      "признак == days_employed_cat, категория == 1, среднее значение == 498.2924453280318\n",
      "признак == days_employed_cat, категория == 4, среднее значение == 1775.5757490504993\n",
      "признак == days_employed_cat, категория == 8, среднее значение == 3216.325197662427\n",
      "признак == days_employed_cat, категория == 13, среднее значение == 4802.835303388495\n",
      "признак == days_employed_cat, категория == 17, среднее значение == 6400.667870036101\n",
      "признак == days_employed_cat, категория == 21, среднее значение == 7988.372492836676\n",
      "признак == days_employed_cat, категория == 26, среднее значение == 9573.117948717949\n",
      "признак == days_employed_cat, категория == 30, среднее значение == 11193.290322580646\n",
      "признак == days_employed_cat, категория == 34, среднее значение == 12648.288461538461\n",
      "признак == days_employed_cat, категория == 40, среднее значение == 14673.303247734138\n",
      "признак == days_employed_cat, категория == 43, среднее значение == 15855.328395061728\n",
      "-----------------------------------------------------\n",
      "признак == total_income_cat, категория == 157, среднее значение == 57486.847798742136\n",
      "признак == total_income_cat, категория == 246, среднее значение == 89994.26010593811\n",
      "признак == total_income_cat, категория == 339, среднее значение == 124179.00207277753\n",
      "признак == total_income_cat, категория == 433, среднее значение == 158472.0094970861\n",
      "признак == total_income_cat, категория == 528, среднее значение == 193208.71848892118\n",
      "признак == total_income_cat, категория == 616, среднее значение == 225111.00195058517\n",
      "признак == total_income_cat, категория == 711, среднее значение == 260054.28691588785\n",
      "признак == total_income_cat, категория == 801, среднее значение == 292658.3494363929\n",
      "признак == total_income_cat, категория == 900, среднее значение == 328947.3149038461\n",
      "признак == total_income_cat, категория == 993, среднее значение == 362883.64835164836\n",
      "признак == total_income_cat, категория == 1433, среднее значение == 523700.0665610143\n",
      "-----------------------------------------------------\n",
      "признак == dob_years_cat, категория == 23, среднее значение == 23.295454545454547\n",
      "признак == dob_years_cat, категория == 28, среднее значение == 27.528062469497314\n",
      "признак == dob_years_cat, категория == 32, среднее значение == 31.51875571820677\n",
      "признак == dob_years_cat, категория == 36, среднее значение == 35.96969696969697\n",
      "признак == dob_years_cat, категория == 41, среднее значение == 40.51470588235294\n",
      "признак == dob_years_cat, категория == 44, среднее значение == 44.45827160493827\n",
      "признак == dob_years_cat, категория == 49, среднее значение == 48.5196656833825\n",
      "признак == dob_years_cat, категория == 53, среднее значение == 52.993934142114384\n",
      "признак == dob_years_cat, категория == 57, среднее значение == 57.46677559912854\n",
      "признак == dob_years_cat, категория == 61, среднее значение == 61.38066914498141\n",
      "признак == dob_years_cat, категория == 67, среднее значение == 66.65627705627706\n"
     ]
    }
   ],
   "source": [
    "print('Группы категорий')\n",
    "for col1, col2 in zip(['children', 'days_employed', 'total_income', 'dob_years'],\\\n",
    "                      ['children_cat', 'days_employed_cat', 'total_income_cat', 'dob_years_cat']):\n",
    "    grouped_means = df.groupby(col2)[col1].mean().sort_values()\n",
    "    print('-----------------------------------------------------')\n",
    "    for k, v in grouped_means.items():\n",
    "        print('признак == {}, категория == {}, среднее значение == {}'.format(col2, k, v))"
   ]
  },
  {
   "cell_type": "markdown",
   "metadata": {},
   "source": [
    "#### _выделились следующие группы_\n",
    "* _children, группы: нет детей, 1 ребенок, детей 2+_\n",
    "* _days_employed, средний стаж в годах: 1, 4, 8, 13, 17, 21, 26, 30, 34, 40, 43_ \n",
    "* _total_income, средний доход в тыс.руб.: 157, 246, 339, 433, 528, 616, 711, 801, 900, 993, 1433_\n",
    "* _dob_years_cat, средний возраст : 23, 28, 32, 36, 41, 44, 49, 53, 57, 61, 67_"
   ]
  },
  {
   "cell_type": "markdown",
   "metadata": {},
   "source": [
    "## Шаг 3. Ответьте на вопросы"
   ]
  },
  {
   "cell_type": "markdown",
   "metadata": {},
   "source": [
    "##### Q1. Есть ли зависимость между наличием детей и возвратом кредита в срок?"
   ]
  },
  {
   "cell_type": "code",
   "execution_count": 565,
   "metadata": {},
   "outputs": [],
   "source": [
    "q1_df = df.groupby('children_cat')[['children', 'debt']].mean().add_suffix('_mean').reset_index()\n",
    "q1_df['debt_mean, %'] = q1_df['debt_mean'].apply(lambda x: str(round(x*100, 2))+'%')\n",
    "q1_df = q1_df.drop('debt_mean', 1)\n",
    "q1_df = q1_df.join(df.groupby('children_cat').size().to_frame('size')).round(2)\n",
    "q1_df = q1_df.sort_values('debt_mean, %')\n",
    "q1_df.columns = ['Категория', 'Среднее число детей', 'Средний % просрочки', 'Размер группы'] "
   ]
  },
  {
   "cell_type": "code",
   "execution_count": 566,
   "metadata": {},
   "outputs": [
    {
     "data": {
      "text/html": [
       "<div>\n",
       "<style scoped>\n",
       "    .dataframe tbody tr th:only-of-type {\n",
       "        vertical-align: middle;\n",
       "    }\n",
       "\n",
       "    .dataframe tbody tr th {\n",
       "        vertical-align: top;\n",
       "    }\n",
       "\n",
       "    .dataframe thead th {\n",
       "        text-align: right;\n",
       "    }\n",
       "</style>\n",
       "<table border=\"1\" class=\"dataframe\">\n",
       "  <thead>\n",
       "    <tr style=\"text-align: right;\">\n",
       "      <th></th>\n",
       "      <th>Категория</th>\n",
       "      <th>Среднее число детей</th>\n",
       "      <th>Средний % просрочки</th>\n",
       "      <th>Размер группы</th>\n",
       "    </tr>\n",
       "  </thead>\n",
       "  <tbody>\n",
       "    <tr>\n",
       "      <th>0</th>\n",
       "      <td>0</td>\n",
       "      <td>0.00</td>\n",
       "      <td>7.53%</td>\n",
       "      <td>14138</td>\n",
       "    </tr>\n",
       "    <tr>\n",
       "      <th>1</th>\n",
       "      <td>1</td>\n",
       "      <td>1.00</td>\n",
       "      <td>9.23%</td>\n",
       "      <td>4808</td>\n",
       "    </tr>\n",
       "    <tr>\n",
       "      <th>2</th>\n",
       "      <td>2</td>\n",
       "      <td>2.27</td>\n",
       "      <td>9.29%</td>\n",
       "      <td>2508</td>\n",
       "    </tr>\n",
       "  </tbody>\n",
       "</table>\n",
       "</div>"
      ],
      "text/plain": [
       "   Категория  Среднее число детей Средний % просрочки  Размер группы\n",
       "0          0                 0.00               7.53%          14138\n",
       "1          1                 1.00               9.23%           4808\n",
       "2          2                 2.27               9.29%           2508"
      ]
     },
     "execution_count": 566,
     "metadata": {},
     "output_type": "execute_result"
    }
   ],
   "source": [
    "q1_df"
   ]
  },
  {
   "cell_type": "markdown",
   "metadata": {},
   "source": [
    "##### A1. Полученные расчеты позволяют нам с уверенностью сказать, что те заемщики, которые не имеют детей, реже других попадают в статус \"просрочка\". Однако и говорить о том , что с ростом числа детей, растет процент просрочки было бы не совсем корректно т.к. у заемщиков с 3-мя детьми мы видим относительно хорошие показатели на уровне 8.2% , что сопоставимо со средним процентом просрочки по всем, а заемщиков с 5-ю детьми и вовсе слишком мало. Ответ на вопрос о взаимосвязи наличия детей и возврата кредита в срок однозначно положительный, но всякий раз стоит смотреть именно на количество."
   ]
  },
  {
   "cell_type": "markdown",
   "metadata": {},
   "source": [
    "#### _Q2. Есть ли зависимость между семейным положением и возвратом кредита в срок?_"
   ]
  },
  {
   "cell_type": "code",
   "execution_count": 563,
   "metadata": {},
   "outputs": [],
   "source": [
    "q2_df = df.groupby('family_status')['debt'].agg({'mean', 'count'}).reset_index()\n",
    "q2_df['debt_mean, %'] = (q2_df['mean']* 100).round(2).astype(str) + '%'\n",
    "q2_df = q2_df.rename(columns ={'count': 'debt_count'}).drop('mean', 1)\n",
    "q2_df = q2_df.sort_values('debt_mean, %')\n",
    "q2_df.columns = ['Семейное положение', 'Размер группы', 'Средний % просрочки']"
   ]
  },
  {
   "cell_type": "code",
   "execution_count": 564,
   "metadata": {},
   "outputs": [
    {
     "data": {
      "text/html": [
       "<div>\n",
       "<style scoped>\n",
       "    .dataframe tbody tr th:only-of-type {\n",
       "        vertical-align: middle;\n",
       "    }\n",
       "\n",
       "    .dataframe tbody tr th {\n",
       "        vertical-align: top;\n",
       "    }\n",
       "\n",
       "    .dataframe thead th {\n",
       "        text-align: right;\n",
       "    }\n",
       "</style>\n",
       "<table border=\"1\" class=\"dataframe\">\n",
       "  <thead>\n",
       "    <tr style=\"text-align: right;\">\n",
       "      <th></th>\n",
       "      <th>Семейное положение</th>\n",
       "      <th>Размер группы</th>\n",
       "      <th>Средний % просрочки</th>\n",
       "    </tr>\n",
       "  </thead>\n",
       "  <tbody>\n",
       "    <tr>\n",
       "      <th>1</th>\n",
       "      <td>вдовец / вдова</td>\n",
       "      <td>959</td>\n",
       "      <td>6.57%</td>\n",
       "    </tr>\n",
       "    <tr>\n",
       "      <th>0</th>\n",
       "      <td>в разводе</td>\n",
       "      <td>1195</td>\n",
       "      <td>7.11%</td>\n",
       "    </tr>\n",
       "    <tr>\n",
       "      <th>3</th>\n",
       "      <td>женат / замужем</td>\n",
       "      <td>12339</td>\n",
       "      <td>7.55%</td>\n",
       "    </tr>\n",
       "    <tr>\n",
       "      <th>2</th>\n",
       "      <td>гражданский брак</td>\n",
       "      <td>4151</td>\n",
       "      <td>9.35%</td>\n",
       "    </tr>\n",
       "    <tr>\n",
       "      <th>4</th>\n",
       "      <td>не женат / не замужем</td>\n",
       "      <td>2810</td>\n",
       "      <td>9.75%</td>\n",
       "    </tr>\n",
       "  </tbody>\n",
       "</table>\n",
       "</div>"
      ],
      "text/plain": [
       "      Семейное положение  Размер группы Средний % просрочки\n",
       "1         вдовец / вдова            959               6.57%\n",
       "0              в разводе           1195               7.11%\n",
       "3        женат / замужем          12339               7.55%\n",
       "2       гражданский брак           4151               9.35%\n",
       "4  не женат / не замужем           2810               9.75%"
      ]
     },
     "execution_count": 564,
     "metadata": {},
     "output_type": "execute_result"
    }
   ],
   "source": [
    "q2_df"
   ]
  },
  {
   "cell_type": "markdown",
   "metadata": {},
   "source": [
    "##### A2. Полученные расчеты позволяют нам с уверенностью сказать, что заемщики-вдовы, заемщики-вдовцы реже всего просрачивают средит : % просрочек равен 6.57%, сопоставимые показатели имеют люди в разводе и женатые люди: 7.11% и 7.55% соответственно. также сопоставимы проценты просрочки у людей в гражданском браке и не женатых людей. составляют 9.35%, 9.75% соответственно."
   ]
  },
  {
   "cell_type": "markdown",
   "metadata": {},
   "source": [
    "#### _Q3. Есть ли зависимость между уровнем дохода и возвратом кредита в срок?_"
   ]
  },
  {
   "cell_type": "code",
   "execution_count": 558,
   "metadata": {},
   "outputs": [
    {
     "data": {
      "text/html": [
       "<div>\n",
       "<style scoped>\n",
       "    .dataframe tbody tr th:only-of-type {\n",
       "        vertical-align: middle;\n",
       "    }\n",
       "\n",
       "    .dataframe tbody tr th {\n",
       "        vertical-align: top;\n",
       "    }\n",
       "\n",
       "    .dataframe thead th {\n",
       "        text-align: right;\n",
       "    }\n",
       "</style>\n",
       "<table border=\"1\" class=\"dataframe\">\n",
       "  <thead>\n",
       "    <tr style=\"text-align: right;\">\n",
       "      <th></th>\n",
       "      <th>Средний доход, тыс.р.</th>\n",
       "      <th>Средний % просрочки</th>\n",
       "      <th>Размер группы</th>\n",
       "      <th>Кластер</th>\n",
       "    </tr>\n",
       "    <tr>\n",
       "      <th>total_income_cat</th>\n",
       "      <th></th>\n",
       "      <th></th>\n",
       "      <th></th>\n",
       "      <th></th>\n",
       "    </tr>\n",
       "  </thead>\n",
       "  <tbody>\n",
       "    <tr>\n",
       "      <th>1433</th>\n",
       "      <td>523.0</td>\n",
       "      <td>5.9</td>\n",
       "      <td>631</td>\n",
       "      <td>0</td>\n",
       "    </tr>\n",
       "    <tr>\n",
       "      <th>711</th>\n",
       "      <td>260.0</td>\n",
       "      <td>6.6</td>\n",
       "      <td>1070</td>\n",
       "      <td>1</td>\n",
       "    </tr>\n",
       "    <tr>\n",
       "      <th>157</th>\n",
       "      <td>57.0</td>\n",
       "      <td>6.9</td>\n",
       "      <td>1590</td>\n",
       "      <td>1</td>\n",
       "    </tr>\n",
       "    <tr>\n",
       "      <th>801</th>\n",
       "      <td>292.0</td>\n",
       "      <td>6.9</td>\n",
       "      <td>621</td>\n",
       "      <td>1</td>\n",
       "    </tr>\n",
       "    <tr>\n",
       "      <th>616</th>\n",
       "      <td>225.0</td>\n",
       "      <td>7.5</td>\n",
       "      <td>1538</td>\n",
       "      <td>2</td>\n",
       "    </tr>\n",
       "    <tr>\n",
       "      <th>900</th>\n",
       "      <td>328.0</td>\n",
       "      <td>7.9</td>\n",
       "      <td>416</td>\n",
       "      <td>2</td>\n",
       "    </tr>\n",
       "    <tr>\n",
       "      <th>528</th>\n",
       "      <td>193.0</td>\n",
       "      <td>8.0</td>\n",
       "      <td>2753</td>\n",
       "      <td>2</td>\n",
       "    </tr>\n",
       "    <tr>\n",
       "      <th>993</th>\n",
       "      <td>362.0</td>\n",
       "      <td>8.1</td>\n",
       "      <td>273</td>\n",
       "      <td>2</td>\n",
       "    </tr>\n",
       "    <tr>\n",
       "      <th>246</th>\n",
       "      <td>89.0</td>\n",
       "      <td>8.3</td>\n",
       "      <td>3587</td>\n",
       "      <td>2</td>\n",
       "    </tr>\n",
       "    <tr>\n",
       "      <th>339</th>\n",
       "      <td>124.0</td>\n",
       "      <td>8.7</td>\n",
       "      <td>4342</td>\n",
       "      <td>3</td>\n",
       "    </tr>\n",
       "    <tr>\n",
       "      <th>433</th>\n",
       "      <td>158.0</td>\n",
       "      <td>9.0</td>\n",
       "      <td>4633</td>\n",
       "      <td>3</td>\n",
       "    </tr>\n",
       "  </tbody>\n",
       "</table>\n",
       "</div>"
      ],
      "text/plain": [
       "                  Средний доход, тыс.р.  Средний % просрочки  Размер группы  \\\n",
       "total_income_cat                                                              \n",
       "1433                              523.0                  5.9            631   \n",
       "711                               260.0                  6.6           1070   \n",
       "157                                57.0                  6.9           1590   \n",
       "801                               292.0                  6.9            621   \n",
       "616                               225.0                  7.5           1538   \n",
       "900                               328.0                  7.9            416   \n",
       "528                               193.0                  8.0           2753   \n",
       "993                               362.0                  8.1            273   \n",
       "246                                89.0                  8.3           3587   \n",
       "339                               124.0                  8.7           4342   \n",
       "433                               158.0                  9.0           4633   \n",
       "\n",
       "                  Кластер  \n",
       "total_income_cat           \n",
       "1433                    0  \n",
       "711                     1  \n",
       "157                     1  \n",
       "801                     1  \n",
       "616                     2  \n",
       "900                     2  \n",
       "528                     2  \n",
       "993                     2  \n",
       "246                     2  \n",
       "339                     3  \n",
       "433                     3  "
      ]
     },
     "execution_count": 558,
     "metadata": {},
     "output_type": "execute_result"
    }
   ],
   "source": [
    "q3_df = ((df.groupby('total_income_cat')['total_income'].mean()//1000).to_frame('Средний доход, тыс.р.')\\\n",
    "    .join(df.groupby('total_income_cat')['debt'].mean().mul(100).round(1).to_frame('Средний % просрочки')))\n",
    "q3_df['Размер группы'] = df.groupby('total_income_cat').size()\n",
    "q3_df = q3_df.sort_values('Средний % просрочки')\n",
    "q3_df['Кластер'] = q3_df['Средний % просрочки'].round().factorize()[0]\n",
    "q3_df"
   ]
  },
  {
   "cell_type": "markdown",
   "metadata": {},
   "source": [
    "#### _A3. Полученные расчеты позволяют нам с уверенностью сказать, что по зависимости % просрочек от уровня дохода заемщиков можно разделить на 4 группы:_\n",
    "* самые надежные - средний ежемесячный доход равен 524 тыс.руб., 259 тыс.руб. с % просрочек 5.9%, 6.5%\n",
    "* менее надежные - средний ежемесячный доход равен 57 тыс.руб., 292 тыс.руб., 225 тыс.руб. с % просрочек 6.8%, 6.9%, 7.1%\n",
    "* еще менее надежные - средний ежемесячный доход равен 190 тыс.руб., 329 тыс.руб., 363 тыс.руб., 90.0 тыс.руб.  с % просрочек 7.9%, 7.9%, 8.1%, 8.3%\n",
    "* наименее надежные - средний ежемесячный доход равен 123 тыс.руб., 156 тыс.руб. с % просрочек 8.8%, 9.3%\n",
    "\n",
    "#### _Можно утвержать, что люди с доходом более 500 тыс.руб.в месяц являются наиболее надежными заемщиками.Также видно, что люди с доходом около 150 тыс.руб. чаще всего просрачивают средит. Видно, что вцелом ,размер дохода не очень хорошо отражает надежность заемщика.он является весомым фактором, но не решающим_"
   ]
  },
  {
   "cell_type": "markdown",
   "metadata": {},
   "source": [
    "#### _Q4. Как разные цели кредита влияют на его возврат в срок?_"
   ]
  },
  {
   "cell_type": "code",
   "execution_count": 561,
   "metadata": {},
   "outputs": [],
   "source": [
    "q4_df = df.groupby('purpose_cat')['debt'].agg({'mean', 'count'}).reset_index()\n",
    "q4_df['mean'] = (q4_df['mean'] * 100).round(2).astype(str) +'%'\n",
    "q4_df.columns = ['Цель кредита', 'Размер группы', 'Средний % просрочки']"
   ]
  },
  {
   "cell_type": "code",
   "execution_count": 562,
   "metadata": {},
   "outputs": [
    {
     "data": {
      "text/html": [
       "<div>\n",
       "<style scoped>\n",
       "    .dataframe tbody tr th:only-of-type {\n",
       "        vertical-align: middle;\n",
       "    }\n",
       "\n",
       "    .dataframe tbody tr th {\n",
       "        vertical-align: top;\n",
       "    }\n",
       "\n",
       "    .dataframe thead th {\n",
       "        text-align: right;\n",
       "    }\n",
       "</style>\n",
       "<table border=\"1\" class=\"dataframe\">\n",
       "  <thead>\n",
       "    <tr style=\"text-align: right;\">\n",
       "      <th></th>\n",
       "      <th>Цель кредита</th>\n",
       "      <th>Размер группы</th>\n",
       "      <th>Средний % просрочки</th>\n",
       "    </tr>\n",
       "  </thead>\n",
       "  <tbody>\n",
       "    <tr>\n",
       "      <th>0</th>\n",
       "      <td>автомобиль</td>\n",
       "      <td>4306</td>\n",
       "      <td>9.36%</td>\n",
       "    </tr>\n",
       "    <tr>\n",
       "      <th>1</th>\n",
       "      <td>жилье</td>\n",
       "      <td>4460</td>\n",
       "      <td>6.91%</td>\n",
       "    </tr>\n",
       "    <tr>\n",
       "      <th>2</th>\n",
       "      <td>недвижимость</td>\n",
       "      <td>6351</td>\n",
       "      <td>7.46%</td>\n",
       "    </tr>\n",
       "    <tr>\n",
       "      <th>3</th>\n",
       "      <td>образование</td>\n",
       "      <td>4013</td>\n",
       "      <td>9.22%</td>\n",
       "    </tr>\n",
       "  </tbody>\n",
       "</table>\n",
       "</div>"
      ],
      "text/plain": [
       "   Цель кредита  Размер группы Средний % просрочки\n",
       "0    автомобиль           4306               9.36%\n",
       "1         жилье           4460               6.91%\n",
       "2  недвижимость           6351               7.46%\n",
       "3   образование           4013               9.22%"
      ]
     },
     "execution_count": 562,
     "metadata": {},
     "output_type": "execute_result"
    }
   ],
   "source": [
    "q4_df"
   ]
  },
  {
   "cell_type": "markdown",
   "metadata": {},
   "source": [
    "##### A4. Можно утвержать, что заемщики с кредитами на автомобиль - самые ненадежные (9.36% просрочек), а на жилье - самые надежные (6.9% просрочек). Видно, что люди лучше готовы к дорогим кредитам (жалье, недвижимость), потому что понимают ответственность и лучше обдумывают решение, образование и автомобиль - сопоставимы по риску: 9.2%, 9.3%¶"
   ]
  },
  {
   "cell_type": "markdown",
   "metadata": {},
   "source": [
    "#### % просрочки кредита по целям и категориям"
   ]
  },
  {
   "cell_type": "code",
   "execution_count": 708,
   "metadata": {},
   "outputs": [],
   "source": [
    "report_df = pd.DataFrame()\n",
    "for col in ['education', 'family_status', 'purpose_cat', 'children_cat', 'days_employed_cat', 'total_income_cat', 'dob_years_cat']:\n",
    "    for unique_value in df[col].unique():\n",
    "        colname = '{} == {}'.format(col, unique_value)\n",
    "        try:\n",
    "            mean_grp_val = df[df[col] == unique_value][col[:-4]].mean()        \n",
    "        except:\n",
    "            mean_grp_val = unique_value       \n",
    "        val = df[df[col] == unique_value]['debt'].mean()\n",
    "        if ~np.isnan(val):\n",
    "            if col not in ('education', 'family_status'):\n",
    "                report_df.loc[colname, 'Показатель'] = col[:-4]\n",
    "            else:\n",
    "                report_df.loc[colname, 'Показатель'] = col              \n",
    "            report_df.loc[colname, 'Задолженность, %'] = round(val * 100, 2)\n",
    "            try:\n",
    "                report_df.loc[colname, 'Среднее значение в группе'] = round(mean_grp_val, 2)\n",
    "            except:\n",
    "                report_df.loc[colname, 'Среднее значение в группе'] = mean_grp_val                \n",
    "report_df = report_df.sort_values('Задолженность, %', ascending = False)        "
   ]
  },
  {
   "cell_type": "code",
   "execution_count": 709,
   "metadata": {},
   "outputs": [
    {
     "data": {
      "text/html": [
       "<div>\n",
       "<style scoped>\n",
       "    .dataframe tbody tr th:only-of-type {\n",
       "        vertical-align: middle;\n",
       "    }\n",
       "\n",
       "    .dataframe tbody tr th {\n",
       "        vertical-align: top;\n",
       "    }\n",
       "\n",
       "    .dataframe thead th {\n",
       "        text-align: right;\n",
       "    }\n",
       "</style>\n",
       "<table border=\"1\" class=\"dataframe\">\n",
       "  <thead>\n",
       "    <tr style=\"text-align: right;\">\n",
       "      <th></th>\n",
       "      <th>Показатель</th>\n",
       "      <th>Задолженность, %</th>\n",
       "      <th>Среднее значение в группе</th>\n",
       "    </tr>\n",
       "  </thead>\n",
       "  <tbody>\n",
       "    <tr>\n",
       "      <th>days_employed_cat == 1</th>\n",
       "      <td>days_employed</td>\n",
       "      <td>11.13</td>\n",
       "      <td>498.29</td>\n",
       "    </tr>\n",
       "    <tr>\n",
       "      <th>dob_years_cat == 28</th>\n",
       "      <td>dob_years</td>\n",
       "      <td>11.03</td>\n",
       "      <td>27.53</td>\n",
       "    </tr>\n",
       "    <tr>\n",
       "      <th>education == начальное</th>\n",
       "      <td>education</td>\n",
       "      <td>10.99</td>\n",
       "      <td>начальное</td>\n",
       "    </tr>\n",
       "    <tr>\n",
       "      <th>dob_years_cat == 32</th>\n",
       "      <td>dob_years</td>\n",
       "      <td>10.89</td>\n",
       "      <td>31.52</td>\n",
       "    </tr>\n",
       "    <tr>\n",
       "      <th>dob_years_cat == 23</th>\n",
       "      <td>dob_years</td>\n",
       "      <td>10.63</td>\n",
       "      <td>23.3</td>\n",
       "    </tr>\n",
       "    <tr>\n",
       "      <th>family_status == не женат / не замужем</th>\n",
       "      <td>family_status</td>\n",
       "      <td>9.75</td>\n",
       "      <td>не женат / не замужем</td>\n",
       "    </tr>\n",
       "    <tr>\n",
       "      <th>purpose_cat == автомобиль</th>\n",
       "      <td>purpose</td>\n",
       "      <td>9.36</td>\n",
       "      <td>автомобиль</td>\n",
       "    </tr>\n",
       "    <tr>\n",
       "      <th>family_status == гражданский брак</th>\n",
       "      <td>family_status</td>\n",
       "      <td>9.35</td>\n",
       "      <td>гражданский брак</td>\n",
       "    </tr>\n",
       "    <tr>\n",
       "      <th>dob_years_cat == 36</th>\n",
       "      <td>dob_years</td>\n",
       "      <td>9.30</td>\n",
       "      <td>35.97</td>\n",
       "    </tr>\n",
       "    <tr>\n",
       "      <th>children_cat == 2</th>\n",
       "      <td>children</td>\n",
       "      <td>9.29</td>\n",
       "      <td>2.27</td>\n",
       "    </tr>\n",
       "    <tr>\n",
       "      <th>children_cat == 1</th>\n",
       "      <td>children</td>\n",
       "      <td>9.23</td>\n",
       "      <td>1</td>\n",
       "    </tr>\n",
       "    <tr>\n",
       "      <th>purpose_cat == образование</th>\n",
       "      <td>purpose</td>\n",
       "      <td>9.22</td>\n",
       "      <td>образование</td>\n",
       "    </tr>\n",
       "    <tr>\n",
       "      <th>education == неоконченное высшее</th>\n",
       "      <td>education</td>\n",
       "      <td>9.14</td>\n",
       "      <td>неоконченное высшее</td>\n",
       "    </tr>\n",
       "    <tr>\n",
       "      <th>total_income_cat == 433</th>\n",
       "      <td>total_income</td>\n",
       "      <td>9.00</td>\n",
       "      <td>158472</td>\n",
       "    </tr>\n",
       "    <tr>\n",
       "      <th>education == среднее</th>\n",
       "      <td>education</td>\n",
       "      <td>8.99</td>\n",
       "      <td>среднее</td>\n",
       "    </tr>\n",
       "    <tr>\n",
       "      <th>days_employed_cat == 4</th>\n",
       "      <td>days_employed</td>\n",
       "      <td>8.78</td>\n",
       "      <td>1775.58</td>\n",
       "    </tr>\n",
       "    <tr>\n",
       "      <th>total_income_cat == 339</th>\n",
       "      <td>total_income</td>\n",
       "      <td>8.71</td>\n",
       "      <td>124179</td>\n",
       "    </tr>\n",
       "    <tr>\n",
       "      <th>total_income_cat == 246</th>\n",
       "      <td>total_income</td>\n",
       "      <td>8.28</td>\n",
       "      <td>89994.3</td>\n",
       "    </tr>\n",
       "    <tr>\n",
       "      <th>total_income_cat == 993</th>\n",
       "      <td>total_income</td>\n",
       "      <td>8.06</td>\n",
       "      <td>362884</td>\n",
       "    </tr>\n",
       "    <tr>\n",
       "      <th>dob_years_cat == 44</th>\n",
       "      <td>dob_years</td>\n",
       "      <td>8.05</td>\n",
       "      <td>44.46</td>\n",
       "    </tr>\n",
       "    <tr>\n",
       "      <th>total_income_cat == 528</th>\n",
       "      <td>total_income</td>\n",
       "      <td>7.95</td>\n",
       "      <td>193209</td>\n",
       "    </tr>\n",
       "    <tr>\n",
       "      <th>total_income_cat == 900</th>\n",
       "      <td>total_income</td>\n",
       "      <td>7.93</td>\n",
       "      <td>328947</td>\n",
       "    </tr>\n",
       "    <tr>\n",
       "      <th>dob_years_cat == 41</th>\n",
       "      <td>dob_years</td>\n",
       "      <td>7.69</td>\n",
       "      <td>40.51</td>\n",
       "    </tr>\n",
       "    <tr>\n",
       "      <th>family_status == женат / замужем</th>\n",
       "      <td>family_status</td>\n",
       "      <td>7.55</td>\n",
       "      <td>женат / замужем</td>\n",
       "    </tr>\n",
       "    <tr>\n",
       "      <th>children_cat == 0</th>\n",
       "      <td>children</td>\n",
       "      <td>7.53</td>\n",
       "      <td>0</td>\n",
       "    </tr>\n",
       "    <tr>\n",
       "      <th>total_income_cat == 616</th>\n",
       "      <td>total_income</td>\n",
       "      <td>7.48</td>\n",
       "      <td>225111</td>\n",
       "    </tr>\n",
       "    <tr>\n",
       "      <th>purpose_cat == недвижимость</th>\n",
       "      <td>purpose</td>\n",
       "      <td>7.46</td>\n",
       "      <td>недвижимость</td>\n",
       "    </tr>\n",
       "    <tr>\n",
       "      <th>dob_years_cat == 49</th>\n",
       "      <td>dob_years</td>\n",
       "      <td>7.33</td>\n",
       "      <td>48.52</td>\n",
       "    </tr>\n",
       "    <tr>\n",
       "      <th>family_status == в разводе</th>\n",
       "      <td>family_status</td>\n",
       "      <td>7.11</td>\n",
       "      <td>в разводе</td>\n",
       "    </tr>\n",
       "    <tr>\n",
       "      <th>days_employed_cat == 8</th>\n",
       "      <td>days_employed</td>\n",
       "      <td>7.05</td>\n",
       "      <td>3216.33</td>\n",
       "    </tr>\n",
       "    <tr>\n",
       "      <th>total_income_cat == 801</th>\n",
       "      <td>total_income</td>\n",
       "      <td>6.92</td>\n",
       "      <td>292658</td>\n",
       "    </tr>\n",
       "    <tr>\n",
       "      <th>purpose_cat == жилье</th>\n",
       "      <td>purpose</td>\n",
       "      <td>6.91</td>\n",
       "      <td>жилье</td>\n",
       "    </tr>\n",
       "    <tr>\n",
       "      <th>total_income_cat == 157</th>\n",
       "      <td>total_income</td>\n",
       "      <td>6.86</td>\n",
       "      <td>57486.8</td>\n",
       "    </tr>\n",
       "    <tr>\n",
       "      <th>total_income_cat == 711</th>\n",
       "      <td>total_income</td>\n",
       "      <td>6.64</td>\n",
       "      <td>260054</td>\n",
       "    </tr>\n",
       "    <tr>\n",
       "      <th>family_status == вдовец / вдова</th>\n",
       "      <td>family_status</td>\n",
       "      <td>6.57</td>\n",
       "      <td>вдовец / вдова</td>\n",
       "    </tr>\n",
       "    <tr>\n",
       "      <th>days_employed_cat == 13</th>\n",
       "      <td>days_employed</td>\n",
       "      <td>6.54</td>\n",
       "      <td>4802.84</td>\n",
       "    </tr>\n",
       "    <tr>\n",
       "      <th>dob_years_cat == 57</th>\n",
       "      <td>dob_years</td>\n",
       "      <td>6.37</td>\n",
       "      <td>57.47</td>\n",
       "    </tr>\n",
       "    <tr>\n",
       "      <th>dob_years_cat == 53</th>\n",
       "      <td>dob_years</td>\n",
       "      <td>6.11</td>\n",
       "      <td>52.99</td>\n",
       "    </tr>\n",
       "    <tr>\n",
       "      <th>total_income_cat == 1433</th>\n",
       "      <td>total_income</td>\n",
       "      <td>5.86</td>\n",
       "      <td>523700</td>\n",
       "    </tr>\n",
       "    <tr>\n",
       "      <th>days_employed_cat == 40</th>\n",
       "      <td>days_employed</td>\n",
       "      <td>5.85</td>\n",
       "      <td>14673.3</td>\n",
       "    </tr>\n",
       "    <tr>\n",
       "      <th>days_employed_cat == 34</th>\n",
       "      <td>days_employed</td>\n",
       "      <td>5.77</td>\n",
       "      <td>12648.3</td>\n",
       "    </tr>\n",
       "    <tr>\n",
       "      <th>education == высшее</th>\n",
       "      <td>education</td>\n",
       "      <td>5.30</td>\n",
       "      <td>высшее</td>\n",
       "    </tr>\n",
       "    <tr>\n",
       "      <th>dob_years_cat == 67</th>\n",
       "      <td>dob_years</td>\n",
       "      <td>5.28</td>\n",
       "      <td>66.66</td>\n",
       "    </tr>\n",
       "    <tr>\n",
       "      <th>days_employed_cat == 43</th>\n",
       "      <td>days_employed</td>\n",
       "      <td>5.02</td>\n",
       "      <td>15855.3</td>\n",
       "    </tr>\n",
       "    <tr>\n",
       "      <th>days_employed_cat == 21</th>\n",
       "      <td>days_employed</td>\n",
       "      <td>4.87</td>\n",
       "      <td>7988.37</td>\n",
       "    </tr>\n",
       "    <tr>\n",
       "      <th>dob_years_cat == 61</th>\n",
       "      <td>dob_years</td>\n",
       "      <td>4.61</td>\n",
       "      <td>61.38</td>\n",
       "    </tr>\n",
       "    <tr>\n",
       "      <th>days_employed_cat == 30</th>\n",
       "      <td>days_employed</td>\n",
       "      <td>4.03</td>\n",
       "      <td>11193.3</td>\n",
       "    </tr>\n",
       "    <tr>\n",
       "      <th>days_employed_cat == 17</th>\n",
       "      <td>days_employed</td>\n",
       "      <td>3.97</td>\n",
       "      <td>6400.67</td>\n",
       "    </tr>\n",
       "    <tr>\n",
       "      <th>days_employed_cat == 26</th>\n",
       "      <td>days_employed</td>\n",
       "      <td>3.08</td>\n",
       "      <td>9573.12</td>\n",
       "    </tr>\n",
       "    <tr>\n",
       "      <th>education == ученая степень</th>\n",
       "      <td>education</td>\n",
       "      <td>0.00</td>\n",
       "      <td>ученая степень</td>\n",
       "    </tr>\n",
       "  </tbody>\n",
       "</table>\n",
       "</div>"
      ],
      "text/plain": [
       "                                           Показатель  Задолженность, %  \\\n",
       "days_employed_cat == 1                  days_employed             11.13   \n",
       "dob_years_cat == 28                         dob_years             11.03   \n",
       "education == начальное                      education             10.99   \n",
       "dob_years_cat == 32                         dob_years             10.89   \n",
       "dob_years_cat == 23                         dob_years             10.63   \n",
       "family_status == не женат / не замужем  family_status              9.75   \n",
       "purpose_cat == автомобиль                     purpose              9.36   \n",
       "family_status == гражданский брак       family_status              9.35   \n",
       "dob_years_cat == 36                         dob_years              9.30   \n",
       "children_cat == 2                            children              9.29   \n",
       "children_cat == 1                            children              9.23   \n",
       "purpose_cat == образование                    purpose              9.22   \n",
       "education == неоконченное высшее            education              9.14   \n",
       "total_income_cat == 433                  total_income              9.00   \n",
       "education == среднее                        education              8.99   \n",
       "days_employed_cat == 4                  days_employed              8.78   \n",
       "total_income_cat == 339                  total_income              8.71   \n",
       "total_income_cat == 246                  total_income              8.28   \n",
       "total_income_cat == 993                  total_income              8.06   \n",
       "dob_years_cat == 44                         dob_years              8.05   \n",
       "total_income_cat == 528                  total_income              7.95   \n",
       "total_income_cat == 900                  total_income              7.93   \n",
       "dob_years_cat == 41                         dob_years              7.69   \n",
       "family_status == женат / замужем        family_status              7.55   \n",
       "children_cat == 0                            children              7.53   \n",
       "total_income_cat == 616                  total_income              7.48   \n",
       "purpose_cat == недвижимость                   purpose              7.46   \n",
       "dob_years_cat == 49                         dob_years              7.33   \n",
       "family_status == в разводе              family_status              7.11   \n",
       "days_employed_cat == 8                  days_employed              7.05   \n",
       "total_income_cat == 801                  total_income              6.92   \n",
       "purpose_cat == жилье                          purpose              6.91   \n",
       "total_income_cat == 157                  total_income              6.86   \n",
       "total_income_cat == 711                  total_income              6.64   \n",
       "family_status == вдовец / вдова         family_status              6.57   \n",
       "days_employed_cat == 13                 days_employed              6.54   \n",
       "dob_years_cat == 57                         dob_years              6.37   \n",
       "dob_years_cat == 53                         dob_years              6.11   \n",
       "total_income_cat == 1433                 total_income              5.86   \n",
       "days_employed_cat == 40                 days_employed              5.85   \n",
       "days_employed_cat == 34                 days_employed              5.77   \n",
       "education == высшее                         education              5.30   \n",
       "dob_years_cat == 67                         dob_years              5.28   \n",
       "days_employed_cat == 43                 days_employed              5.02   \n",
       "days_employed_cat == 21                 days_employed              4.87   \n",
       "dob_years_cat == 61                         dob_years              4.61   \n",
       "days_employed_cat == 30                 days_employed              4.03   \n",
       "days_employed_cat == 17                 days_employed              3.97   \n",
       "days_employed_cat == 26                 days_employed              3.08   \n",
       "education == ученая степень                 education              0.00   \n",
       "\n",
       "                                       Среднее значение в группе  \n",
       "days_employed_cat == 1                                    498.29  \n",
       "dob_years_cat == 28                                        27.53  \n",
       "education == начальное                                 начальное  \n",
       "dob_years_cat == 32                                        31.52  \n",
       "dob_years_cat == 23                                         23.3  \n",
       "family_status == не женат / не замужем     не женат / не замужем  \n",
       "purpose_cat == автомобиль                             автомобиль  \n",
       "family_status == гражданский брак               гражданский брак  \n",
       "dob_years_cat == 36                                        35.97  \n",
       "children_cat == 2                                           2.27  \n",
       "children_cat == 1                                              1  \n",
       "purpose_cat == образование                           образование  \n",
       "education == неоконченное высшее             неоконченное высшее  \n",
       "total_income_cat == 433                                   158472  \n",
       "education == среднее                                     среднее  \n",
       "days_employed_cat == 4                                   1775.58  \n",
       "total_income_cat == 339                                   124179  \n",
       "total_income_cat == 246                                  89994.3  \n",
       "total_income_cat == 993                                   362884  \n",
       "dob_years_cat == 44                                        44.46  \n",
       "total_income_cat == 528                                   193209  \n",
       "total_income_cat == 900                                   328947  \n",
       "dob_years_cat == 41                                        40.51  \n",
       "family_status == женат / замужем                 женат / замужем  \n",
       "children_cat == 0                                              0  \n",
       "total_income_cat == 616                                   225111  \n",
       "purpose_cat == недвижимость                         недвижимость  \n",
       "dob_years_cat == 49                                        48.52  \n",
       "family_status == в разводе                             в разводе  \n",
       "days_employed_cat == 8                                   3216.33  \n",
       "total_income_cat == 801                                   292658  \n",
       "purpose_cat == жилье                                       жилье  \n",
       "total_income_cat == 157                                  57486.8  \n",
       "total_income_cat == 711                                   260054  \n",
       "family_status == вдовец / вдова                   вдовец / вдова  \n",
       "days_employed_cat == 13                                  4802.84  \n",
       "dob_years_cat == 57                                        57.47  \n",
       "dob_years_cat == 53                                        52.99  \n",
       "total_income_cat == 1433                                  523700  \n",
       "days_employed_cat == 40                                  14673.3  \n",
       "days_employed_cat == 34                                  12648.3  \n",
       "education == высшее                                       высшее  \n",
       "dob_years_cat == 67                                        66.66  \n",
       "days_employed_cat == 43                                  15855.3  \n",
       "days_employed_cat == 21                                  7988.37  \n",
       "dob_years_cat == 61                                        61.38  \n",
       "days_employed_cat == 30                                  11193.3  \n",
       "days_employed_cat == 17                                  6400.67  \n",
       "days_employed_cat == 26                                  9573.12  \n",
       "education == ученая степень                       ученая степень  "
      ]
     },
     "execution_count": 709,
     "metadata": {},
     "output_type": "execute_result"
    }
   ],
   "source": [
    "report_df"
   ]
  },
  {
   "cell_type": "code",
   "execution_count": 710,
   "metadata": {},
   "outputs": [
    {
     "data": {
      "image/png": "[encoded data removed]",
      "text/plain": [
       "<Figure size 720x1080 with 1 Axes>"
      ]
     },
     "metadata": {},
     "output_type": "display_data"
    }
   ],
   "source": [
    "series = report_df['Задолженность, %']\n",
    "plt.figure(figsize = (10, 15))\n",
    "sns.barplot(x = series.values, y = series.index)\n",
    "plt.axvline(df['debt'].mean()*100, color = 'black')\n",
    "plt.legend(['средний % задолженности'], loc = 'upper left')\n",
    "plt.title('% задолженности по категориям')\n",
    "plt.show()"
   ]
  },
  {
   "cell_type": "markdown",
   "metadata": {},
   "source": [
    "### _Выводы:_\n",
    "\n",
    "##### _1) целью проекта являлось исследование надежности заемщика по следующим характеристикам:_\n",
    "* _children - число детей_\n",
    "* _days_employed - трудовой стаж_\n",
    "* _dob_years - возраст_\n",
    "* _education, education_id - образование_\n",
    "* _family, family_status - семеное положение_\n",
    "* _gender - пол_\n",
    "* _income_type - тип дохода_\n",
    "* _pupose - цель кредита_\n",
    "\n",
    "##### 2) _В данных имелись значения, требовавшие корректировки:_\n",
    "* _Дубликаты строк: могли появиться при выгрузке данных из БД. Дубликаты были удалены_\n",
    "* _Присутствовали странные значения: для числа детей -1, 20; для пола: XNA, для возраста - 0. Эти значения были заменены значениями людей, имеющих тот же уровень дохода_\n",
    "* _Поле days_employed содержало отрицательные значения, а так же аномально большие значения. Похоже, некоторые строки измерялись в днях, а некоторые - в часах. Значения были исправлены. Также в колонках days_employed, total_income присутствовали пропуски значений в идентичных строках. Пропуски были заполнены средним значением показатьеля, сгруппированного по типу дохода income_type_\n",
    "\n",
    "##### 3) _Наиболее рискованными являются следующие группы заемщиков:_\n",
    "\n",
    "|Группа|Показатель|Задолженность, %|Среднее значение в группе (в годах)|\n",
    "|------|------|------|------|\n",
    "|days_employed_cat == 1|days_employed|11.13|1.36|\n",
    "|dob_years_cat == 28|days_employed|11.13|27.53|\n",
    "|education == начальное|education|10.99|начальное|\n",
    "|dob_years_cat == 32|dob_years|10.89|31|\n",
    "|dob_years_cat == 23|dob_years|10.63|23|\n",
    "\n",
    "##### 4) _Было выявлено, что наиболее плохими заемщиками являются люди с рабочим стажем меньше 2 лет, в возрасте около 28 лет,  с начальным образованием. Это логично, потому что люди с начальным образованием в возрасте 27 лет могли работать с 19(после армии). Заемщик, проработавший не больше 2 лет в период с 19 до 27 лет явно является наименее надежным_"
   ]
  }
 ],
 "metadata": {
  "kernelspec": {
   "display_name": "Python 3",
   "language": "python",
   "name": "python3"
  },
  "language_info": {
   "codemirror_mode": {
    "name": "ipython",
    "version": 3
   },
   "file_extension": ".py",
   "mimetype": "text/x-python",
   "name": "python",
   "nbconvert_exporter": "python",
   "pygments_lexer": "ipython3",
   "version": "3.8.5"
  },
  "toc": {
   "base_numbering": 1,
   "nav_menu": {},
   "number_sections": true,
   "sideBar": true,
   "skip_h1_title": true,
   "title_cell": "Table of Contents",
   "title_sidebar": "Contents",
   "toc_cell": false,
   "toc_position": {},
   "toc_section_display": true,
   "toc_window_display": false
  }
 },
 "nbformat": 4,
 "nbformat_minor": 4
}
